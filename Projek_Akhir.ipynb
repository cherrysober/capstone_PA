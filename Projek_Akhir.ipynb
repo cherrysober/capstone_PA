{
  "cells": [
    {
      "cell_type": "markdown",
      "metadata": {
        "id": "view-in-github",
        "colab_type": "text"
      },
      "source": [
        "<a href=\"https://colab.research.google.com/github/cherrysober/capstone_PA/blob/main/Projek_Akhir.ipynb\" target=\"_parent\"><img src=\"https://colab.research.google.com/assets/colab-badge.svg\" alt=\"Open In Colab\"/></a>"
      ]
    },
    {
      "cell_type": "markdown",
      "metadata": {
        "id": "uXPVXcl11Vlz"
      },
      "source": [
        "# **Prediksi Konsumsi Bahan Bakar dan Efisiensi Perjalanan: Analisis Komprehensif dan Perancangan Website untuk Periode 13-24 Mei 2023 pada Kapal FMC Marnaik**"
      ]
    },
    {
      "cell_type": "code",
      "execution_count": 1,
      "metadata": {
        "id": "RjwIxkBffMnq"
      },
      "outputs": [],
      "source": [
        "import pandas as pd\n",
        "import numpy as np\n",
        "import plotly.express as px\n",
        "import matplotlib.pyplot as plt\n",
        "import seaborn as sns"
      ]
    },
    {
      "cell_type": "code",
      "execution_count": 2,
      "metadata": {
        "id": "OTBnNJcchNau"
      },
      "outputs": [],
      "source": [
        "from scipy import stats"
      ]
    },
    {
      "cell_type": "markdown",
      "metadata": {
        "id": "at5Y7ZP7ha_U"
      },
      "source": [
        "**Library untuk Splitting Data**"
      ]
    },
    {
      "cell_type": "code",
      "execution_count": 3,
      "metadata": {
        "id": "_3pzqD7GhbmG"
      },
      "outputs": [],
      "source": [
        "from sklearn.model_selection import train_test_split"
      ]
    },
    {
      "cell_type": "markdown",
      "metadata": {
        "id": "Rep9lslIhecJ"
      },
      "source": [
        "**Library untuk Normalisasi Data**"
      ]
    },
    {
      "cell_type": "code",
      "execution_count": 4,
      "metadata": {
        "id": "9h2g2ocFhhOE"
      },
      "outputs": [],
      "source": [
        "from sklearn.preprocessing import MinMaxScaler"
      ]
    },
    {
      "cell_type": "markdown",
      "metadata": {
        "id": "O8N6qzPthnF8"
      },
      "source": [
        "**Library Untuk Build Model**"
      ]
    },
    {
      "cell_type": "code",
      "execution_count": 5,
      "metadata": {
        "id": "080yfqTAhp0e"
      },
      "outputs": [],
      "source": [
        "from sklearn.naive_bayes import GaussianNB\n",
        "from sklearn.neighbors import KNeighborsClassifier\n",
        "from sklearn.tree import DecisionTreeClassifier\n",
        "from sklearn.cluster import KMeans\n",
        "from sklearn.cluster import AgglomerativeClustering\n",
        "from sklearn.metrics import accuracy_score"
      ]
    },
    {
      "cell_type": "markdown",
      "metadata": {
        "id": "6HTV4R-Khxwv"
      },
      "source": [
        "#**BUSINESS UNDERSTANDING**"
      ]
    },
    {
      "cell_type": "markdown",
      "metadata": {
        "id": "IHFZZ6KhhyfA"
      },
      "source": [
        "###Business Objective"
      ]
    },
    {
      "cell_type": "markdown",
      "metadata": {
        "id": "2mr46MKtzumv"
      },
      "source": [
        "Tujuan dari analisis dataset konsumsi bahan bakar dan efisiensi perjalanan kapal FMC Marnaik selama periode 13-24 Mei 2023 adalah untuk mendapatkan pemahaman yang komprehensif tentang pola konsumsi bahan bakar, efisiensi perjalanan, dan operasional kapal selama periode yang ditentukan. Dengan pemahaman yang mendalam tentang faktor-faktor yang mempengaruhi konsumsi bahan bakar dan efisiensi perjalanan, tujuan utamanya adalah untuk mengidentifikasi potensi peningkatan efisiensi operasional, mengurangi biaya operasional, serta meningkatkan keberlanjutan lingkungan. Melalui analisis ini, diharapkan dapat dikembangkan strategi operasional yang lebih efektif dan dapat memberikan kontribusi positif terhadap kinerja keseluruhan kapal FMC Marnaik."
      ]
    },
    {
      "cell_type": "markdown",
      "metadata": {
        "id": "I1gBHMZXh7L1"
      },
      "source": [
        "###Assess Situation"
      ]
    },
    {
      "cell_type": "markdown",
      "metadata": {
        "id": "tslz__BOz1n9"
      },
      "source": [
        "Analisis dataset ini dilakukan karena kebutuhan untuk meningkatkan efisiensi operasional dan mengoptimalkan penggunaan bahan bakar pada kapal FMC Marnaik selama periode 13-24 Mei 2023. Tingginya biaya operasional, tuntutan lingkungan yang semakin ketat, perubahan kondisi operasional, dan ketidakpastian ekonomi merupakan faktor-faktor yang mendasari kebutuhan akan pemahaman mendalam tentang pola konsumsi bahan bakar dan efisiensi perjalanan. Dengan memahami data ini, perusahaan dapat mengambil langkah-langkah untuk mengurangi biaya operasional, meminimalkan dampak lingkungan, dan mengelola risiko ekonomi yang terkait dengan operasi kapal."
      ]
    },
    {
      "cell_type": "markdown",
      "metadata": {
        "id": "Sy3M4kICh9a5"
      },
      "source": [
        "###Data Mining Goals"
      ]
    },
    {
      "cell_type": "markdown",
      "metadata": {
        "id": "FxvicRqBz5n6"
      },
      "source": [
        "Tujuan dari Data Mining pada dataset ini adalah untuk mengembangkan model yang dapat memprediksi konsumsi bahan bakar dan efisiensi perjalanan kapal FMC Marnaik di masa mendatang. Hal ini melibatkan analisis faktor-faktor yang mempengaruhi konsumsi bahan bakar dan efisiensi perjalanan, seperti rute perjalanan, dan waktu operasional mesin utama. Selain itu, tujuan juga mencakup pengembangan model prediktif untuk memprediksi konsumsi bahan bakar dan efisiensi perjalanan di masa mendatang berdasarkan variabel seperti kondisi operasional dan beban angkutan. Dengan demikian, data mining bertujuan untuk memberikan wawasan yang mendalam tentang operasi kapal dan membantu perusahaan dalam mengambil keputusan yang lebih baik untuk meningkatkan efisiensi operasional dan mengurangi biaya."
      ]
    },
    {
      "cell_type": "markdown",
      "metadata": {
        "id": "zTx1WxWdiH4I"
      },
      "source": [
        "###Project Plan"
      ]
    },
    {
      "cell_type": "markdown",
      "metadata": {
        "id": "964jN2vI0APa"
      },
      "source": [
        "\n",
        "Rencana proyek untuk menganalisis dataset konsumsi bahan bakar dan efisiensi perjalanan kapal FMC Marnaik selama periode 13-24 Mei 2023 dimulai dengan pengumpulan data lengkap, diikuti oleh pemahaman data dan analisis awal untuk mengidentifikasi pola yang signifikan. Selanjutnya, akan dibangun model prediktif untuk memprediksi konsumsi bahan bakar dan efisiensi perjalanan di masa mendatang, dengan validasi model yang cermat. Hasil analisis akan diinterpretasikan untuk memberikan wawasan yang berguna bagi pengambilan keputusan strategis terkait efisiensi operasional kapal, dengan implementasi solusi yang direncanakan dan evaluasi terus-menerus untuk memastikan pencapaian tujuan proyek."
      ]
    },
    {
      "cell_type": "markdown",
      "metadata": {
        "id": "rxZbVm0jiNHu"
      },
      "source": [
        "#**DATA UNDERSTANDING**"
      ]
    },
    {
      "cell_type": "markdown",
      "metadata": {
        "id": "Qjyjj-xeiQQS"
      },
      "source": [
        "##**Collect Initial Data**\n",
        "\n",
        "Sumber dari pemodelan data yang saya ambil berasal dari"
      ]
    },
    {
      "cell_type": "code",
      "execution_count": 6,
      "metadata": {
        "colab": {
          "base_uri": "https://localhost:8080/",
          "height": 310
        },
        "id": "zg8zbjDSfkVY",
        "outputId": "7558882b-0608-4044-f3d2-cac5505ac79d"
      },
      "outputs": [
        {
          "output_type": "execute_result",
          "data": {
            "text/plain": [
              "         Date                 From                   To Start ME  Stop ME  \\\n",
              "0  13-05-2023                 PSTB               Somber  4:55:00  5:36:00   \n",
              "1  13-05-2023  Running ME/Stand by  Running ME/Stand by  5:36:00  5:40:00   \n",
              "2  13-05-2023               SOMBER                 PSTB  5:40:00  6:15:00   \n",
              "3  13-05-2023  Running ME/Stand by  Running ME/Stand by  6:15:00  6:20:00   \n",
              "4  13-05-2023                 PSTB               SOMBER  6:20:00  7:00:00   \n",
              "\n",
              "  Running Minutes  Fuel Daily Consumption  Opening Fuel Tank Sounding  \\\n",
              "0            0:41                    46.0                        23.6   \n",
              "1            0:04                    46.0                        23.6   \n",
              "2            0:35                    46.0                        23.6   \n",
              "3            0:05                    46.0                        23.6   \n",
              "4            0:40                    46.0                        23.6   \n",
              "\n",
              "   Closing Fuel Tank Sounding  Fuel Tank Stock After  \n",
              "0                        22.6                    980  \n",
              "1                        22.6                    980  \n",
              "2                        22.6                    980  \n",
              "3                        22.6                    980  \n",
              "4                        22.6                    980  "
            ],
            "text/html": [
              "\n",
              "  <div id=\"df-843b2087-3b47-44d4-b111-27ad4daba51e\" class=\"colab-df-container\">\n",
              "    <div>\n",
              "<style scoped>\n",
              "    .dataframe tbody tr th:only-of-type {\n",
              "        vertical-align: middle;\n",
              "    }\n",
              "\n",
              "    .dataframe tbody tr th {\n",
              "        vertical-align: top;\n",
              "    }\n",
              "\n",
              "    .dataframe thead th {\n",
              "        text-align: right;\n",
              "    }\n",
              "</style>\n",
              "<table border=\"1\" class=\"dataframe\">\n",
              "  <thead>\n",
              "    <tr style=\"text-align: right;\">\n",
              "      <th></th>\n",
              "      <th>Date</th>\n",
              "      <th>From</th>\n",
              "      <th>To</th>\n",
              "      <th>Start ME</th>\n",
              "      <th>Stop ME</th>\n",
              "      <th>Running Minutes</th>\n",
              "      <th>Fuel Daily Consumption</th>\n",
              "      <th>Opening Fuel Tank Sounding</th>\n",
              "      <th>Closing Fuel Tank Sounding</th>\n",
              "      <th>Fuel Tank Stock After</th>\n",
              "    </tr>\n",
              "  </thead>\n",
              "  <tbody>\n",
              "    <tr>\n",
              "      <th>0</th>\n",
              "      <td>13-05-2023</td>\n",
              "      <td>PSTB</td>\n",
              "      <td>Somber</td>\n",
              "      <td>4:55:00</td>\n",
              "      <td>5:36:00</td>\n",
              "      <td>0:41</td>\n",
              "      <td>46.0</td>\n",
              "      <td>23.6</td>\n",
              "      <td>22.6</td>\n",
              "      <td>980</td>\n",
              "    </tr>\n",
              "    <tr>\n",
              "      <th>1</th>\n",
              "      <td>13-05-2023</td>\n",
              "      <td>Running ME/Stand by</td>\n",
              "      <td>Running ME/Stand by</td>\n",
              "      <td>5:36:00</td>\n",
              "      <td>5:40:00</td>\n",
              "      <td>0:04</td>\n",
              "      <td>46.0</td>\n",
              "      <td>23.6</td>\n",
              "      <td>22.6</td>\n",
              "      <td>980</td>\n",
              "    </tr>\n",
              "    <tr>\n",
              "      <th>2</th>\n",
              "      <td>13-05-2023</td>\n",
              "      <td>SOMBER</td>\n",
              "      <td>PSTB</td>\n",
              "      <td>5:40:00</td>\n",
              "      <td>6:15:00</td>\n",
              "      <td>0:35</td>\n",
              "      <td>46.0</td>\n",
              "      <td>23.6</td>\n",
              "      <td>22.6</td>\n",
              "      <td>980</td>\n",
              "    </tr>\n",
              "    <tr>\n",
              "      <th>3</th>\n",
              "      <td>13-05-2023</td>\n",
              "      <td>Running ME/Stand by</td>\n",
              "      <td>Running ME/Stand by</td>\n",
              "      <td>6:15:00</td>\n",
              "      <td>6:20:00</td>\n",
              "      <td>0:05</td>\n",
              "      <td>46.0</td>\n",
              "      <td>23.6</td>\n",
              "      <td>22.6</td>\n",
              "      <td>980</td>\n",
              "    </tr>\n",
              "    <tr>\n",
              "      <th>4</th>\n",
              "      <td>13-05-2023</td>\n",
              "      <td>PSTB</td>\n",
              "      <td>SOMBER</td>\n",
              "      <td>6:20:00</td>\n",
              "      <td>7:00:00</td>\n",
              "      <td>0:40</td>\n",
              "      <td>46.0</td>\n",
              "      <td>23.6</td>\n",
              "      <td>22.6</td>\n",
              "      <td>980</td>\n",
              "    </tr>\n",
              "  </tbody>\n",
              "</table>\n",
              "</div>\n",
              "    <div class=\"colab-df-buttons\">\n",
              "\n",
              "  <div class=\"colab-df-container\">\n",
              "    <button class=\"colab-df-convert\" onclick=\"convertToInteractive('df-843b2087-3b47-44d4-b111-27ad4daba51e')\"\n",
              "            title=\"Convert this dataframe to an interactive table.\"\n",
              "            style=\"display:none;\">\n",
              "\n",
              "  <svg xmlns=\"http://www.w3.org/2000/svg\" height=\"24px\" viewBox=\"0 -960 960 960\">\n",
              "    <path d=\"M120-120v-720h720v720H120Zm60-500h600v-160H180v160Zm220 220h160v-160H400v160Zm0 220h160v-160H400v160ZM180-400h160v-160H180v160Zm440 0h160v-160H620v160ZM180-180h160v-160H180v160Zm440 0h160v-160H620v160Z\"/>\n",
              "  </svg>\n",
              "    </button>\n",
              "\n",
              "  <style>\n",
              "    .colab-df-container {\n",
              "      display:flex;\n",
              "      gap: 12px;\n",
              "    }\n",
              "\n",
              "    .colab-df-convert {\n",
              "      background-color: #E8F0FE;\n",
              "      border: none;\n",
              "      border-radius: 50%;\n",
              "      cursor: pointer;\n",
              "      display: none;\n",
              "      fill: #1967D2;\n",
              "      height: 32px;\n",
              "      padding: 0 0 0 0;\n",
              "      width: 32px;\n",
              "    }\n",
              "\n",
              "    .colab-df-convert:hover {\n",
              "      background-color: #E2EBFA;\n",
              "      box-shadow: 0px 1px 2px rgba(60, 64, 67, 0.3), 0px 1px 3px 1px rgba(60, 64, 67, 0.15);\n",
              "      fill: #174EA6;\n",
              "    }\n",
              "\n",
              "    .colab-df-buttons div {\n",
              "      margin-bottom: 4px;\n",
              "    }\n",
              "\n",
              "    [theme=dark] .colab-df-convert {\n",
              "      background-color: #3B4455;\n",
              "      fill: #D2E3FC;\n",
              "    }\n",
              "\n",
              "    [theme=dark] .colab-df-convert:hover {\n",
              "      background-color: #434B5C;\n",
              "      box-shadow: 0px 1px 3px 1px rgba(0, 0, 0, 0.15);\n",
              "      filter: drop-shadow(0px 1px 2px rgba(0, 0, 0, 0.3));\n",
              "      fill: #FFFFFF;\n",
              "    }\n",
              "  </style>\n",
              "\n",
              "    <script>\n",
              "      const buttonEl =\n",
              "        document.querySelector('#df-843b2087-3b47-44d4-b111-27ad4daba51e button.colab-df-convert');\n",
              "      buttonEl.style.display =\n",
              "        google.colab.kernel.accessAllowed ? 'block' : 'none';\n",
              "\n",
              "      async function convertToInteractive(key) {\n",
              "        const element = document.querySelector('#df-843b2087-3b47-44d4-b111-27ad4daba51e');\n",
              "        const dataTable =\n",
              "          await google.colab.kernel.invokeFunction('convertToInteractive',\n",
              "                                                    [key], {});\n",
              "        if (!dataTable) return;\n",
              "\n",
              "        const docLinkHtml = 'Like what you see? Visit the ' +\n",
              "          '<a target=\"_blank\" href=https://colab.research.google.com/notebooks/data_table.ipynb>data table notebook</a>'\n",
              "          + ' to learn more about interactive tables.';\n",
              "        element.innerHTML = '';\n",
              "        dataTable['output_type'] = 'display_data';\n",
              "        await google.colab.output.renderOutput(dataTable, element);\n",
              "        const docLink = document.createElement('div');\n",
              "        docLink.innerHTML = docLinkHtml;\n",
              "        element.appendChild(docLink);\n",
              "      }\n",
              "    </script>\n",
              "  </div>\n",
              "\n",
              "\n",
              "<div id=\"df-bd0e0e22-0563-46d3-83b1-22292e29bce5\">\n",
              "  <button class=\"colab-df-quickchart\" onclick=\"quickchart('df-bd0e0e22-0563-46d3-83b1-22292e29bce5')\"\n",
              "            title=\"Suggest charts\"\n",
              "            style=\"display:none;\">\n",
              "\n",
              "<svg xmlns=\"http://www.w3.org/2000/svg\" height=\"24px\"viewBox=\"0 0 24 24\"\n",
              "     width=\"24px\">\n",
              "    <g>\n",
              "        <path d=\"M19 3H5c-1.1 0-2 .9-2 2v14c0 1.1.9 2 2 2h14c1.1 0 2-.9 2-2V5c0-1.1-.9-2-2-2zM9 17H7v-7h2v7zm4 0h-2V7h2v10zm4 0h-2v-4h2v4z\"/>\n",
              "    </g>\n",
              "</svg>\n",
              "  </button>\n",
              "\n",
              "<style>\n",
              "  .colab-df-quickchart {\n",
              "      --bg-color: #E8F0FE;\n",
              "      --fill-color: #1967D2;\n",
              "      --hover-bg-color: #E2EBFA;\n",
              "      --hover-fill-color: #174EA6;\n",
              "      --disabled-fill-color: #AAA;\n",
              "      --disabled-bg-color: #DDD;\n",
              "  }\n",
              "\n",
              "  [theme=dark] .colab-df-quickchart {\n",
              "      --bg-color: #3B4455;\n",
              "      --fill-color: #D2E3FC;\n",
              "      --hover-bg-color: #434B5C;\n",
              "      --hover-fill-color: #FFFFFF;\n",
              "      --disabled-bg-color: #3B4455;\n",
              "      --disabled-fill-color: #666;\n",
              "  }\n",
              "\n",
              "  .colab-df-quickchart {\n",
              "    background-color: var(--bg-color);\n",
              "    border: none;\n",
              "    border-radius: 50%;\n",
              "    cursor: pointer;\n",
              "    display: none;\n",
              "    fill: var(--fill-color);\n",
              "    height: 32px;\n",
              "    padding: 0;\n",
              "    width: 32px;\n",
              "  }\n",
              "\n",
              "  .colab-df-quickchart:hover {\n",
              "    background-color: var(--hover-bg-color);\n",
              "    box-shadow: 0 1px 2px rgba(60, 64, 67, 0.3), 0 1px 3px 1px rgba(60, 64, 67, 0.15);\n",
              "    fill: var(--button-hover-fill-color);\n",
              "  }\n",
              "\n",
              "  .colab-df-quickchart-complete:disabled,\n",
              "  .colab-df-quickchart-complete:disabled:hover {\n",
              "    background-color: var(--disabled-bg-color);\n",
              "    fill: var(--disabled-fill-color);\n",
              "    box-shadow: none;\n",
              "  }\n",
              "\n",
              "  .colab-df-spinner {\n",
              "    border: 2px solid var(--fill-color);\n",
              "    border-color: transparent;\n",
              "    border-bottom-color: var(--fill-color);\n",
              "    animation:\n",
              "      spin 1s steps(1) infinite;\n",
              "  }\n",
              "\n",
              "  @keyframes spin {\n",
              "    0% {\n",
              "      border-color: transparent;\n",
              "      border-bottom-color: var(--fill-color);\n",
              "      border-left-color: var(--fill-color);\n",
              "    }\n",
              "    20% {\n",
              "      border-color: transparent;\n",
              "      border-left-color: var(--fill-color);\n",
              "      border-top-color: var(--fill-color);\n",
              "    }\n",
              "    30% {\n",
              "      border-color: transparent;\n",
              "      border-left-color: var(--fill-color);\n",
              "      border-top-color: var(--fill-color);\n",
              "      border-right-color: var(--fill-color);\n",
              "    }\n",
              "    40% {\n",
              "      border-color: transparent;\n",
              "      border-right-color: var(--fill-color);\n",
              "      border-top-color: var(--fill-color);\n",
              "    }\n",
              "    60% {\n",
              "      border-color: transparent;\n",
              "      border-right-color: var(--fill-color);\n",
              "    }\n",
              "    80% {\n",
              "      border-color: transparent;\n",
              "      border-right-color: var(--fill-color);\n",
              "      border-bottom-color: var(--fill-color);\n",
              "    }\n",
              "    90% {\n",
              "      border-color: transparent;\n",
              "      border-bottom-color: var(--fill-color);\n",
              "    }\n",
              "  }\n",
              "</style>\n",
              "\n",
              "  <script>\n",
              "    async function quickchart(key) {\n",
              "      const quickchartButtonEl =\n",
              "        document.querySelector('#' + key + ' button');\n",
              "      quickchartButtonEl.disabled = true;  // To prevent multiple clicks.\n",
              "      quickchartButtonEl.classList.add('colab-df-spinner');\n",
              "      try {\n",
              "        const charts = await google.colab.kernel.invokeFunction(\n",
              "            'suggestCharts', [key], {});\n",
              "      } catch (error) {\n",
              "        console.error('Error during call to suggestCharts:', error);\n",
              "      }\n",
              "      quickchartButtonEl.classList.remove('colab-df-spinner');\n",
              "      quickchartButtonEl.classList.add('colab-df-quickchart-complete');\n",
              "    }\n",
              "    (() => {\n",
              "      let quickchartButtonEl =\n",
              "        document.querySelector('#df-bd0e0e22-0563-46d3-83b1-22292e29bce5 button');\n",
              "      quickchartButtonEl.style.display =\n",
              "        google.colab.kernel.accessAllowed ? 'block' : 'none';\n",
              "    })();\n",
              "  </script>\n",
              "</div>\n",
              "    </div>\n",
              "  </div>\n"
            ],
            "application/vnd.google.colaboratory.intrinsic+json": {
              "type": "dataframe",
              "variable_name": "df",
              "summary": "{\n  \"name\": \"df\",\n  \"rows\": 136,\n  \"fields\": [\n    {\n      \"column\": \"Date\",\n      \"properties\": {\n        \"dtype\": \"object\",\n        \"num_unique_values\": 12,\n        \"samples\": [\n          \"23-05-2023\",\n          \"22-05-2023\",\n          \"13-05-2023\"\n        ],\n        \"semantic_type\": \"\",\n        \"description\": \"\"\n      }\n    },\n    {\n      \"column\": \"From\",\n      \"properties\": {\n        \"dtype\": \"category\",\n        \"num_unique_values\": 4,\n        \"samples\": [\n          \"Running ME/Stand by\",\n          \"JETTY BUNKER\",\n          \"PSTB\"\n        ],\n        \"semantic_type\": \"\",\n        \"description\": \"\"\n      }\n    },\n    {\n      \"column\": \"To\",\n      \"properties\": {\n        \"dtype\": \"category\",\n        \"num_unique_values\": 5,\n        \"samples\": [\n          \"Running ME/Stand by\",\n          \"JETTY BUNKER\",\n          \"PSTB\"\n        ],\n        \"semantic_type\": \"\",\n        \"description\": \"\"\n      }\n    },\n    {\n      \"column\": \"Start ME\",\n      \"properties\": {\n        \"dtype\": \"object\",\n        \"num_unique_values\": 41,\n        \"samples\": [\n          \"18:00:00\",\n          \"7:45:00\",\n          \"17:40:00\"\n        ],\n        \"semantic_type\": \"\",\n        \"description\": \"\"\n      }\n    },\n    {\n      \"column\": \"Stop ME\",\n      \"properties\": {\n        \"dtype\": \"object\",\n        \"num_unique_values\": 56,\n        \"samples\": [\n          \"5:36:00\",\n          \"8:30:00\",\n          \"6:00:00\"\n        ],\n        \"semantic_type\": \"\",\n        \"description\": \"\"\n      }\n    },\n    {\n      \"column\": \"Running Minutes\",\n      \"properties\": {\n        \"dtype\": \"object\",\n        \"num_unique_values\": 24,\n        \"samples\": [\n          \"0:43\",\n          \"0:33\",\n          \"0:41\"\n        ],\n        \"semantic_type\": \"\",\n        \"description\": \"\"\n      }\n    },\n    {\n      \"column\": \"Fuel Daily Consumption\",\n      \"properties\": {\n        \"dtype\": \"number\",\n        \"std\": 6.60236423621306,\n        \"min\": 18.4,\n        \"max\": 55.2,\n        \"num_unique_values\": 4,\n        \"samples\": [\n          50.6,\n          18.4,\n          46.0\n        ],\n        \"semantic_type\": \"\",\n        \"description\": \"\"\n      }\n    },\n    {\n      \"column\": \"Opening Fuel Tank Sounding\",\n      \"properties\": {\n        \"dtype\": \"number\",\n        \"std\": 3.2909414688860674,\n        \"min\": 14.1,\n        \"max\": 23.7,\n        \"num_unique_values\": 12,\n        \"samples\": [\n          23.7,\n          14.1,\n          23.6\n        ],\n        \"semantic_type\": \"\",\n        \"description\": \"\"\n      }\n    },\n    {\n      \"column\": \"Closing Fuel Tank Sounding\",\n      \"properties\": {\n        \"dtype\": \"number\",\n        \"std\": 3.267008118742634,\n        \"min\": 13.1,\n        \"max\": 22.6,\n        \"num_unique_values\": 12,\n        \"samples\": [\n          22.5,\n          13.1,\n          22.6\n        ],\n        \"semantic_type\": \"\",\n        \"description\": \"\"\n      }\n    },\n    {\n      \"column\": \"Fuel Tank Stock After\",\n      \"properties\": {\n        \"dtype\": \"number\",\n        \"std\": 133,\n        \"min\": 589,\n        \"max\": 1007,\n        \"num_unique_values\": 12,\n        \"samples\": [\n          952,\n          1007,\n          980\n        ],\n        \"semantic_type\": \"\",\n        \"description\": \"\"\n      }\n    }\n  ]\n}"
            }
          },
          "metadata": {},
          "execution_count": 6
        }
      ],
      "source": [
        "df = pd.read_csv(\"/content/FMC Marnaik Periode 13 - 24 Mei 2023.csv\")\n",
        "df.head()"
      ]
    },
    {
      "cell_type": "code",
      "execution_count": 7,
      "metadata": {
        "id": "wyLORUGMfxw0",
        "colab": {
          "base_uri": "https://localhost:8080/",
          "height": 614
        },
        "outputId": "b72d7b73-1bc8-4ff7-a7d3-1b8e0e50cd83"
      },
      "outputs": [
        {
          "output_type": "execute_result",
          "data": {
            "text/plain": [
              "           Date                 From                   To  Start ME   Stop ME  \\\n",
              "0    13-05-2023                 PSTB               Somber   4:55:00   5:36:00   \n",
              "1    13-05-2023  Running ME/Stand by  Running ME/Stand by   5:36:00   5:40:00   \n",
              "2    13-05-2023               SOMBER                 PSTB   5:40:00   6:15:00   \n",
              "3    13-05-2023  Running ME/Stand by  Running ME/Stand by   6:15:00   6:20:00   \n",
              "4    13-05-2023                 PSTB               SOMBER   6:20:00   7:00:00   \n",
              "..          ...                  ...                  ...       ...       ...   \n",
              "131  24-05-2023  Running ME/Stand by  Running ME/Stand by  17:35:00  17:40:00   \n",
              "132  24-05-2023               SOMBER                 PSTB  17:40:00  18:10:00   \n",
              "133  24-05-2023  Running ME/Stand by  Running ME/Stand by  18:10:00  18:15:00   \n",
              "134  24-05-2023                 PSTB               SOMBER  18:15:00  18:50:00   \n",
              "135  24-05-2023               SOMBER                 PSTB  19:30:00  20:08:00   \n",
              "\n",
              "    Running Minutes  Fuel Daily Consumption  Opening Fuel Tank Sounding  \\\n",
              "0              0:41                    46.0                        23.6   \n",
              "1              0:04                    46.0                        23.6   \n",
              "2              0:35                    46.0                        23.6   \n",
              "3              0:05                    46.0                        23.6   \n",
              "4              0:40                    46.0                        23.6   \n",
              "..              ...                     ...                         ...   \n",
              "131            0:05                    55.2                        22.5   \n",
              "132            0:30                    55.2                        22.5   \n",
              "133            0:05                    55.2                        22.5   \n",
              "134            0:35                    55.2                        22.5   \n",
              "135            0:38                    55.2                        22.5   \n",
              "\n",
              "     Closing Fuel Tank Sounding  Fuel Tank Stock After  \n",
              "0                          22.6                    980  \n",
              "1                          22.6                    980  \n",
              "2                          22.6                    980  \n",
              "3                          22.6                    980  \n",
              "4                          22.6                    980  \n",
              "..                          ...                    ...  \n",
              "131                        21.3                    897  \n",
              "132                        21.3                    897  \n",
              "133                        21.3                    897  \n",
              "134                        21.3                    897  \n",
              "135                        21.3                    897  \n",
              "\n",
              "[136 rows x 10 columns]"
            ],
            "text/html": [
              "\n",
              "  <div id=\"df-ab267380-8165-446a-8bcb-7d67e48580a7\" class=\"colab-df-container\">\n",
              "    <div>\n",
              "<style scoped>\n",
              "    .dataframe tbody tr th:only-of-type {\n",
              "        vertical-align: middle;\n",
              "    }\n",
              "\n",
              "    .dataframe tbody tr th {\n",
              "        vertical-align: top;\n",
              "    }\n",
              "\n",
              "    .dataframe thead th {\n",
              "        text-align: right;\n",
              "    }\n",
              "</style>\n",
              "<table border=\"1\" class=\"dataframe\">\n",
              "  <thead>\n",
              "    <tr style=\"text-align: right;\">\n",
              "      <th></th>\n",
              "      <th>Date</th>\n",
              "      <th>From</th>\n",
              "      <th>To</th>\n",
              "      <th>Start ME</th>\n",
              "      <th>Stop ME</th>\n",
              "      <th>Running Minutes</th>\n",
              "      <th>Fuel Daily Consumption</th>\n",
              "      <th>Opening Fuel Tank Sounding</th>\n",
              "      <th>Closing Fuel Tank Sounding</th>\n",
              "      <th>Fuel Tank Stock After</th>\n",
              "    </tr>\n",
              "  </thead>\n",
              "  <tbody>\n",
              "    <tr>\n",
              "      <th>0</th>\n",
              "      <td>13-05-2023</td>\n",
              "      <td>PSTB</td>\n",
              "      <td>Somber</td>\n",
              "      <td>4:55:00</td>\n",
              "      <td>5:36:00</td>\n",
              "      <td>0:41</td>\n",
              "      <td>46.0</td>\n",
              "      <td>23.6</td>\n",
              "      <td>22.6</td>\n",
              "      <td>980</td>\n",
              "    </tr>\n",
              "    <tr>\n",
              "      <th>1</th>\n",
              "      <td>13-05-2023</td>\n",
              "      <td>Running ME/Stand by</td>\n",
              "      <td>Running ME/Stand by</td>\n",
              "      <td>5:36:00</td>\n",
              "      <td>5:40:00</td>\n",
              "      <td>0:04</td>\n",
              "      <td>46.0</td>\n",
              "      <td>23.6</td>\n",
              "      <td>22.6</td>\n",
              "      <td>980</td>\n",
              "    </tr>\n",
              "    <tr>\n",
              "      <th>2</th>\n",
              "      <td>13-05-2023</td>\n",
              "      <td>SOMBER</td>\n",
              "      <td>PSTB</td>\n",
              "      <td>5:40:00</td>\n",
              "      <td>6:15:00</td>\n",
              "      <td>0:35</td>\n",
              "      <td>46.0</td>\n",
              "      <td>23.6</td>\n",
              "      <td>22.6</td>\n",
              "      <td>980</td>\n",
              "    </tr>\n",
              "    <tr>\n",
              "      <th>3</th>\n",
              "      <td>13-05-2023</td>\n",
              "      <td>Running ME/Stand by</td>\n",
              "      <td>Running ME/Stand by</td>\n",
              "      <td>6:15:00</td>\n",
              "      <td>6:20:00</td>\n",
              "      <td>0:05</td>\n",
              "      <td>46.0</td>\n",
              "      <td>23.6</td>\n",
              "      <td>22.6</td>\n",
              "      <td>980</td>\n",
              "    </tr>\n",
              "    <tr>\n",
              "      <th>4</th>\n",
              "      <td>13-05-2023</td>\n",
              "      <td>PSTB</td>\n",
              "      <td>SOMBER</td>\n",
              "      <td>6:20:00</td>\n",
              "      <td>7:00:00</td>\n",
              "      <td>0:40</td>\n",
              "      <td>46.0</td>\n",
              "      <td>23.6</td>\n",
              "      <td>22.6</td>\n",
              "      <td>980</td>\n",
              "    </tr>\n",
              "    <tr>\n",
              "      <th>...</th>\n",
              "      <td>...</td>\n",
              "      <td>...</td>\n",
              "      <td>...</td>\n",
              "      <td>...</td>\n",
              "      <td>...</td>\n",
              "      <td>...</td>\n",
              "      <td>...</td>\n",
              "      <td>...</td>\n",
              "      <td>...</td>\n",
              "      <td>...</td>\n",
              "    </tr>\n",
              "    <tr>\n",
              "      <th>131</th>\n",
              "      <td>24-05-2023</td>\n",
              "      <td>Running ME/Stand by</td>\n",
              "      <td>Running ME/Stand by</td>\n",
              "      <td>17:35:00</td>\n",
              "      <td>17:40:00</td>\n",
              "      <td>0:05</td>\n",
              "      <td>55.2</td>\n",
              "      <td>22.5</td>\n",
              "      <td>21.3</td>\n",
              "      <td>897</td>\n",
              "    </tr>\n",
              "    <tr>\n",
              "      <th>132</th>\n",
              "      <td>24-05-2023</td>\n",
              "      <td>SOMBER</td>\n",
              "      <td>PSTB</td>\n",
              "      <td>17:40:00</td>\n",
              "      <td>18:10:00</td>\n",
              "      <td>0:30</td>\n",
              "      <td>55.2</td>\n",
              "      <td>22.5</td>\n",
              "      <td>21.3</td>\n",
              "      <td>897</td>\n",
              "    </tr>\n",
              "    <tr>\n",
              "      <th>133</th>\n",
              "      <td>24-05-2023</td>\n",
              "      <td>Running ME/Stand by</td>\n",
              "      <td>Running ME/Stand by</td>\n",
              "      <td>18:10:00</td>\n",
              "      <td>18:15:00</td>\n",
              "      <td>0:05</td>\n",
              "      <td>55.2</td>\n",
              "      <td>22.5</td>\n",
              "      <td>21.3</td>\n",
              "      <td>897</td>\n",
              "    </tr>\n",
              "    <tr>\n",
              "      <th>134</th>\n",
              "      <td>24-05-2023</td>\n",
              "      <td>PSTB</td>\n",
              "      <td>SOMBER</td>\n",
              "      <td>18:15:00</td>\n",
              "      <td>18:50:00</td>\n",
              "      <td>0:35</td>\n",
              "      <td>55.2</td>\n",
              "      <td>22.5</td>\n",
              "      <td>21.3</td>\n",
              "      <td>897</td>\n",
              "    </tr>\n",
              "    <tr>\n",
              "      <th>135</th>\n",
              "      <td>24-05-2023</td>\n",
              "      <td>SOMBER</td>\n",
              "      <td>PSTB</td>\n",
              "      <td>19:30:00</td>\n",
              "      <td>20:08:00</td>\n",
              "      <td>0:38</td>\n",
              "      <td>55.2</td>\n",
              "      <td>22.5</td>\n",
              "      <td>21.3</td>\n",
              "      <td>897</td>\n",
              "    </tr>\n",
              "  </tbody>\n",
              "</table>\n",
              "<p>136 rows × 10 columns</p>\n",
              "</div>\n",
              "    <div class=\"colab-df-buttons\">\n",
              "\n",
              "  <div class=\"colab-df-container\">\n",
              "    <button class=\"colab-df-convert\" onclick=\"convertToInteractive('df-ab267380-8165-446a-8bcb-7d67e48580a7')\"\n",
              "            title=\"Convert this dataframe to an interactive table.\"\n",
              "            style=\"display:none;\">\n",
              "\n",
              "  <svg xmlns=\"http://www.w3.org/2000/svg\" height=\"24px\" viewBox=\"0 -960 960 960\">\n",
              "    <path d=\"M120-120v-720h720v720H120Zm60-500h600v-160H180v160Zm220 220h160v-160H400v160Zm0 220h160v-160H400v160ZM180-400h160v-160H180v160Zm440 0h160v-160H620v160ZM180-180h160v-160H180v160Zm440 0h160v-160H620v160Z\"/>\n",
              "  </svg>\n",
              "    </button>\n",
              "\n",
              "  <style>\n",
              "    .colab-df-container {\n",
              "      display:flex;\n",
              "      gap: 12px;\n",
              "    }\n",
              "\n",
              "    .colab-df-convert {\n",
              "      background-color: #E8F0FE;\n",
              "      border: none;\n",
              "      border-radius: 50%;\n",
              "      cursor: pointer;\n",
              "      display: none;\n",
              "      fill: #1967D2;\n",
              "      height: 32px;\n",
              "      padding: 0 0 0 0;\n",
              "      width: 32px;\n",
              "    }\n",
              "\n",
              "    .colab-df-convert:hover {\n",
              "      background-color: #E2EBFA;\n",
              "      box-shadow: 0px 1px 2px rgba(60, 64, 67, 0.3), 0px 1px 3px 1px rgba(60, 64, 67, 0.15);\n",
              "      fill: #174EA6;\n",
              "    }\n",
              "\n",
              "    .colab-df-buttons div {\n",
              "      margin-bottom: 4px;\n",
              "    }\n",
              "\n",
              "    [theme=dark] .colab-df-convert {\n",
              "      background-color: #3B4455;\n",
              "      fill: #D2E3FC;\n",
              "    }\n",
              "\n",
              "    [theme=dark] .colab-df-convert:hover {\n",
              "      background-color: #434B5C;\n",
              "      box-shadow: 0px 1px 3px 1px rgba(0, 0, 0, 0.15);\n",
              "      filter: drop-shadow(0px 1px 2px rgba(0, 0, 0, 0.3));\n",
              "      fill: #FFFFFF;\n",
              "    }\n",
              "  </style>\n",
              "\n",
              "    <script>\n",
              "      const buttonEl =\n",
              "        document.querySelector('#df-ab267380-8165-446a-8bcb-7d67e48580a7 button.colab-df-convert');\n",
              "      buttonEl.style.display =\n",
              "        google.colab.kernel.accessAllowed ? 'block' : 'none';\n",
              "\n",
              "      async function convertToInteractive(key) {\n",
              "        const element = document.querySelector('#df-ab267380-8165-446a-8bcb-7d67e48580a7');\n",
              "        const dataTable =\n",
              "          await google.colab.kernel.invokeFunction('convertToInteractive',\n",
              "                                                    [key], {});\n",
              "        if (!dataTable) return;\n",
              "\n",
              "        const docLinkHtml = 'Like what you see? Visit the ' +\n",
              "          '<a target=\"_blank\" href=https://colab.research.google.com/notebooks/data_table.ipynb>data table notebook</a>'\n",
              "          + ' to learn more about interactive tables.';\n",
              "        element.innerHTML = '';\n",
              "        dataTable['output_type'] = 'display_data';\n",
              "        await google.colab.output.renderOutput(dataTable, element);\n",
              "        const docLink = document.createElement('div');\n",
              "        docLink.innerHTML = docLinkHtml;\n",
              "        element.appendChild(docLink);\n",
              "      }\n",
              "    </script>\n",
              "  </div>\n",
              "\n",
              "\n",
              "<div id=\"df-f9be14d2-0394-42e1-adbc-196dea081a9c\">\n",
              "  <button class=\"colab-df-quickchart\" onclick=\"quickchart('df-f9be14d2-0394-42e1-adbc-196dea081a9c')\"\n",
              "            title=\"Suggest charts\"\n",
              "            style=\"display:none;\">\n",
              "\n",
              "<svg xmlns=\"http://www.w3.org/2000/svg\" height=\"24px\"viewBox=\"0 0 24 24\"\n",
              "     width=\"24px\">\n",
              "    <g>\n",
              "        <path d=\"M19 3H5c-1.1 0-2 .9-2 2v14c0 1.1.9 2 2 2h14c1.1 0 2-.9 2-2V5c0-1.1-.9-2-2-2zM9 17H7v-7h2v7zm4 0h-2V7h2v10zm4 0h-2v-4h2v4z\"/>\n",
              "    </g>\n",
              "</svg>\n",
              "  </button>\n",
              "\n",
              "<style>\n",
              "  .colab-df-quickchart {\n",
              "      --bg-color: #E8F0FE;\n",
              "      --fill-color: #1967D2;\n",
              "      --hover-bg-color: #E2EBFA;\n",
              "      --hover-fill-color: #174EA6;\n",
              "      --disabled-fill-color: #AAA;\n",
              "      --disabled-bg-color: #DDD;\n",
              "  }\n",
              "\n",
              "  [theme=dark] .colab-df-quickchart {\n",
              "      --bg-color: #3B4455;\n",
              "      --fill-color: #D2E3FC;\n",
              "      --hover-bg-color: #434B5C;\n",
              "      --hover-fill-color: #FFFFFF;\n",
              "      --disabled-bg-color: #3B4455;\n",
              "      --disabled-fill-color: #666;\n",
              "  }\n",
              "\n",
              "  .colab-df-quickchart {\n",
              "    background-color: var(--bg-color);\n",
              "    border: none;\n",
              "    border-radius: 50%;\n",
              "    cursor: pointer;\n",
              "    display: none;\n",
              "    fill: var(--fill-color);\n",
              "    height: 32px;\n",
              "    padding: 0;\n",
              "    width: 32px;\n",
              "  }\n",
              "\n",
              "  .colab-df-quickchart:hover {\n",
              "    background-color: var(--hover-bg-color);\n",
              "    box-shadow: 0 1px 2px rgba(60, 64, 67, 0.3), 0 1px 3px 1px rgba(60, 64, 67, 0.15);\n",
              "    fill: var(--button-hover-fill-color);\n",
              "  }\n",
              "\n",
              "  .colab-df-quickchart-complete:disabled,\n",
              "  .colab-df-quickchart-complete:disabled:hover {\n",
              "    background-color: var(--disabled-bg-color);\n",
              "    fill: var(--disabled-fill-color);\n",
              "    box-shadow: none;\n",
              "  }\n",
              "\n",
              "  .colab-df-spinner {\n",
              "    border: 2px solid var(--fill-color);\n",
              "    border-color: transparent;\n",
              "    border-bottom-color: var(--fill-color);\n",
              "    animation:\n",
              "      spin 1s steps(1) infinite;\n",
              "  }\n",
              "\n",
              "  @keyframes spin {\n",
              "    0% {\n",
              "      border-color: transparent;\n",
              "      border-bottom-color: var(--fill-color);\n",
              "      border-left-color: var(--fill-color);\n",
              "    }\n",
              "    20% {\n",
              "      border-color: transparent;\n",
              "      border-left-color: var(--fill-color);\n",
              "      border-top-color: var(--fill-color);\n",
              "    }\n",
              "    30% {\n",
              "      border-color: transparent;\n",
              "      border-left-color: var(--fill-color);\n",
              "      border-top-color: var(--fill-color);\n",
              "      border-right-color: var(--fill-color);\n",
              "    }\n",
              "    40% {\n",
              "      border-color: transparent;\n",
              "      border-right-color: var(--fill-color);\n",
              "      border-top-color: var(--fill-color);\n",
              "    }\n",
              "    60% {\n",
              "      border-color: transparent;\n",
              "      border-right-color: var(--fill-color);\n",
              "    }\n",
              "    80% {\n",
              "      border-color: transparent;\n",
              "      border-right-color: var(--fill-color);\n",
              "      border-bottom-color: var(--fill-color);\n",
              "    }\n",
              "    90% {\n",
              "      border-color: transparent;\n",
              "      border-bottom-color: var(--fill-color);\n",
              "    }\n",
              "  }\n",
              "</style>\n",
              "\n",
              "  <script>\n",
              "    async function quickchart(key) {\n",
              "      const quickchartButtonEl =\n",
              "        document.querySelector('#' + key + ' button');\n",
              "      quickchartButtonEl.disabled = true;  // To prevent multiple clicks.\n",
              "      quickchartButtonEl.classList.add('colab-df-spinner');\n",
              "      try {\n",
              "        const charts = await google.colab.kernel.invokeFunction(\n",
              "            'suggestCharts', [key], {});\n",
              "      } catch (error) {\n",
              "        console.error('Error during call to suggestCharts:', error);\n",
              "      }\n",
              "      quickchartButtonEl.classList.remove('colab-df-spinner');\n",
              "      quickchartButtonEl.classList.add('colab-df-quickchart-complete');\n",
              "    }\n",
              "    (() => {\n",
              "      let quickchartButtonEl =\n",
              "        document.querySelector('#df-f9be14d2-0394-42e1-adbc-196dea081a9c button');\n",
              "      quickchartButtonEl.style.display =\n",
              "        google.colab.kernel.accessAllowed ? 'block' : 'none';\n",
              "    })();\n",
              "  </script>\n",
              "</div>\n",
              "    </div>\n",
              "  </div>\n"
            ],
            "application/vnd.google.colaboratory.intrinsic+json": {
              "type": "dataframe",
              "variable_name": "df",
              "summary": "{\n  \"name\": \"df\",\n  \"rows\": 136,\n  \"fields\": [\n    {\n      \"column\": \"Date\",\n      \"properties\": {\n        \"dtype\": \"object\",\n        \"num_unique_values\": 12,\n        \"samples\": [\n          \"23-05-2023\",\n          \"22-05-2023\",\n          \"13-05-2023\"\n        ],\n        \"semantic_type\": \"\",\n        \"description\": \"\"\n      }\n    },\n    {\n      \"column\": \"From\",\n      \"properties\": {\n        \"dtype\": \"category\",\n        \"num_unique_values\": 4,\n        \"samples\": [\n          \"Running ME/Stand by\",\n          \"JETTY BUNKER\",\n          \"PSTB\"\n        ],\n        \"semantic_type\": \"\",\n        \"description\": \"\"\n      }\n    },\n    {\n      \"column\": \"To\",\n      \"properties\": {\n        \"dtype\": \"category\",\n        \"num_unique_values\": 5,\n        \"samples\": [\n          \"Running ME/Stand by\",\n          \"JETTY BUNKER\",\n          \"PSTB\"\n        ],\n        \"semantic_type\": \"\",\n        \"description\": \"\"\n      }\n    },\n    {\n      \"column\": \"Start ME\",\n      \"properties\": {\n        \"dtype\": \"object\",\n        \"num_unique_values\": 41,\n        \"samples\": [\n          \"18:00:00\",\n          \"7:45:00\",\n          \"17:40:00\"\n        ],\n        \"semantic_type\": \"\",\n        \"description\": \"\"\n      }\n    },\n    {\n      \"column\": \"Stop ME\",\n      \"properties\": {\n        \"dtype\": \"object\",\n        \"num_unique_values\": 56,\n        \"samples\": [\n          \"5:36:00\",\n          \"8:30:00\",\n          \"6:00:00\"\n        ],\n        \"semantic_type\": \"\",\n        \"description\": \"\"\n      }\n    },\n    {\n      \"column\": \"Running Minutes\",\n      \"properties\": {\n        \"dtype\": \"object\",\n        \"num_unique_values\": 24,\n        \"samples\": [\n          \"0:43\",\n          \"0:33\",\n          \"0:41\"\n        ],\n        \"semantic_type\": \"\",\n        \"description\": \"\"\n      }\n    },\n    {\n      \"column\": \"Fuel Daily Consumption\",\n      \"properties\": {\n        \"dtype\": \"number\",\n        \"std\": 6.60236423621306,\n        \"min\": 18.4,\n        \"max\": 55.2,\n        \"num_unique_values\": 4,\n        \"samples\": [\n          50.6,\n          18.4,\n          46.0\n        ],\n        \"semantic_type\": \"\",\n        \"description\": \"\"\n      }\n    },\n    {\n      \"column\": \"Opening Fuel Tank Sounding\",\n      \"properties\": {\n        \"dtype\": \"number\",\n        \"std\": 3.2909414688860674,\n        \"min\": 14.1,\n        \"max\": 23.7,\n        \"num_unique_values\": 12,\n        \"samples\": [\n          23.7,\n          14.1,\n          23.6\n        ],\n        \"semantic_type\": \"\",\n        \"description\": \"\"\n      }\n    },\n    {\n      \"column\": \"Closing Fuel Tank Sounding\",\n      \"properties\": {\n        \"dtype\": \"number\",\n        \"std\": 3.267008118742634,\n        \"min\": 13.1,\n        \"max\": 22.6,\n        \"num_unique_values\": 12,\n        \"samples\": [\n          22.5,\n          13.1,\n          22.6\n        ],\n        \"semantic_type\": \"\",\n        \"description\": \"\"\n      }\n    },\n    {\n      \"column\": \"Fuel Tank Stock After\",\n      \"properties\": {\n        \"dtype\": \"number\",\n        \"std\": 133,\n        \"min\": 589,\n        \"max\": 1007,\n        \"num_unique_values\": 12,\n        \"samples\": [\n          952,\n          1007,\n          980\n        ],\n        \"semantic_type\": \"\",\n        \"description\": \"\"\n      }\n    }\n  ]\n}"
            }
          },
          "metadata": {},
          "execution_count": 7
        }
      ],
      "source": [
        "df"
      ]
    },
    {
      "cell_type": "markdown",
      "metadata": {
        "id": "7VfyhLTC0OyE"
      },
      "source": [
        "1. **Date**: Kolom ini menyimpan tanggal kejadian peristiwa yang tercatat dalam dataset, dengan format tanggal-bulan-tahun.\n",
        "2. **From**: Kolom ini mencatat lokasi awal perjalanan kapal, yang merupakan pelabuhan atau titik keberangkatan.\n",
        "3. **To**: Kolom ini mencatat lokasi tujuan perjalanan kapal, yang merupakan pelabuhan atau titik kedatangan.\n",
        "4. **Start ME (Main Engine)**: Kolom ini mencatat waktu mulai mesin utama (ME) pada kapal, yang menunjukkan waktu awal operasi mesin.\n",
        "5. **Stop ME (Main Engine)**: Kolom ini mencatat waktu berhenti mesin utama (ME) pada kapal, yang menunjukkan waktu akhir operasi mesin.\n",
        "6. **Running Minutes**: Kolom ini mencatat durasi waktu dalam menit selama mesin utama (ME) beroperasi.\n",
        "7. **Fuel Daily Consumption**: Kolom ini mencatat jumlah bahan bakar yang dikonsumsi oleh kapal pada hari tersebut, dalam satuan liter.\n",
        "8. **Opening Fuel Tank Sounding**: Kolom ini mencatat volume bahan bakar di dalam tangki sebelum perjalanan dimulai, yang digunakan sebagai pengukuran awal.\n",
        "9. **Closing Fuel Tank Sounding**: Kolom ini mencatat volume bahan bakar di dalam tangki setelah perjalanan selesai, yang digunakan sebagai pengukuran akhir.\n",
        "10. **Fuel Tank Stock After**: Kolom ini mencatat sisa stok bahan bakar di dalam tangki setelah perjalanan selesai, yang merupakan hasil dari pengurangan Closing Fuel Tank Sounding dari Opening Fuel Tank Sounding."
      ]
    },
    {
      "cell_type": "markdown",
      "metadata": {
        "id": "CMdR0Tkjkz8U"
      },
      "source": [
        "##**Describe Data**"
      ]
    },
    {
      "cell_type": "markdown",
      "metadata": {
        "id": "XzFMYkFVk2_6"
      },
      "source": [
        "###Informasi Dasar"
      ]
    },
    {
      "cell_type": "code",
      "execution_count": 8,
      "metadata": {
        "id": "2O_N0e7ek5kn",
        "colab": {
          "base_uri": "https://localhost:8080/"
        },
        "outputId": "8fbfe1ff-6b26-41ab-8862-505db054c6a4"
      },
      "outputs": [
        {
          "output_type": "execute_result",
          "data": {
            "text/plain": [
              "(136, 10)"
            ]
          },
          "metadata": {},
          "execution_count": 8
        }
      ],
      "source": [
        "df.shape"
      ]
    },
    {
      "cell_type": "markdown",
      "metadata": {
        "id": "_Q945P2wk-MT"
      },
      "source": [
        "Pada dataset \"Optimalkan Konsumsi Bahan Bakar dan Efisiensi Perjalanan: Analisis Komprehensif dan Perancangan Website untuk Periode 13-24 Mei 2023 pada Kapal FMC Marnaik\" ini memiliki 137 baris dan 10 kolom"
      ]
    },
    {
      "cell_type": "markdown",
      "metadata": {
        "id": "Gp8q3gEAlD58"
      },
      "source": [
        "###Informasi Lanjutan"
      ]
    },
    {
      "cell_type": "code",
      "execution_count": 9,
      "metadata": {
        "id": "jDhpqRPSlGws",
        "colab": {
          "base_uri": "https://localhost:8080/"
        },
        "outputId": "4508bf99-f2bc-484f-db6d-63ee923d6e35"
      },
      "outputs": [
        {
          "output_type": "stream",
          "name": "stdout",
          "text": [
            "<class 'pandas.core.frame.DataFrame'>\n",
            "RangeIndex: 136 entries, 0 to 135\n",
            "Data columns (total 10 columns):\n",
            " #   Column                      Non-Null Count  Dtype  \n",
            "---  ------                      --------------  -----  \n",
            " 0   Date                        136 non-null    object \n",
            " 1   From                        136 non-null    object \n",
            " 2   To                          136 non-null    object \n",
            " 3   Start ME                    136 non-null    object \n",
            " 4   Stop ME                     136 non-null    object \n",
            " 5   Running Minutes             136 non-null    object \n",
            " 6   Fuel Daily Consumption      136 non-null    float64\n",
            " 7   Opening Fuel Tank Sounding  136 non-null    float64\n",
            " 8   Closing Fuel Tank Sounding  136 non-null    float64\n",
            " 9   Fuel Tank Stock After       136 non-null    int64  \n",
            "dtypes: float64(3), int64(1), object(6)\n",
            "memory usage: 10.8+ KB\n"
          ]
        }
      ],
      "source": [
        "df.info()"
      ]
    },
    {
      "cell_type": "markdown",
      "metadata": {
        "id": "mRFIs1E701-L"
      },
      "source": [
        "1. **Column**: Ini adalah nama kolom-kolom dalam DataFrame Anda.\n",
        "Non-Null Count: Jumlah nilai non-null dalam setiap kolom. Dalam kasus ini, semuanya memiliki 136 nilai non-null, yang berarti tidak ada nilai yang hilang dalam dataset.\n",
        "2. **Dtype**: Tipe data dari setiap kolom.\n",
        "object: Tipe data umum untuk data teks atau string.\n",
        "3. **float64**: Tipe data untuk angka floating point dengan presisi ganda (64-bit)."
      ]
    },
    {
      "cell_type": "markdown",
      "metadata": {
        "id": "xaLuihz1lg3O"
      },
      "source": [
        "###Informasi Deskriptif"
      ]
    },
    {
      "cell_type": "code",
      "execution_count": 10,
      "metadata": {
        "id": "Ci5LxD9ilbYq",
        "colab": {
          "base_uri": "https://localhost:8080/",
          "height": 300
        },
        "outputId": "f0b15879-2521-41cf-dbdf-f524fcf6be89"
      },
      "outputs": [
        {
          "output_type": "execute_result",
          "data": {
            "text/plain": [
              "       Fuel Daily Consumption  Opening Fuel Tank Sounding  \\\n",
              "count              136.000000                  136.000000   \n",
              "mean                52.122059                   19.624265   \n",
              "std                  6.602364                    3.290941   \n",
              "min                 18.400000                   14.100000   \n",
              "25%                 50.600000                   16.500000   \n",
              "50%                 55.200000                   20.300000   \n",
              "75%                 55.200000                   22.600000   \n",
              "max                 55.200000                   23.700000   \n",
              "\n",
              "       Closing Fuel Tank Sounding  Fuel Tank Stock After  \n",
              "count                  136.000000             136.000000  \n",
              "mean                    18.511765             835.529412  \n",
              "std                      3.267008             133.568789  \n",
              "min                     13.100000             589.000000  \n",
              "25%                     15.300000             718.000000  \n",
              "50%                     19.200000             874.000000  \n",
              "75%                     21.500000             952.000000  \n",
              "max                     22.600000            1007.000000  "
            ],
            "text/html": [
              "\n",
              "  <div id=\"df-2ed5cf23-925a-4ece-a547-0a9e8006fdc7\" class=\"colab-df-container\">\n",
              "    <div>\n",
              "<style scoped>\n",
              "    .dataframe tbody tr th:only-of-type {\n",
              "        vertical-align: middle;\n",
              "    }\n",
              "\n",
              "    .dataframe tbody tr th {\n",
              "        vertical-align: top;\n",
              "    }\n",
              "\n",
              "    .dataframe thead th {\n",
              "        text-align: right;\n",
              "    }\n",
              "</style>\n",
              "<table border=\"1\" class=\"dataframe\">\n",
              "  <thead>\n",
              "    <tr style=\"text-align: right;\">\n",
              "      <th></th>\n",
              "      <th>Fuel Daily Consumption</th>\n",
              "      <th>Opening Fuel Tank Sounding</th>\n",
              "      <th>Closing Fuel Tank Sounding</th>\n",
              "      <th>Fuel Tank Stock After</th>\n",
              "    </tr>\n",
              "  </thead>\n",
              "  <tbody>\n",
              "    <tr>\n",
              "      <th>count</th>\n",
              "      <td>136.000000</td>\n",
              "      <td>136.000000</td>\n",
              "      <td>136.000000</td>\n",
              "      <td>136.000000</td>\n",
              "    </tr>\n",
              "    <tr>\n",
              "      <th>mean</th>\n",
              "      <td>52.122059</td>\n",
              "      <td>19.624265</td>\n",
              "      <td>18.511765</td>\n",
              "      <td>835.529412</td>\n",
              "    </tr>\n",
              "    <tr>\n",
              "      <th>std</th>\n",
              "      <td>6.602364</td>\n",
              "      <td>3.290941</td>\n",
              "      <td>3.267008</td>\n",
              "      <td>133.568789</td>\n",
              "    </tr>\n",
              "    <tr>\n",
              "      <th>min</th>\n",
              "      <td>18.400000</td>\n",
              "      <td>14.100000</td>\n",
              "      <td>13.100000</td>\n",
              "      <td>589.000000</td>\n",
              "    </tr>\n",
              "    <tr>\n",
              "      <th>25%</th>\n",
              "      <td>50.600000</td>\n",
              "      <td>16.500000</td>\n",
              "      <td>15.300000</td>\n",
              "      <td>718.000000</td>\n",
              "    </tr>\n",
              "    <tr>\n",
              "      <th>50%</th>\n",
              "      <td>55.200000</td>\n",
              "      <td>20.300000</td>\n",
              "      <td>19.200000</td>\n",
              "      <td>874.000000</td>\n",
              "    </tr>\n",
              "    <tr>\n",
              "      <th>75%</th>\n",
              "      <td>55.200000</td>\n",
              "      <td>22.600000</td>\n",
              "      <td>21.500000</td>\n",
              "      <td>952.000000</td>\n",
              "    </tr>\n",
              "    <tr>\n",
              "      <th>max</th>\n",
              "      <td>55.200000</td>\n",
              "      <td>23.700000</td>\n",
              "      <td>22.600000</td>\n",
              "      <td>1007.000000</td>\n",
              "    </tr>\n",
              "  </tbody>\n",
              "</table>\n",
              "</div>\n",
              "    <div class=\"colab-df-buttons\">\n",
              "\n",
              "  <div class=\"colab-df-container\">\n",
              "    <button class=\"colab-df-convert\" onclick=\"convertToInteractive('df-2ed5cf23-925a-4ece-a547-0a9e8006fdc7')\"\n",
              "            title=\"Convert this dataframe to an interactive table.\"\n",
              "            style=\"display:none;\">\n",
              "\n",
              "  <svg xmlns=\"http://www.w3.org/2000/svg\" height=\"24px\" viewBox=\"0 -960 960 960\">\n",
              "    <path d=\"M120-120v-720h720v720H120Zm60-500h600v-160H180v160Zm220 220h160v-160H400v160Zm0 220h160v-160H400v160ZM180-400h160v-160H180v160Zm440 0h160v-160H620v160ZM180-180h160v-160H180v160Zm440 0h160v-160H620v160Z\"/>\n",
              "  </svg>\n",
              "    </button>\n",
              "\n",
              "  <style>\n",
              "    .colab-df-container {\n",
              "      display:flex;\n",
              "      gap: 12px;\n",
              "    }\n",
              "\n",
              "    .colab-df-convert {\n",
              "      background-color: #E8F0FE;\n",
              "      border: none;\n",
              "      border-radius: 50%;\n",
              "      cursor: pointer;\n",
              "      display: none;\n",
              "      fill: #1967D2;\n",
              "      height: 32px;\n",
              "      padding: 0 0 0 0;\n",
              "      width: 32px;\n",
              "    }\n",
              "\n",
              "    .colab-df-convert:hover {\n",
              "      background-color: #E2EBFA;\n",
              "      box-shadow: 0px 1px 2px rgba(60, 64, 67, 0.3), 0px 1px 3px 1px rgba(60, 64, 67, 0.15);\n",
              "      fill: #174EA6;\n",
              "    }\n",
              "\n",
              "    .colab-df-buttons div {\n",
              "      margin-bottom: 4px;\n",
              "    }\n",
              "\n",
              "    [theme=dark] .colab-df-convert {\n",
              "      background-color: #3B4455;\n",
              "      fill: #D2E3FC;\n",
              "    }\n",
              "\n",
              "    [theme=dark] .colab-df-convert:hover {\n",
              "      background-color: #434B5C;\n",
              "      box-shadow: 0px 1px 3px 1px rgba(0, 0, 0, 0.15);\n",
              "      filter: drop-shadow(0px 1px 2px rgba(0, 0, 0, 0.3));\n",
              "      fill: #FFFFFF;\n",
              "    }\n",
              "  </style>\n",
              "\n",
              "    <script>\n",
              "      const buttonEl =\n",
              "        document.querySelector('#df-2ed5cf23-925a-4ece-a547-0a9e8006fdc7 button.colab-df-convert');\n",
              "      buttonEl.style.display =\n",
              "        google.colab.kernel.accessAllowed ? 'block' : 'none';\n",
              "\n",
              "      async function convertToInteractive(key) {\n",
              "        const element = document.querySelector('#df-2ed5cf23-925a-4ece-a547-0a9e8006fdc7');\n",
              "        const dataTable =\n",
              "          await google.colab.kernel.invokeFunction('convertToInteractive',\n",
              "                                                    [key], {});\n",
              "        if (!dataTable) return;\n",
              "\n",
              "        const docLinkHtml = 'Like what you see? Visit the ' +\n",
              "          '<a target=\"_blank\" href=https://colab.research.google.com/notebooks/data_table.ipynb>data table notebook</a>'\n",
              "          + ' to learn more about interactive tables.';\n",
              "        element.innerHTML = '';\n",
              "        dataTable['output_type'] = 'display_data';\n",
              "        await google.colab.output.renderOutput(dataTable, element);\n",
              "        const docLink = document.createElement('div');\n",
              "        docLink.innerHTML = docLinkHtml;\n",
              "        element.appendChild(docLink);\n",
              "      }\n",
              "    </script>\n",
              "  </div>\n",
              "\n",
              "\n",
              "<div id=\"df-006c0e20-aafd-43ca-bdd3-bc2cfef60e1b\">\n",
              "  <button class=\"colab-df-quickchart\" onclick=\"quickchart('df-006c0e20-aafd-43ca-bdd3-bc2cfef60e1b')\"\n",
              "            title=\"Suggest charts\"\n",
              "            style=\"display:none;\">\n",
              "\n",
              "<svg xmlns=\"http://www.w3.org/2000/svg\" height=\"24px\"viewBox=\"0 0 24 24\"\n",
              "     width=\"24px\">\n",
              "    <g>\n",
              "        <path d=\"M19 3H5c-1.1 0-2 .9-2 2v14c0 1.1.9 2 2 2h14c1.1 0 2-.9 2-2V5c0-1.1-.9-2-2-2zM9 17H7v-7h2v7zm4 0h-2V7h2v10zm4 0h-2v-4h2v4z\"/>\n",
              "    </g>\n",
              "</svg>\n",
              "  </button>\n",
              "\n",
              "<style>\n",
              "  .colab-df-quickchart {\n",
              "      --bg-color: #E8F0FE;\n",
              "      --fill-color: #1967D2;\n",
              "      --hover-bg-color: #E2EBFA;\n",
              "      --hover-fill-color: #174EA6;\n",
              "      --disabled-fill-color: #AAA;\n",
              "      --disabled-bg-color: #DDD;\n",
              "  }\n",
              "\n",
              "  [theme=dark] .colab-df-quickchart {\n",
              "      --bg-color: #3B4455;\n",
              "      --fill-color: #D2E3FC;\n",
              "      --hover-bg-color: #434B5C;\n",
              "      --hover-fill-color: #FFFFFF;\n",
              "      --disabled-bg-color: #3B4455;\n",
              "      --disabled-fill-color: #666;\n",
              "  }\n",
              "\n",
              "  .colab-df-quickchart {\n",
              "    background-color: var(--bg-color);\n",
              "    border: none;\n",
              "    border-radius: 50%;\n",
              "    cursor: pointer;\n",
              "    display: none;\n",
              "    fill: var(--fill-color);\n",
              "    height: 32px;\n",
              "    padding: 0;\n",
              "    width: 32px;\n",
              "  }\n",
              "\n",
              "  .colab-df-quickchart:hover {\n",
              "    background-color: var(--hover-bg-color);\n",
              "    box-shadow: 0 1px 2px rgba(60, 64, 67, 0.3), 0 1px 3px 1px rgba(60, 64, 67, 0.15);\n",
              "    fill: var(--button-hover-fill-color);\n",
              "  }\n",
              "\n",
              "  .colab-df-quickchart-complete:disabled,\n",
              "  .colab-df-quickchart-complete:disabled:hover {\n",
              "    background-color: var(--disabled-bg-color);\n",
              "    fill: var(--disabled-fill-color);\n",
              "    box-shadow: none;\n",
              "  }\n",
              "\n",
              "  .colab-df-spinner {\n",
              "    border: 2px solid var(--fill-color);\n",
              "    border-color: transparent;\n",
              "    border-bottom-color: var(--fill-color);\n",
              "    animation:\n",
              "      spin 1s steps(1) infinite;\n",
              "  }\n",
              "\n",
              "  @keyframes spin {\n",
              "    0% {\n",
              "      border-color: transparent;\n",
              "      border-bottom-color: var(--fill-color);\n",
              "      border-left-color: var(--fill-color);\n",
              "    }\n",
              "    20% {\n",
              "      border-color: transparent;\n",
              "      border-left-color: var(--fill-color);\n",
              "      border-top-color: var(--fill-color);\n",
              "    }\n",
              "    30% {\n",
              "      border-color: transparent;\n",
              "      border-left-color: var(--fill-color);\n",
              "      border-top-color: var(--fill-color);\n",
              "      border-right-color: var(--fill-color);\n",
              "    }\n",
              "    40% {\n",
              "      border-color: transparent;\n",
              "      border-right-color: var(--fill-color);\n",
              "      border-top-color: var(--fill-color);\n",
              "    }\n",
              "    60% {\n",
              "      border-color: transparent;\n",
              "      border-right-color: var(--fill-color);\n",
              "    }\n",
              "    80% {\n",
              "      border-color: transparent;\n",
              "      border-right-color: var(--fill-color);\n",
              "      border-bottom-color: var(--fill-color);\n",
              "    }\n",
              "    90% {\n",
              "      border-color: transparent;\n",
              "      border-bottom-color: var(--fill-color);\n",
              "    }\n",
              "  }\n",
              "</style>\n",
              "\n",
              "  <script>\n",
              "    async function quickchart(key) {\n",
              "      const quickchartButtonEl =\n",
              "        document.querySelector('#' + key + ' button');\n",
              "      quickchartButtonEl.disabled = true;  // To prevent multiple clicks.\n",
              "      quickchartButtonEl.classList.add('colab-df-spinner');\n",
              "      try {\n",
              "        const charts = await google.colab.kernel.invokeFunction(\n",
              "            'suggestCharts', [key], {});\n",
              "      } catch (error) {\n",
              "        console.error('Error during call to suggestCharts:', error);\n",
              "      }\n",
              "      quickchartButtonEl.classList.remove('colab-df-spinner');\n",
              "      quickchartButtonEl.classList.add('colab-df-quickchart-complete');\n",
              "    }\n",
              "    (() => {\n",
              "      let quickchartButtonEl =\n",
              "        document.querySelector('#df-006c0e20-aafd-43ca-bdd3-bc2cfef60e1b button');\n",
              "      quickchartButtonEl.style.display =\n",
              "        google.colab.kernel.accessAllowed ? 'block' : 'none';\n",
              "    })();\n",
              "  </script>\n",
              "</div>\n",
              "    </div>\n",
              "  </div>\n"
            ],
            "application/vnd.google.colaboratory.intrinsic+json": {
              "type": "dataframe",
              "summary": "{\n  \"name\": \"df\",\n  \"rows\": 8,\n  \"fields\": [\n    {\n      \"column\": \"Fuel Daily Consumption\",\n      \"properties\": {\n        \"dtype\": \"number\",\n        \"std\": 38.277945347276294,\n        \"min\": 6.60236423621306,\n        \"max\": 136.0,\n        \"num_unique_values\": 6,\n        \"samples\": [\n          136.0,\n          52.12205882352941,\n          55.2\n        ],\n        \"semantic_type\": \"\",\n        \"description\": \"\"\n      }\n    },\n    {\n      \"column\": \"Opening Fuel Tank Sounding\",\n      \"properties\": {\n        \"dtype\": \"number\",\n        \"std\": 42.50742322861327,\n        \"min\": 3.2909414688860674,\n        \"max\": 136.0,\n        \"num_unique_values\": 8,\n        \"samples\": [\n          19.624264705882354,\n          20.3,\n          136.0\n        ],\n        \"semantic_type\": \"\",\n        \"description\": \"\"\n      }\n    },\n    {\n      \"column\": \"Closing Fuel Tank Sounding\",\n      \"properties\": {\n        \"dtype\": \"number\",\n        \"std\": 42.789770996138415,\n        \"min\": 3.267008118742634,\n        \"max\": 136.0,\n        \"num_unique_values\": 8,\n        \"samples\": [\n          18.511764705882356,\n          19.2,\n          136.0\n        ],\n        \"semantic_type\": \"\",\n        \"description\": \"\"\n      }\n    },\n    {\n      \"column\": \"Fuel Tank Stock After\",\n      \"properties\": {\n        \"dtype\": \"number\",\n        \"std\": 346.8713486362832,\n        \"min\": 133.56878883467698,\n        \"max\": 1007.0,\n        \"num_unique_values\": 8,\n        \"samples\": [\n          835.5294117647059,\n          874.0,\n          136.0\n        ],\n        \"semantic_type\": \"\",\n        \"description\": \"\"\n      }\n    }\n  ]\n}"
            }
          },
          "metadata": {},
          "execution_count": 10
        }
      ],
      "source": [
        "df.describe()"
      ]
    },
    {
      "cell_type": "markdown",
      "metadata": {
        "id": "XyGi3JqqlmkS"
      },
      "source": [
        "1. **Fuel Daily Consumption**:\n",
        "Rata-rata (mean): 52.122059\n",
        "Standar deviasi (std): 6.602364\n",
        "Nilai minimum (min): 18.400000\n",
        "Kuartil pertama (25%): 50.600000\n",
        "Median (50%): 55.200000\n",
        "Kuartil ketiga (75%): 55.200000\n",
        "Nilai maksimum (max): 55.200000\n",
        "Count: 136\n",
        "2. **Opening Fuel Tank Sounding**:\n",
        "Rata-rata (mean): 19.624265\n",
        "Standar deviasi (std): 3.290941\n",
        "Nilai minimum (min): 14.100000\n",
        "Kuartil pertama (25%): 16.500000\n",
        "Median (50%): 20.300000\n",
        "Kuartil ketiga (75%): 22.600000\n",
        "Nilai maksimum (max): 23.700000\n",
        "Count: 136\n",
        "3. **Closing Fuel Tank Sounding**:\n",
        "Rata-rata (mean): 18.511765\n",
        "Standar deviasi (std): 3.267008\n",
        "Nilai minimum (min): 13.100000\n",
        "Kuartil pertama (25%): 15.300000\n",
        "Median (50%): 19.200000\n",
        "Kuartil ketiga (75%): 21.500000\n",
        "Nilai maksimum (max): 22.600000\n",
        "Count: 136\n",
        "4. **Fuel Tank Stock After**:\n",
        "Rata-rata (mean): 835.529412\n",
        "Standar deviasi (std): 133.568789\n",
        "Nilai minimum (min): 589.000000\n",
        "Kuartil pertama (25%): 718.000000\n",
        "Median (50%): 874.000000\n",
        "Kuartil ketiga (75%): 952.000000\n",
        "Nilai maksimum (max): 1007.000000\n",
        "Count: 136"
      ]
    },
    {
      "cell_type": "markdown",
      "metadata": {
        "id": "FSUVSpzYlsTB"
      },
      "source": [
        "##**Exploratory Data Analysis**"
      ]
    },
    {
      "cell_type": "markdown",
      "metadata": {
        "id": "iOYAddJVBNBv"
      },
      "source": [
        "### Korelasi Antar Kolom"
      ]
    },
    {
      "cell_type": "code",
      "execution_count": 11,
      "metadata": {
        "id": "LPLA0YAHA-UW",
        "colab": {
          "base_uri": "https://localhost:8080/",
          "height": 542
        },
        "outputId": "6dcd80a3-3cd4-4d8d-d96e-e4a0215105c2"
      },
      "outputs": [
        {
          "output_type": "display_data",
          "data": {
            "text/html": [
              "<html>\n",
              "<head><meta charset=\"utf-8\" /></head>\n",
              "<body>\n",
              "    <div>            <script src=\"https://cdnjs.cloudflare.com/ajax/libs/mathjax/2.7.5/MathJax.js?config=TeX-AMS-MML_SVG\"></script><script type=\"text/javascript\">if (window.MathJax && window.MathJax.Hub && window.MathJax.Hub.Config) {window.MathJax.Hub.Config({SVG: {font: \"STIX-Web\"}});}</script>                <script type=\"text/javascript\">window.PlotlyConfig = {MathJaxConfig: 'local'};</script>\n",
              "        <script charset=\"utf-8\" src=\"https://cdn.plot.ly/plotly-2.24.1.min.js\"></script>                <div id=\"0c881f9f-7e29-460c-a027-82a8065d5608\" class=\"plotly-graph-div\" style=\"height:525px; width:100%;\"></div>            <script type=\"text/javascript\">                                    window.PLOTLYENV=window.PLOTLYENV || {};                                    if (document.getElementById(\"0c881f9f-7e29-460c-a027-82a8065d5608\")) {                    Plotly.newPlot(                        \"0c881f9f-7e29-460c-a027-82a8065d5608\",                        [{\"coloraxis\":\"coloraxis\",\"name\":\"0\",\"x\":[\"Fuel Daily Consumption\",\"Opening Fuel Tank Sounding\",\"Closing Fuel Tank Sounding\",\"Fuel Tank Stock After\"],\"y\":[\"Fuel Daily Consumption\",\"Opening Fuel Tank Sounding\",\"Closing Fuel Tank Sounding\",\"Fuel Tank Stock After\"],\"z\":[[1.0,-0.053620123440291156,-0.09498637745702582,0.04679797066879253],[-0.053620123440291156,1.0,0.9990246278354853,0.4864273183130898],[-0.09498637745702582,0.9990246278354853,1.0,0.496084815476789],[0.04679797066879253,0.4864273183130898,0.496084815476789,1.0]],\"type\":\"heatmap\",\"xaxis\":\"x\",\"yaxis\":\"y\",\"hovertemplate\":\"x: %{x}\\u003cbr\\u003ey: %{y}\\u003cbr\\u003ecolor: %{z}\\u003cextra\\u003e\\u003c\\u002fextra\\u003e\"}],                        {\"template\":{\"data\":{\"histogram2dcontour\":[{\"type\":\"histogram2dcontour\",\"colorbar\":{\"outlinewidth\":0,\"ticks\":\"\"},\"colorscale\":[[0.0,\"#0d0887\"],[0.1111111111111111,\"#46039f\"],[0.2222222222222222,\"#7201a8\"],[0.3333333333333333,\"#9c179e\"],[0.4444444444444444,\"#bd3786\"],[0.5555555555555556,\"#d8576b\"],[0.6666666666666666,\"#ed7953\"],[0.7777777777777778,\"#fb9f3a\"],[0.8888888888888888,\"#fdca26\"],[1.0,\"#f0f921\"]]}],\"choropleth\":[{\"type\":\"choropleth\",\"colorbar\":{\"outlinewidth\":0,\"ticks\":\"\"}}],\"histogram2d\":[{\"type\":\"histogram2d\",\"colorbar\":{\"outlinewidth\":0,\"ticks\":\"\"},\"colorscale\":[[0.0,\"#0d0887\"],[0.1111111111111111,\"#46039f\"],[0.2222222222222222,\"#7201a8\"],[0.3333333333333333,\"#9c179e\"],[0.4444444444444444,\"#bd3786\"],[0.5555555555555556,\"#d8576b\"],[0.6666666666666666,\"#ed7953\"],[0.7777777777777778,\"#fb9f3a\"],[0.8888888888888888,\"#fdca26\"],[1.0,\"#f0f921\"]]}],\"heatmap\":[{\"type\":\"heatmap\",\"colorbar\":{\"outlinewidth\":0,\"ticks\":\"\"},\"colorscale\":[[0.0,\"#0d0887\"],[0.1111111111111111,\"#46039f\"],[0.2222222222222222,\"#7201a8\"],[0.3333333333333333,\"#9c179e\"],[0.4444444444444444,\"#bd3786\"],[0.5555555555555556,\"#d8576b\"],[0.6666666666666666,\"#ed7953\"],[0.7777777777777778,\"#fb9f3a\"],[0.8888888888888888,\"#fdca26\"],[1.0,\"#f0f921\"]]}],\"heatmapgl\":[{\"type\":\"heatmapgl\",\"colorbar\":{\"outlinewidth\":0,\"ticks\":\"\"},\"colorscale\":[[0.0,\"#0d0887\"],[0.1111111111111111,\"#46039f\"],[0.2222222222222222,\"#7201a8\"],[0.3333333333333333,\"#9c179e\"],[0.4444444444444444,\"#bd3786\"],[0.5555555555555556,\"#d8576b\"],[0.6666666666666666,\"#ed7953\"],[0.7777777777777778,\"#fb9f3a\"],[0.8888888888888888,\"#fdca26\"],[1.0,\"#f0f921\"]]}],\"contourcarpet\":[{\"type\":\"contourcarpet\",\"colorbar\":{\"outlinewidth\":0,\"ticks\":\"\"}}],\"contour\":[{\"type\":\"contour\",\"colorbar\":{\"outlinewidth\":0,\"ticks\":\"\"},\"colorscale\":[[0.0,\"#0d0887\"],[0.1111111111111111,\"#46039f\"],[0.2222222222222222,\"#7201a8\"],[0.3333333333333333,\"#9c179e\"],[0.4444444444444444,\"#bd3786\"],[0.5555555555555556,\"#d8576b\"],[0.6666666666666666,\"#ed7953\"],[0.7777777777777778,\"#fb9f3a\"],[0.8888888888888888,\"#fdca26\"],[1.0,\"#f0f921\"]]}],\"surface\":[{\"type\":\"surface\",\"colorbar\":{\"outlinewidth\":0,\"ticks\":\"\"},\"colorscale\":[[0.0,\"#0d0887\"],[0.1111111111111111,\"#46039f\"],[0.2222222222222222,\"#7201a8\"],[0.3333333333333333,\"#9c179e\"],[0.4444444444444444,\"#bd3786\"],[0.5555555555555556,\"#d8576b\"],[0.6666666666666666,\"#ed7953\"],[0.7777777777777778,\"#fb9f3a\"],[0.8888888888888888,\"#fdca26\"],[1.0,\"#f0f921\"]]}],\"mesh3d\":[{\"type\":\"mesh3d\",\"colorbar\":{\"outlinewidth\":0,\"ticks\":\"\"}}],\"scatter\":[{\"fillpattern\":{\"fillmode\":\"overlay\",\"size\":10,\"solidity\":0.2},\"type\":\"scatter\"}],\"parcoords\":[{\"type\":\"parcoords\",\"line\":{\"colorbar\":{\"outlinewidth\":0,\"ticks\":\"\"}}}],\"scatterpolargl\":[{\"type\":\"scatterpolargl\",\"marker\":{\"colorbar\":{\"outlinewidth\":0,\"ticks\":\"\"}}}],\"bar\":[{\"error_x\":{\"color\":\"#2a3f5f\"},\"error_y\":{\"color\":\"#2a3f5f\"},\"marker\":{\"line\":{\"color\":\"#E5ECF6\",\"width\":0.5},\"pattern\":{\"fillmode\":\"overlay\",\"size\":10,\"solidity\":0.2}},\"type\":\"bar\"}],\"scattergeo\":[{\"type\":\"scattergeo\",\"marker\":{\"colorbar\":{\"outlinewidth\":0,\"ticks\":\"\"}}}],\"scatterpolar\":[{\"type\":\"scatterpolar\",\"marker\":{\"colorbar\":{\"outlinewidth\":0,\"ticks\":\"\"}}}],\"histogram\":[{\"marker\":{\"pattern\":{\"fillmode\":\"overlay\",\"size\":10,\"solidity\":0.2}},\"type\":\"histogram\"}],\"scattergl\":[{\"type\":\"scattergl\",\"marker\":{\"colorbar\":{\"outlinewidth\":0,\"ticks\":\"\"}}}],\"scatter3d\":[{\"type\":\"scatter3d\",\"line\":{\"colorbar\":{\"outlinewidth\":0,\"ticks\":\"\"}},\"marker\":{\"colorbar\":{\"outlinewidth\":0,\"ticks\":\"\"}}}],\"scattermapbox\":[{\"type\":\"scattermapbox\",\"marker\":{\"colorbar\":{\"outlinewidth\":0,\"ticks\":\"\"}}}],\"scatterternary\":[{\"type\":\"scatterternary\",\"marker\":{\"colorbar\":{\"outlinewidth\":0,\"ticks\":\"\"}}}],\"scattercarpet\":[{\"type\":\"scattercarpet\",\"marker\":{\"colorbar\":{\"outlinewidth\":0,\"ticks\":\"\"}}}],\"carpet\":[{\"aaxis\":{\"endlinecolor\":\"#2a3f5f\",\"gridcolor\":\"white\",\"linecolor\":\"white\",\"minorgridcolor\":\"white\",\"startlinecolor\":\"#2a3f5f\"},\"baxis\":{\"endlinecolor\":\"#2a3f5f\",\"gridcolor\":\"white\",\"linecolor\":\"white\",\"minorgridcolor\":\"white\",\"startlinecolor\":\"#2a3f5f\"},\"type\":\"carpet\"}],\"table\":[{\"cells\":{\"fill\":{\"color\":\"#EBF0F8\"},\"line\":{\"color\":\"white\"}},\"header\":{\"fill\":{\"color\":\"#C8D4E3\"},\"line\":{\"color\":\"white\"}},\"type\":\"table\"}],\"barpolar\":[{\"marker\":{\"line\":{\"color\":\"#E5ECF6\",\"width\":0.5},\"pattern\":{\"fillmode\":\"overlay\",\"size\":10,\"solidity\":0.2}},\"type\":\"barpolar\"}],\"pie\":[{\"automargin\":true,\"type\":\"pie\"}]},\"layout\":{\"autotypenumbers\":\"strict\",\"colorway\":[\"#636efa\",\"#EF553B\",\"#00cc96\",\"#ab63fa\",\"#FFA15A\",\"#19d3f3\",\"#FF6692\",\"#B6E880\",\"#FF97FF\",\"#FECB52\"],\"font\":{\"color\":\"#2a3f5f\"},\"hovermode\":\"closest\",\"hoverlabel\":{\"align\":\"left\"},\"paper_bgcolor\":\"white\",\"plot_bgcolor\":\"#E5ECF6\",\"polar\":{\"bgcolor\":\"#E5ECF6\",\"angularaxis\":{\"gridcolor\":\"white\",\"linecolor\":\"white\",\"ticks\":\"\"},\"radialaxis\":{\"gridcolor\":\"white\",\"linecolor\":\"white\",\"ticks\":\"\"}},\"ternary\":{\"bgcolor\":\"#E5ECF6\",\"aaxis\":{\"gridcolor\":\"white\",\"linecolor\":\"white\",\"ticks\":\"\"},\"baxis\":{\"gridcolor\":\"white\",\"linecolor\":\"white\",\"ticks\":\"\"},\"caxis\":{\"gridcolor\":\"white\",\"linecolor\":\"white\",\"ticks\":\"\"}},\"coloraxis\":{\"colorbar\":{\"outlinewidth\":0,\"ticks\":\"\"}},\"colorscale\":{\"sequential\":[[0.0,\"#0d0887\"],[0.1111111111111111,\"#46039f\"],[0.2222222222222222,\"#7201a8\"],[0.3333333333333333,\"#9c179e\"],[0.4444444444444444,\"#bd3786\"],[0.5555555555555556,\"#d8576b\"],[0.6666666666666666,\"#ed7953\"],[0.7777777777777778,\"#fb9f3a\"],[0.8888888888888888,\"#fdca26\"],[1.0,\"#f0f921\"]],\"sequentialminus\":[[0.0,\"#0d0887\"],[0.1111111111111111,\"#46039f\"],[0.2222222222222222,\"#7201a8\"],[0.3333333333333333,\"#9c179e\"],[0.4444444444444444,\"#bd3786\"],[0.5555555555555556,\"#d8576b\"],[0.6666666666666666,\"#ed7953\"],[0.7777777777777778,\"#fb9f3a\"],[0.8888888888888888,\"#fdca26\"],[1.0,\"#f0f921\"]],\"diverging\":[[0,\"#8e0152\"],[0.1,\"#c51b7d\"],[0.2,\"#de77ae\"],[0.3,\"#f1b6da\"],[0.4,\"#fde0ef\"],[0.5,\"#f7f7f7\"],[0.6,\"#e6f5d0\"],[0.7,\"#b8e186\"],[0.8,\"#7fbc41\"],[0.9,\"#4d9221\"],[1,\"#276419\"]]},\"xaxis\":{\"gridcolor\":\"white\",\"linecolor\":\"white\",\"ticks\":\"\",\"title\":{\"standoff\":15},\"zerolinecolor\":\"white\",\"automargin\":true,\"zerolinewidth\":2},\"yaxis\":{\"gridcolor\":\"white\",\"linecolor\":\"white\",\"ticks\":\"\",\"title\":{\"standoff\":15},\"zerolinecolor\":\"white\",\"automargin\":true,\"zerolinewidth\":2},\"scene\":{\"xaxis\":{\"backgroundcolor\":\"#E5ECF6\",\"gridcolor\":\"white\",\"linecolor\":\"white\",\"showbackground\":true,\"ticks\":\"\",\"zerolinecolor\":\"white\",\"gridwidth\":2},\"yaxis\":{\"backgroundcolor\":\"#E5ECF6\",\"gridcolor\":\"white\",\"linecolor\":\"white\",\"showbackground\":true,\"ticks\":\"\",\"zerolinecolor\":\"white\",\"gridwidth\":2},\"zaxis\":{\"backgroundcolor\":\"#E5ECF6\",\"gridcolor\":\"white\",\"linecolor\":\"white\",\"showbackground\":true,\"ticks\":\"\",\"zerolinecolor\":\"white\",\"gridwidth\":2}},\"shapedefaults\":{\"line\":{\"color\":\"#2a3f5f\"}},\"annotationdefaults\":{\"arrowcolor\":\"#2a3f5f\",\"arrowhead\":0,\"arrowwidth\":1},\"geo\":{\"bgcolor\":\"white\",\"landcolor\":\"#E5ECF6\",\"subunitcolor\":\"white\",\"showland\":true,\"showlakes\":true,\"lakecolor\":\"white\"},\"title\":{\"x\":0.05},\"mapbox\":{\"style\":\"light\"}}},\"xaxis\":{\"anchor\":\"y\",\"domain\":[0.0,1.0],\"scaleanchor\":\"y\",\"constrain\":\"domain\"},\"yaxis\":{\"anchor\":\"x\",\"domain\":[0.0,1.0],\"autorange\":\"reversed\",\"constrain\":\"domain\"},\"coloraxis\":{\"colorscale\":[[0.0,\"#0d0887\"],[0.1111111111111111,\"#46039f\"],[0.2222222222222222,\"#7201a8\"],[0.3333333333333333,\"#9c179e\"],[0.4444444444444444,\"#bd3786\"],[0.5555555555555556,\"#d8576b\"],[0.6666666666666666,\"#ed7953\"],[0.7777777777777778,\"#fb9f3a\"],[0.8888888888888888,\"#fdca26\"],[1.0,\"#f0f921\"]]},\"margin\":{\"t\":60}},                        {\"responsive\": true}                    ).then(function(){\n",
              "                            \n",
              "var gd = document.getElementById('0c881f9f-7e29-460c-a027-82a8065d5608');\n",
              "var x = new MutationObserver(function (mutations, observer) {{\n",
              "        var display = window.getComputedStyle(gd).display;\n",
              "        if (!display || display === 'none') {{\n",
              "            console.log([gd, 'removed!']);\n",
              "            Plotly.purge(gd);\n",
              "            observer.disconnect();\n",
              "        }}\n",
              "}});\n",
              "\n",
              "// Listen for the removal of the full notebook cells\n",
              "var notebookContainer = gd.closest('#notebook-container');\n",
              "if (notebookContainer) {{\n",
              "    x.observe(notebookContainer, {childList: true});\n",
              "}}\n",
              "\n",
              "// Listen for the clearing of the current output cell\n",
              "var outputEl = gd.closest('.output');\n",
              "if (outputEl) {{\n",
              "    x.observe(outputEl, {childList: true});\n",
              "}}\n",
              "\n",
              "                        })                };                            </script>        </div>\n",
              "</body>\n",
              "</html>"
            ]
          },
          "metadata": {}
        }
      ],
      "source": [
        "px.imshow(df.corr(numeric_only=True))"
      ]
    },
    {
      "cell_type": "markdown",
      "metadata": {
        "id": "eXAwiyxtBiPh"
      },
      "source": [
        "###Tingkat Efisiensi Bahan Bakar Pada Kapal FMC Marnik"
      ]
    },
    {
      "cell_type": "code",
      "execution_count": 12,
      "metadata": {
        "id": "WXh9JfcoB1Hl",
        "colab": {
          "base_uri": "https://localhost:8080/",
          "height": 546
        },
        "outputId": "f7c14a48-9802-4c35-c944-80e602b30d60"
      },
      "outputs": [
        {
          "output_type": "execute_result",
          "data": {
            "text/plain": [
              "Text(0.5, 1.0, 'Tingkat Efisiensi Bahan Bakar Harian Pada Kapal FMC Marnaik')"
            ]
          },
          "metadata": {},
          "execution_count": 12
        },
        {
          "output_type": "display_data",
          "data": {
            "text/plain": [
              "<Figure size 500x500 with 1 Axes>"
            ],
            "image/png": "[encoded data removed]"
          },
          "metadata": {}
        }
      ],
      "source": [
        "sns.relplot(x='Fuel Daily Consumption', y='Opening Fuel Tank Sounding', data=df, kind='line')\n",
        "plt.xlabel('Fuel Daily Consumption')\n",
        "plt.ylabel('Opening Fuel Tank Sounding')\n",
        "plt.title('Tingkat Efisiensi Bahan Bakar Harian Pada Kapal FMC Marnaik')"
      ]
    },
    {
      "cell_type": "markdown",
      "metadata": {
        "id": "Yop-Q-vEDoSu"
      },
      "source": [
        "Grafik yang diberikan menggambarkan konsumsi bahan bakar **Kapal FMC Marnik** seiring berjalannya waktu. Setiap titik pada grafik mewakili data, dengan sumbu x menunjukkan waktu (dalam hari) dan sumbu y menunjukkan konsumsi bahan bakar harian."
      ]
    },
    {
      "cell_type": "code",
      "execution_count": 13,
      "metadata": {
        "id": "uEWmN8yPGwVj",
        "colab": {
          "base_uri": "https://localhost:8080/",
          "height": 469
        },
        "outputId": "e1878f12-6243-4bd2-ed65-e1c2239d0539"
      },
      "outputs": [
        {
          "output_type": "execute_result",
          "data": {
            "text/plain": [
              "<Axes: xlabel='Closing Fuel Tank Sounding', ylabel='Count'>"
            ]
          },
          "metadata": {},
          "execution_count": 13
        },
        {
          "output_type": "display_data",
          "data": {
            "text/plain": [
              "<Figure size 640x480 with 1 Axes>"
            ],
            "image/png": "[encoded data removed]"
          },
          "metadata": {}
        }
      ],
      "source": [
        "sns.histplot(df['Closing Fuel Tank Sounding'].dropna(), bins=20)"
      ]
    },
    {
      "cell_type": "markdown",
      "metadata": {
        "id": "Hxl3XKjgLIEP"
      },
      "source": [
        "Visualisasi histogram ini mewakili distribusi volume bahan bakar dalam tangki setelah perjalanan selesai, yang mencerminkan pengukuran akhir setelah **Kapal FMC Marnaik** mencapai tujuan.\n",
        "\n",
        "Histogram menunjukkan sebaran volume bahan bakar dalam tangki setelah perjalanan selesai, dengan tinggi batang pada setiap bin menunjukkan seberapa sering volume bahan bakar jatuh ke dalam rentang tersebut. Ini memberikan pemahaman tentang seberapa sering kapal mencapai tujuan dengan volume bahan bakar tertentu setelah perjalanan."
      ]
    },
    {
      "cell_type": "code",
      "execution_count": 14,
      "metadata": {
        "id": "UyX_rVVpFZGx",
        "colab": {
          "base_uri": "https://localhost:8080/",
          "height": 472
        },
        "outputId": "3f187268-fd15-4296-aace-cb5cc6c3fe4e"
      },
      "outputs": [
        {
          "output_type": "display_data",
          "data": {
            "text/plain": [
              "<Figure size 640x480 with 1 Axes>"
            ],
            "image/png": "[encoded data removed]"
          },
          "metadata": {}
        }
      ],
      "source": [
        "sns.histplot(df['Fuel Tank Stock After'].dropna(), bins=20, kde=True)\n",
        "plt.title('Normalisasi Penggunaan Bahan Bakar')\n",
        "plt.xlabel(\"Start ME \")\n",
        "plt.ylabel('Stop ME ')\n",
        "plt.show()"
      ]
    },
    {
      "cell_type": "markdown",
      "source": [
        "Visualisasi histogram ini menggambarkan distribusi frekuensi dari variabel \"**Start ME**\" dan \"**Stop ME**\" pada Kapal FMC Marnaik selama periode 13-24 Mei 2023. Histogram menampilkan seberapa sering mesin dimulai dan berhenti dalam rentang waktu yang ditentukan.\n",
        "\n",
        "Distribusi frekuensi \"**Start ME**\" menunjukkan kecenderungan untuk memulai mesin pada berbagai titik waktu, dengan beberapa waktu mungkin lebih umum daripada yang lain. Sementara itu, distribusi frekuensi \"**Stop ME**\" menunjukkan pola yang serupa dalam hal berhenti mesin, menyoroti waktu-waktu tertentu di mana berhenti mesin lebih sering terjadi."
      ],
      "metadata": {
        "id": "7dVsIe9bHAxG"
      }
    },
    {
      "cell_type": "code",
      "execution_count": 15,
      "metadata": {
        "id": "SLqW23LPILvC",
        "colab": {
          "base_uri": "https://localhost:8080/",
          "height": 631
        },
        "outputId": "15354c48-6a1c-4166-85ad-193b77663930"
      },
      "outputs": [
        {
          "output_type": "stream",
          "name": "stderr",
          "text": [
            "<ipython-input-15-aa23995585d3>:1: FutureWarning:\n",
            "\n",
            "\n",
            "\n",
            "Passing `palette` without assigning `hue` is deprecated and will be removed in v0.14.0. Assign the `x` variable to `hue` and set `legend=False` for the same effect.\n",
            "\n",
            "\n"
          ]
        },
        {
          "output_type": "execute_result",
          "data": {
            "text/plain": [
              "Text(0, 0.5, 'Closing Fuel Tank Sounding')"
            ]
          },
          "metadata": {},
          "execution_count": 15
        },
        {
          "output_type": "display_data",
          "data": {
            "text/plain": [
              "<Figure size 640x480 with 1 Axes>"
            ],
            "image/png": "[encoded data removed]"
          },
          "metadata": {}
        }
      ],
      "source": [
        "sns.countplot(x='To', data=df, palette='Set2')\n",
        "plt.title('Volume Bahan Bakar Perjalanan Kapal FMC Marnaik ke Destinasi Tujuan')\n",
        "plt.xlabel('To')\n",
        "plt.ylabel('Closing Fuel Tank Sounding')"
      ]
    },
    {
      "cell_type": "markdown",
      "metadata": {
        "id": "XK0_fCUlKTBK"
      },
      "source": [
        "Grafik yang diberikan menampilkan volume bahan bakar yang dikonsumsi oleh **Kapal FMC Marnaik** selama perjalanannya menuju tujuan. Setiap batang pada grafik mewakili tahap tertentu dalam perjalanan, dengan sumbu x menunjukkan tahapan dan sumbu y menunjukkan konsumsi bahan bakar untuk setiap tahap. Grafik ini memberikan wawasan berharga tentang pola penggunaan bahan bakar kapal dan dapat digunakan untuk mengidentifikasi area yang perlu ditingkatkan dalam hal efisiensi bahan bakar."
      ]
    },
    {
      "cell_type": "code",
      "execution_count": 16,
      "metadata": {
        "id": "eZLd6mWuNAxl",
        "colab": {
          "base_uri": "https://localhost:8080/",
          "height": 423
        },
        "outputId": "03558154-eae5-4859-b5e4-02ceb61c7069"
      },
      "outputs": [
        {
          "output_type": "execute_result",
          "data": {
            "text/plain": [
              "<Axes: ylabel='count'>"
            ]
          },
          "metadata": {},
          "execution_count": 16
        },
        {
          "output_type": "display_data",
          "data": {
            "text/plain": [
              "<Figure size 640x480 with 1 Axes>"
            ],
            "image/png": "[encoded data removed]"
          },
          "metadata": {}
        }
      ],
      "source": [
        "From_counts = df['From'].value_counts()\n",
        "From_counts.plot(kind='pie', autopct='%1.1f%%', startangle=360)"
      ]
    },
    {
      "cell_type": "markdown",
      "source": [
        "Pie chart di atas menampilkan persentase penggunaan tempat awal sebelum **Kapal FMC Marnaik** berlayar, yang diukur dalam interval harian. Berdasarkan data tersebut, terdapat empat kategori utama yang mencakup penggunaan tempat tersebut:\n",
        "\n",
        "* **PSTB (Port Service Transport Barge)**: Mewakili 34.6% dari total penggunaan tempat, menjadikannya kategori dengan persentase tertinggi.\n",
        "* **Somber**: Menempati 32.4% dari total penggunaan tempat, jumlahnya hampir sebanding dengan penggunaan PSTB.\n",
        "* **Running ME/Stand by**: Kategori ini juga mencapai 32.4% dari total penggunaan tempat, dengan jumlah yang sama dengan kategori Somber.\n",
        "* **Jetty Bunker**: Meskipun memiliki kontribusi yang lebih kecil, yaitu hanya 0.7%, kategori ini tetap merupakan bagian dari penggunaan tempat awal sebelum kapal berlayar."
      ],
      "metadata": {
        "id": "sA203vW7gq5D"
      }
    },
    {
      "cell_type": "markdown",
      "metadata": {
        "id": "Zi00MD4CNO-9"
      },
      "source": [
        "## **Verify Data Quality**"
      ]
    },
    {
      "cell_type": "markdown",
      "metadata": {
        "id": "jMGDBdPtNTmO"
      },
      "source": [
        "###Missing Values"
      ]
    },
    {
      "cell_type": "code",
      "execution_count": 17,
      "metadata": {
        "id": "6yGZ8K2UNVzC",
        "colab": {
          "base_uri": "https://localhost:8080/",
          "height": 441
        },
        "outputId": "4b1b0fa8-8eab-4405-ef10-7c2c65c9e935"
      },
      "outputs": [
        {
          "output_type": "execute_result",
          "data": {
            "text/plain": [
              "      Date   From     To  Start ME  Stop ME  Running Minutes  \\\n",
              "0    False  False  False     False    False            False   \n",
              "1    False  False  False     False    False            False   \n",
              "2    False  False  False     False    False            False   \n",
              "3    False  False  False     False    False            False   \n",
              "4    False  False  False     False    False            False   \n",
              "..     ...    ...    ...       ...      ...              ...   \n",
              "131  False  False  False     False    False            False   \n",
              "132  False  False  False     False    False            False   \n",
              "133  False  False  False     False    False            False   \n",
              "134  False  False  False     False    False            False   \n",
              "135  False  False  False     False    False            False   \n",
              "\n",
              "     Fuel Daily Consumption  Opening Fuel Tank Sounding  \\\n",
              "0                     False                       False   \n",
              "1                     False                       False   \n",
              "2                     False                       False   \n",
              "3                     False                       False   \n",
              "4                     False                       False   \n",
              "..                      ...                         ...   \n",
              "131                   False                       False   \n",
              "132                   False                       False   \n",
              "133                   False                       False   \n",
              "134                   False                       False   \n",
              "135                   False                       False   \n",
              "\n",
              "     Closing Fuel Tank Sounding  Fuel Tank Stock After  \n",
              "0                         False                  False  \n",
              "1                         False                  False  \n",
              "2                         False                  False  \n",
              "3                         False                  False  \n",
              "4                         False                  False  \n",
              "..                          ...                    ...  \n",
              "131                       False                  False  \n",
              "132                       False                  False  \n",
              "133                       False                  False  \n",
              "134                       False                  False  \n",
              "135                       False                  False  \n",
              "\n",
              "[136 rows x 10 columns]"
            ],
            "text/html": [
              "\n",
              "  <div id=\"df-fdd40fd3-829c-4614-940e-996eca68be85\" class=\"colab-df-container\">\n",
              "    <div>\n",
              "<style scoped>\n",
              "    .dataframe tbody tr th:only-of-type {\n",
              "        vertical-align: middle;\n",
              "    }\n",
              "\n",
              "    .dataframe tbody tr th {\n",
              "        vertical-align: top;\n",
              "    }\n",
              "\n",
              "    .dataframe thead th {\n",
              "        text-align: right;\n",
              "    }\n",
              "</style>\n",
              "<table border=\"1\" class=\"dataframe\">\n",
              "  <thead>\n",
              "    <tr style=\"text-align: right;\">\n",
              "      <th></th>\n",
              "      <th>Date</th>\n",
              "      <th>From</th>\n",
              "      <th>To</th>\n",
              "      <th>Start ME</th>\n",
              "      <th>Stop ME</th>\n",
              "      <th>Running Minutes</th>\n",
              "      <th>Fuel Daily Consumption</th>\n",
              "      <th>Opening Fuel Tank Sounding</th>\n",
              "      <th>Closing Fuel Tank Sounding</th>\n",
              "      <th>Fuel Tank Stock After</th>\n",
              "    </tr>\n",
              "  </thead>\n",
              "  <tbody>\n",
              "    <tr>\n",
              "      <th>0</th>\n",
              "      <td>False</td>\n",
              "      <td>False</td>\n",
              "      <td>False</td>\n",
              "      <td>False</td>\n",
              "      <td>False</td>\n",
              "      <td>False</td>\n",
              "      <td>False</td>\n",
              "      <td>False</td>\n",
              "      <td>False</td>\n",
              "      <td>False</td>\n",
              "    </tr>\n",
              "    <tr>\n",
              "      <th>1</th>\n",
              "      <td>False</td>\n",
              "      <td>False</td>\n",
              "      <td>False</td>\n",
              "      <td>False</td>\n",
              "      <td>False</td>\n",
              "      <td>False</td>\n",
              "      <td>False</td>\n",
              "      <td>False</td>\n",
              "      <td>False</td>\n",
              "      <td>False</td>\n",
              "    </tr>\n",
              "    <tr>\n",
              "      <th>2</th>\n",
              "      <td>False</td>\n",
              "      <td>False</td>\n",
              "      <td>False</td>\n",
              "      <td>False</td>\n",
              "      <td>False</td>\n",
              "      <td>False</td>\n",
              "      <td>False</td>\n",
              "      <td>False</td>\n",
              "      <td>False</td>\n",
              "      <td>False</td>\n",
              "    </tr>\n",
              "    <tr>\n",
              "      <th>3</th>\n",
              "      <td>False</td>\n",
              "      <td>False</td>\n",
              "      <td>False</td>\n",
              "      <td>False</td>\n",
              "      <td>False</td>\n",
              "      <td>False</td>\n",
              "      <td>False</td>\n",
              "      <td>False</td>\n",
              "      <td>False</td>\n",
              "      <td>False</td>\n",
              "    </tr>\n",
              "    <tr>\n",
              "      <th>4</th>\n",
              "      <td>False</td>\n",
              "      <td>False</td>\n",
              "      <td>False</td>\n",
              "      <td>False</td>\n",
              "      <td>False</td>\n",
              "      <td>False</td>\n",
              "      <td>False</td>\n",
              "      <td>False</td>\n",
              "      <td>False</td>\n",
              "      <td>False</td>\n",
              "    </tr>\n",
              "    <tr>\n",
              "      <th>...</th>\n",
              "      <td>...</td>\n",
              "      <td>...</td>\n",
              "      <td>...</td>\n",
              "      <td>...</td>\n",
              "      <td>...</td>\n",
              "      <td>...</td>\n",
              "      <td>...</td>\n",
              "      <td>...</td>\n",
              "      <td>...</td>\n",
              "      <td>...</td>\n",
              "    </tr>\n",
              "    <tr>\n",
              "      <th>131</th>\n",
              "      <td>False</td>\n",
              "      <td>False</td>\n",
              "      <td>False</td>\n",
              "      <td>False</td>\n",
              "      <td>False</td>\n",
              "      <td>False</td>\n",
              "      <td>False</td>\n",
              "      <td>False</td>\n",
              "      <td>False</td>\n",
              "      <td>False</td>\n",
              "    </tr>\n",
              "    <tr>\n",
              "      <th>132</th>\n",
              "      <td>False</td>\n",
              "      <td>False</td>\n",
              "      <td>False</td>\n",
              "      <td>False</td>\n",
              "      <td>False</td>\n",
              "      <td>False</td>\n",
              "      <td>False</td>\n",
              "      <td>False</td>\n",
              "      <td>False</td>\n",
              "      <td>False</td>\n",
              "    </tr>\n",
              "    <tr>\n",
              "      <th>133</th>\n",
              "      <td>False</td>\n",
              "      <td>False</td>\n",
              "      <td>False</td>\n",
              "      <td>False</td>\n",
              "      <td>False</td>\n",
              "      <td>False</td>\n",
              "      <td>False</td>\n",
              "      <td>False</td>\n",
              "      <td>False</td>\n",
              "      <td>False</td>\n",
              "    </tr>\n",
              "    <tr>\n",
              "      <th>134</th>\n",
              "      <td>False</td>\n",
              "      <td>False</td>\n",
              "      <td>False</td>\n",
              "      <td>False</td>\n",
              "      <td>False</td>\n",
              "      <td>False</td>\n",
              "      <td>False</td>\n",
              "      <td>False</td>\n",
              "      <td>False</td>\n",
              "      <td>False</td>\n",
              "    </tr>\n",
              "    <tr>\n",
              "      <th>135</th>\n",
              "      <td>False</td>\n",
              "      <td>False</td>\n",
              "      <td>False</td>\n",
              "      <td>False</td>\n",
              "      <td>False</td>\n",
              "      <td>False</td>\n",
              "      <td>False</td>\n",
              "      <td>False</td>\n",
              "      <td>False</td>\n",
              "      <td>False</td>\n",
              "    </tr>\n",
              "  </tbody>\n",
              "</table>\n",
              "<p>136 rows × 10 columns</p>\n",
              "</div>\n",
              "    <div class=\"colab-df-buttons\">\n",
              "\n",
              "  <div class=\"colab-df-container\">\n",
              "    <button class=\"colab-df-convert\" onclick=\"convertToInteractive('df-fdd40fd3-829c-4614-940e-996eca68be85')\"\n",
              "            title=\"Convert this dataframe to an interactive table.\"\n",
              "            style=\"display:none;\">\n",
              "\n",
              "  <svg xmlns=\"http://www.w3.org/2000/svg\" height=\"24px\" viewBox=\"0 -960 960 960\">\n",
              "    <path d=\"M120-120v-720h720v720H120Zm60-500h600v-160H180v160Zm220 220h160v-160H400v160Zm0 220h160v-160H400v160ZM180-400h160v-160H180v160Zm440 0h160v-160H620v160ZM180-180h160v-160H180v160Zm440 0h160v-160H620v160Z\"/>\n",
              "  </svg>\n",
              "    </button>\n",
              "\n",
              "  <style>\n",
              "    .colab-df-container {\n",
              "      display:flex;\n",
              "      gap: 12px;\n",
              "    }\n",
              "\n",
              "    .colab-df-convert {\n",
              "      background-color: #E8F0FE;\n",
              "      border: none;\n",
              "      border-radius: 50%;\n",
              "      cursor: pointer;\n",
              "      display: none;\n",
              "      fill: #1967D2;\n",
              "      height: 32px;\n",
              "      padding: 0 0 0 0;\n",
              "      width: 32px;\n",
              "    }\n",
              "\n",
              "    .colab-df-convert:hover {\n",
              "      background-color: #E2EBFA;\n",
              "      box-shadow: 0px 1px 2px rgba(60, 64, 67, 0.3), 0px 1px 3px 1px rgba(60, 64, 67, 0.15);\n",
              "      fill: #174EA6;\n",
              "    }\n",
              "\n",
              "    .colab-df-buttons div {\n",
              "      margin-bottom: 4px;\n",
              "    }\n",
              "\n",
              "    [theme=dark] .colab-df-convert {\n",
              "      background-color: #3B4455;\n",
              "      fill: #D2E3FC;\n",
              "    }\n",
              "\n",
              "    [theme=dark] .colab-df-convert:hover {\n",
              "      background-color: #434B5C;\n",
              "      box-shadow: 0px 1px 3px 1px rgba(0, 0, 0, 0.15);\n",
              "      filter: drop-shadow(0px 1px 2px rgba(0, 0, 0, 0.3));\n",
              "      fill: #FFFFFF;\n",
              "    }\n",
              "  </style>\n",
              "\n",
              "    <script>\n",
              "      const buttonEl =\n",
              "        document.querySelector('#df-fdd40fd3-829c-4614-940e-996eca68be85 button.colab-df-convert');\n",
              "      buttonEl.style.display =\n",
              "        google.colab.kernel.accessAllowed ? 'block' : 'none';\n",
              "\n",
              "      async function convertToInteractive(key) {\n",
              "        const element = document.querySelector('#df-fdd40fd3-829c-4614-940e-996eca68be85');\n",
              "        const dataTable =\n",
              "          await google.colab.kernel.invokeFunction('convertToInteractive',\n",
              "                                                    [key], {});\n",
              "        if (!dataTable) return;\n",
              "\n",
              "        const docLinkHtml = 'Like what you see? Visit the ' +\n",
              "          '<a target=\"_blank\" href=https://colab.research.google.com/notebooks/data_table.ipynb>data table notebook</a>'\n",
              "          + ' to learn more about interactive tables.';\n",
              "        element.innerHTML = '';\n",
              "        dataTable['output_type'] = 'display_data';\n",
              "        await google.colab.output.renderOutput(dataTable, element);\n",
              "        const docLink = document.createElement('div');\n",
              "        docLink.innerHTML = docLinkHtml;\n",
              "        element.appendChild(docLink);\n",
              "      }\n",
              "    </script>\n",
              "  </div>\n",
              "\n",
              "\n",
              "<div id=\"df-26314b33-1048-490b-9211-764904f7778f\">\n",
              "  <button class=\"colab-df-quickchart\" onclick=\"quickchart('df-26314b33-1048-490b-9211-764904f7778f')\"\n",
              "            title=\"Suggest charts\"\n",
              "            style=\"display:none;\">\n",
              "\n",
              "<svg xmlns=\"http://www.w3.org/2000/svg\" height=\"24px\"viewBox=\"0 0 24 24\"\n",
              "     width=\"24px\">\n",
              "    <g>\n",
              "        <path d=\"M19 3H5c-1.1 0-2 .9-2 2v14c0 1.1.9 2 2 2h14c1.1 0 2-.9 2-2V5c0-1.1-.9-2-2-2zM9 17H7v-7h2v7zm4 0h-2V7h2v10zm4 0h-2v-4h2v4z\"/>\n",
              "    </g>\n",
              "</svg>\n",
              "  </button>\n",
              "\n",
              "<style>\n",
              "  .colab-df-quickchart {\n",
              "      --bg-color: #E8F0FE;\n",
              "      --fill-color: #1967D2;\n",
              "      --hover-bg-color: #E2EBFA;\n",
              "      --hover-fill-color: #174EA6;\n",
              "      --disabled-fill-color: #AAA;\n",
              "      --disabled-bg-color: #DDD;\n",
              "  }\n",
              "\n",
              "  [theme=dark] .colab-df-quickchart {\n",
              "      --bg-color: #3B4455;\n",
              "      --fill-color: #D2E3FC;\n",
              "      --hover-bg-color: #434B5C;\n",
              "      --hover-fill-color: #FFFFFF;\n",
              "      --disabled-bg-color: #3B4455;\n",
              "      --disabled-fill-color: #666;\n",
              "  }\n",
              "\n",
              "  .colab-df-quickchart {\n",
              "    background-color: var(--bg-color);\n",
              "    border: none;\n",
              "    border-radius: 50%;\n",
              "    cursor: pointer;\n",
              "    display: none;\n",
              "    fill: var(--fill-color);\n",
              "    height: 32px;\n",
              "    padding: 0;\n",
              "    width: 32px;\n",
              "  }\n",
              "\n",
              "  .colab-df-quickchart:hover {\n",
              "    background-color: var(--hover-bg-color);\n",
              "    box-shadow: 0 1px 2px rgba(60, 64, 67, 0.3), 0 1px 3px 1px rgba(60, 64, 67, 0.15);\n",
              "    fill: var(--button-hover-fill-color);\n",
              "  }\n",
              "\n",
              "  .colab-df-quickchart-complete:disabled,\n",
              "  .colab-df-quickchart-complete:disabled:hover {\n",
              "    background-color: var(--disabled-bg-color);\n",
              "    fill: var(--disabled-fill-color);\n",
              "    box-shadow: none;\n",
              "  }\n",
              "\n",
              "  .colab-df-spinner {\n",
              "    border: 2px solid var(--fill-color);\n",
              "    border-color: transparent;\n",
              "    border-bottom-color: var(--fill-color);\n",
              "    animation:\n",
              "      spin 1s steps(1) infinite;\n",
              "  }\n",
              "\n",
              "  @keyframes spin {\n",
              "    0% {\n",
              "      border-color: transparent;\n",
              "      border-bottom-color: var(--fill-color);\n",
              "      border-left-color: var(--fill-color);\n",
              "    }\n",
              "    20% {\n",
              "      border-color: transparent;\n",
              "      border-left-color: var(--fill-color);\n",
              "      border-top-color: var(--fill-color);\n",
              "    }\n",
              "    30% {\n",
              "      border-color: transparent;\n",
              "      border-left-color: var(--fill-color);\n",
              "      border-top-color: var(--fill-color);\n",
              "      border-right-color: var(--fill-color);\n",
              "    }\n",
              "    40% {\n",
              "      border-color: transparent;\n",
              "      border-right-color: var(--fill-color);\n",
              "      border-top-color: var(--fill-color);\n",
              "    }\n",
              "    60% {\n",
              "      border-color: transparent;\n",
              "      border-right-color: var(--fill-color);\n",
              "    }\n",
              "    80% {\n",
              "      border-color: transparent;\n",
              "      border-right-color: var(--fill-color);\n",
              "      border-bottom-color: var(--fill-color);\n",
              "    }\n",
              "    90% {\n",
              "      border-color: transparent;\n",
              "      border-bottom-color: var(--fill-color);\n",
              "    }\n",
              "  }\n",
              "</style>\n",
              "\n",
              "  <script>\n",
              "    async function quickchart(key) {\n",
              "      const quickchartButtonEl =\n",
              "        document.querySelector('#' + key + ' button');\n",
              "      quickchartButtonEl.disabled = true;  // To prevent multiple clicks.\n",
              "      quickchartButtonEl.classList.add('colab-df-spinner');\n",
              "      try {\n",
              "        const charts = await google.colab.kernel.invokeFunction(\n",
              "            'suggestCharts', [key], {});\n",
              "      } catch (error) {\n",
              "        console.error('Error during call to suggestCharts:', error);\n",
              "      }\n",
              "      quickchartButtonEl.classList.remove('colab-df-spinner');\n",
              "      quickchartButtonEl.classList.add('colab-df-quickchart-complete');\n",
              "    }\n",
              "    (() => {\n",
              "      let quickchartButtonEl =\n",
              "        document.querySelector('#df-26314b33-1048-490b-9211-764904f7778f button');\n",
              "      quickchartButtonEl.style.display =\n",
              "        google.colab.kernel.accessAllowed ? 'block' : 'none';\n",
              "    })();\n",
              "  </script>\n",
              "</div>\n",
              "    </div>\n",
              "  </div>\n"
            ],
            "application/vnd.google.colaboratory.intrinsic+json": {
              "type": "dataframe",
              "summary": "{\n  \"name\": \"df\",\n  \"rows\": 136,\n  \"fields\": [\n    {\n      \"column\": \"Date\",\n      \"properties\": {\n        \"dtype\": \"boolean\",\n        \"num_unique_values\": 1,\n        \"samples\": [\n          false\n        ],\n        \"semantic_type\": \"\",\n        \"description\": \"\"\n      }\n    },\n    {\n      \"column\": \"From\",\n      \"properties\": {\n        \"dtype\": \"boolean\",\n        \"num_unique_values\": 1,\n        \"samples\": [\n          false\n        ],\n        \"semantic_type\": \"\",\n        \"description\": \"\"\n      }\n    },\n    {\n      \"column\": \"To\",\n      \"properties\": {\n        \"dtype\": \"boolean\",\n        \"num_unique_values\": 1,\n        \"samples\": [\n          false\n        ],\n        \"semantic_type\": \"\",\n        \"description\": \"\"\n      }\n    },\n    {\n      \"column\": \"Start ME\",\n      \"properties\": {\n        \"dtype\": \"boolean\",\n        \"num_unique_values\": 1,\n        \"samples\": [\n          false\n        ],\n        \"semantic_type\": \"\",\n        \"description\": \"\"\n      }\n    },\n    {\n      \"column\": \"Stop ME\",\n      \"properties\": {\n        \"dtype\": \"boolean\",\n        \"num_unique_values\": 1,\n        \"samples\": [\n          false\n        ],\n        \"semantic_type\": \"\",\n        \"description\": \"\"\n      }\n    },\n    {\n      \"column\": \"Running Minutes\",\n      \"properties\": {\n        \"dtype\": \"boolean\",\n        \"num_unique_values\": 1,\n        \"samples\": [\n          false\n        ],\n        \"semantic_type\": \"\",\n        \"description\": \"\"\n      }\n    },\n    {\n      \"column\": \"Fuel Daily Consumption\",\n      \"properties\": {\n        \"dtype\": \"boolean\",\n        \"num_unique_values\": 1,\n        \"samples\": [\n          false\n        ],\n        \"semantic_type\": \"\",\n        \"description\": \"\"\n      }\n    },\n    {\n      \"column\": \"Opening Fuel Tank Sounding\",\n      \"properties\": {\n        \"dtype\": \"boolean\",\n        \"num_unique_values\": 1,\n        \"samples\": [\n          false\n        ],\n        \"semantic_type\": \"\",\n        \"description\": \"\"\n      }\n    },\n    {\n      \"column\": \"Closing Fuel Tank Sounding\",\n      \"properties\": {\n        \"dtype\": \"boolean\",\n        \"num_unique_values\": 1,\n        \"samples\": [\n          false\n        ],\n        \"semantic_type\": \"\",\n        \"description\": \"\"\n      }\n    },\n    {\n      \"column\": \"Fuel Tank Stock After\",\n      \"properties\": {\n        \"dtype\": \"boolean\",\n        \"num_unique_values\": 1,\n        \"samples\": [\n          false\n        ],\n        \"semantic_type\": \"\",\n        \"description\": \"\"\n      }\n    }\n  ]\n}"
            }
          },
          "metadata": {},
          "execution_count": 17
        }
      ],
      "source": [
        "df.isna()"
      ]
    },
    {
      "cell_type": "code",
      "execution_count": 18,
      "metadata": {
        "id": "xNTD99xBPEyh",
        "colab": {
          "base_uri": "https://localhost:8080/"
        },
        "outputId": "6cc032ef-ed35-40d9-ec3d-c31116eb29be"
      },
      "outputs": [
        {
          "output_type": "execute_result",
          "data": {
            "text/plain": [
              "Date                          0\n",
              "From                          0\n",
              "To                            0\n",
              "Start ME                      0\n",
              "Stop ME                       0\n",
              "Running Minutes               0\n",
              "Fuel Daily Consumption        0\n",
              "Opening Fuel Tank Sounding    0\n",
              "Closing Fuel Tank Sounding    0\n",
              "Fuel Tank Stock After         0\n",
              "dtype: int64"
            ]
          },
          "metadata": {},
          "execution_count": 18
        }
      ],
      "source": [
        "df.isna().sum()"
      ]
    },
    {
      "cell_type": "markdown",
      "metadata": {
        "id": "Ier1T1NRPKNu"
      },
      "source": [
        "Berdasarkan hasil analisis awal diatas, terlihat bahwa ada satu **missing values** atau data yang hilang pada data tersebut."
      ]
    },
    {
      "cell_type": "markdown",
      "metadata": {
        "id": "LEg46q-9PRbF"
      },
      "source": [
        "###Outliers Values"
      ]
    },
    {
      "cell_type": "code",
      "execution_count": 19,
      "metadata": {
        "id": "d3CyQP1pPUY5",
        "colab": {
          "base_uri": "https://localhost:8080/"
        },
        "outputId": "479916a4-8d57-4d45-ce05-3e0b7cfab281"
      },
      "outputs": [
        {
          "output_type": "stream",
          "name": "stdout",
          "text": [
            "Kolom 'Date':\n",
            "  - Jumlah outliers: 0\n",
            "  - Persentase kehadiran outliers: nan%\n",
            "\n",
            "Kolom 'From':\n",
            "  - Jumlah outliers: 0\n",
            "  - Persentase kehadiran outliers: nan%\n",
            "\n",
            "Kolom 'To':\n",
            "  - Jumlah outliers: 0\n",
            "  - Persentase kehadiran outliers: nan%\n",
            "\n",
            "Kolom 'Start ME':\n",
            "  - Jumlah outliers: 0\n",
            "  - Persentase kehadiran outliers: nan%\n",
            "\n",
            "Kolom 'Stop ME':\n",
            "  - Jumlah outliers: 0\n",
            "  - Persentase kehadiran outliers: nan%\n",
            "\n",
            "Kolom 'Running Minutes':\n",
            "  - Jumlah outliers: 0\n",
            "  - Persentase kehadiran outliers: nan%\n",
            "\n",
            "Kolom 'Fuel Daily Consumption':\n",
            "  - Jumlah outliers: 4\n",
            "  - Persentase kehadiran outliers: 2.94%\n",
            "\n",
            "Kolom 'Opening Fuel Tank Sounding':\n",
            "  - Jumlah outliers: 0\n",
            "  - Persentase kehadiran outliers: 0.00%\n",
            "\n",
            "Kolom 'Closing Fuel Tank Sounding':\n",
            "  - Jumlah outliers: 0\n",
            "  - Persentase kehadiran outliers: 0.00%\n",
            "\n",
            "Kolom 'Fuel Tank Stock After':\n",
            "  - Jumlah outliers: 0\n",
            "  - Persentase kehadiran outliers: 0.00%\n",
            "\n"
          ]
        },
        {
          "output_type": "stream",
          "name": "stderr",
          "text": [
            "<ipython-input-19-13b4bbc91115>:12: RuntimeWarning:\n",
            "\n",
            "invalid value encountered in scalar divide\n",
            "\n",
            "<ipython-input-19-13b4bbc91115>:12: RuntimeWarning:\n",
            "\n",
            "invalid value encountered in scalar divide\n",
            "\n",
            "<ipython-input-19-13b4bbc91115>:12: RuntimeWarning:\n",
            "\n",
            "invalid value encountered in scalar divide\n",
            "\n",
            "<ipython-input-19-13b4bbc91115>:12: RuntimeWarning:\n",
            "\n",
            "invalid value encountered in scalar divide\n",
            "\n",
            "<ipython-input-19-13b4bbc91115>:12: RuntimeWarning:\n",
            "\n",
            "invalid value encountered in scalar divide\n",
            "\n",
            "<ipython-input-19-13b4bbc91115>:12: RuntimeWarning:\n",
            "\n",
            "invalid value encountered in scalar divide\n",
            "\n"
          ]
        }
      ],
      "source": [
        "def detect_outliers(column):\n",
        "    column = pd.to_numeric(column, errors='coerce')\n",
        "\n",
        "    column = column.dropna()\n",
        "\n",
        "    Q1 = column.quantile(0.25)\n",
        "    Q3 = column.quantile(0.75)\n",
        "    IQR = Q3 - Q1\n",
        "\n",
        "    outliers = (column < (Q1 - 1.5 * IQR)) | (column > (Q3 + 1.5 * IQR))\n",
        "\n",
        "    percentage_outliers = outliers.sum() / len(column) * 100\n",
        "\n",
        "    return outliers, percentage_outliers\n",
        "\n",
        "for column in df.columns:\n",
        "    outliers, percentage_outliers = detect_outliers(df[column])\n",
        "\n",
        "    print(f\"Kolom '{column}':\")\n",
        "    print(f\"  - Jumlah outliers: {outliers.sum()}\")\n",
        "    print(f\"  - Persentase kehadiran outliers: {percentage_outliers:.2f}%\")\n",
        "    print()"
      ]
    },
    {
      "cell_type": "markdown",
      "metadata": {
        "id": "t86MGnbkPjcV"
      },
      "source": [
        "1. **Kolom 'Date'**: Tidak ada outlier yang terdeteksi dalam kolom ini, sehingga persentase kehadiran outlier adalah 0%.\n",
        "2. **Kolom 'From' dan 'To'**: Tidak ada outlier yang terdeteksi dalam kedua kolom ini, sehingga persentase kehadiran outlier adalah 0%.\n",
        "3. **Kolom 'Start ME' dan 'Stop ME'**: Tidak ada outlier yang terdeteksi dalam kedua kolom ini, sehingga persentase kehadiran outlier adalah 0%.\n",
        "4. **Kolom 'Running Minutes'**: Tidak ada outlier yang terdeteksi dalam kolom ini, sehingga persentase kehadiran outlier adalah 0%.\n",
        "5. **Kolom 'Fuel Daily Consumption'**: Terdapat 4 outlier yang terdeteksi dalam kolom ini, yang menyumbang sekitar 2.94% dari total data.\n",
        "6. **Kolom 'Opening Fuel Tank Sounding', 'Closing Fuel Tank Sounding', dan 'Fuel Tank Stock After'**: Tidak ada outlier yang terdeteksi dalam ketiga kolom ini, sehingga persentase kehadiran outlier adalah 0%.\n",
        "8. **Catatan**: Terdapat beberapa pesan kesalahan yang muncul selama analisis, yang mungkin disebabkan oleh pembagian dengan nol atau nilai yang tidak valid dalam proses perhitungan outlier."
      ]
    },
    {
      "cell_type": "markdown",
      "metadata": {
        "id": "tZ6yWvc5PzGs"
      },
      "source": [
        "###Duplicated Values"
      ]
    },
    {
      "cell_type": "code",
      "execution_count": 20,
      "metadata": {
        "id": "lF9CPlwJP03A",
        "colab": {
          "base_uri": "https://localhost:8080/"
        },
        "outputId": "869f03aa-609b-4aa5-e59f-5c10a7e76a33"
      },
      "outputs": [
        {
          "output_type": "execute_result",
          "data": {
            "text/plain": [
              "0      False\n",
              "1      False\n",
              "2      False\n",
              "3      False\n",
              "4      False\n",
              "       ...  \n",
              "131    False\n",
              "132    False\n",
              "133    False\n",
              "134    False\n",
              "135    False\n",
              "Length: 136, dtype: bool"
            ]
          },
          "metadata": {},
          "execution_count": 20
        }
      ],
      "source": [
        "df.duplicated()"
      ]
    },
    {
      "cell_type": "markdown",
      "metadata": {
        "id": "TGIPtnwRP3oV"
      },
      "source": [
        "Berdasarkan hasil analisis awal pada data diatas, dapat disimpulkan bahwa sebagian besar tidak terdapat **duplicated values** atau nilai yang terduplikat pada data tersebut."
      ]
    },
    {
      "cell_type": "markdown",
      "source": [
        "### Data Reduction"
      ],
      "metadata": {
        "id": "Lu-7BsLAvltY"
      }
    },
    {
      "cell_type": "markdown",
      "metadata": {
        "id": "cSE1_tC1P7aL"
      },
      "source": [
        "#**DATA PREPARATION**"
      ]
    },
    {
      "cell_type": "markdown",
      "metadata": {
        "id": "RAb3tOnERWiu"
      },
      "source": [
        "##**Data Cleaning**"
      ]
    },
    {
      "cell_type": "code",
      "source": [
        "df_corr = df.corr(numeric_only=True)\n",
        "px.imshow(df_corr)"
      ],
      "metadata": {
        "id": "hqrrkuvZv8dP",
        "colab": {
          "base_uri": "https://localhost:8080/",
          "height": 542
        },
        "outputId": "c67857ed-feb6-456a-8364-769a960a6fde"
      },
      "execution_count": 21,
      "outputs": [
        {
          "output_type": "display_data",
          "data": {
            "text/html": [
              "<html>\n",
              "<head><meta charset=\"utf-8\" /></head>\n",
              "<body>\n",
              "    <div>            <script src=\"https://cdnjs.cloudflare.com/ajax/libs/mathjax/2.7.5/MathJax.js?config=TeX-AMS-MML_SVG\"></script><script type=\"text/javascript\">if (window.MathJax && window.MathJax.Hub && window.MathJax.Hub.Config) {window.MathJax.Hub.Config({SVG: {font: \"STIX-Web\"}});}</script>                <script type=\"text/javascript\">window.PlotlyConfig = {MathJaxConfig: 'local'};</script>\n",
              "        <script charset=\"utf-8\" src=\"https://cdn.plot.ly/plotly-2.24.1.min.js\"></script>                <div id=\"76c154f3-f592-4307-befe-584af047db21\" class=\"plotly-graph-div\" style=\"height:525px; width:100%;\"></div>            <script type=\"text/javascript\">                                    window.PLOTLYENV=window.PLOTLYENV || {};                                    if (document.getElementById(\"76c154f3-f592-4307-befe-584af047db21\")) {                    Plotly.newPlot(                        \"76c154f3-f592-4307-befe-584af047db21\",                        [{\"coloraxis\":\"coloraxis\",\"name\":\"0\",\"x\":[\"Fuel Daily Consumption\",\"Opening Fuel Tank Sounding\",\"Closing Fuel Tank Sounding\",\"Fuel Tank Stock After\"],\"y\":[\"Fuel Daily Consumption\",\"Opening Fuel Tank Sounding\",\"Closing Fuel Tank Sounding\",\"Fuel Tank Stock After\"],\"z\":[[1.0,-0.053620123440291156,-0.09498637745702582,0.04679797066879253],[-0.053620123440291156,1.0,0.9990246278354853,0.4864273183130898],[-0.09498637745702582,0.9990246278354853,1.0,0.496084815476789],[0.04679797066879253,0.4864273183130898,0.496084815476789,1.0]],\"type\":\"heatmap\",\"xaxis\":\"x\",\"yaxis\":\"y\",\"hovertemplate\":\"x: %{x}\\u003cbr\\u003ey: %{y}\\u003cbr\\u003ecolor: %{z}\\u003cextra\\u003e\\u003c\\u002fextra\\u003e\"}],                        {\"template\":{\"data\":{\"histogram2dcontour\":[{\"type\":\"histogram2dcontour\",\"colorbar\":{\"outlinewidth\":0,\"ticks\":\"\"},\"colorscale\":[[0.0,\"#0d0887\"],[0.1111111111111111,\"#46039f\"],[0.2222222222222222,\"#7201a8\"],[0.3333333333333333,\"#9c179e\"],[0.4444444444444444,\"#bd3786\"],[0.5555555555555556,\"#d8576b\"],[0.6666666666666666,\"#ed7953\"],[0.7777777777777778,\"#fb9f3a\"],[0.8888888888888888,\"#fdca26\"],[1.0,\"#f0f921\"]]}],\"choropleth\":[{\"type\":\"choropleth\",\"colorbar\":{\"outlinewidth\":0,\"ticks\":\"\"}}],\"histogram2d\":[{\"type\":\"histogram2d\",\"colorbar\":{\"outlinewidth\":0,\"ticks\":\"\"},\"colorscale\":[[0.0,\"#0d0887\"],[0.1111111111111111,\"#46039f\"],[0.2222222222222222,\"#7201a8\"],[0.3333333333333333,\"#9c179e\"],[0.4444444444444444,\"#bd3786\"],[0.5555555555555556,\"#d8576b\"],[0.6666666666666666,\"#ed7953\"],[0.7777777777777778,\"#fb9f3a\"],[0.8888888888888888,\"#fdca26\"],[1.0,\"#f0f921\"]]}],\"heatmap\":[{\"type\":\"heatmap\",\"colorbar\":{\"outlinewidth\":0,\"ticks\":\"\"},\"colorscale\":[[0.0,\"#0d0887\"],[0.1111111111111111,\"#46039f\"],[0.2222222222222222,\"#7201a8\"],[0.3333333333333333,\"#9c179e\"],[0.4444444444444444,\"#bd3786\"],[0.5555555555555556,\"#d8576b\"],[0.6666666666666666,\"#ed7953\"],[0.7777777777777778,\"#fb9f3a\"],[0.8888888888888888,\"#fdca26\"],[1.0,\"#f0f921\"]]}],\"heatmapgl\":[{\"type\":\"heatmapgl\",\"colorbar\":{\"outlinewidth\":0,\"ticks\":\"\"},\"colorscale\":[[0.0,\"#0d0887\"],[0.1111111111111111,\"#46039f\"],[0.2222222222222222,\"#7201a8\"],[0.3333333333333333,\"#9c179e\"],[0.4444444444444444,\"#bd3786\"],[0.5555555555555556,\"#d8576b\"],[0.6666666666666666,\"#ed7953\"],[0.7777777777777778,\"#fb9f3a\"],[0.8888888888888888,\"#fdca26\"],[1.0,\"#f0f921\"]]}],\"contourcarpet\":[{\"type\":\"contourcarpet\",\"colorbar\":{\"outlinewidth\":0,\"ticks\":\"\"}}],\"contour\":[{\"type\":\"contour\",\"colorbar\":{\"outlinewidth\":0,\"ticks\":\"\"},\"colorscale\":[[0.0,\"#0d0887\"],[0.1111111111111111,\"#46039f\"],[0.2222222222222222,\"#7201a8\"],[0.3333333333333333,\"#9c179e\"],[0.4444444444444444,\"#bd3786\"],[0.5555555555555556,\"#d8576b\"],[0.6666666666666666,\"#ed7953\"],[0.7777777777777778,\"#fb9f3a\"],[0.8888888888888888,\"#fdca26\"],[1.0,\"#f0f921\"]]}],\"surface\":[{\"type\":\"surface\",\"colorbar\":{\"outlinewidth\":0,\"ticks\":\"\"},\"colorscale\":[[0.0,\"#0d0887\"],[0.1111111111111111,\"#46039f\"],[0.2222222222222222,\"#7201a8\"],[0.3333333333333333,\"#9c179e\"],[0.4444444444444444,\"#bd3786\"],[0.5555555555555556,\"#d8576b\"],[0.6666666666666666,\"#ed7953\"],[0.7777777777777778,\"#fb9f3a\"],[0.8888888888888888,\"#fdca26\"],[1.0,\"#f0f921\"]]}],\"mesh3d\":[{\"type\":\"mesh3d\",\"colorbar\":{\"outlinewidth\":0,\"ticks\":\"\"}}],\"scatter\":[{\"fillpattern\":{\"fillmode\":\"overlay\",\"size\":10,\"solidity\":0.2},\"type\":\"scatter\"}],\"parcoords\":[{\"type\":\"parcoords\",\"line\":{\"colorbar\":{\"outlinewidth\":0,\"ticks\":\"\"}}}],\"scatterpolargl\":[{\"type\":\"scatterpolargl\",\"marker\":{\"colorbar\":{\"outlinewidth\":0,\"ticks\":\"\"}}}],\"bar\":[{\"error_x\":{\"color\":\"#2a3f5f\"},\"error_y\":{\"color\":\"#2a3f5f\"},\"marker\":{\"line\":{\"color\":\"#E5ECF6\",\"width\":0.5},\"pattern\":{\"fillmode\":\"overlay\",\"size\":10,\"solidity\":0.2}},\"type\":\"bar\"}],\"scattergeo\":[{\"type\":\"scattergeo\",\"marker\":{\"colorbar\":{\"outlinewidth\":0,\"ticks\":\"\"}}}],\"scatterpolar\":[{\"type\":\"scatterpolar\",\"marker\":{\"colorbar\":{\"outlinewidth\":0,\"ticks\":\"\"}}}],\"histogram\":[{\"marker\":{\"pattern\":{\"fillmode\":\"overlay\",\"size\":10,\"solidity\":0.2}},\"type\":\"histogram\"}],\"scattergl\":[{\"type\":\"scattergl\",\"marker\":{\"colorbar\":{\"outlinewidth\":0,\"ticks\":\"\"}}}],\"scatter3d\":[{\"type\":\"scatter3d\",\"line\":{\"colorbar\":{\"outlinewidth\":0,\"ticks\":\"\"}},\"marker\":{\"colorbar\":{\"outlinewidth\":0,\"ticks\":\"\"}}}],\"scattermapbox\":[{\"type\":\"scattermapbox\",\"marker\":{\"colorbar\":{\"outlinewidth\":0,\"ticks\":\"\"}}}],\"scatterternary\":[{\"type\":\"scatterternary\",\"marker\":{\"colorbar\":{\"outlinewidth\":0,\"ticks\":\"\"}}}],\"scattercarpet\":[{\"type\":\"scattercarpet\",\"marker\":{\"colorbar\":{\"outlinewidth\":0,\"ticks\":\"\"}}}],\"carpet\":[{\"aaxis\":{\"endlinecolor\":\"#2a3f5f\",\"gridcolor\":\"white\",\"linecolor\":\"white\",\"minorgridcolor\":\"white\",\"startlinecolor\":\"#2a3f5f\"},\"baxis\":{\"endlinecolor\":\"#2a3f5f\",\"gridcolor\":\"white\",\"linecolor\":\"white\",\"minorgridcolor\":\"white\",\"startlinecolor\":\"#2a3f5f\"},\"type\":\"carpet\"}],\"table\":[{\"cells\":{\"fill\":{\"color\":\"#EBF0F8\"},\"line\":{\"color\":\"white\"}},\"header\":{\"fill\":{\"color\":\"#C8D4E3\"},\"line\":{\"color\":\"white\"}},\"type\":\"table\"}],\"barpolar\":[{\"marker\":{\"line\":{\"color\":\"#E5ECF6\",\"width\":0.5},\"pattern\":{\"fillmode\":\"overlay\",\"size\":10,\"solidity\":0.2}},\"type\":\"barpolar\"}],\"pie\":[{\"automargin\":true,\"type\":\"pie\"}]},\"layout\":{\"autotypenumbers\":\"strict\",\"colorway\":[\"#636efa\",\"#EF553B\",\"#00cc96\",\"#ab63fa\",\"#FFA15A\",\"#19d3f3\",\"#FF6692\",\"#B6E880\",\"#FF97FF\",\"#FECB52\"],\"font\":{\"color\":\"#2a3f5f\"},\"hovermode\":\"closest\",\"hoverlabel\":{\"align\":\"left\"},\"paper_bgcolor\":\"white\",\"plot_bgcolor\":\"#E5ECF6\",\"polar\":{\"bgcolor\":\"#E5ECF6\",\"angularaxis\":{\"gridcolor\":\"white\",\"linecolor\":\"white\",\"ticks\":\"\"},\"radialaxis\":{\"gridcolor\":\"white\",\"linecolor\":\"white\",\"ticks\":\"\"}},\"ternary\":{\"bgcolor\":\"#E5ECF6\",\"aaxis\":{\"gridcolor\":\"white\",\"linecolor\":\"white\",\"ticks\":\"\"},\"baxis\":{\"gridcolor\":\"white\",\"linecolor\":\"white\",\"ticks\":\"\"},\"caxis\":{\"gridcolor\":\"white\",\"linecolor\":\"white\",\"ticks\":\"\"}},\"coloraxis\":{\"colorbar\":{\"outlinewidth\":0,\"ticks\":\"\"}},\"colorscale\":{\"sequential\":[[0.0,\"#0d0887\"],[0.1111111111111111,\"#46039f\"],[0.2222222222222222,\"#7201a8\"],[0.3333333333333333,\"#9c179e\"],[0.4444444444444444,\"#bd3786\"],[0.5555555555555556,\"#d8576b\"],[0.6666666666666666,\"#ed7953\"],[0.7777777777777778,\"#fb9f3a\"],[0.8888888888888888,\"#fdca26\"],[1.0,\"#f0f921\"]],\"sequentialminus\":[[0.0,\"#0d0887\"],[0.1111111111111111,\"#46039f\"],[0.2222222222222222,\"#7201a8\"],[0.3333333333333333,\"#9c179e\"],[0.4444444444444444,\"#bd3786\"],[0.5555555555555556,\"#d8576b\"],[0.6666666666666666,\"#ed7953\"],[0.7777777777777778,\"#fb9f3a\"],[0.8888888888888888,\"#fdca26\"],[1.0,\"#f0f921\"]],\"diverging\":[[0,\"#8e0152\"],[0.1,\"#c51b7d\"],[0.2,\"#de77ae\"],[0.3,\"#f1b6da\"],[0.4,\"#fde0ef\"],[0.5,\"#f7f7f7\"],[0.6,\"#e6f5d0\"],[0.7,\"#b8e186\"],[0.8,\"#7fbc41\"],[0.9,\"#4d9221\"],[1,\"#276419\"]]},\"xaxis\":{\"gridcolor\":\"white\",\"linecolor\":\"white\",\"ticks\":\"\",\"title\":{\"standoff\":15},\"zerolinecolor\":\"white\",\"automargin\":true,\"zerolinewidth\":2},\"yaxis\":{\"gridcolor\":\"white\",\"linecolor\":\"white\",\"ticks\":\"\",\"title\":{\"standoff\":15},\"zerolinecolor\":\"white\",\"automargin\":true,\"zerolinewidth\":2},\"scene\":{\"xaxis\":{\"backgroundcolor\":\"#E5ECF6\",\"gridcolor\":\"white\",\"linecolor\":\"white\",\"showbackground\":true,\"ticks\":\"\",\"zerolinecolor\":\"white\",\"gridwidth\":2},\"yaxis\":{\"backgroundcolor\":\"#E5ECF6\",\"gridcolor\":\"white\",\"linecolor\":\"white\",\"showbackground\":true,\"ticks\":\"\",\"zerolinecolor\":\"white\",\"gridwidth\":2},\"zaxis\":{\"backgroundcolor\":\"#E5ECF6\",\"gridcolor\":\"white\",\"linecolor\":\"white\",\"showbackground\":true,\"ticks\":\"\",\"zerolinecolor\":\"white\",\"gridwidth\":2}},\"shapedefaults\":{\"line\":{\"color\":\"#2a3f5f\"}},\"annotationdefaults\":{\"arrowcolor\":\"#2a3f5f\",\"arrowhead\":0,\"arrowwidth\":1},\"geo\":{\"bgcolor\":\"white\",\"landcolor\":\"#E5ECF6\",\"subunitcolor\":\"white\",\"showland\":true,\"showlakes\":true,\"lakecolor\":\"white\"},\"title\":{\"x\":0.05},\"mapbox\":{\"style\":\"light\"}}},\"xaxis\":{\"anchor\":\"y\",\"domain\":[0.0,1.0],\"scaleanchor\":\"y\",\"constrain\":\"domain\"},\"yaxis\":{\"anchor\":\"x\",\"domain\":[0.0,1.0],\"autorange\":\"reversed\",\"constrain\":\"domain\"},\"coloraxis\":{\"colorscale\":[[0.0,\"#0d0887\"],[0.1111111111111111,\"#46039f\"],[0.2222222222222222,\"#7201a8\"],[0.3333333333333333,\"#9c179e\"],[0.4444444444444444,\"#bd3786\"],[0.5555555555555556,\"#d8576b\"],[0.6666666666666666,\"#ed7953\"],[0.7777777777777778,\"#fb9f3a\"],[0.8888888888888888,\"#fdca26\"],[1.0,\"#f0f921\"]]},\"margin\":{\"t\":60}},                        {\"responsive\": true}                    ).then(function(){\n",
              "                            \n",
              "var gd = document.getElementById('76c154f3-f592-4307-befe-584af047db21');\n",
              "var x = new MutationObserver(function (mutations, observer) {{\n",
              "        var display = window.getComputedStyle(gd).display;\n",
              "        if (!display || display === 'none') {{\n",
              "            console.log([gd, 'removed!']);\n",
              "            Plotly.purge(gd);\n",
              "            observer.disconnect();\n",
              "        }}\n",
              "}});\n",
              "\n",
              "// Listen for the removal of the full notebook cells\n",
              "var notebookContainer = gd.closest('#notebook-container');\n",
              "if (notebookContainer) {{\n",
              "    x.observe(notebookContainer, {childList: true});\n",
              "}}\n",
              "\n",
              "// Listen for the clearing of the current output cell\n",
              "var outputEl = gd.closest('.output');\n",
              "if (outputEl) {{\n",
              "    x.observe(outputEl, {childList: true});\n",
              "}}\n",
              "\n",
              "                        })                };                            </script>        </div>\n",
              "</body>\n",
              "</html>"
            ]
          },
          "metadata": {}
        }
      ]
    },
    {
      "cell_type": "code",
      "source": [
        "df = df.drop(['Start ME', 'Stop ME', 'Running Minutes'], axis=1)"
      ],
      "metadata": {
        "id": "pQ9H-XIywBzq"
      },
      "execution_count": 22,
      "outputs": []
    },
    {
      "cell_type": "markdown",
      "source": [
        "Menghapus kolom '**Start ME**', '**Stop ME**', dan '**Running Minutes**' dari dataset  beralasan jika kolom-kolom tersebut tidak relevan untuk analisis yang sedang dilakukan. Tindakan ini dapat mempercepat proses analisis, meningkatkan keterbacaan kode, mengurangi kompleksitas dataset, dan menghemat ruang penyimpanan."
      ],
      "metadata": {
        "id": "WET_mpHGw3l4"
      }
    },
    {
      "cell_type": "code",
      "source": [
        "df.head()"
      ],
      "metadata": {
        "id": "qgW0yyqawc0N",
        "colab": {
          "base_uri": "https://localhost:8080/",
          "height": 310
        },
        "outputId": "d51f03e9-7f82-4883-c8bc-cbca9bc5852d"
      },
      "execution_count": 23,
      "outputs": [
        {
          "output_type": "execute_result",
          "data": {
            "text/plain": [
              "         Date                 From                   To  \\\n",
              "0  13-05-2023                 PSTB               Somber   \n",
              "1  13-05-2023  Running ME/Stand by  Running ME/Stand by   \n",
              "2  13-05-2023               SOMBER                 PSTB   \n",
              "3  13-05-2023  Running ME/Stand by  Running ME/Stand by   \n",
              "4  13-05-2023                 PSTB               SOMBER   \n",
              "\n",
              "   Fuel Daily Consumption  Opening Fuel Tank Sounding  \\\n",
              "0                    46.0                        23.6   \n",
              "1                    46.0                        23.6   \n",
              "2                    46.0                        23.6   \n",
              "3                    46.0                        23.6   \n",
              "4                    46.0                        23.6   \n",
              "\n",
              "   Closing Fuel Tank Sounding  Fuel Tank Stock After  \n",
              "0                        22.6                    980  \n",
              "1                        22.6                    980  \n",
              "2                        22.6                    980  \n",
              "3                        22.6                    980  \n",
              "4                        22.6                    980  "
            ],
            "text/html": [
              "\n",
              "  <div id=\"df-944eea68-d181-4e70-bf6c-f0694bf830a3\" class=\"colab-df-container\">\n",
              "    <div>\n",
              "<style scoped>\n",
              "    .dataframe tbody tr th:only-of-type {\n",
              "        vertical-align: middle;\n",
              "    }\n",
              "\n",
              "    .dataframe tbody tr th {\n",
              "        vertical-align: top;\n",
              "    }\n",
              "\n",
              "    .dataframe thead th {\n",
              "        text-align: right;\n",
              "    }\n",
              "</style>\n",
              "<table border=\"1\" class=\"dataframe\">\n",
              "  <thead>\n",
              "    <tr style=\"text-align: right;\">\n",
              "      <th></th>\n",
              "      <th>Date</th>\n",
              "      <th>From</th>\n",
              "      <th>To</th>\n",
              "      <th>Fuel Daily Consumption</th>\n",
              "      <th>Opening Fuel Tank Sounding</th>\n",
              "      <th>Closing Fuel Tank Sounding</th>\n",
              "      <th>Fuel Tank Stock After</th>\n",
              "    </tr>\n",
              "  </thead>\n",
              "  <tbody>\n",
              "    <tr>\n",
              "      <th>0</th>\n",
              "      <td>13-05-2023</td>\n",
              "      <td>PSTB</td>\n",
              "      <td>Somber</td>\n",
              "      <td>46.0</td>\n",
              "      <td>23.6</td>\n",
              "      <td>22.6</td>\n",
              "      <td>980</td>\n",
              "    </tr>\n",
              "    <tr>\n",
              "      <th>1</th>\n",
              "      <td>13-05-2023</td>\n",
              "      <td>Running ME/Stand by</td>\n",
              "      <td>Running ME/Stand by</td>\n",
              "      <td>46.0</td>\n",
              "      <td>23.6</td>\n",
              "      <td>22.6</td>\n",
              "      <td>980</td>\n",
              "    </tr>\n",
              "    <tr>\n",
              "      <th>2</th>\n",
              "      <td>13-05-2023</td>\n",
              "      <td>SOMBER</td>\n",
              "      <td>PSTB</td>\n",
              "      <td>46.0</td>\n",
              "      <td>23.6</td>\n",
              "      <td>22.6</td>\n",
              "      <td>980</td>\n",
              "    </tr>\n",
              "    <tr>\n",
              "      <th>3</th>\n",
              "      <td>13-05-2023</td>\n",
              "      <td>Running ME/Stand by</td>\n",
              "      <td>Running ME/Stand by</td>\n",
              "      <td>46.0</td>\n",
              "      <td>23.6</td>\n",
              "      <td>22.6</td>\n",
              "      <td>980</td>\n",
              "    </tr>\n",
              "    <tr>\n",
              "      <th>4</th>\n",
              "      <td>13-05-2023</td>\n",
              "      <td>PSTB</td>\n",
              "      <td>SOMBER</td>\n",
              "      <td>46.0</td>\n",
              "      <td>23.6</td>\n",
              "      <td>22.6</td>\n",
              "      <td>980</td>\n",
              "    </tr>\n",
              "  </tbody>\n",
              "</table>\n",
              "</div>\n",
              "    <div class=\"colab-df-buttons\">\n",
              "\n",
              "  <div class=\"colab-df-container\">\n",
              "    <button class=\"colab-df-convert\" onclick=\"convertToInteractive('df-944eea68-d181-4e70-bf6c-f0694bf830a3')\"\n",
              "            title=\"Convert this dataframe to an interactive table.\"\n",
              "            style=\"display:none;\">\n",
              "\n",
              "  <svg xmlns=\"http://www.w3.org/2000/svg\" height=\"24px\" viewBox=\"0 -960 960 960\">\n",
              "    <path d=\"M120-120v-720h720v720H120Zm60-500h600v-160H180v160Zm220 220h160v-160H400v160Zm0 220h160v-160H400v160ZM180-400h160v-160H180v160Zm440 0h160v-160H620v160ZM180-180h160v-160H180v160Zm440 0h160v-160H620v160Z\"/>\n",
              "  </svg>\n",
              "    </button>\n",
              "\n",
              "  <style>\n",
              "    .colab-df-container {\n",
              "      display:flex;\n",
              "      gap: 12px;\n",
              "    }\n",
              "\n",
              "    .colab-df-convert {\n",
              "      background-color: #E8F0FE;\n",
              "      border: none;\n",
              "      border-radius: 50%;\n",
              "      cursor: pointer;\n",
              "      display: none;\n",
              "      fill: #1967D2;\n",
              "      height: 32px;\n",
              "      padding: 0 0 0 0;\n",
              "      width: 32px;\n",
              "    }\n",
              "\n",
              "    .colab-df-convert:hover {\n",
              "      background-color: #E2EBFA;\n",
              "      box-shadow: 0px 1px 2px rgba(60, 64, 67, 0.3), 0px 1px 3px 1px rgba(60, 64, 67, 0.15);\n",
              "      fill: #174EA6;\n",
              "    }\n",
              "\n",
              "    .colab-df-buttons div {\n",
              "      margin-bottom: 4px;\n",
              "    }\n",
              "\n",
              "    [theme=dark] .colab-df-convert {\n",
              "      background-color: #3B4455;\n",
              "      fill: #D2E3FC;\n",
              "    }\n",
              "\n",
              "    [theme=dark] .colab-df-convert:hover {\n",
              "      background-color: #434B5C;\n",
              "      box-shadow: 0px 1px 3px 1px rgba(0, 0, 0, 0.15);\n",
              "      filter: drop-shadow(0px 1px 2px rgba(0, 0, 0, 0.3));\n",
              "      fill: #FFFFFF;\n",
              "    }\n",
              "  </style>\n",
              "\n",
              "    <script>\n",
              "      const buttonEl =\n",
              "        document.querySelector('#df-944eea68-d181-4e70-bf6c-f0694bf830a3 button.colab-df-convert');\n",
              "      buttonEl.style.display =\n",
              "        google.colab.kernel.accessAllowed ? 'block' : 'none';\n",
              "\n",
              "      async function convertToInteractive(key) {\n",
              "        const element = document.querySelector('#df-944eea68-d181-4e70-bf6c-f0694bf830a3');\n",
              "        const dataTable =\n",
              "          await google.colab.kernel.invokeFunction('convertToInteractive',\n",
              "                                                    [key], {});\n",
              "        if (!dataTable) return;\n",
              "\n",
              "        const docLinkHtml = 'Like what you see? Visit the ' +\n",
              "          '<a target=\"_blank\" href=https://colab.research.google.com/notebooks/data_table.ipynb>data table notebook</a>'\n",
              "          + ' to learn more about interactive tables.';\n",
              "        element.innerHTML = '';\n",
              "        dataTable['output_type'] = 'display_data';\n",
              "        await google.colab.output.renderOutput(dataTable, element);\n",
              "        const docLink = document.createElement('div');\n",
              "        docLink.innerHTML = docLinkHtml;\n",
              "        element.appendChild(docLink);\n",
              "      }\n",
              "    </script>\n",
              "  </div>\n",
              "\n",
              "\n",
              "<div id=\"df-6ca8c92d-db1f-4668-bca1-59a08c0f7ad2\">\n",
              "  <button class=\"colab-df-quickchart\" onclick=\"quickchart('df-6ca8c92d-db1f-4668-bca1-59a08c0f7ad2')\"\n",
              "            title=\"Suggest charts\"\n",
              "            style=\"display:none;\">\n",
              "\n",
              "<svg xmlns=\"http://www.w3.org/2000/svg\" height=\"24px\"viewBox=\"0 0 24 24\"\n",
              "     width=\"24px\">\n",
              "    <g>\n",
              "        <path d=\"M19 3H5c-1.1 0-2 .9-2 2v14c0 1.1.9 2 2 2h14c1.1 0 2-.9 2-2V5c0-1.1-.9-2-2-2zM9 17H7v-7h2v7zm4 0h-2V7h2v10zm4 0h-2v-4h2v4z\"/>\n",
              "    </g>\n",
              "</svg>\n",
              "  </button>\n",
              "\n",
              "<style>\n",
              "  .colab-df-quickchart {\n",
              "      --bg-color: #E8F0FE;\n",
              "      --fill-color: #1967D2;\n",
              "      --hover-bg-color: #E2EBFA;\n",
              "      --hover-fill-color: #174EA6;\n",
              "      --disabled-fill-color: #AAA;\n",
              "      --disabled-bg-color: #DDD;\n",
              "  }\n",
              "\n",
              "  [theme=dark] .colab-df-quickchart {\n",
              "      --bg-color: #3B4455;\n",
              "      --fill-color: #D2E3FC;\n",
              "      --hover-bg-color: #434B5C;\n",
              "      --hover-fill-color: #FFFFFF;\n",
              "      --disabled-bg-color: #3B4455;\n",
              "      --disabled-fill-color: #666;\n",
              "  }\n",
              "\n",
              "  .colab-df-quickchart {\n",
              "    background-color: var(--bg-color);\n",
              "    border: none;\n",
              "    border-radius: 50%;\n",
              "    cursor: pointer;\n",
              "    display: none;\n",
              "    fill: var(--fill-color);\n",
              "    height: 32px;\n",
              "    padding: 0;\n",
              "    width: 32px;\n",
              "  }\n",
              "\n",
              "  .colab-df-quickchart:hover {\n",
              "    background-color: var(--hover-bg-color);\n",
              "    box-shadow: 0 1px 2px rgba(60, 64, 67, 0.3), 0 1px 3px 1px rgba(60, 64, 67, 0.15);\n",
              "    fill: var(--button-hover-fill-color);\n",
              "  }\n",
              "\n",
              "  .colab-df-quickchart-complete:disabled,\n",
              "  .colab-df-quickchart-complete:disabled:hover {\n",
              "    background-color: var(--disabled-bg-color);\n",
              "    fill: var(--disabled-fill-color);\n",
              "    box-shadow: none;\n",
              "  }\n",
              "\n",
              "  .colab-df-spinner {\n",
              "    border: 2px solid var(--fill-color);\n",
              "    border-color: transparent;\n",
              "    border-bottom-color: var(--fill-color);\n",
              "    animation:\n",
              "      spin 1s steps(1) infinite;\n",
              "  }\n",
              "\n",
              "  @keyframes spin {\n",
              "    0% {\n",
              "      border-color: transparent;\n",
              "      border-bottom-color: var(--fill-color);\n",
              "      border-left-color: var(--fill-color);\n",
              "    }\n",
              "    20% {\n",
              "      border-color: transparent;\n",
              "      border-left-color: var(--fill-color);\n",
              "      border-top-color: var(--fill-color);\n",
              "    }\n",
              "    30% {\n",
              "      border-color: transparent;\n",
              "      border-left-color: var(--fill-color);\n",
              "      border-top-color: var(--fill-color);\n",
              "      border-right-color: var(--fill-color);\n",
              "    }\n",
              "    40% {\n",
              "      border-color: transparent;\n",
              "      border-right-color: var(--fill-color);\n",
              "      border-top-color: var(--fill-color);\n",
              "    }\n",
              "    60% {\n",
              "      border-color: transparent;\n",
              "      border-right-color: var(--fill-color);\n",
              "    }\n",
              "    80% {\n",
              "      border-color: transparent;\n",
              "      border-right-color: var(--fill-color);\n",
              "      border-bottom-color: var(--fill-color);\n",
              "    }\n",
              "    90% {\n",
              "      border-color: transparent;\n",
              "      border-bottom-color: var(--fill-color);\n",
              "    }\n",
              "  }\n",
              "</style>\n",
              "\n",
              "  <script>\n",
              "    async function quickchart(key) {\n",
              "      const quickchartButtonEl =\n",
              "        document.querySelector('#' + key + ' button');\n",
              "      quickchartButtonEl.disabled = true;  // To prevent multiple clicks.\n",
              "      quickchartButtonEl.classList.add('colab-df-spinner');\n",
              "      try {\n",
              "        const charts = await google.colab.kernel.invokeFunction(\n",
              "            'suggestCharts', [key], {});\n",
              "      } catch (error) {\n",
              "        console.error('Error during call to suggestCharts:', error);\n",
              "      }\n",
              "      quickchartButtonEl.classList.remove('colab-df-spinner');\n",
              "      quickchartButtonEl.classList.add('colab-df-quickchart-complete');\n",
              "    }\n",
              "    (() => {\n",
              "      let quickchartButtonEl =\n",
              "        document.querySelector('#df-6ca8c92d-db1f-4668-bca1-59a08c0f7ad2 button');\n",
              "      quickchartButtonEl.style.display =\n",
              "        google.colab.kernel.accessAllowed ? 'block' : 'none';\n",
              "    })();\n",
              "  </script>\n",
              "</div>\n",
              "    </div>\n",
              "  </div>\n"
            ],
            "application/vnd.google.colaboratory.intrinsic+json": {
              "type": "dataframe",
              "variable_name": "df",
              "summary": "{\n  \"name\": \"df\",\n  \"rows\": 136,\n  \"fields\": [\n    {\n      \"column\": \"Date\",\n      \"properties\": {\n        \"dtype\": \"object\",\n        \"num_unique_values\": 12,\n        \"samples\": [\n          \"23-05-2023\",\n          \"22-05-2023\",\n          \"13-05-2023\"\n        ],\n        \"semantic_type\": \"\",\n        \"description\": \"\"\n      }\n    },\n    {\n      \"column\": \"From\",\n      \"properties\": {\n        \"dtype\": \"category\",\n        \"num_unique_values\": 4,\n        \"samples\": [\n          \"Running ME/Stand by\",\n          \"JETTY BUNKER\",\n          \"PSTB\"\n        ],\n        \"semantic_type\": \"\",\n        \"description\": \"\"\n      }\n    },\n    {\n      \"column\": \"To\",\n      \"properties\": {\n        \"dtype\": \"category\",\n        \"num_unique_values\": 5,\n        \"samples\": [\n          \"Running ME/Stand by\",\n          \"JETTY BUNKER\",\n          \"PSTB\"\n        ],\n        \"semantic_type\": \"\",\n        \"description\": \"\"\n      }\n    },\n    {\n      \"column\": \"Fuel Daily Consumption\",\n      \"properties\": {\n        \"dtype\": \"number\",\n        \"std\": 6.60236423621306,\n        \"min\": 18.4,\n        \"max\": 55.2,\n        \"num_unique_values\": 4,\n        \"samples\": [\n          50.6,\n          18.4,\n          46.0\n        ],\n        \"semantic_type\": \"\",\n        \"description\": \"\"\n      }\n    },\n    {\n      \"column\": \"Opening Fuel Tank Sounding\",\n      \"properties\": {\n        \"dtype\": \"number\",\n        \"std\": 3.2909414688860674,\n        \"min\": 14.1,\n        \"max\": 23.7,\n        \"num_unique_values\": 12,\n        \"samples\": [\n          23.7,\n          14.1,\n          23.6\n        ],\n        \"semantic_type\": \"\",\n        \"description\": \"\"\n      }\n    },\n    {\n      \"column\": \"Closing Fuel Tank Sounding\",\n      \"properties\": {\n        \"dtype\": \"number\",\n        \"std\": 3.267008118742634,\n        \"min\": 13.1,\n        \"max\": 22.6,\n        \"num_unique_values\": 12,\n        \"samples\": [\n          22.5,\n          13.1,\n          22.6\n        ],\n        \"semantic_type\": \"\",\n        \"description\": \"\"\n      }\n    },\n    {\n      \"column\": \"Fuel Tank Stock After\",\n      \"properties\": {\n        \"dtype\": \"number\",\n        \"std\": 133,\n        \"min\": 589,\n        \"max\": 1007,\n        \"num_unique_values\": 12,\n        \"samples\": [\n          952,\n          1007,\n          980\n        ],\n        \"semantic_type\": \"\",\n        \"description\": \"\"\n      }\n    }\n  ]\n}"
            }
          },
          "metadata": {},
          "execution_count": 23
        }
      ]
    },
    {
      "cell_type": "markdown",
      "metadata": {
        "id": "GgE-54QbQEYp"
      },
      "source": [
        "###**Penanganan Missing Value**"
      ]
    },
    {
      "cell_type": "code",
      "execution_count": 24,
      "metadata": {
        "id": "OWlylwnVQHSQ",
        "colab": {
          "base_uri": "https://localhost:8080/"
        },
        "outputId": "dcdf6df7-f7c3-46b0-f4ac-49d007d0aace"
      },
      "outputs": [
        {
          "output_type": "stream",
          "name": "stdout",
          "text": [
            "Date                          0.0\n",
            "From                          0.0\n",
            "To                            0.0\n",
            "Fuel Daily Consumption        0.0\n",
            "Opening Fuel Tank Sounding    0.0\n",
            "Closing Fuel Tank Sounding    0.0\n",
            "Fuel Tank Stock After         0.0\n",
            "dtype: float64\n"
          ]
        }
      ],
      "source": [
        "print((df.isna().sum() / len(df)) * 100)"
      ]
    },
    {
      "cell_type": "code",
      "execution_count": 25,
      "metadata": {
        "id": "GwI4T3C4Qtah",
        "colab": {
          "base_uri": "https://localhost:8080/"
        },
        "outputId": "8e2edd18-64ea-4e6a-d6fd-14a331c60564"
      },
      "outputs": [
        {
          "output_type": "stream",
          "name": "stdout",
          "text": [
            "           Date                 From                   To  \\\n",
            "0    13-05-2023                 PSTB               Somber   \n",
            "1    13-05-2023  Running ME/Stand by  Running ME/Stand by   \n",
            "2    13-05-2023               SOMBER                 PSTB   \n",
            "3    13-05-2023  Running ME/Stand by  Running ME/Stand by   \n",
            "4    13-05-2023                 PSTB               SOMBER   \n",
            "..          ...                  ...                  ...   \n",
            "130  24-05-2023                 PSTB               SOMBER   \n",
            "131  24-05-2023  Running ME/Stand by  Running ME/Stand by   \n",
            "132  24-05-2023               SOMBER                 PSTB   \n",
            "133  24-05-2023  Running ME/Stand by  Running ME/Stand by   \n",
            "134  24-05-2023                 PSTB               SOMBER   \n",
            "\n",
            "     Fuel Daily Consumption  Opening Fuel Tank Sounding  \\\n",
            "0                      46.0                        23.6   \n",
            "1                      46.0                        23.6   \n",
            "2                      46.0                        23.6   \n",
            "3                      46.0                        23.6   \n",
            "4                      46.0                        23.6   \n",
            "..                      ...                         ...   \n",
            "130                    55.2                        22.5   \n",
            "131                    55.2                        22.5   \n",
            "132                    55.2                        22.5   \n",
            "133                    55.2                        22.5   \n",
            "134                    55.2                        22.5   \n",
            "\n",
            "     Closing Fuel Tank Sounding  Fuel Tank Stock After  \n",
            "0                          22.6                    980  \n",
            "1                          22.6                    980  \n",
            "2                          22.6                    980  \n",
            "3                          22.6                    980  \n",
            "4                          22.6                    980  \n",
            "..                          ...                    ...  \n",
            "130                        21.3                    897  \n",
            "131                        21.3                    897  \n",
            "132                        21.3                    897  \n",
            "133                        21.3                    897  \n",
            "134                        21.3                    897  \n",
            "\n",
            "[135 rows x 7 columns]\n"
          ]
        }
      ],
      "source": [
        "num_rows = df.shape[0]\n",
        "df = df.drop(index=num_rows - 1)\n",
        "print(df)"
      ]
    },
    {
      "cell_type": "code",
      "execution_count": 26,
      "metadata": {
        "id": "Ouj2MqiVQ70z",
        "colab": {
          "base_uri": "https://localhost:8080/"
        },
        "outputId": "903f6959-59c6-4814-a7d5-936ebde688b9"
      },
      "outputs": [
        {
          "output_type": "stream",
          "name": "stdout",
          "text": [
            "Date                          0.0\n",
            "From                          0.0\n",
            "To                            0.0\n",
            "Fuel Daily Consumption        0.0\n",
            "Opening Fuel Tank Sounding    0.0\n",
            "Closing Fuel Tank Sounding    0.0\n",
            "Fuel Tank Stock After         0.0\n",
            "dtype: float64\n"
          ]
        }
      ],
      "source": [
        "print((df.isna().sum() / len(df)) * 100)"
      ]
    },
    {
      "cell_type": "markdown",
      "metadata": {
        "id": "opeP10AlRHBJ"
      },
      "source": [
        "\n",
        "Kami telah menghapus baris terakhir karena terdapat missing values. Ini dilakukan dengan menggunakan metode drop() dari pandas DataFrame untuk memastikan keakuratan dan kebersihan dataset, sehingga mencegah kesalahan atau bias dalam analisis data yang dilakukan."
      ]
    },
    {
      "cell_type": "markdown",
      "metadata": {
        "id": "FHWkZcOxRaTt"
      },
      "source": [
        "### **Penanganan Outliers**"
      ]
    },
    {
      "cell_type": "markdown",
      "metadata": {
        "id": "F-nLPr1aRexq"
      },
      "source": [
        "**Pengecekkan outliers**"
      ]
    },
    {
      "cell_type": "code",
      "execution_count": 27,
      "metadata": {
        "id": "p7aK7eGRRipj",
        "colab": {
          "base_uri": "https://localhost:8080/",
          "height": 175
        },
        "outputId": "64f9e6a0-4be8-4256-c401-e8335f6d5ddc"
      },
      "outputs": [
        {
          "output_type": "display_data",
          "data": {
            "text/plain": [
              "Kolom                       Persentase Outliers\n",
              "Fuel Daily Consumption                 2.962963\n",
              "Opening Fuel Tank Sounding             0.000000\n",
              "Closing Fuel Tank Sounding             0.000000\n",
              "Fuel Tank Stock After                  0.000000"
            ],
            "text/html": [
              "\n",
              "  <div id=\"df-c81953d5-e7a2-4ca3-8b22-984a2b903476\" class=\"colab-df-container\">\n",
              "    <div>\n",
              "<style scoped>\n",
              "    .dataframe tbody tr th:only-of-type {\n",
              "        vertical-align: middle;\n",
              "    }\n",
              "\n",
              "    .dataframe tbody tr th {\n",
              "        vertical-align: top;\n",
              "    }\n",
              "\n",
              "    .dataframe thead th {\n",
              "        text-align: right;\n",
              "    }\n",
              "</style>\n",
              "<table border=\"1\" class=\"dataframe\">\n",
              "  <thead>\n",
              "    <tr style=\"text-align: right;\">\n",
              "      <th>Kolom</th>\n",
              "      <th>Persentase Outliers</th>\n",
              "    </tr>\n",
              "  </thead>\n",
              "  <tbody>\n",
              "    <tr>\n",
              "      <th>Fuel Daily Consumption</th>\n",
              "      <td>2.962963</td>\n",
              "    </tr>\n",
              "    <tr>\n",
              "      <th>Opening Fuel Tank Sounding</th>\n",
              "      <td>0.000000</td>\n",
              "    </tr>\n",
              "    <tr>\n",
              "      <th>Closing Fuel Tank Sounding</th>\n",
              "      <td>0.000000</td>\n",
              "    </tr>\n",
              "    <tr>\n",
              "      <th>Fuel Tank Stock After</th>\n",
              "      <td>0.000000</td>\n",
              "    </tr>\n",
              "  </tbody>\n",
              "</table>\n",
              "</div>\n",
              "    <div class=\"colab-df-buttons\">\n",
              "\n",
              "  <div class=\"colab-df-container\">\n",
              "    <button class=\"colab-df-convert\" onclick=\"convertToInteractive('df-c81953d5-e7a2-4ca3-8b22-984a2b903476')\"\n",
              "            title=\"Convert this dataframe to an interactive table.\"\n",
              "            style=\"display:none;\">\n",
              "\n",
              "  <svg xmlns=\"http://www.w3.org/2000/svg\" height=\"24px\" viewBox=\"0 -960 960 960\">\n",
              "    <path d=\"M120-120v-720h720v720H120Zm60-500h600v-160H180v160Zm220 220h160v-160H400v160Zm0 220h160v-160H400v160ZM180-400h160v-160H180v160Zm440 0h160v-160H620v160ZM180-180h160v-160H180v160Zm440 0h160v-160H620v160Z\"/>\n",
              "  </svg>\n",
              "    </button>\n",
              "\n",
              "  <style>\n",
              "    .colab-df-container {\n",
              "      display:flex;\n",
              "      gap: 12px;\n",
              "    }\n",
              "\n",
              "    .colab-df-convert {\n",
              "      background-color: #E8F0FE;\n",
              "      border: none;\n",
              "      border-radius: 50%;\n",
              "      cursor: pointer;\n",
              "      display: none;\n",
              "      fill: #1967D2;\n",
              "      height: 32px;\n",
              "      padding: 0 0 0 0;\n",
              "      width: 32px;\n",
              "    }\n",
              "\n",
              "    .colab-df-convert:hover {\n",
              "      background-color: #E2EBFA;\n",
              "      box-shadow: 0px 1px 2px rgba(60, 64, 67, 0.3), 0px 1px 3px 1px rgba(60, 64, 67, 0.15);\n",
              "      fill: #174EA6;\n",
              "    }\n",
              "\n",
              "    .colab-df-buttons div {\n",
              "      margin-bottom: 4px;\n",
              "    }\n",
              "\n",
              "    [theme=dark] .colab-df-convert {\n",
              "      background-color: #3B4455;\n",
              "      fill: #D2E3FC;\n",
              "    }\n",
              "\n",
              "    [theme=dark] .colab-df-convert:hover {\n",
              "      background-color: #434B5C;\n",
              "      box-shadow: 0px 1px 3px 1px rgba(0, 0, 0, 0.15);\n",
              "      filter: drop-shadow(0px 1px 2px rgba(0, 0, 0, 0.3));\n",
              "      fill: #FFFFFF;\n",
              "    }\n",
              "  </style>\n",
              "\n",
              "    <script>\n",
              "      const buttonEl =\n",
              "        document.querySelector('#df-c81953d5-e7a2-4ca3-8b22-984a2b903476 button.colab-df-convert');\n",
              "      buttonEl.style.display =\n",
              "        google.colab.kernel.accessAllowed ? 'block' : 'none';\n",
              "\n",
              "      async function convertToInteractive(key) {\n",
              "        const element = document.querySelector('#df-c81953d5-e7a2-4ca3-8b22-984a2b903476');\n",
              "        const dataTable =\n",
              "          await google.colab.kernel.invokeFunction('convertToInteractive',\n",
              "                                                    [key], {});\n",
              "        if (!dataTable) return;\n",
              "\n",
              "        const docLinkHtml = 'Like what you see? Visit the ' +\n",
              "          '<a target=\"_blank\" href=https://colab.research.google.com/notebooks/data_table.ipynb>data table notebook</a>'\n",
              "          + ' to learn more about interactive tables.';\n",
              "        element.innerHTML = '';\n",
              "        dataTable['output_type'] = 'display_data';\n",
              "        await google.colab.output.renderOutput(dataTable, element);\n",
              "        const docLink = document.createElement('div');\n",
              "        docLink.innerHTML = docLinkHtml;\n",
              "        element.appendChild(docLink);\n",
              "      }\n",
              "    </script>\n",
              "  </div>\n",
              "\n",
              "\n",
              "<div id=\"df-edae984a-26da-4d67-9a82-f77567a3a683\">\n",
              "  <button class=\"colab-df-quickchart\" onclick=\"quickchart('df-edae984a-26da-4d67-9a82-f77567a3a683')\"\n",
              "            title=\"Suggest charts\"\n",
              "            style=\"display:none;\">\n",
              "\n",
              "<svg xmlns=\"http://www.w3.org/2000/svg\" height=\"24px\"viewBox=\"0 0 24 24\"\n",
              "     width=\"24px\">\n",
              "    <g>\n",
              "        <path d=\"M19 3H5c-1.1 0-2 .9-2 2v14c0 1.1.9 2 2 2h14c1.1 0 2-.9 2-2V5c0-1.1-.9-2-2-2zM9 17H7v-7h2v7zm4 0h-2V7h2v10zm4 0h-2v-4h2v4z\"/>\n",
              "    </g>\n",
              "</svg>\n",
              "  </button>\n",
              "\n",
              "<style>\n",
              "  .colab-df-quickchart {\n",
              "      --bg-color: #E8F0FE;\n",
              "      --fill-color: #1967D2;\n",
              "      --hover-bg-color: #E2EBFA;\n",
              "      --hover-fill-color: #174EA6;\n",
              "      --disabled-fill-color: #AAA;\n",
              "      --disabled-bg-color: #DDD;\n",
              "  }\n",
              "\n",
              "  [theme=dark] .colab-df-quickchart {\n",
              "      --bg-color: #3B4455;\n",
              "      --fill-color: #D2E3FC;\n",
              "      --hover-bg-color: #434B5C;\n",
              "      --hover-fill-color: #FFFFFF;\n",
              "      --disabled-bg-color: #3B4455;\n",
              "      --disabled-fill-color: #666;\n",
              "  }\n",
              "\n",
              "  .colab-df-quickchart {\n",
              "    background-color: var(--bg-color);\n",
              "    border: none;\n",
              "    border-radius: 50%;\n",
              "    cursor: pointer;\n",
              "    display: none;\n",
              "    fill: var(--fill-color);\n",
              "    height: 32px;\n",
              "    padding: 0;\n",
              "    width: 32px;\n",
              "  }\n",
              "\n",
              "  .colab-df-quickchart:hover {\n",
              "    background-color: var(--hover-bg-color);\n",
              "    box-shadow: 0 1px 2px rgba(60, 64, 67, 0.3), 0 1px 3px 1px rgba(60, 64, 67, 0.15);\n",
              "    fill: var(--button-hover-fill-color);\n",
              "  }\n",
              "\n",
              "  .colab-df-quickchart-complete:disabled,\n",
              "  .colab-df-quickchart-complete:disabled:hover {\n",
              "    background-color: var(--disabled-bg-color);\n",
              "    fill: var(--disabled-fill-color);\n",
              "    box-shadow: none;\n",
              "  }\n",
              "\n",
              "  .colab-df-spinner {\n",
              "    border: 2px solid var(--fill-color);\n",
              "    border-color: transparent;\n",
              "    border-bottom-color: var(--fill-color);\n",
              "    animation:\n",
              "      spin 1s steps(1) infinite;\n",
              "  }\n",
              "\n",
              "  @keyframes spin {\n",
              "    0% {\n",
              "      border-color: transparent;\n",
              "      border-bottom-color: var(--fill-color);\n",
              "      border-left-color: var(--fill-color);\n",
              "    }\n",
              "    20% {\n",
              "      border-color: transparent;\n",
              "      border-left-color: var(--fill-color);\n",
              "      border-top-color: var(--fill-color);\n",
              "    }\n",
              "    30% {\n",
              "      border-color: transparent;\n",
              "      border-left-color: var(--fill-color);\n",
              "      border-top-color: var(--fill-color);\n",
              "      border-right-color: var(--fill-color);\n",
              "    }\n",
              "    40% {\n",
              "      border-color: transparent;\n",
              "      border-right-color: var(--fill-color);\n",
              "      border-top-color: var(--fill-color);\n",
              "    }\n",
              "    60% {\n",
              "      border-color: transparent;\n",
              "      border-right-color: var(--fill-color);\n",
              "    }\n",
              "    80% {\n",
              "      border-color: transparent;\n",
              "      border-right-color: var(--fill-color);\n",
              "      border-bottom-color: var(--fill-color);\n",
              "    }\n",
              "    90% {\n",
              "      border-color: transparent;\n",
              "      border-bottom-color: var(--fill-color);\n",
              "    }\n",
              "  }\n",
              "</style>\n",
              "\n",
              "  <script>\n",
              "    async function quickchart(key) {\n",
              "      const quickchartButtonEl =\n",
              "        document.querySelector('#' + key + ' button');\n",
              "      quickchartButtonEl.disabled = true;  // To prevent multiple clicks.\n",
              "      quickchartButtonEl.classList.add('colab-df-spinner');\n",
              "      try {\n",
              "        const charts = await google.colab.kernel.invokeFunction(\n",
              "            'suggestCharts', [key], {});\n",
              "      } catch (error) {\n",
              "        console.error('Error during call to suggestCharts:', error);\n",
              "      }\n",
              "      quickchartButtonEl.classList.remove('colab-df-spinner');\n",
              "      quickchartButtonEl.classList.add('colab-df-quickchart-complete');\n",
              "    }\n",
              "    (() => {\n",
              "      let quickchartButtonEl =\n",
              "        document.querySelector('#df-edae984a-26da-4d67-9a82-f77567a3a683 button');\n",
              "      quickchartButtonEl.style.display =\n",
              "        google.colab.kernel.accessAllowed ? 'block' : 'none';\n",
              "    })();\n",
              "  </script>\n",
              "</div>\n",
              "    </div>\n",
              "  </div>\n"
            ],
            "application/vnd.google.colaboratory.intrinsic+json": {
              "type": "dataframe",
              "variable_name": "results_df",
              "summary": "{\n  \"name\": \"results_df\",\n  \"rows\": 4,\n  \"fields\": [\n    {\n      \"column\": \"Persentase Outliers\",\n      \"properties\": {\n        \"dtype\": \"number\",\n        \"std\": 1.4814814814814816,\n        \"min\": 0.0,\n        \"max\": 2.9629629629629632,\n        \"num_unique_values\": 2,\n        \"samples\": [\n          0.0,\n          2.9629629629629632\n        ],\n        \"semantic_type\": \"\",\n        \"description\": \"\"\n      }\n    }\n  ]\n}"
            }
          },
          "metadata": {}
        }
      ],
      "source": [
        "results = []\n",
        "\n",
        "cols = df.select_dtypes(include=['float64', 'int64'])\n",
        "\n",
        "for col in cols:\n",
        "  q1 = df[col].quantile(0.25)\n",
        "  q3 = df[col].quantile(0.75)\n",
        "  iqr = q3 - q1\n",
        "  lower_bound = q1 - 1.5*iqr\n",
        "  upper_bound = q3 + 1.5*iqr\n",
        "  outliers = df[(df[col] < lower_bound) | (df[col] > upper_bound)]\n",
        "  percent_outliers = (len(outliers)/len(df))*100\n",
        "  results.append({'Kolom': col, 'Persentase Outliers': percent_outliers})\n",
        "\n",
        "# Dataframe dari list hasil\n",
        "results_df = pd.DataFrame(results)\n",
        "results_df.set_index('Kolom', inplace=True)\n",
        "results_df = results_df.rename_axis(None, axis=0).rename_axis('Kolom', axis=1)\n",
        "\n",
        "# Tampilkan dataframe\n",
        "display(results_df)"
      ]
    },
    {
      "cell_type": "code",
      "execution_count": 28,
      "metadata": {
        "id": "V__eidkvRsTe",
        "colab": {
          "base_uri": "https://localhost:8080/",
          "height": 657
        },
        "outputId": "2c597efe-61db-4779-934a-4bdd153cb5ac"
      },
      "outputs": [
        {
          "output_type": "display_data",
          "data": {
            "text/plain": [
              "<Figure size 800x600 with 1 Axes>"
            ],
            "image/png": "[encoded data removed]"
          },
          "metadata": {}
        }
      ],
      "source": [
        "boxplot = df.drop('Fuel Daily Consumption', axis=1).boxplot(grid=False, rot=45,  figsize=(8,6))"
      ]
    },
    {
      "cell_type": "markdown",
      "metadata": {
        "id": "619rkykDR65u"
      },
      "source": [
        "Berdasarkan hasil pengecekkan, terdapat outliers pada kolom **Fuel Daily Consumption** sebanyak **2.941176**."
      ]
    },
    {
      "cell_type": "markdown",
      "metadata": {
        "id": "uO2smx00STtk"
      },
      "source": [
        "**Penghapusan Nilai Outliers**"
      ]
    },
    {
      "cell_type": "code",
      "source": [
        "Q1 = df['Fuel Daily Consumption'].quantile(0.25)\n",
        "Q3 = df['Fuel Daily Consumption'].quantile(0.75)\n",
        "IQR = Q3 - Q1\n",
        "lower_bound = Q1 - 1.5 * IQR\n",
        "upper_bound = Q3 + 1.5 * IQR\n",
        "\n",
        "df = df[(df['Fuel Daily Consumption'] >= lower_bound) & (df['Fuel Daily Consumption'] <= upper_bound)]"
      ],
      "metadata": {
        "id": "cYEPdTNfRnFL"
      },
      "execution_count": 29,
      "outputs": []
    },
    {
      "cell_type": "markdown",
      "source": [
        "Kami memutuskan untuk menghapus outliers yang berada di bawah 10% dari seluruh data pada fitur \"**Fuel Daily Consumption**\".\n",
        "\n",
        "\n",
        "\n",
        "\n"
      ],
      "metadata": {
        "id": "9oURI9eliR_5"
      }
    },
    {
      "cell_type": "markdown",
      "source": [
        "\n",
        "Outliers pada Fuel Daily Consumption harus dihapus karena dapat memengaruhi analisis dan model prediksi dengan cara yang tidak kami  diinginkan. Berikut adalah beberapa alasan mengapa outliers pada kolom Fuel Daily Consumption harus dihapus:\n",
        "\n",
        "* **Pengaruh terhadap statistik deskriptif**: Outliers dapat menyebabkan perubahan yang signifikan dalam statistik deskriptif seperti mean, median, dan standar deviasi. Hal ini dapat menghasilkan gambaran yang salah tentang distribusi data dan menyebabkan interpretasi yang keliru.\n",
        "* **Pengaruh terhadap analisis data**: Outliers dapat menghasilkan analisis yang bias atau tidak akurat. Misalnya, jika ingin menganalisis tren penggunaan bahan bakar dari waktu ke waktu, keberadaan outliers dapat membuat tren menjadi tidak jelas atau bahkan salah diinterpretasikan.\n",
        "* **Pengaruh terhadap model prediksi**: Outliers dapat memengaruhi kinerja model prediksi dengan cara yang tidak diinginkan. Model prediksi yang sensitif terhadap outliers mungkin menghasilkan prediksi yang tidak akurat atau tidak stabil."
      ],
      "metadata": {
        "id": "-2EIV_UaElRo"
      }
    },
    {
      "cell_type": "markdown",
      "metadata": {
        "id": "sO8Maq9FSeXP"
      },
      "source": [
        "**Pengecekkan Ulang**"
      ]
    },
    {
      "cell_type": "code",
      "execution_count": 31,
      "metadata": {
        "id": "1ZuK421HSgWR",
        "colab": {
          "base_uri": "https://localhost:8080/",
          "height": 175
        },
        "outputId": "7a25b443-f722-496d-b879-35f9f5a06d1b"
      },
      "outputs": [
        {
          "output_type": "display_data",
          "data": {
            "text/plain": [
              "Kolom                       Persentase Outliers\n",
              "Fuel Daily Consumption                      0.0\n",
              "Opening Fuel Tank Sounding                  0.0\n",
              "Closing Fuel Tank Sounding                  0.0\n",
              "Fuel Tank Stock After                       0.0"
            ],
            "text/html": [
              "\n",
              "  <div id=\"df-0c6f8822-dee5-4471-9218-918e86a205b9\" class=\"colab-df-container\">\n",
              "    <div>\n",
              "<style scoped>\n",
              "    .dataframe tbody tr th:only-of-type {\n",
              "        vertical-align: middle;\n",
              "    }\n",
              "\n",
              "    .dataframe tbody tr th {\n",
              "        vertical-align: top;\n",
              "    }\n",
              "\n",
              "    .dataframe thead th {\n",
              "        text-align: right;\n",
              "    }\n",
              "</style>\n",
              "<table border=\"1\" class=\"dataframe\">\n",
              "  <thead>\n",
              "    <tr style=\"text-align: right;\">\n",
              "      <th>Kolom</th>\n",
              "      <th>Persentase Outliers</th>\n",
              "    </tr>\n",
              "  </thead>\n",
              "  <tbody>\n",
              "    <tr>\n",
              "      <th>Fuel Daily Consumption</th>\n",
              "      <td>0.0</td>\n",
              "    </tr>\n",
              "    <tr>\n",
              "      <th>Opening Fuel Tank Sounding</th>\n",
              "      <td>0.0</td>\n",
              "    </tr>\n",
              "    <tr>\n",
              "      <th>Closing Fuel Tank Sounding</th>\n",
              "      <td>0.0</td>\n",
              "    </tr>\n",
              "    <tr>\n",
              "      <th>Fuel Tank Stock After</th>\n",
              "      <td>0.0</td>\n",
              "    </tr>\n",
              "  </tbody>\n",
              "</table>\n",
              "</div>\n",
              "    <div class=\"colab-df-buttons\">\n",
              "\n",
              "  <div class=\"colab-df-container\">\n",
              "    <button class=\"colab-df-convert\" onclick=\"convertToInteractive('df-0c6f8822-dee5-4471-9218-918e86a205b9')\"\n",
              "            title=\"Convert this dataframe to an interactive table.\"\n",
              "            style=\"display:none;\">\n",
              "\n",
              "  <svg xmlns=\"http://www.w3.org/2000/svg\" height=\"24px\" viewBox=\"0 -960 960 960\">\n",
              "    <path d=\"M120-120v-720h720v720H120Zm60-500h600v-160H180v160Zm220 220h160v-160H400v160Zm0 220h160v-160H400v160ZM180-400h160v-160H180v160Zm440 0h160v-160H620v160ZM180-180h160v-160H180v160Zm440 0h160v-160H620v160Z\"/>\n",
              "  </svg>\n",
              "    </button>\n",
              "\n",
              "  <style>\n",
              "    .colab-df-container {\n",
              "      display:flex;\n",
              "      gap: 12px;\n",
              "    }\n",
              "\n",
              "    .colab-df-convert {\n",
              "      background-color: #E8F0FE;\n",
              "      border: none;\n",
              "      border-radius: 50%;\n",
              "      cursor: pointer;\n",
              "      display: none;\n",
              "      fill: #1967D2;\n",
              "      height: 32px;\n",
              "      padding: 0 0 0 0;\n",
              "      width: 32px;\n",
              "    }\n",
              "\n",
              "    .colab-df-convert:hover {\n",
              "      background-color: #E2EBFA;\n",
              "      box-shadow: 0px 1px 2px rgba(60, 64, 67, 0.3), 0px 1px 3px 1px rgba(60, 64, 67, 0.15);\n",
              "      fill: #174EA6;\n",
              "    }\n",
              "\n",
              "    .colab-df-buttons div {\n",
              "      margin-bottom: 4px;\n",
              "    }\n",
              "\n",
              "    [theme=dark] .colab-df-convert {\n",
              "      background-color: #3B4455;\n",
              "      fill: #D2E3FC;\n",
              "    }\n",
              "\n",
              "    [theme=dark] .colab-df-convert:hover {\n",
              "      background-color: #434B5C;\n",
              "      box-shadow: 0px 1px 3px 1px rgba(0, 0, 0, 0.15);\n",
              "      filter: drop-shadow(0px 1px 2px rgba(0, 0, 0, 0.3));\n",
              "      fill: #FFFFFF;\n",
              "    }\n",
              "  </style>\n",
              "\n",
              "    <script>\n",
              "      const buttonEl =\n",
              "        document.querySelector('#df-0c6f8822-dee5-4471-9218-918e86a205b9 button.colab-df-convert');\n",
              "      buttonEl.style.display =\n",
              "        google.colab.kernel.accessAllowed ? 'block' : 'none';\n",
              "\n",
              "      async function convertToInteractive(key) {\n",
              "        const element = document.querySelector('#df-0c6f8822-dee5-4471-9218-918e86a205b9');\n",
              "        const dataTable =\n",
              "          await google.colab.kernel.invokeFunction('convertToInteractive',\n",
              "                                                    [key], {});\n",
              "        if (!dataTable) return;\n",
              "\n",
              "        const docLinkHtml = 'Like what you see? Visit the ' +\n",
              "          '<a target=\"_blank\" href=https://colab.research.google.com/notebooks/data_table.ipynb>data table notebook</a>'\n",
              "          + ' to learn more about interactive tables.';\n",
              "        element.innerHTML = '';\n",
              "        dataTable['output_type'] = 'display_data';\n",
              "        await google.colab.output.renderOutput(dataTable, element);\n",
              "        const docLink = document.createElement('div');\n",
              "        docLink.innerHTML = docLinkHtml;\n",
              "        element.appendChild(docLink);\n",
              "      }\n",
              "    </script>\n",
              "  </div>\n",
              "\n",
              "\n",
              "<div id=\"df-34ca2fa1-0724-47f4-8870-4612c7ce6c5c\">\n",
              "  <button class=\"colab-df-quickchart\" onclick=\"quickchart('df-34ca2fa1-0724-47f4-8870-4612c7ce6c5c')\"\n",
              "            title=\"Suggest charts\"\n",
              "            style=\"display:none;\">\n",
              "\n",
              "<svg xmlns=\"http://www.w3.org/2000/svg\" height=\"24px\"viewBox=\"0 0 24 24\"\n",
              "     width=\"24px\">\n",
              "    <g>\n",
              "        <path d=\"M19 3H5c-1.1 0-2 .9-2 2v14c0 1.1.9 2 2 2h14c1.1 0 2-.9 2-2V5c0-1.1-.9-2-2-2zM9 17H7v-7h2v7zm4 0h-2V7h2v10zm4 0h-2v-4h2v4z\"/>\n",
              "    </g>\n",
              "</svg>\n",
              "  </button>\n",
              "\n",
              "<style>\n",
              "  .colab-df-quickchart {\n",
              "      --bg-color: #E8F0FE;\n",
              "      --fill-color: #1967D2;\n",
              "      --hover-bg-color: #E2EBFA;\n",
              "      --hover-fill-color: #174EA6;\n",
              "      --disabled-fill-color: #AAA;\n",
              "      --disabled-bg-color: #DDD;\n",
              "  }\n",
              "\n",
              "  [theme=dark] .colab-df-quickchart {\n",
              "      --bg-color: #3B4455;\n",
              "      --fill-color: #D2E3FC;\n",
              "      --hover-bg-color: #434B5C;\n",
              "      --hover-fill-color: #FFFFFF;\n",
              "      --disabled-bg-color: #3B4455;\n",
              "      --disabled-fill-color: #666;\n",
              "  }\n",
              "\n",
              "  .colab-df-quickchart {\n",
              "    background-color: var(--bg-color);\n",
              "    border: none;\n",
              "    border-radius: 50%;\n",
              "    cursor: pointer;\n",
              "    display: none;\n",
              "    fill: var(--fill-color);\n",
              "    height: 32px;\n",
              "    padding: 0;\n",
              "    width: 32px;\n",
              "  }\n",
              "\n",
              "  .colab-df-quickchart:hover {\n",
              "    background-color: var(--hover-bg-color);\n",
              "    box-shadow: 0 1px 2px rgba(60, 64, 67, 0.3), 0 1px 3px 1px rgba(60, 64, 67, 0.15);\n",
              "    fill: var(--button-hover-fill-color);\n",
              "  }\n",
              "\n",
              "  .colab-df-quickchart-complete:disabled,\n",
              "  .colab-df-quickchart-complete:disabled:hover {\n",
              "    background-color: var(--disabled-bg-color);\n",
              "    fill: var(--disabled-fill-color);\n",
              "    box-shadow: none;\n",
              "  }\n",
              "\n",
              "  .colab-df-spinner {\n",
              "    border: 2px solid var(--fill-color);\n",
              "    border-color: transparent;\n",
              "    border-bottom-color: var(--fill-color);\n",
              "    animation:\n",
              "      spin 1s steps(1) infinite;\n",
              "  }\n",
              "\n",
              "  @keyframes spin {\n",
              "    0% {\n",
              "      border-color: transparent;\n",
              "      border-bottom-color: var(--fill-color);\n",
              "      border-left-color: var(--fill-color);\n",
              "    }\n",
              "    20% {\n",
              "      border-color: transparent;\n",
              "      border-left-color: var(--fill-color);\n",
              "      border-top-color: var(--fill-color);\n",
              "    }\n",
              "    30% {\n",
              "      border-color: transparent;\n",
              "      border-left-color: var(--fill-color);\n",
              "      border-top-color: var(--fill-color);\n",
              "      border-right-color: var(--fill-color);\n",
              "    }\n",
              "    40% {\n",
              "      border-color: transparent;\n",
              "      border-right-color: var(--fill-color);\n",
              "      border-top-color: var(--fill-color);\n",
              "    }\n",
              "    60% {\n",
              "      border-color: transparent;\n",
              "      border-right-color: var(--fill-color);\n",
              "    }\n",
              "    80% {\n",
              "      border-color: transparent;\n",
              "      border-right-color: var(--fill-color);\n",
              "      border-bottom-color: var(--fill-color);\n",
              "    }\n",
              "    90% {\n",
              "      border-color: transparent;\n",
              "      border-bottom-color: var(--fill-color);\n",
              "    }\n",
              "  }\n",
              "</style>\n",
              "\n",
              "  <script>\n",
              "    async function quickchart(key) {\n",
              "      const quickchartButtonEl =\n",
              "        document.querySelector('#' + key + ' button');\n",
              "      quickchartButtonEl.disabled = true;  // To prevent multiple clicks.\n",
              "      quickchartButtonEl.classList.add('colab-df-spinner');\n",
              "      try {\n",
              "        const charts = await google.colab.kernel.invokeFunction(\n",
              "            'suggestCharts', [key], {});\n",
              "      } catch (error) {\n",
              "        console.error('Error during call to suggestCharts:', error);\n",
              "      }\n",
              "      quickchartButtonEl.classList.remove('colab-df-spinner');\n",
              "      quickchartButtonEl.classList.add('colab-df-quickchart-complete');\n",
              "    }\n",
              "    (() => {\n",
              "      let quickchartButtonEl =\n",
              "        document.querySelector('#df-34ca2fa1-0724-47f4-8870-4612c7ce6c5c button');\n",
              "      quickchartButtonEl.style.display =\n",
              "        google.colab.kernel.accessAllowed ? 'block' : 'none';\n",
              "    })();\n",
              "  </script>\n",
              "</div>\n",
              "    </div>\n",
              "  </div>\n"
            ],
            "application/vnd.google.colaboratory.intrinsic+json": {
              "type": "dataframe",
              "variable_name": "results_df",
              "summary": "{\n  \"name\": \"results_df\",\n  \"rows\": 4,\n  \"fields\": [\n    {\n      \"column\": \"Persentase Outliers\",\n      \"properties\": {\n        \"dtype\": \"number\",\n        \"std\": 0.0,\n        \"min\": 0.0,\n        \"max\": 0.0,\n        \"num_unique_values\": 1,\n        \"samples\": [\n          0.0\n        ],\n        \"semantic_type\": \"\",\n        \"description\": \"\"\n      }\n    }\n  ]\n}"
            }
          },
          "metadata": {}
        }
      ],
      "source": [
        "results = []\n",
        "\n",
        "cols = df.select_dtypes(include=['float64', 'int64'])\n",
        "\n",
        "for col in cols:\n",
        "  q1 = df[col].quantile(0.25)\n",
        "  q3 = df[col].quantile(0.75)\n",
        "  iqr = q3 - q1\n",
        "  lower_bound = q1 - 1.5*iqr\n",
        "  upper_bound = q3 + 1.5*iqr\n",
        "  outliers = df[(df[col] < lower_bound) | (df[col] > upper_bound)]\n",
        "  percent_outliers = (len(outliers)/len(df))*100\n",
        "  results.append({'Kolom': col, 'Persentase Outliers': percent_outliers})\n",
        "\n",
        "results_df = pd.DataFrame(results)\n",
        "results_df.set_index('Kolom', inplace=True)\n",
        "results_df = results_df.rename_axis(None, axis=0).rename_axis('Kolom', axis=1)\n",
        "\n",
        "display(results_df)"
      ]
    },
    {
      "cell_type": "code",
      "execution_count": 32,
      "metadata": {
        "id": "pxjR3KA_Sj4O",
        "colab": {
          "base_uri": "https://localhost:8080/",
          "height": 657
        },
        "outputId": "da5e646d-5c05-4744-8316-c87db4bbac16"
      },
      "outputs": [
        {
          "output_type": "display_data",
          "data": {
            "text/plain": [
              "<Figure size 800x600 with 1 Axes>"
            ],
            "image/png": "[encoded data removed]"
          },
          "metadata": {}
        }
      ],
      "source": [
        "boxplot = df.drop('Fuel Daily Consumption', axis=1).boxplot(grid=False, rot=45,  figsize=(8,6))"
      ]
    },
    {
      "cell_type": "markdown",
      "metadata": {
        "id": "7SKYm-TSSwgP"
      },
      "source": [
        "Setelah berhasil dilakukan nya **penghapusan outliers**, maka dapat dilihat sudah tidak terdapat outliers di semua kolom."
      ]
    },
    {
      "cell_type": "markdown",
      "metadata": {
        "id": "0a6HZb8jTGtn"
      },
      "source": [
        "## **Construct Data**"
      ]
    },
    {
      "cell_type": "markdown",
      "metadata": {
        "id": "vL0qnyMvTJkq"
      },
      "source": [
        "### **Melakukan Rekayasa Fitur (Feature Engineering)**"
      ]
    },
    {
      "cell_type": "code",
      "execution_count": 33,
      "metadata": {
        "id": "F_LDtheJTYht"
      },
      "outputs": [],
      "source": [
        "# Definisikan fungsi fuel_capacity\n",
        "def fuel_capacity(closing_fuel_tank_sounding):\n",
        "    if closing_fuel_tank_sounding < 20:\n",
        "        return 'low'\n",
        "    else:\n",
        "        return 'high'\n",
        "\n",
        "# Terapkan fungsi fuel_capacity pada kolom 'Closing Fuel Tank Sounding' dan tambahkan sebagai kolom baru 'Fuel Capacity'\n",
        "df['Fuel Capacity'] = df['Closing Fuel Tank Sounding'].apply(fuel_capacity)\n"
      ]
    },
    {
      "cell_type": "markdown",
      "metadata": {
        "id": "j546tnMjW9BB"
      },
      "source": [
        "### **Pengecekkan Hasil**"
      ]
    },
    {
      "cell_type": "code",
      "execution_count": 34,
      "metadata": {
        "id": "PYoiCoKhWI8k",
        "colab": {
          "base_uri": "https://localhost:8080/",
          "height": 310
        },
        "outputId": "d98a9ae6-0e98-4fed-c72e-21d714f7a572"
      },
      "outputs": [
        {
          "output_type": "execute_result",
          "data": {
            "text/plain": [
              "         Date                 From                   To  \\\n",
              "0  13-05-2023                 PSTB               Somber   \n",
              "1  13-05-2023  Running ME/Stand by  Running ME/Stand by   \n",
              "2  13-05-2023               SOMBER                 PSTB   \n",
              "3  13-05-2023  Running ME/Stand by  Running ME/Stand by   \n",
              "4  13-05-2023                 PSTB               SOMBER   \n",
              "\n",
              "   Fuel Daily Consumption  Opening Fuel Tank Sounding  \\\n",
              "0                    46.0                        23.6   \n",
              "1                    46.0                        23.6   \n",
              "2                    46.0                        23.6   \n",
              "3                    46.0                        23.6   \n",
              "4                    46.0                        23.6   \n",
              "\n",
              "   Closing Fuel Tank Sounding  Fuel Tank Stock After Fuel Capacity  \n",
              "0                        22.6                    980          high  \n",
              "1                        22.6                    980          high  \n",
              "2                        22.6                    980          high  \n",
              "3                        22.6                    980          high  \n",
              "4                        22.6                    980          high  "
            ],
            "text/html": [
              "\n",
              "  <div id=\"df-feb1dd33-17cc-4f6a-a441-839c14007503\" class=\"colab-df-container\">\n",
              "    <div>\n",
              "<style scoped>\n",
              "    .dataframe tbody tr th:only-of-type {\n",
              "        vertical-align: middle;\n",
              "    }\n",
              "\n",
              "    .dataframe tbody tr th {\n",
              "        vertical-align: top;\n",
              "    }\n",
              "\n",
              "    .dataframe thead th {\n",
              "        text-align: right;\n",
              "    }\n",
              "</style>\n",
              "<table border=\"1\" class=\"dataframe\">\n",
              "  <thead>\n",
              "    <tr style=\"text-align: right;\">\n",
              "      <th></th>\n",
              "      <th>Date</th>\n",
              "      <th>From</th>\n",
              "      <th>To</th>\n",
              "      <th>Fuel Daily Consumption</th>\n",
              "      <th>Opening Fuel Tank Sounding</th>\n",
              "      <th>Closing Fuel Tank Sounding</th>\n",
              "      <th>Fuel Tank Stock After</th>\n",
              "      <th>Fuel Capacity</th>\n",
              "    </tr>\n",
              "  </thead>\n",
              "  <tbody>\n",
              "    <tr>\n",
              "      <th>0</th>\n",
              "      <td>13-05-2023</td>\n",
              "      <td>PSTB</td>\n",
              "      <td>Somber</td>\n",
              "      <td>46.0</td>\n",
              "      <td>23.6</td>\n",
              "      <td>22.6</td>\n",
              "      <td>980</td>\n",
              "      <td>high</td>\n",
              "    </tr>\n",
              "    <tr>\n",
              "      <th>1</th>\n",
              "      <td>13-05-2023</td>\n",
              "      <td>Running ME/Stand by</td>\n",
              "      <td>Running ME/Stand by</td>\n",
              "      <td>46.0</td>\n",
              "      <td>23.6</td>\n",
              "      <td>22.6</td>\n",
              "      <td>980</td>\n",
              "      <td>high</td>\n",
              "    </tr>\n",
              "    <tr>\n",
              "      <th>2</th>\n",
              "      <td>13-05-2023</td>\n",
              "      <td>SOMBER</td>\n",
              "      <td>PSTB</td>\n",
              "      <td>46.0</td>\n",
              "      <td>23.6</td>\n",
              "      <td>22.6</td>\n",
              "      <td>980</td>\n",
              "      <td>high</td>\n",
              "    </tr>\n",
              "    <tr>\n",
              "      <th>3</th>\n",
              "      <td>13-05-2023</td>\n",
              "      <td>Running ME/Stand by</td>\n",
              "      <td>Running ME/Stand by</td>\n",
              "      <td>46.0</td>\n",
              "      <td>23.6</td>\n",
              "      <td>22.6</td>\n",
              "      <td>980</td>\n",
              "      <td>high</td>\n",
              "    </tr>\n",
              "    <tr>\n",
              "      <th>4</th>\n",
              "      <td>13-05-2023</td>\n",
              "      <td>PSTB</td>\n",
              "      <td>SOMBER</td>\n",
              "      <td>46.0</td>\n",
              "      <td>23.6</td>\n",
              "      <td>22.6</td>\n",
              "      <td>980</td>\n",
              "      <td>high</td>\n",
              "    </tr>\n",
              "  </tbody>\n",
              "</table>\n",
              "</div>\n",
              "    <div class=\"colab-df-buttons\">\n",
              "\n",
              "  <div class=\"colab-df-container\">\n",
              "    <button class=\"colab-df-convert\" onclick=\"convertToInteractive('df-feb1dd33-17cc-4f6a-a441-839c14007503')\"\n",
              "            title=\"Convert this dataframe to an interactive table.\"\n",
              "            style=\"display:none;\">\n",
              "\n",
              "  <svg xmlns=\"http://www.w3.org/2000/svg\" height=\"24px\" viewBox=\"0 -960 960 960\">\n",
              "    <path d=\"M120-120v-720h720v720H120Zm60-500h600v-160H180v160Zm220 220h160v-160H400v160Zm0 220h160v-160H400v160ZM180-400h160v-160H180v160Zm440 0h160v-160H620v160ZM180-180h160v-160H180v160Zm440 0h160v-160H620v160Z\"/>\n",
              "  </svg>\n",
              "    </button>\n",
              "\n",
              "  <style>\n",
              "    .colab-df-container {\n",
              "      display:flex;\n",
              "      gap: 12px;\n",
              "    }\n",
              "\n",
              "    .colab-df-convert {\n",
              "      background-color: #E8F0FE;\n",
              "      border: none;\n",
              "      border-radius: 50%;\n",
              "      cursor: pointer;\n",
              "      display: none;\n",
              "      fill: #1967D2;\n",
              "      height: 32px;\n",
              "      padding: 0 0 0 0;\n",
              "      width: 32px;\n",
              "    }\n",
              "\n",
              "    .colab-df-convert:hover {\n",
              "      background-color: #E2EBFA;\n",
              "      box-shadow: 0px 1px 2px rgba(60, 64, 67, 0.3), 0px 1px 3px 1px rgba(60, 64, 67, 0.15);\n",
              "      fill: #174EA6;\n",
              "    }\n",
              "\n",
              "    .colab-df-buttons div {\n",
              "      margin-bottom: 4px;\n",
              "    }\n",
              "\n",
              "    [theme=dark] .colab-df-convert {\n",
              "      background-color: #3B4455;\n",
              "      fill: #D2E3FC;\n",
              "    }\n",
              "\n",
              "    [theme=dark] .colab-df-convert:hover {\n",
              "      background-color: #434B5C;\n",
              "      box-shadow: 0px 1px 3px 1px rgba(0, 0, 0, 0.15);\n",
              "      filter: drop-shadow(0px 1px 2px rgba(0, 0, 0, 0.3));\n",
              "      fill: #FFFFFF;\n",
              "    }\n",
              "  </style>\n",
              "\n",
              "    <script>\n",
              "      const buttonEl =\n",
              "        document.querySelector('#df-feb1dd33-17cc-4f6a-a441-839c14007503 button.colab-df-convert');\n",
              "      buttonEl.style.display =\n",
              "        google.colab.kernel.accessAllowed ? 'block' : 'none';\n",
              "\n",
              "      async function convertToInteractive(key) {\n",
              "        const element = document.querySelector('#df-feb1dd33-17cc-4f6a-a441-839c14007503');\n",
              "        const dataTable =\n",
              "          await google.colab.kernel.invokeFunction('convertToInteractive',\n",
              "                                                    [key], {});\n",
              "        if (!dataTable) return;\n",
              "\n",
              "        const docLinkHtml = 'Like what you see? Visit the ' +\n",
              "          '<a target=\"_blank\" href=https://colab.research.google.com/notebooks/data_table.ipynb>data table notebook</a>'\n",
              "          + ' to learn more about interactive tables.';\n",
              "        element.innerHTML = '';\n",
              "        dataTable['output_type'] = 'display_data';\n",
              "        await google.colab.output.renderOutput(dataTable, element);\n",
              "        const docLink = document.createElement('div');\n",
              "        docLink.innerHTML = docLinkHtml;\n",
              "        element.appendChild(docLink);\n",
              "      }\n",
              "    </script>\n",
              "  </div>\n",
              "\n",
              "\n",
              "<div id=\"df-f28e96e5-a450-4262-962f-9a6b08fb65e5\">\n",
              "  <button class=\"colab-df-quickchart\" onclick=\"quickchart('df-f28e96e5-a450-4262-962f-9a6b08fb65e5')\"\n",
              "            title=\"Suggest charts\"\n",
              "            style=\"display:none;\">\n",
              "\n",
              "<svg xmlns=\"http://www.w3.org/2000/svg\" height=\"24px\"viewBox=\"0 0 24 24\"\n",
              "     width=\"24px\">\n",
              "    <g>\n",
              "        <path d=\"M19 3H5c-1.1 0-2 .9-2 2v14c0 1.1.9 2 2 2h14c1.1 0 2-.9 2-2V5c0-1.1-.9-2-2-2zM9 17H7v-7h2v7zm4 0h-2V7h2v10zm4 0h-2v-4h2v4z\"/>\n",
              "    </g>\n",
              "</svg>\n",
              "  </button>\n",
              "\n",
              "<style>\n",
              "  .colab-df-quickchart {\n",
              "      --bg-color: #E8F0FE;\n",
              "      --fill-color: #1967D2;\n",
              "      --hover-bg-color: #E2EBFA;\n",
              "      --hover-fill-color: #174EA6;\n",
              "      --disabled-fill-color: #AAA;\n",
              "      --disabled-bg-color: #DDD;\n",
              "  }\n",
              "\n",
              "  [theme=dark] .colab-df-quickchart {\n",
              "      --bg-color: #3B4455;\n",
              "      --fill-color: #D2E3FC;\n",
              "      --hover-bg-color: #434B5C;\n",
              "      --hover-fill-color: #FFFFFF;\n",
              "      --disabled-bg-color: #3B4455;\n",
              "      --disabled-fill-color: #666;\n",
              "  }\n",
              "\n",
              "  .colab-df-quickchart {\n",
              "    background-color: var(--bg-color);\n",
              "    border: none;\n",
              "    border-radius: 50%;\n",
              "    cursor: pointer;\n",
              "    display: none;\n",
              "    fill: var(--fill-color);\n",
              "    height: 32px;\n",
              "    padding: 0;\n",
              "    width: 32px;\n",
              "  }\n",
              "\n",
              "  .colab-df-quickchart:hover {\n",
              "    background-color: var(--hover-bg-color);\n",
              "    box-shadow: 0 1px 2px rgba(60, 64, 67, 0.3), 0 1px 3px 1px rgba(60, 64, 67, 0.15);\n",
              "    fill: var(--button-hover-fill-color);\n",
              "  }\n",
              "\n",
              "  .colab-df-quickchart-complete:disabled,\n",
              "  .colab-df-quickchart-complete:disabled:hover {\n",
              "    background-color: var(--disabled-bg-color);\n",
              "    fill: var(--disabled-fill-color);\n",
              "    box-shadow: none;\n",
              "  }\n",
              "\n",
              "  .colab-df-spinner {\n",
              "    border: 2px solid var(--fill-color);\n",
              "    border-color: transparent;\n",
              "    border-bottom-color: var(--fill-color);\n",
              "    animation:\n",
              "      spin 1s steps(1) infinite;\n",
              "  }\n",
              "\n",
              "  @keyframes spin {\n",
              "    0% {\n",
              "      border-color: transparent;\n",
              "      border-bottom-color: var(--fill-color);\n",
              "      border-left-color: var(--fill-color);\n",
              "    }\n",
              "    20% {\n",
              "      border-color: transparent;\n",
              "      border-left-color: var(--fill-color);\n",
              "      border-top-color: var(--fill-color);\n",
              "    }\n",
              "    30% {\n",
              "      border-color: transparent;\n",
              "      border-left-color: var(--fill-color);\n",
              "      border-top-color: var(--fill-color);\n",
              "      border-right-color: var(--fill-color);\n",
              "    }\n",
              "    40% {\n",
              "      border-color: transparent;\n",
              "      border-right-color: var(--fill-color);\n",
              "      border-top-color: var(--fill-color);\n",
              "    }\n",
              "    60% {\n",
              "      border-color: transparent;\n",
              "      border-right-color: var(--fill-color);\n",
              "    }\n",
              "    80% {\n",
              "      border-color: transparent;\n",
              "      border-right-color: var(--fill-color);\n",
              "      border-bottom-color: var(--fill-color);\n",
              "    }\n",
              "    90% {\n",
              "      border-color: transparent;\n",
              "      border-bottom-color: var(--fill-color);\n",
              "    }\n",
              "  }\n",
              "</style>\n",
              "\n",
              "  <script>\n",
              "    async function quickchart(key) {\n",
              "      const quickchartButtonEl =\n",
              "        document.querySelector('#' + key + ' button');\n",
              "      quickchartButtonEl.disabled = true;  // To prevent multiple clicks.\n",
              "      quickchartButtonEl.classList.add('colab-df-spinner');\n",
              "      try {\n",
              "        const charts = await google.colab.kernel.invokeFunction(\n",
              "            'suggestCharts', [key], {});\n",
              "      } catch (error) {\n",
              "        console.error('Error during call to suggestCharts:', error);\n",
              "      }\n",
              "      quickchartButtonEl.classList.remove('colab-df-spinner');\n",
              "      quickchartButtonEl.classList.add('colab-df-quickchart-complete');\n",
              "    }\n",
              "    (() => {\n",
              "      let quickchartButtonEl =\n",
              "        document.querySelector('#df-f28e96e5-a450-4262-962f-9a6b08fb65e5 button');\n",
              "      quickchartButtonEl.style.display =\n",
              "        google.colab.kernel.accessAllowed ? 'block' : 'none';\n",
              "    })();\n",
              "  </script>\n",
              "</div>\n",
              "    </div>\n",
              "  </div>\n"
            ],
            "application/vnd.google.colaboratory.intrinsic+json": {
              "type": "dataframe",
              "variable_name": "df",
              "summary": "{\n  \"name\": \"df\",\n  \"rows\": 131,\n  \"fields\": [\n    {\n      \"column\": \"Date\",\n      \"properties\": {\n        \"dtype\": \"object\",\n        \"num_unique_values\": 11,\n        \"samples\": [\n          \"18-05-2023\",\n          \"13-05-2023\",\n          \"23-05-2023\"\n        ],\n        \"semantic_type\": \"\",\n        \"description\": \"\"\n      }\n    },\n    {\n      \"column\": \"From\",\n      \"properties\": {\n        \"dtype\": \"category\",\n        \"num_unique_values\": 4,\n        \"samples\": [\n          \"Running ME/Stand by\",\n          \"JETTY BUNKER\",\n          \"PSTB\"\n        ],\n        \"semantic_type\": \"\",\n        \"description\": \"\"\n      }\n    },\n    {\n      \"column\": \"To\",\n      \"properties\": {\n        \"dtype\": \"category\",\n        \"num_unique_values\": 5,\n        \"samples\": [\n          \"Running ME/Stand by\",\n          \"JETTY BUNKER\",\n          \"PSTB\"\n        ],\n        \"semantic_type\": \"\",\n        \"description\": \"\"\n      }\n    },\n    {\n      \"column\": \"Fuel Daily Consumption\",\n      \"properties\": {\n        \"dtype\": \"number\",\n        \"std\": 3.030620012959022,\n        \"min\": 46.0,\n        \"max\": 55.2,\n        \"num_unique_values\": 3,\n        \"samples\": [\n          46.0,\n          50.6,\n          55.2\n        ],\n        \"semantic_type\": \"\",\n        \"description\": \"\"\n      }\n    },\n    {\n      \"column\": \"Opening Fuel Tank Sounding\",\n      \"properties\": {\n        \"dtype\": \"number\",\n        \"std\": 3.3092439791358474,\n        \"min\": 14.1,\n        \"max\": 23.7,\n        \"num_unique_values\": 11,\n        \"samples\": [\n          18.0,\n          23.6,\n          23.7\n        ],\n        \"semantic_type\": \"\",\n        \"description\": \"\"\n      }\n    },\n    {\n      \"column\": \"Closing Fuel Tank Sounding\",\n      \"properties\": {\n        \"dtype\": \"number\",\n        \"std\": 3.3011967793755828,\n        \"min\": 13.1,\n        \"max\": 22.6,\n        \"num_unique_values\": 11,\n        \"samples\": [\n          16.9,\n          22.6,\n          22.5\n        ],\n        \"semantic_type\": \"\",\n        \"description\": \"\"\n      }\n    },\n    {\n      \"column\": \"Fuel Tank Stock After\",\n      \"properties\": {\n        \"dtype\": \"number\",\n        \"std\": 133,\n        \"min\": 589,\n        \"max\": 1007,\n        \"num_unique_values\": 11,\n        \"samples\": [\n          718,\n          980,\n          952\n        ],\n        \"semantic_type\": \"\",\n        \"description\": \"\"\n      }\n    },\n    {\n      \"column\": \"Fuel Capacity\",\n      \"properties\": {\n        \"dtype\": \"category\",\n        \"num_unique_values\": 2,\n        \"samples\": [\n          \"low\",\n          \"high\"\n        ],\n        \"semantic_type\": \"\",\n        \"description\": \"\"\n      }\n    }\n  ]\n}"
            }
          },
          "metadata": {},
          "execution_count": 34
        }
      ],
      "source": [
        "df.head()"
      ]
    },
    {
      "cell_type": "markdown",
      "metadata": {
        "id": "AuH3GCibWvR8"
      },
      "source": [
        "Pada tahap ini kita akan menambahkan kolom **\"fuel_capacity\"** yang meruapakan kolom untuk mengukur kapasitas bensin apakah **High** (tinggi)  atau **Low** (rendah)."
      ]
    },
    {
      "cell_type": "markdown",
      "metadata": {
        "id": "IkxGcQFoXnqy"
      },
      "source": [
        "Kami percaya bahwa setiap atribut dalam dataset ini memiliki nilai yang signifikan dan relevan untuk analisis yang kami lakukan. Oleh karena itu, dari perspektif kami, tidak ada kebutuhan untuk melakukan **data reduction** karena setiap aspek dari dataset memiliki relevansi yang kuat dan memberikan kontribusi penting terhadap pemahaman keseluruhan tentang operasi kapal."
      ]
    },
    {
      "cell_type": "code",
      "execution_count": 35,
      "metadata": {
        "id": "BEqAZTCBYmA8",
        "colab": {
          "base_uri": "https://localhost:8080/",
          "height": 614
        },
        "outputId": "d433543f-4749-4c3f-9fd6-81d1dd7d0b52"
      },
      "outputs": [
        {
          "output_type": "execute_result",
          "data": {
            "text/plain": [
              "           Date                 From                   To  \\\n",
              "0    13-05-2023                 PSTB               Somber   \n",
              "1    13-05-2023  Running ME/Stand by  Running ME/Stand by   \n",
              "2    13-05-2023               SOMBER                 PSTB   \n",
              "3    13-05-2023  Running ME/Stand by  Running ME/Stand by   \n",
              "4    13-05-2023                 PSTB               SOMBER   \n",
              "..          ...                  ...                  ...   \n",
              "130  24-05-2023                 PSTB               SOMBER   \n",
              "131  24-05-2023  Running ME/Stand by  Running ME/Stand by   \n",
              "132  24-05-2023               SOMBER                 PSTB   \n",
              "133  24-05-2023  Running ME/Stand by  Running ME/Stand by   \n",
              "134  24-05-2023                 PSTB               SOMBER   \n",
              "\n",
              "     Fuel Daily Consumption  Opening Fuel Tank Sounding  \\\n",
              "0                      46.0                        23.6   \n",
              "1                      46.0                        23.6   \n",
              "2                      46.0                        23.6   \n",
              "3                      46.0                        23.6   \n",
              "4                      46.0                        23.6   \n",
              "..                      ...                         ...   \n",
              "130                    55.2                        22.5   \n",
              "131                    55.2                        22.5   \n",
              "132                    55.2                        22.5   \n",
              "133                    55.2                        22.5   \n",
              "134                    55.2                        22.5   \n",
              "\n",
              "     Closing Fuel Tank Sounding  Fuel Tank Stock After Fuel Capacity  \n",
              "0                          22.6                    980          high  \n",
              "1                          22.6                    980          high  \n",
              "2                          22.6                    980          high  \n",
              "3                          22.6                    980          high  \n",
              "4                          22.6                    980          high  \n",
              "..                          ...                    ...           ...  \n",
              "130                        21.3                    897          high  \n",
              "131                        21.3                    897          high  \n",
              "132                        21.3                    897          high  \n",
              "133                        21.3                    897          high  \n",
              "134                        21.3                    897          high  \n",
              "\n",
              "[131 rows x 8 columns]"
            ],
            "text/html": [
              "\n",
              "  <div id=\"df-67a459c5-9d03-4913-95fa-808f4f58cb88\" class=\"colab-df-container\">\n",
              "    <div>\n",
              "<style scoped>\n",
              "    .dataframe tbody tr th:only-of-type {\n",
              "        vertical-align: middle;\n",
              "    }\n",
              "\n",
              "    .dataframe tbody tr th {\n",
              "        vertical-align: top;\n",
              "    }\n",
              "\n",
              "    .dataframe thead th {\n",
              "        text-align: right;\n",
              "    }\n",
              "</style>\n",
              "<table border=\"1\" class=\"dataframe\">\n",
              "  <thead>\n",
              "    <tr style=\"text-align: right;\">\n",
              "      <th></th>\n",
              "      <th>Date</th>\n",
              "      <th>From</th>\n",
              "      <th>To</th>\n",
              "      <th>Fuel Daily Consumption</th>\n",
              "      <th>Opening Fuel Tank Sounding</th>\n",
              "      <th>Closing Fuel Tank Sounding</th>\n",
              "      <th>Fuel Tank Stock After</th>\n",
              "      <th>Fuel Capacity</th>\n",
              "    </tr>\n",
              "  </thead>\n",
              "  <tbody>\n",
              "    <tr>\n",
              "      <th>0</th>\n",
              "      <td>13-05-2023</td>\n",
              "      <td>PSTB</td>\n",
              "      <td>Somber</td>\n",
              "      <td>46.0</td>\n",
              "      <td>23.6</td>\n",
              "      <td>22.6</td>\n",
              "      <td>980</td>\n",
              "      <td>high</td>\n",
              "    </tr>\n",
              "    <tr>\n",
              "      <th>1</th>\n",
              "      <td>13-05-2023</td>\n",
              "      <td>Running ME/Stand by</td>\n",
              "      <td>Running ME/Stand by</td>\n",
              "      <td>46.0</td>\n",
              "      <td>23.6</td>\n",
              "      <td>22.6</td>\n",
              "      <td>980</td>\n",
              "      <td>high</td>\n",
              "    </tr>\n",
              "    <tr>\n",
              "      <th>2</th>\n",
              "      <td>13-05-2023</td>\n",
              "      <td>SOMBER</td>\n",
              "      <td>PSTB</td>\n",
              "      <td>46.0</td>\n",
              "      <td>23.6</td>\n",
              "      <td>22.6</td>\n",
              "      <td>980</td>\n",
              "      <td>high</td>\n",
              "    </tr>\n",
              "    <tr>\n",
              "      <th>3</th>\n",
              "      <td>13-05-2023</td>\n",
              "      <td>Running ME/Stand by</td>\n",
              "      <td>Running ME/Stand by</td>\n",
              "      <td>46.0</td>\n",
              "      <td>23.6</td>\n",
              "      <td>22.6</td>\n",
              "      <td>980</td>\n",
              "      <td>high</td>\n",
              "    </tr>\n",
              "    <tr>\n",
              "      <th>4</th>\n",
              "      <td>13-05-2023</td>\n",
              "      <td>PSTB</td>\n",
              "      <td>SOMBER</td>\n",
              "      <td>46.0</td>\n",
              "      <td>23.6</td>\n",
              "      <td>22.6</td>\n",
              "      <td>980</td>\n",
              "      <td>high</td>\n",
              "    </tr>\n",
              "    <tr>\n",
              "      <th>...</th>\n",
              "      <td>...</td>\n",
              "      <td>...</td>\n",
              "      <td>...</td>\n",
              "      <td>...</td>\n",
              "      <td>...</td>\n",
              "      <td>...</td>\n",
              "      <td>...</td>\n",
              "      <td>...</td>\n",
              "    </tr>\n",
              "    <tr>\n",
              "      <th>130</th>\n",
              "      <td>24-05-2023</td>\n",
              "      <td>PSTB</td>\n",
              "      <td>SOMBER</td>\n",
              "      <td>55.2</td>\n",
              "      <td>22.5</td>\n",
              "      <td>21.3</td>\n",
              "      <td>897</td>\n",
              "      <td>high</td>\n",
              "    </tr>\n",
              "    <tr>\n",
              "      <th>131</th>\n",
              "      <td>24-05-2023</td>\n",
              "      <td>Running ME/Stand by</td>\n",
              "      <td>Running ME/Stand by</td>\n",
              "      <td>55.2</td>\n",
              "      <td>22.5</td>\n",
              "      <td>21.3</td>\n",
              "      <td>897</td>\n",
              "      <td>high</td>\n",
              "    </tr>\n",
              "    <tr>\n",
              "      <th>132</th>\n",
              "      <td>24-05-2023</td>\n",
              "      <td>SOMBER</td>\n",
              "      <td>PSTB</td>\n",
              "      <td>55.2</td>\n",
              "      <td>22.5</td>\n",
              "      <td>21.3</td>\n",
              "      <td>897</td>\n",
              "      <td>high</td>\n",
              "    </tr>\n",
              "    <tr>\n",
              "      <th>133</th>\n",
              "      <td>24-05-2023</td>\n",
              "      <td>Running ME/Stand by</td>\n",
              "      <td>Running ME/Stand by</td>\n",
              "      <td>55.2</td>\n",
              "      <td>22.5</td>\n",
              "      <td>21.3</td>\n",
              "      <td>897</td>\n",
              "      <td>high</td>\n",
              "    </tr>\n",
              "    <tr>\n",
              "      <th>134</th>\n",
              "      <td>24-05-2023</td>\n",
              "      <td>PSTB</td>\n",
              "      <td>SOMBER</td>\n",
              "      <td>55.2</td>\n",
              "      <td>22.5</td>\n",
              "      <td>21.3</td>\n",
              "      <td>897</td>\n",
              "      <td>high</td>\n",
              "    </tr>\n",
              "  </tbody>\n",
              "</table>\n",
              "<p>131 rows × 8 columns</p>\n",
              "</div>\n",
              "    <div class=\"colab-df-buttons\">\n",
              "\n",
              "  <div class=\"colab-df-container\">\n",
              "    <button class=\"colab-df-convert\" onclick=\"convertToInteractive('df-67a459c5-9d03-4913-95fa-808f4f58cb88')\"\n",
              "            title=\"Convert this dataframe to an interactive table.\"\n",
              "            style=\"display:none;\">\n",
              "\n",
              "  <svg xmlns=\"http://www.w3.org/2000/svg\" height=\"24px\" viewBox=\"0 -960 960 960\">\n",
              "    <path d=\"M120-120v-720h720v720H120Zm60-500h600v-160H180v160Zm220 220h160v-160H400v160Zm0 220h160v-160H400v160ZM180-400h160v-160H180v160Zm440 0h160v-160H620v160ZM180-180h160v-160H180v160Zm440 0h160v-160H620v160Z\"/>\n",
              "  </svg>\n",
              "    </button>\n",
              "\n",
              "  <style>\n",
              "    .colab-df-container {\n",
              "      display:flex;\n",
              "      gap: 12px;\n",
              "    }\n",
              "\n",
              "    .colab-df-convert {\n",
              "      background-color: #E8F0FE;\n",
              "      border: none;\n",
              "      border-radius: 50%;\n",
              "      cursor: pointer;\n",
              "      display: none;\n",
              "      fill: #1967D2;\n",
              "      height: 32px;\n",
              "      padding: 0 0 0 0;\n",
              "      width: 32px;\n",
              "    }\n",
              "\n",
              "    .colab-df-convert:hover {\n",
              "      background-color: #E2EBFA;\n",
              "      box-shadow: 0px 1px 2px rgba(60, 64, 67, 0.3), 0px 1px 3px 1px rgba(60, 64, 67, 0.15);\n",
              "      fill: #174EA6;\n",
              "    }\n",
              "\n",
              "    .colab-df-buttons div {\n",
              "      margin-bottom: 4px;\n",
              "    }\n",
              "\n",
              "    [theme=dark] .colab-df-convert {\n",
              "      background-color: #3B4455;\n",
              "      fill: #D2E3FC;\n",
              "    }\n",
              "\n",
              "    [theme=dark] .colab-df-convert:hover {\n",
              "      background-color: #434B5C;\n",
              "      box-shadow: 0px 1px 3px 1px rgba(0, 0, 0, 0.15);\n",
              "      filter: drop-shadow(0px 1px 2px rgba(0, 0, 0, 0.3));\n",
              "      fill: #FFFFFF;\n",
              "    }\n",
              "  </style>\n",
              "\n",
              "    <script>\n",
              "      const buttonEl =\n",
              "        document.querySelector('#df-67a459c5-9d03-4913-95fa-808f4f58cb88 button.colab-df-convert');\n",
              "      buttonEl.style.display =\n",
              "        google.colab.kernel.accessAllowed ? 'block' : 'none';\n",
              "\n",
              "      async function convertToInteractive(key) {\n",
              "        const element = document.querySelector('#df-67a459c5-9d03-4913-95fa-808f4f58cb88');\n",
              "        const dataTable =\n",
              "          await google.colab.kernel.invokeFunction('convertToInteractive',\n",
              "                                                    [key], {});\n",
              "        if (!dataTable) return;\n",
              "\n",
              "        const docLinkHtml = 'Like what you see? Visit the ' +\n",
              "          '<a target=\"_blank\" href=https://colab.research.google.com/notebooks/data_table.ipynb>data table notebook</a>'\n",
              "          + ' to learn more about interactive tables.';\n",
              "        element.innerHTML = '';\n",
              "        dataTable['output_type'] = 'display_data';\n",
              "        await google.colab.output.renderOutput(dataTable, element);\n",
              "        const docLink = document.createElement('div');\n",
              "        docLink.innerHTML = docLinkHtml;\n",
              "        element.appendChild(docLink);\n",
              "      }\n",
              "    </script>\n",
              "  </div>\n",
              "\n",
              "\n",
              "<div id=\"df-0eeb7fe3-d839-4275-b381-d0937d58108d\">\n",
              "  <button class=\"colab-df-quickchart\" onclick=\"quickchart('df-0eeb7fe3-d839-4275-b381-d0937d58108d')\"\n",
              "            title=\"Suggest charts\"\n",
              "            style=\"display:none;\">\n",
              "\n",
              "<svg xmlns=\"http://www.w3.org/2000/svg\" height=\"24px\"viewBox=\"0 0 24 24\"\n",
              "     width=\"24px\">\n",
              "    <g>\n",
              "        <path d=\"M19 3H5c-1.1 0-2 .9-2 2v14c0 1.1.9 2 2 2h14c1.1 0 2-.9 2-2V5c0-1.1-.9-2-2-2zM9 17H7v-7h2v7zm4 0h-2V7h2v10zm4 0h-2v-4h2v4z\"/>\n",
              "    </g>\n",
              "</svg>\n",
              "  </button>\n",
              "\n",
              "<style>\n",
              "  .colab-df-quickchart {\n",
              "      --bg-color: #E8F0FE;\n",
              "      --fill-color: #1967D2;\n",
              "      --hover-bg-color: #E2EBFA;\n",
              "      --hover-fill-color: #174EA6;\n",
              "      --disabled-fill-color: #AAA;\n",
              "      --disabled-bg-color: #DDD;\n",
              "  }\n",
              "\n",
              "  [theme=dark] .colab-df-quickchart {\n",
              "      --bg-color: #3B4455;\n",
              "      --fill-color: #D2E3FC;\n",
              "      --hover-bg-color: #434B5C;\n",
              "      --hover-fill-color: #FFFFFF;\n",
              "      --disabled-bg-color: #3B4455;\n",
              "      --disabled-fill-color: #666;\n",
              "  }\n",
              "\n",
              "  .colab-df-quickchart {\n",
              "    background-color: var(--bg-color);\n",
              "    border: none;\n",
              "    border-radius: 50%;\n",
              "    cursor: pointer;\n",
              "    display: none;\n",
              "    fill: var(--fill-color);\n",
              "    height: 32px;\n",
              "    padding: 0;\n",
              "    width: 32px;\n",
              "  }\n",
              "\n",
              "  .colab-df-quickchart:hover {\n",
              "    background-color: var(--hover-bg-color);\n",
              "    box-shadow: 0 1px 2px rgba(60, 64, 67, 0.3), 0 1px 3px 1px rgba(60, 64, 67, 0.15);\n",
              "    fill: var(--button-hover-fill-color);\n",
              "  }\n",
              "\n",
              "  .colab-df-quickchart-complete:disabled,\n",
              "  .colab-df-quickchart-complete:disabled:hover {\n",
              "    background-color: var(--disabled-bg-color);\n",
              "    fill: var(--disabled-fill-color);\n",
              "    box-shadow: none;\n",
              "  }\n",
              "\n",
              "  .colab-df-spinner {\n",
              "    border: 2px solid var(--fill-color);\n",
              "    border-color: transparent;\n",
              "    border-bottom-color: var(--fill-color);\n",
              "    animation:\n",
              "      spin 1s steps(1) infinite;\n",
              "  }\n",
              "\n",
              "  @keyframes spin {\n",
              "    0% {\n",
              "      border-color: transparent;\n",
              "      border-bottom-color: var(--fill-color);\n",
              "      border-left-color: var(--fill-color);\n",
              "    }\n",
              "    20% {\n",
              "      border-color: transparent;\n",
              "      border-left-color: var(--fill-color);\n",
              "      border-top-color: var(--fill-color);\n",
              "    }\n",
              "    30% {\n",
              "      border-color: transparent;\n",
              "      border-left-color: var(--fill-color);\n",
              "      border-top-color: var(--fill-color);\n",
              "      border-right-color: var(--fill-color);\n",
              "    }\n",
              "    40% {\n",
              "      border-color: transparent;\n",
              "      border-right-color: var(--fill-color);\n",
              "      border-top-color: var(--fill-color);\n",
              "    }\n",
              "    60% {\n",
              "      border-color: transparent;\n",
              "      border-right-color: var(--fill-color);\n",
              "    }\n",
              "    80% {\n",
              "      border-color: transparent;\n",
              "      border-right-color: var(--fill-color);\n",
              "      border-bottom-color: var(--fill-color);\n",
              "    }\n",
              "    90% {\n",
              "      border-color: transparent;\n",
              "      border-bottom-color: var(--fill-color);\n",
              "    }\n",
              "  }\n",
              "</style>\n",
              "\n",
              "  <script>\n",
              "    async function quickchart(key) {\n",
              "      const quickchartButtonEl =\n",
              "        document.querySelector('#' + key + ' button');\n",
              "      quickchartButtonEl.disabled = true;  // To prevent multiple clicks.\n",
              "      quickchartButtonEl.classList.add('colab-df-spinner');\n",
              "      try {\n",
              "        const charts = await google.colab.kernel.invokeFunction(\n",
              "            'suggestCharts', [key], {});\n",
              "      } catch (error) {\n",
              "        console.error('Error during call to suggestCharts:', error);\n",
              "      }\n",
              "      quickchartButtonEl.classList.remove('colab-df-spinner');\n",
              "      quickchartButtonEl.classList.add('colab-df-quickchart-complete');\n",
              "    }\n",
              "    (() => {\n",
              "      let quickchartButtonEl =\n",
              "        document.querySelector('#df-0eeb7fe3-d839-4275-b381-d0937d58108d button');\n",
              "      quickchartButtonEl.style.display =\n",
              "        google.colab.kernel.accessAllowed ? 'block' : 'none';\n",
              "    })();\n",
              "  </script>\n",
              "</div>\n",
              "    </div>\n",
              "  </div>\n"
            ],
            "application/vnd.google.colaboratory.intrinsic+json": {
              "type": "dataframe",
              "variable_name": "df",
              "summary": "{\n  \"name\": \"df\",\n  \"rows\": 131,\n  \"fields\": [\n    {\n      \"column\": \"Date\",\n      \"properties\": {\n        \"dtype\": \"object\",\n        \"num_unique_values\": 11,\n        \"samples\": [\n          \"18-05-2023\",\n          \"13-05-2023\",\n          \"23-05-2023\"\n        ],\n        \"semantic_type\": \"\",\n        \"description\": \"\"\n      }\n    },\n    {\n      \"column\": \"From\",\n      \"properties\": {\n        \"dtype\": \"category\",\n        \"num_unique_values\": 4,\n        \"samples\": [\n          \"Running ME/Stand by\",\n          \"JETTY BUNKER\",\n          \"PSTB\"\n        ],\n        \"semantic_type\": \"\",\n        \"description\": \"\"\n      }\n    },\n    {\n      \"column\": \"To\",\n      \"properties\": {\n        \"dtype\": \"category\",\n        \"num_unique_values\": 5,\n        \"samples\": [\n          \"Running ME/Stand by\",\n          \"JETTY BUNKER\",\n          \"PSTB\"\n        ],\n        \"semantic_type\": \"\",\n        \"description\": \"\"\n      }\n    },\n    {\n      \"column\": \"Fuel Daily Consumption\",\n      \"properties\": {\n        \"dtype\": \"number\",\n        \"std\": 3.030620012959022,\n        \"min\": 46.0,\n        \"max\": 55.2,\n        \"num_unique_values\": 3,\n        \"samples\": [\n          46.0,\n          50.6,\n          55.2\n        ],\n        \"semantic_type\": \"\",\n        \"description\": \"\"\n      }\n    },\n    {\n      \"column\": \"Opening Fuel Tank Sounding\",\n      \"properties\": {\n        \"dtype\": \"number\",\n        \"std\": 3.3092439791358474,\n        \"min\": 14.1,\n        \"max\": 23.7,\n        \"num_unique_values\": 11,\n        \"samples\": [\n          18.0,\n          23.6,\n          23.7\n        ],\n        \"semantic_type\": \"\",\n        \"description\": \"\"\n      }\n    },\n    {\n      \"column\": \"Closing Fuel Tank Sounding\",\n      \"properties\": {\n        \"dtype\": \"number\",\n        \"std\": 3.3011967793755828,\n        \"min\": 13.1,\n        \"max\": 22.6,\n        \"num_unique_values\": 11,\n        \"samples\": [\n          16.9,\n          22.6,\n          22.5\n        ],\n        \"semantic_type\": \"\",\n        \"description\": \"\"\n      }\n    },\n    {\n      \"column\": \"Fuel Tank Stock After\",\n      \"properties\": {\n        \"dtype\": \"number\",\n        \"std\": 133,\n        \"min\": 589,\n        \"max\": 1007,\n        \"num_unique_values\": 11,\n        \"samples\": [\n          718,\n          980,\n          952\n        ],\n        \"semantic_type\": \"\",\n        \"description\": \"\"\n      }\n    },\n    {\n      \"column\": \"Fuel Capacity\",\n      \"properties\": {\n        \"dtype\": \"category\",\n        \"num_unique_values\": 2,\n        \"samples\": [\n          \"low\",\n          \"high\"\n        ],\n        \"semantic_type\": \"\",\n        \"description\": \"\"\n      }\n    }\n  ]\n}"
            }
          },
          "metadata": {},
          "execution_count": 35
        }
      ],
      "source": [
        "df"
      ]
    },
    {
      "cell_type": "markdown",
      "metadata": {
        "id": "jhlEIpmnX0In"
      },
      "source": [
        "## **Data Transformation**"
      ]
    },
    {
      "cell_type": "code",
      "source": [
        "# Konversi kolom 'Date' menjadi tipe data datetime\n",
        "df['Date'] = pd.to_datetime(df['Date'], format='%d-%m-%Y')\n",
        "\n",
        "# Ekstrak bagian tanggal dari kolom 'Date'\n",
        "df['Date'] = df['Date'].dt.day\n",
        "\n",
        "# Ubah tipe data menjadi float\n",
        "df['Date'] = df['Date'].astype(float)"
      ],
      "metadata": {
        "id": "8E7ZC-XCGEE2"
      },
      "execution_count": 36,
      "outputs": []
    },
    {
      "cell_type": "code",
      "execution_count": 37,
      "metadata": {
        "id": "_xyiLuk0X7PU"
      },
      "outputs": [],
      "source": [
        "mapping = {'low': 0, 'high': 1}\n",
        "df['Fuel Capacity'] = df['Fuel Capacity'].str.lower().replace(mapping).astype(int)"
      ]
    },
    {
      "cell_type": "code",
      "execution_count": 38,
      "metadata": {
        "id": "ruv-dEn8jaIU"
      },
      "outputs": [],
      "source": [
        "# Kamus pemetaan\n",
        "mapping = {'PSTB': '0', 'SOMBER': '1', 'Running ME/Stand by': '2'}\n",
        "\n",
        "# Ganti nilai menggunakan pemetaan dan kemudian konversi ke float\n",
        "df['From'] = df['From'].map(mapping).astype(float)"
      ]
    },
    {
      "cell_type": "code",
      "execution_count": 39,
      "metadata": {
        "id": "HVdon8XzmG77"
      },
      "outputs": [],
      "source": [
        "# Kamus pemetaan\n",
        "mapping = {'PSTB': '0', 'SOMBER': '1', 'Running ME/Stand by': '2'}\n",
        "\n",
        "# Ganti nilai menggunakan pemetaan dan kemudian konversi ke float\n",
        "df['To'] = df['To'].map(mapping).astype(float)"
      ]
    },
    {
      "cell_type": "code",
      "source": [
        "df = df.dropna()"
      ],
      "metadata": {
        "id": "7Az4JH0usynY"
      },
      "execution_count": 40,
      "outputs": []
    },
    {
      "cell_type": "code",
      "execution_count": 41,
      "metadata": {
        "id": "aWRjX5tOZHdY",
        "colab": {
          "base_uri": "https://localhost:8080/",
          "height": 423
        },
        "outputId": "1a45c43e-de7e-481b-c857-bb0af182ad44"
      },
      "outputs": [
        {
          "output_type": "execute_result",
          "data": {
            "text/plain": [
              "     Date  From   To  Fuel Daily Consumption  Opening Fuel Tank Sounding  \\\n",
              "1    13.0   2.0  2.0                    46.0                        23.6   \n",
              "2    13.0   1.0  0.0                    46.0                        23.6   \n",
              "3    13.0   2.0  2.0                    46.0                        23.6   \n",
              "4    13.0   0.0  1.0                    46.0                        23.6   \n",
              "5    13.0   1.0  0.0                    46.0                        23.6   \n",
              "..    ...   ...  ...                     ...                         ...   \n",
              "130  24.0   0.0  1.0                    55.2                        22.5   \n",
              "131  24.0   2.0  2.0                    55.2                        22.5   \n",
              "132  24.0   1.0  0.0                    55.2                        22.5   \n",
              "133  24.0   2.0  2.0                    55.2                        22.5   \n",
              "134  24.0   0.0  1.0                    55.2                        22.5   \n",
              "\n",
              "     Closing Fuel Tank Sounding  Fuel Tank Stock After  Fuel Capacity  \n",
              "1                          22.6                    980              1  \n",
              "2                          22.6                    980              1  \n",
              "3                          22.6                    980              1  \n",
              "4                          22.6                    980              1  \n",
              "5                          22.6                    980              1  \n",
              "..                          ...                    ...            ...  \n",
              "130                        21.3                    897              1  \n",
              "131                        21.3                    897              1  \n",
              "132                        21.3                    897              1  \n",
              "133                        21.3                    897              1  \n",
              "134                        21.3                    897              1  \n",
              "\n",
              "[127 rows x 8 columns]"
            ],
            "text/html": [
              "\n",
              "  <div id=\"df-c6b5c3bd-d31b-44d4-b3e1-18d36c9a449f\" class=\"colab-df-container\">\n",
              "    <div>\n",
              "<style scoped>\n",
              "    .dataframe tbody tr th:only-of-type {\n",
              "        vertical-align: middle;\n",
              "    }\n",
              "\n",
              "    .dataframe tbody tr th {\n",
              "        vertical-align: top;\n",
              "    }\n",
              "\n",
              "    .dataframe thead th {\n",
              "        text-align: right;\n",
              "    }\n",
              "</style>\n",
              "<table border=\"1\" class=\"dataframe\">\n",
              "  <thead>\n",
              "    <tr style=\"text-align: right;\">\n",
              "      <th></th>\n",
              "      <th>Date</th>\n",
              "      <th>From</th>\n",
              "      <th>To</th>\n",
              "      <th>Fuel Daily Consumption</th>\n",
              "      <th>Opening Fuel Tank Sounding</th>\n",
              "      <th>Closing Fuel Tank Sounding</th>\n",
              "      <th>Fuel Tank Stock After</th>\n",
              "      <th>Fuel Capacity</th>\n",
              "    </tr>\n",
              "  </thead>\n",
              "  <tbody>\n",
              "    <tr>\n",
              "      <th>1</th>\n",
              "      <td>13.0</td>\n",
              "      <td>2.0</td>\n",
              "      <td>2.0</td>\n",
              "      <td>46.0</td>\n",
              "      <td>23.6</td>\n",
              "      <td>22.6</td>\n",
              "      <td>980</td>\n",
              "      <td>1</td>\n",
              "    </tr>\n",
              "    <tr>\n",
              "      <th>2</th>\n",
              "      <td>13.0</td>\n",
              "      <td>1.0</td>\n",
              "      <td>0.0</td>\n",
              "      <td>46.0</td>\n",
              "      <td>23.6</td>\n",
              "      <td>22.6</td>\n",
              "      <td>980</td>\n",
              "      <td>1</td>\n",
              "    </tr>\n",
              "    <tr>\n",
              "      <th>3</th>\n",
              "      <td>13.0</td>\n",
              "      <td>2.0</td>\n",
              "      <td>2.0</td>\n",
              "      <td>46.0</td>\n",
              "      <td>23.6</td>\n",
              "      <td>22.6</td>\n",
              "      <td>980</td>\n",
              "      <td>1</td>\n",
              "    </tr>\n",
              "    <tr>\n",
              "      <th>4</th>\n",
              "      <td>13.0</td>\n",
              "      <td>0.0</td>\n",
              "      <td>1.0</td>\n",
              "      <td>46.0</td>\n",
              "      <td>23.6</td>\n",
              "      <td>22.6</td>\n",
              "      <td>980</td>\n",
              "      <td>1</td>\n",
              "    </tr>\n",
              "    <tr>\n",
              "      <th>5</th>\n",
              "      <td>13.0</td>\n",
              "      <td>1.0</td>\n",
              "      <td>0.0</td>\n",
              "      <td>46.0</td>\n",
              "      <td>23.6</td>\n",
              "      <td>22.6</td>\n",
              "      <td>980</td>\n",
              "      <td>1</td>\n",
              "    </tr>\n",
              "    <tr>\n",
              "      <th>...</th>\n",
              "      <td>...</td>\n",
              "      <td>...</td>\n",
              "      <td>...</td>\n",
              "      <td>...</td>\n",
              "      <td>...</td>\n",
              "      <td>...</td>\n",
              "      <td>...</td>\n",
              "      <td>...</td>\n",
              "    </tr>\n",
              "    <tr>\n",
              "      <th>130</th>\n",
              "      <td>24.0</td>\n",
              "      <td>0.0</td>\n",
              "      <td>1.0</td>\n",
              "      <td>55.2</td>\n",
              "      <td>22.5</td>\n",
              "      <td>21.3</td>\n",
              "      <td>897</td>\n",
              "      <td>1</td>\n",
              "    </tr>\n",
              "    <tr>\n",
              "      <th>131</th>\n",
              "      <td>24.0</td>\n",
              "      <td>2.0</td>\n",
              "      <td>2.0</td>\n",
              "      <td>55.2</td>\n",
              "      <td>22.5</td>\n",
              "      <td>21.3</td>\n",
              "      <td>897</td>\n",
              "      <td>1</td>\n",
              "    </tr>\n",
              "    <tr>\n",
              "      <th>132</th>\n",
              "      <td>24.0</td>\n",
              "      <td>1.0</td>\n",
              "      <td>0.0</td>\n",
              "      <td>55.2</td>\n",
              "      <td>22.5</td>\n",
              "      <td>21.3</td>\n",
              "      <td>897</td>\n",
              "      <td>1</td>\n",
              "    </tr>\n",
              "    <tr>\n",
              "      <th>133</th>\n",
              "      <td>24.0</td>\n",
              "      <td>2.0</td>\n",
              "      <td>2.0</td>\n",
              "      <td>55.2</td>\n",
              "      <td>22.5</td>\n",
              "      <td>21.3</td>\n",
              "      <td>897</td>\n",
              "      <td>1</td>\n",
              "    </tr>\n",
              "    <tr>\n",
              "      <th>134</th>\n",
              "      <td>24.0</td>\n",
              "      <td>0.0</td>\n",
              "      <td>1.0</td>\n",
              "      <td>55.2</td>\n",
              "      <td>22.5</td>\n",
              "      <td>21.3</td>\n",
              "      <td>897</td>\n",
              "      <td>1</td>\n",
              "    </tr>\n",
              "  </tbody>\n",
              "</table>\n",
              "<p>127 rows × 8 columns</p>\n",
              "</div>\n",
              "    <div class=\"colab-df-buttons\">\n",
              "\n",
              "  <div class=\"colab-df-container\">\n",
              "    <button class=\"colab-df-convert\" onclick=\"convertToInteractive('df-c6b5c3bd-d31b-44d4-b3e1-18d36c9a449f')\"\n",
              "            title=\"Convert this dataframe to an interactive table.\"\n",
              "            style=\"display:none;\">\n",
              "\n",
              "  <svg xmlns=\"http://www.w3.org/2000/svg\" height=\"24px\" viewBox=\"0 -960 960 960\">\n",
              "    <path d=\"M120-120v-720h720v720H120Zm60-500h600v-160H180v160Zm220 220h160v-160H400v160Zm0 220h160v-160H400v160ZM180-400h160v-160H180v160Zm440 0h160v-160H620v160ZM180-180h160v-160H180v160Zm440 0h160v-160H620v160Z\"/>\n",
              "  </svg>\n",
              "    </button>\n",
              "\n",
              "  <style>\n",
              "    .colab-df-container {\n",
              "      display:flex;\n",
              "      gap: 12px;\n",
              "    }\n",
              "\n",
              "    .colab-df-convert {\n",
              "      background-color: #E8F0FE;\n",
              "      border: none;\n",
              "      border-radius: 50%;\n",
              "      cursor: pointer;\n",
              "      display: none;\n",
              "      fill: #1967D2;\n",
              "      height: 32px;\n",
              "      padding: 0 0 0 0;\n",
              "      width: 32px;\n",
              "    }\n",
              "\n",
              "    .colab-df-convert:hover {\n",
              "      background-color: #E2EBFA;\n",
              "      box-shadow: 0px 1px 2px rgba(60, 64, 67, 0.3), 0px 1px 3px 1px rgba(60, 64, 67, 0.15);\n",
              "      fill: #174EA6;\n",
              "    }\n",
              "\n",
              "    .colab-df-buttons div {\n",
              "      margin-bottom: 4px;\n",
              "    }\n",
              "\n",
              "    [theme=dark] .colab-df-convert {\n",
              "      background-color: #3B4455;\n",
              "      fill: #D2E3FC;\n",
              "    }\n",
              "\n",
              "    [theme=dark] .colab-df-convert:hover {\n",
              "      background-color: #434B5C;\n",
              "      box-shadow: 0px 1px 3px 1px rgba(0, 0, 0, 0.15);\n",
              "      filter: drop-shadow(0px 1px 2px rgba(0, 0, 0, 0.3));\n",
              "      fill: #FFFFFF;\n",
              "    }\n",
              "  </style>\n",
              "\n",
              "    <script>\n",
              "      const buttonEl =\n",
              "        document.querySelector('#df-c6b5c3bd-d31b-44d4-b3e1-18d36c9a449f button.colab-df-convert');\n",
              "      buttonEl.style.display =\n",
              "        google.colab.kernel.accessAllowed ? 'block' : 'none';\n",
              "\n",
              "      async function convertToInteractive(key) {\n",
              "        const element = document.querySelector('#df-c6b5c3bd-d31b-44d4-b3e1-18d36c9a449f');\n",
              "        const dataTable =\n",
              "          await google.colab.kernel.invokeFunction('convertToInteractive',\n",
              "                                                    [key], {});\n",
              "        if (!dataTable) return;\n",
              "\n",
              "        const docLinkHtml = 'Like what you see? Visit the ' +\n",
              "          '<a target=\"_blank\" href=https://colab.research.google.com/notebooks/data_table.ipynb>data table notebook</a>'\n",
              "          + ' to learn more about interactive tables.';\n",
              "        element.innerHTML = '';\n",
              "        dataTable['output_type'] = 'display_data';\n",
              "        await google.colab.output.renderOutput(dataTable, element);\n",
              "        const docLink = document.createElement('div');\n",
              "        docLink.innerHTML = docLinkHtml;\n",
              "        element.appendChild(docLink);\n",
              "      }\n",
              "    </script>\n",
              "  </div>\n",
              "\n",
              "\n",
              "<div id=\"df-85eb1c1c-89c6-4f45-805e-89355e163d5f\">\n",
              "  <button class=\"colab-df-quickchart\" onclick=\"quickchart('df-85eb1c1c-89c6-4f45-805e-89355e163d5f')\"\n",
              "            title=\"Suggest charts\"\n",
              "            style=\"display:none;\">\n",
              "\n",
              "<svg xmlns=\"http://www.w3.org/2000/svg\" height=\"24px\"viewBox=\"0 0 24 24\"\n",
              "     width=\"24px\">\n",
              "    <g>\n",
              "        <path d=\"M19 3H5c-1.1 0-2 .9-2 2v14c0 1.1.9 2 2 2h14c1.1 0 2-.9 2-2V5c0-1.1-.9-2-2-2zM9 17H7v-7h2v7zm4 0h-2V7h2v10zm4 0h-2v-4h2v4z\"/>\n",
              "    </g>\n",
              "</svg>\n",
              "  </button>\n",
              "\n",
              "<style>\n",
              "  .colab-df-quickchart {\n",
              "      --bg-color: #E8F0FE;\n",
              "      --fill-color: #1967D2;\n",
              "      --hover-bg-color: #E2EBFA;\n",
              "      --hover-fill-color: #174EA6;\n",
              "      --disabled-fill-color: #AAA;\n",
              "      --disabled-bg-color: #DDD;\n",
              "  }\n",
              "\n",
              "  [theme=dark] .colab-df-quickchart {\n",
              "      --bg-color: #3B4455;\n",
              "      --fill-color: #D2E3FC;\n",
              "      --hover-bg-color: #434B5C;\n",
              "      --hover-fill-color: #FFFFFF;\n",
              "      --disabled-bg-color: #3B4455;\n",
              "      --disabled-fill-color: #666;\n",
              "  }\n",
              "\n",
              "  .colab-df-quickchart {\n",
              "    background-color: var(--bg-color);\n",
              "    border: none;\n",
              "    border-radius: 50%;\n",
              "    cursor: pointer;\n",
              "    display: none;\n",
              "    fill: var(--fill-color);\n",
              "    height: 32px;\n",
              "    padding: 0;\n",
              "    width: 32px;\n",
              "  }\n",
              "\n",
              "  .colab-df-quickchart:hover {\n",
              "    background-color: var(--hover-bg-color);\n",
              "    box-shadow: 0 1px 2px rgba(60, 64, 67, 0.3), 0 1px 3px 1px rgba(60, 64, 67, 0.15);\n",
              "    fill: var(--button-hover-fill-color);\n",
              "  }\n",
              "\n",
              "  .colab-df-quickchart-complete:disabled,\n",
              "  .colab-df-quickchart-complete:disabled:hover {\n",
              "    background-color: var(--disabled-bg-color);\n",
              "    fill: var(--disabled-fill-color);\n",
              "    box-shadow: none;\n",
              "  }\n",
              "\n",
              "  .colab-df-spinner {\n",
              "    border: 2px solid var(--fill-color);\n",
              "    border-color: transparent;\n",
              "    border-bottom-color: var(--fill-color);\n",
              "    animation:\n",
              "      spin 1s steps(1) infinite;\n",
              "  }\n",
              "\n",
              "  @keyframes spin {\n",
              "    0% {\n",
              "      border-color: transparent;\n",
              "      border-bottom-color: var(--fill-color);\n",
              "      border-left-color: var(--fill-color);\n",
              "    }\n",
              "    20% {\n",
              "      border-color: transparent;\n",
              "      border-left-color: var(--fill-color);\n",
              "      border-top-color: var(--fill-color);\n",
              "    }\n",
              "    30% {\n",
              "      border-color: transparent;\n",
              "      border-left-color: var(--fill-color);\n",
              "      border-top-color: var(--fill-color);\n",
              "      border-right-color: var(--fill-color);\n",
              "    }\n",
              "    40% {\n",
              "      border-color: transparent;\n",
              "      border-right-color: var(--fill-color);\n",
              "      border-top-color: var(--fill-color);\n",
              "    }\n",
              "    60% {\n",
              "      border-color: transparent;\n",
              "      border-right-color: var(--fill-color);\n",
              "    }\n",
              "    80% {\n",
              "      border-color: transparent;\n",
              "      border-right-color: var(--fill-color);\n",
              "      border-bottom-color: var(--fill-color);\n",
              "    }\n",
              "    90% {\n",
              "      border-color: transparent;\n",
              "      border-bottom-color: var(--fill-color);\n",
              "    }\n",
              "  }\n",
              "</style>\n",
              "\n",
              "  <script>\n",
              "    async function quickchart(key) {\n",
              "      const quickchartButtonEl =\n",
              "        document.querySelector('#' + key + ' button');\n",
              "      quickchartButtonEl.disabled = true;  // To prevent multiple clicks.\n",
              "      quickchartButtonEl.classList.add('colab-df-spinner');\n",
              "      try {\n",
              "        const charts = await google.colab.kernel.invokeFunction(\n",
              "            'suggestCharts', [key], {});\n",
              "      } catch (error) {\n",
              "        console.error('Error during call to suggestCharts:', error);\n",
              "      }\n",
              "      quickchartButtonEl.classList.remove('colab-df-spinner');\n",
              "      quickchartButtonEl.classList.add('colab-df-quickchart-complete');\n",
              "    }\n",
              "    (() => {\n",
              "      let quickchartButtonEl =\n",
              "        document.querySelector('#df-85eb1c1c-89c6-4f45-805e-89355e163d5f button');\n",
              "      quickchartButtonEl.style.display =\n",
              "        google.colab.kernel.accessAllowed ? 'block' : 'none';\n",
              "    })();\n",
              "  </script>\n",
              "</div>\n",
              "    </div>\n",
              "  </div>\n"
            ],
            "application/vnd.google.colaboratory.intrinsic+json": {
              "type": "dataframe",
              "variable_name": "df",
              "summary": "{\n  \"name\": \"df\",\n  \"rows\": 127,\n  \"fields\": [\n    {\n      \"column\": \"Date\",\n      \"properties\": {\n        \"dtype\": \"number\",\n        \"std\": 3.5853895357038486,\n        \"min\": 13.0,\n        \"max\": 24.0,\n        \"num_unique_values\": 11,\n        \"samples\": [\n          18.0,\n          13.0,\n          23.0\n        ],\n        \"semantic_type\": \"\",\n        \"description\": \"\"\n      }\n    },\n    {\n      \"column\": \"From\",\n      \"properties\": {\n        \"dtype\": \"number\",\n        \"std\": 0.8213042569076934,\n        \"min\": 0.0,\n        \"max\": 2.0,\n        \"num_unique_values\": 3,\n        \"samples\": [\n          2.0,\n          1.0,\n          0.0\n        ],\n        \"semantic_type\": \"\",\n        \"description\": \"\"\n      }\n    },\n    {\n      \"column\": \"To\",\n      \"properties\": {\n        \"dtype\": \"number\",\n        \"std\": 0.8213042569076934,\n        \"min\": 0.0,\n        \"max\": 2.0,\n        \"num_unique_values\": 3,\n        \"samples\": [\n          2.0,\n          0.0,\n          1.0\n        ],\n        \"semantic_type\": \"\",\n        \"description\": \"\"\n      }\n    },\n    {\n      \"column\": \"Fuel Daily Consumption\",\n      \"properties\": {\n        \"dtype\": \"number\",\n        \"std\": 2.9317529914796068,\n        \"min\": 46.0,\n        \"max\": 55.2,\n        \"num_unique_values\": 3,\n        \"samples\": [\n          46.0,\n          50.6,\n          55.2\n        ],\n        \"semantic_type\": \"\",\n        \"description\": \"\"\n      }\n    },\n    {\n      \"column\": \"Opening Fuel Tank Sounding\",\n      \"properties\": {\n        \"dtype\": \"number\",\n        \"std\": 3.24955709248781,\n        \"min\": 14.1,\n        \"max\": 23.7,\n        \"num_unique_values\": 11,\n        \"samples\": [\n          18.0,\n          23.6,\n          23.7\n        ],\n        \"semantic_type\": \"\",\n        \"description\": \"\"\n      }\n    },\n    {\n      \"column\": \"Closing Fuel Tank Sounding\",\n      \"properties\": {\n        \"dtype\": \"number\",\n        \"std\": 3.242138540718201,\n        \"min\": 13.1,\n        \"max\": 22.6,\n        \"num_unique_values\": 11,\n        \"samples\": [\n          16.9,\n          22.6,\n          22.5\n        ],\n        \"semantic_type\": \"\",\n        \"description\": \"\"\n      }\n    },\n    {\n      \"column\": \"Fuel Tank Stock After\",\n      \"properties\": {\n        \"dtype\": \"number\",\n        \"std\": 133,\n        \"min\": 589,\n        \"max\": 1007,\n        \"num_unique_values\": 11,\n        \"samples\": [\n          718,\n          980,\n          952\n        ],\n        \"semantic_type\": \"\",\n        \"description\": \"\"\n      }\n    },\n    {\n      \"column\": \"Fuel Capacity\",\n      \"properties\": {\n        \"dtype\": \"number\",\n        \"std\": 0,\n        \"min\": 0,\n        \"max\": 1,\n        \"num_unique_values\": 2,\n        \"samples\": [\n          0,\n          1\n        ],\n        \"semantic_type\": \"\",\n        \"description\": \"\"\n      }\n    }\n  ]\n}"
            }
          },
          "metadata": {},
          "execution_count": 41
        }
      ],
      "source": [
        "df"
      ]
    },
    {
      "cell_type": "markdown",
      "metadata": {
        "id": "LHOK99GkZQ1L"
      },
      "source": [
        "Pada tahapan **data tranformation** ini kita akan mengubah format dari kolom yang belum numerik. Disini saya mengubah Format dari kolom Fuel_Capacity menjadi seperti dibawah ini:\n",
        "\n",
        "**Fuel Capacity**\n",
        "\n",
        "*   **low** menjadi **0**\n",
        "*   **high** menjadi **1**\n",
        "\n",
        "**From** dan **To**\n",
        "*   '**PSTB**' menjadi '**0**', '**SOMBER**' menjadi '**1**' dan '**Running ME/Stand by**' menjadi '**2**'\n",
        "\n",
        "Dalam bagian ini, mengubah kategori 'low' dan 'high' menjadi 0 dan 1, serta mengubah label 'PSTB', 'SOMBER', dan 'Running ME/Stand by' menjadi angka numerik, adalah langkah-langkah yang diperlukan untuk memungkinkan model machine learning untuk memahami dan memproses data dengan benar. Ini memungkinkan model untuk melakukan prediksi dengan menggunakan informasi dari fitur-fitur ini."
      ]
    },
    {
      "cell_type": "markdown",
      "metadata": {
        "id": "vsVuYwujV6b8"
      },
      "source": [
        "### **Pengecekkan Hasil**"
      ]
    },
    {
      "cell_type": "code",
      "execution_count": 42,
      "metadata": {
        "id": "dxhVs69lWBDQ",
        "colab": {
          "base_uri": "https://localhost:8080/",
          "height": 206
        },
        "outputId": "3e4856f9-78d5-4e6e-fb2b-fa062e57e3d0"
      },
      "outputs": [
        {
          "output_type": "execute_result",
          "data": {
            "text/plain": [
              "   Date  From   To  Fuel Daily Consumption  Opening Fuel Tank Sounding  \\\n",
              "1  13.0   2.0  2.0                    46.0                        23.6   \n",
              "2  13.0   1.0  0.0                    46.0                        23.6   \n",
              "3  13.0   2.0  2.0                    46.0                        23.6   \n",
              "4  13.0   0.0  1.0                    46.0                        23.6   \n",
              "5  13.0   1.0  0.0                    46.0                        23.6   \n",
              "\n",
              "   Closing Fuel Tank Sounding  Fuel Tank Stock After  Fuel Capacity  \n",
              "1                        22.6                    980              1  \n",
              "2                        22.6                    980              1  \n",
              "3                        22.6                    980              1  \n",
              "4                        22.6                    980              1  \n",
              "5                        22.6                    980              1  "
            ],
            "text/html": [
              "\n",
              "  <div id=\"df-98f04942-b9c1-4120-bda8-3bfa25d663c0\" class=\"colab-df-container\">\n",
              "    <div>\n",
              "<style scoped>\n",
              "    .dataframe tbody tr th:only-of-type {\n",
              "        vertical-align: middle;\n",
              "    }\n",
              "\n",
              "    .dataframe tbody tr th {\n",
              "        vertical-align: top;\n",
              "    }\n",
              "\n",
              "    .dataframe thead th {\n",
              "        text-align: right;\n",
              "    }\n",
              "</style>\n",
              "<table border=\"1\" class=\"dataframe\">\n",
              "  <thead>\n",
              "    <tr style=\"text-align: right;\">\n",
              "      <th></th>\n",
              "      <th>Date</th>\n",
              "      <th>From</th>\n",
              "      <th>To</th>\n",
              "      <th>Fuel Daily Consumption</th>\n",
              "      <th>Opening Fuel Tank Sounding</th>\n",
              "      <th>Closing Fuel Tank Sounding</th>\n",
              "      <th>Fuel Tank Stock After</th>\n",
              "      <th>Fuel Capacity</th>\n",
              "    </tr>\n",
              "  </thead>\n",
              "  <tbody>\n",
              "    <tr>\n",
              "      <th>1</th>\n",
              "      <td>13.0</td>\n",
              "      <td>2.0</td>\n",
              "      <td>2.0</td>\n",
              "      <td>46.0</td>\n",
              "      <td>23.6</td>\n",
              "      <td>22.6</td>\n",
              "      <td>980</td>\n",
              "      <td>1</td>\n",
              "    </tr>\n",
              "    <tr>\n",
              "      <th>2</th>\n",
              "      <td>13.0</td>\n",
              "      <td>1.0</td>\n",
              "      <td>0.0</td>\n",
              "      <td>46.0</td>\n",
              "      <td>23.6</td>\n",
              "      <td>22.6</td>\n",
              "      <td>980</td>\n",
              "      <td>1</td>\n",
              "    </tr>\n",
              "    <tr>\n",
              "      <th>3</th>\n",
              "      <td>13.0</td>\n",
              "      <td>2.0</td>\n",
              "      <td>2.0</td>\n",
              "      <td>46.0</td>\n",
              "      <td>23.6</td>\n",
              "      <td>22.6</td>\n",
              "      <td>980</td>\n",
              "      <td>1</td>\n",
              "    </tr>\n",
              "    <tr>\n",
              "      <th>4</th>\n",
              "      <td>13.0</td>\n",
              "      <td>0.0</td>\n",
              "      <td>1.0</td>\n",
              "      <td>46.0</td>\n",
              "      <td>23.6</td>\n",
              "      <td>22.6</td>\n",
              "      <td>980</td>\n",
              "      <td>1</td>\n",
              "    </tr>\n",
              "    <tr>\n",
              "      <th>5</th>\n",
              "      <td>13.0</td>\n",
              "      <td>1.0</td>\n",
              "      <td>0.0</td>\n",
              "      <td>46.0</td>\n",
              "      <td>23.6</td>\n",
              "      <td>22.6</td>\n",
              "      <td>980</td>\n",
              "      <td>1</td>\n",
              "    </tr>\n",
              "  </tbody>\n",
              "</table>\n",
              "</div>\n",
              "    <div class=\"colab-df-buttons\">\n",
              "\n",
              "  <div class=\"colab-df-container\">\n",
              "    <button class=\"colab-df-convert\" onclick=\"convertToInteractive('df-98f04942-b9c1-4120-bda8-3bfa25d663c0')\"\n",
              "            title=\"Convert this dataframe to an interactive table.\"\n",
              "            style=\"display:none;\">\n",
              "\n",
              "  <svg xmlns=\"http://www.w3.org/2000/svg\" height=\"24px\" viewBox=\"0 -960 960 960\">\n",
              "    <path d=\"M120-120v-720h720v720H120Zm60-500h600v-160H180v160Zm220 220h160v-160H400v160Zm0 220h160v-160H400v160ZM180-400h160v-160H180v160Zm440 0h160v-160H620v160ZM180-180h160v-160H180v160Zm440 0h160v-160H620v160Z\"/>\n",
              "  </svg>\n",
              "    </button>\n",
              "\n",
              "  <style>\n",
              "    .colab-df-container {\n",
              "      display:flex;\n",
              "      gap: 12px;\n",
              "    }\n",
              "\n",
              "    .colab-df-convert {\n",
              "      background-color: #E8F0FE;\n",
              "      border: none;\n",
              "      border-radius: 50%;\n",
              "      cursor: pointer;\n",
              "      display: none;\n",
              "      fill: #1967D2;\n",
              "      height: 32px;\n",
              "      padding: 0 0 0 0;\n",
              "      width: 32px;\n",
              "    }\n",
              "\n",
              "    .colab-df-convert:hover {\n",
              "      background-color: #E2EBFA;\n",
              "      box-shadow: 0px 1px 2px rgba(60, 64, 67, 0.3), 0px 1px 3px 1px rgba(60, 64, 67, 0.15);\n",
              "      fill: #174EA6;\n",
              "    }\n",
              "\n",
              "    .colab-df-buttons div {\n",
              "      margin-bottom: 4px;\n",
              "    }\n",
              "\n",
              "    [theme=dark] .colab-df-convert {\n",
              "      background-color: #3B4455;\n",
              "      fill: #D2E3FC;\n",
              "    }\n",
              "\n",
              "    [theme=dark] .colab-df-convert:hover {\n",
              "      background-color: #434B5C;\n",
              "      box-shadow: 0px 1px 3px 1px rgba(0, 0, 0, 0.15);\n",
              "      filter: drop-shadow(0px 1px 2px rgba(0, 0, 0, 0.3));\n",
              "      fill: #FFFFFF;\n",
              "    }\n",
              "  </style>\n",
              "\n",
              "    <script>\n",
              "      const buttonEl =\n",
              "        document.querySelector('#df-98f04942-b9c1-4120-bda8-3bfa25d663c0 button.colab-df-convert');\n",
              "      buttonEl.style.display =\n",
              "        google.colab.kernel.accessAllowed ? 'block' : 'none';\n",
              "\n",
              "      async function convertToInteractive(key) {\n",
              "        const element = document.querySelector('#df-98f04942-b9c1-4120-bda8-3bfa25d663c0');\n",
              "        const dataTable =\n",
              "          await google.colab.kernel.invokeFunction('convertToInteractive',\n",
              "                                                    [key], {});\n",
              "        if (!dataTable) return;\n",
              "\n",
              "        const docLinkHtml = 'Like what you see? Visit the ' +\n",
              "          '<a target=\"_blank\" href=https://colab.research.google.com/notebooks/data_table.ipynb>data table notebook</a>'\n",
              "          + ' to learn more about interactive tables.';\n",
              "        element.innerHTML = '';\n",
              "        dataTable['output_type'] = 'display_data';\n",
              "        await google.colab.output.renderOutput(dataTable, element);\n",
              "        const docLink = document.createElement('div');\n",
              "        docLink.innerHTML = docLinkHtml;\n",
              "        element.appendChild(docLink);\n",
              "      }\n",
              "    </script>\n",
              "  </div>\n",
              "\n",
              "\n",
              "<div id=\"df-d2ae4246-cc9b-4eb6-bb37-51b32d4c82a6\">\n",
              "  <button class=\"colab-df-quickchart\" onclick=\"quickchart('df-d2ae4246-cc9b-4eb6-bb37-51b32d4c82a6')\"\n",
              "            title=\"Suggest charts\"\n",
              "            style=\"display:none;\">\n",
              "\n",
              "<svg xmlns=\"http://www.w3.org/2000/svg\" height=\"24px\"viewBox=\"0 0 24 24\"\n",
              "     width=\"24px\">\n",
              "    <g>\n",
              "        <path d=\"M19 3H5c-1.1 0-2 .9-2 2v14c0 1.1.9 2 2 2h14c1.1 0 2-.9 2-2V5c0-1.1-.9-2-2-2zM9 17H7v-7h2v7zm4 0h-2V7h2v10zm4 0h-2v-4h2v4z\"/>\n",
              "    </g>\n",
              "</svg>\n",
              "  </button>\n",
              "\n",
              "<style>\n",
              "  .colab-df-quickchart {\n",
              "      --bg-color: #E8F0FE;\n",
              "      --fill-color: #1967D2;\n",
              "      --hover-bg-color: #E2EBFA;\n",
              "      --hover-fill-color: #174EA6;\n",
              "      --disabled-fill-color: #AAA;\n",
              "      --disabled-bg-color: #DDD;\n",
              "  }\n",
              "\n",
              "  [theme=dark] .colab-df-quickchart {\n",
              "      --bg-color: #3B4455;\n",
              "      --fill-color: #D2E3FC;\n",
              "      --hover-bg-color: #434B5C;\n",
              "      --hover-fill-color: #FFFFFF;\n",
              "      --disabled-bg-color: #3B4455;\n",
              "      --disabled-fill-color: #666;\n",
              "  }\n",
              "\n",
              "  .colab-df-quickchart {\n",
              "    background-color: var(--bg-color);\n",
              "    border: none;\n",
              "    border-radius: 50%;\n",
              "    cursor: pointer;\n",
              "    display: none;\n",
              "    fill: var(--fill-color);\n",
              "    height: 32px;\n",
              "    padding: 0;\n",
              "    width: 32px;\n",
              "  }\n",
              "\n",
              "  .colab-df-quickchart:hover {\n",
              "    background-color: var(--hover-bg-color);\n",
              "    box-shadow: 0 1px 2px rgba(60, 64, 67, 0.3), 0 1px 3px 1px rgba(60, 64, 67, 0.15);\n",
              "    fill: var(--button-hover-fill-color);\n",
              "  }\n",
              "\n",
              "  .colab-df-quickchart-complete:disabled,\n",
              "  .colab-df-quickchart-complete:disabled:hover {\n",
              "    background-color: var(--disabled-bg-color);\n",
              "    fill: var(--disabled-fill-color);\n",
              "    box-shadow: none;\n",
              "  }\n",
              "\n",
              "  .colab-df-spinner {\n",
              "    border: 2px solid var(--fill-color);\n",
              "    border-color: transparent;\n",
              "    border-bottom-color: var(--fill-color);\n",
              "    animation:\n",
              "      spin 1s steps(1) infinite;\n",
              "  }\n",
              "\n",
              "  @keyframes spin {\n",
              "    0% {\n",
              "      border-color: transparent;\n",
              "      border-bottom-color: var(--fill-color);\n",
              "      border-left-color: var(--fill-color);\n",
              "    }\n",
              "    20% {\n",
              "      border-color: transparent;\n",
              "      border-left-color: var(--fill-color);\n",
              "      border-top-color: var(--fill-color);\n",
              "    }\n",
              "    30% {\n",
              "      border-color: transparent;\n",
              "      border-left-color: var(--fill-color);\n",
              "      border-top-color: var(--fill-color);\n",
              "      border-right-color: var(--fill-color);\n",
              "    }\n",
              "    40% {\n",
              "      border-color: transparent;\n",
              "      border-right-color: var(--fill-color);\n",
              "      border-top-color: var(--fill-color);\n",
              "    }\n",
              "    60% {\n",
              "      border-color: transparent;\n",
              "      border-right-color: var(--fill-color);\n",
              "    }\n",
              "    80% {\n",
              "      border-color: transparent;\n",
              "      border-right-color: var(--fill-color);\n",
              "      border-bottom-color: var(--fill-color);\n",
              "    }\n",
              "    90% {\n",
              "      border-color: transparent;\n",
              "      border-bottom-color: var(--fill-color);\n",
              "    }\n",
              "  }\n",
              "</style>\n",
              "\n",
              "  <script>\n",
              "    async function quickchart(key) {\n",
              "      const quickchartButtonEl =\n",
              "        document.querySelector('#' + key + ' button');\n",
              "      quickchartButtonEl.disabled = true;  // To prevent multiple clicks.\n",
              "      quickchartButtonEl.classList.add('colab-df-spinner');\n",
              "      try {\n",
              "        const charts = await google.colab.kernel.invokeFunction(\n",
              "            'suggestCharts', [key], {});\n",
              "      } catch (error) {\n",
              "        console.error('Error during call to suggestCharts:', error);\n",
              "      }\n",
              "      quickchartButtonEl.classList.remove('colab-df-spinner');\n",
              "      quickchartButtonEl.classList.add('colab-df-quickchart-complete');\n",
              "    }\n",
              "    (() => {\n",
              "      let quickchartButtonEl =\n",
              "        document.querySelector('#df-d2ae4246-cc9b-4eb6-bb37-51b32d4c82a6 button');\n",
              "      quickchartButtonEl.style.display =\n",
              "        google.colab.kernel.accessAllowed ? 'block' : 'none';\n",
              "    })();\n",
              "  </script>\n",
              "</div>\n",
              "    </div>\n",
              "  </div>\n"
            ],
            "application/vnd.google.colaboratory.intrinsic+json": {
              "type": "dataframe",
              "variable_name": "df",
              "summary": "{\n  \"name\": \"df\",\n  \"rows\": 127,\n  \"fields\": [\n    {\n      \"column\": \"Date\",\n      \"properties\": {\n        \"dtype\": \"number\",\n        \"std\": 3.5853895357038486,\n        \"min\": 13.0,\n        \"max\": 24.0,\n        \"num_unique_values\": 11,\n        \"samples\": [\n          18.0,\n          13.0,\n          23.0\n        ],\n        \"semantic_type\": \"\",\n        \"description\": \"\"\n      }\n    },\n    {\n      \"column\": \"From\",\n      \"properties\": {\n        \"dtype\": \"number\",\n        \"std\": 0.8213042569076934,\n        \"min\": 0.0,\n        \"max\": 2.0,\n        \"num_unique_values\": 3,\n        \"samples\": [\n          2.0,\n          1.0,\n          0.0\n        ],\n        \"semantic_type\": \"\",\n        \"description\": \"\"\n      }\n    },\n    {\n      \"column\": \"To\",\n      \"properties\": {\n        \"dtype\": \"number\",\n        \"std\": 0.8213042569076934,\n        \"min\": 0.0,\n        \"max\": 2.0,\n        \"num_unique_values\": 3,\n        \"samples\": [\n          2.0,\n          0.0,\n          1.0\n        ],\n        \"semantic_type\": \"\",\n        \"description\": \"\"\n      }\n    },\n    {\n      \"column\": \"Fuel Daily Consumption\",\n      \"properties\": {\n        \"dtype\": \"number\",\n        \"std\": 2.9317529914796068,\n        \"min\": 46.0,\n        \"max\": 55.2,\n        \"num_unique_values\": 3,\n        \"samples\": [\n          46.0,\n          50.6,\n          55.2\n        ],\n        \"semantic_type\": \"\",\n        \"description\": \"\"\n      }\n    },\n    {\n      \"column\": \"Opening Fuel Tank Sounding\",\n      \"properties\": {\n        \"dtype\": \"number\",\n        \"std\": 3.24955709248781,\n        \"min\": 14.1,\n        \"max\": 23.7,\n        \"num_unique_values\": 11,\n        \"samples\": [\n          18.0,\n          23.6,\n          23.7\n        ],\n        \"semantic_type\": \"\",\n        \"description\": \"\"\n      }\n    },\n    {\n      \"column\": \"Closing Fuel Tank Sounding\",\n      \"properties\": {\n        \"dtype\": \"number\",\n        \"std\": 3.242138540718201,\n        \"min\": 13.1,\n        \"max\": 22.6,\n        \"num_unique_values\": 11,\n        \"samples\": [\n          16.9,\n          22.6,\n          22.5\n        ],\n        \"semantic_type\": \"\",\n        \"description\": \"\"\n      }\n    },\n    {\n      \"column\": \"Fuel Tank Stock After\",\n      \"properties\": {\n        \"dtype\": \"number\",\n        \"std\": 133,\n        \"min\": 589,\n        \"max\": 1007,\n        \"num_unique_values\": 11,\n        \"samples\": [\n          718,\n          980,\n          952\n        ],\n        \"semantic_type\": \"\",\n        \"description\": \"\"\n      }\n    },\n    {\n      \"column\": \"Fuel Capacity\",\n      \"properties\": {\n        \"dtype\": \"number\",\n        \"std\": 0,\n        \"min\": 0,\n        \"max\": 1,\n        \"num_unique_values\": 2,\n        \"samples\": [\n          0,\n          1\n        ],\n        \"semantic_type\": \"\",\n        \"description\": \"\"\n      }\n    }\n  ]\n}"
            }
          },
          "metadata": {},
          "execution_count": 42
        }
      ],
      "source": [
        "df.head()"
      ]
    },
    {
      "cell_type": "code",
      "execution_count": 43,
      "metadata": {
        "id": "HkL69yztZ8pX"
      },
      "outputs": [],
      "source": [
        "df.to_csv(\"Data Cleaned.csv\")"
      ]
    },
    {
      "cell_type": "markdown",
      "metadata": {
        "id": "bgmsCWl0Z-xj"
      },
      "source": [
        "##**Modelling**"
      ]
    },
    {
      "cell_type": "markdown",
      "metadata": {
        "id": "YCoiyl4KaA_u"
      },
      "source": [
        "### **Modelling Predict**"
      ]
    },
    {
      "cell_type": "markdown",
      "metadata": {
        "id": "tm9Mkt-yaIPz"
      },
      "source": [
        "Prediction pada umumnya dianggap sebagai tindakan yang menjelaskan mengenai masa mendatang.  Hal ini berbeda dengan menebak secara sederhana dengan mempertimbangkan pengalaman, opini, dan informasi lainnya dalam melakukan peramalan.  Istilah yang umumnya dikaitkan dengan ‘prediction’ adalah ‘forecasting’.\n",
        "\n",
        "Berikut beberapa tujuan pengguanaan modeliing Predict terhadap analisis Konsumsi Bahan Bakar dan Efisiensi Perjalanan pada Kapal FMC Marnaik:\n",
        "\n",
        "**Analisis Konsumsi Bahan Bakar dan Efisiensi Perjalanan**: Dataset ini memberikan pemahaman mendalam tentang konsumsi bahan bakar dan efisiensi perjalanan kapal FMC Marnaik selama periode tertentu. Dengan menggunakan data yang ada sebelumnya tentang konsumsi bahan bakar dan parameter perjalanan lainnya, kita dapat mengidentifikasi pola konsumsi bahan bakar dan meningkatkan efisiensi operasional kapal. Dengan demikian, dataset ini memiliki potensi untuk mendukung pengelolaan persediaan bahan bakar, perencanaan rute perjalanan, dan strategi penghematan biaya dalam operasi kapal di masa depan.\n"
      ]
    },
    {
      "cell_type": "code",
      "execution_count": 44,
      "metadata": {
        "id": "tpbO8rnTfzRd",
        "colab": {
          "base_uri": "https://localhost:8080/"
        },
        "outputId": "56da9629-6b9c-4907-aad0-dbfcf602e7c0"
      },
      "outputs": [
        {
          "output_type": "stream",
          "name": "stdout",
          "text": [
            "Date                          float64\n",
            "From                          float64\n",
            "To                            float64\n",
            "Fuel Daily Consumption        float64\n",
            "Opening Fuel Tank Sounding    float64\n",
            "Closing Fuel Tank Sounding    float64\n",
            "Fuel Tank Stock After           int64\n",
            "Fuel Capacity                   int64\n",
            "dtype: object\n"
          ]
        }
      ],
      "source": [
        "print(df.dtypes)"
      ]
    },
    {
      "cell_type": "markdown",
      "source": [
        "###**Pipeline**"
      ],
      "metadata": {
        "id": "RhSC9a6ocZVR"
      }
    },
    {
      "cell_type": "markdown",
      "source": [
        "Tujuan dari pipeline adalah untuk memprediksi jumlah penggunaan bahan bakar harian dari Kapal FMC Marnaik. Cukup menyesuaikan model regresi linier pada data pelatihan yang telah diproses sebelumnya sebelum mengevaluasinya pada data pengujian yang telah diproses sebelumnya."
      ],
      "metadata": {
        "id": "hMMDmQy_cfCG"
      }
    },
    {
      "cell_type": "code",
      "source": [
        "from sklearn.model_selection import train_test_split\n",
        "from sklearn.preprocessing import MinMaxScaler\n",
        "\n",
        "# Memisahkan fitur dan target\n",
        "x = df.drop('Fuel Capacity', axis=1)\n",
        "y = df['Fuel Capacity']\n",
        "\n",
        "# Membagi data menjadi data pelatihan dan pengujian\n",
        "x_train, x_test, y_train, y_test = train_test_split(x, y, test_size=0.2, random_state=42)\n",
        "\n",
        "# Inisialisasi penskala\n",
        "scaler = MinMaxScaler()\n",
        "\n",
        "# Melakukan penskalaan pada data pelatihan\n",
        "x_train_norm = scaler.fit_transform(x_train)\n",
        "\n",
        "# Melakukan penskalaan pada data pengujian dengan menggunakan skala yang sama\n",
        "x_test_norm = scaler.transform(x_test)\n",
        "\n",
        "print(x_train_norm.shape)\n",
        "print(x_test.shape)"
      ],
      "metadata": {
        "id": "aXcSQ8XALXkI",
        "colab": {
          "base_uri": "https://localhost:8080/"
        },
        "outputId": "3c2a81be-8f14-4877-e7fa-d81e40430b32"
      },
      "execution_count": 45,
      "outputs": [
        {
          "output_type": "stream",
          "name": "stdout",
          "text": [
            "(101, 7)\n",
            "(26, 7)\n"
          ]
        }
      ]
    },
    {
      "cell_type": "markdown",
      "source": [
        "Dalam bagian ini, dilakukan pembagian dataset menjadi data latih dan data uji menggunakan fungsi train_test_split dari modul sklearn. Data fitur atau atribut disimpan dalam variabel x, sedangkan data target disimpan dalam variabel y. Variabel x mengandung semua kolom kecuali kolom 'Fuel Capacity', yang dihapus menggunakan metode drop dengan parameter axis=1 yang mengindikasikan kolom. Variabel y hanya berisi kolom 'Fuel Capacity'.\n",
        "\n",
        "Setelah data dibagi, fungsi train_test_split digunakan untuk membagi data ke dalam data latih dan data uji. Proporsi data uji yang digunakan adalah 30% dari total dataset, dan random_state=42 digunakan untuk memastikan hasil pembagian data yang konsisten saat kode dijalankan kembali. Data latih disimpan dalam x_train dan y_train, sedangkan data uji disimpan dalam x_test dan y_test."
      ],
      "metadata": {
        "id": "8acYZyFMPwXX"
      }
    },
    {
      "cell_type": "markdown",
      "source": [
        "\n",
        "Bagian tersebut melakukan pemisahan data menjadi data pelatihan dan data pengujian menggunakan fungsi train_test_split dari sklearn.model_selection. Data dipisahkan dengan rasio 80:20, di mana 80% dari data digunakan untuk pelatihan (104 baris) dan 20% digunakan untuk pengujian (27 baris). Variabel x_train dan x_test merupakan fitur-fitur dari data, sedangkan y_train dan y_test adalah label yang sesuai dengan fitur-fitur tersebut. Jumlah kolom fitur untuk kedua set data adalah 7."
      ],
      "metadata": {
        "id": "8gqxibVoQUS1"
      }
    },
    {
      "cell_type": "code",
      "source": [
        "from sklearn.pipeline import Pipeline\n",
        "from sklearn.impute import SimpleImputer\n",
        "from sklearn.preprocessing import StandardScaler, OneHotEncoder\n",
        "from sklearn.compose import ColumnTransformer\n",
        "import pandas as pd\n",
        "\n",
        "# Fitur numerik\n",
        "num_features = ['Date', 'Fuel Daily Consumption', 'Opening Fuel Tank Sounding', 'Closing Fuel Tank Sounding', 'Fuel Tank Stock After']\n",
        "\n",
        "# Fitur kategorikal\n",
        "cat_features = ['From', 'To']\n",
        "\n",
        "# Create the preprocessing pipeline for numerical features\n",
        "num_pipeline = Pipeline(\n",
        "    steps=[\n",
        "        ('num_imputer', SimpleImputer()),  # Mengisi nilai yang hilang dengan mean\n",
        "        ('scaler', StandardScaler()),  # Melakukan standardisasi\n",
        "    ]\n",
        ")\n",
        "\n",
        "# Create the preprocessing pipeline for categorical features\n",
        "cat_pipeline = Pipeline(\n",
        "    steps=[\n",
        "        ('cat_imputer', SimpleImputer(strategy='most_frequent')),  # Mengisi nilai yang hilang dengan nilai yang paling sering muncul\n",
        "        ('onehot', OneHotEncoder()),  # Melakukan one-hot encoding\n",
        "    ]\n",
        ")\n",
        "\n",
        "# Combine numerical and categorical preprocessing pipelines\n",
        "preprocessor = ColumnTransformer(\n",
        "    transformers=[\n",
        "        ('num_pipeline', num_pipeline, num_features),\n",
        "        ('cat_pipeline', cat_pipeline, cat_features),\n",
        "    ]\n",
        ")\n",
        "\n",
        "# Konversi array numpy menjadi DataFrame\n",
        "x_train_norm_df = pd.DataFrame(x_train_norm, columns=num_features + cat_features)\n",
        "\n",
        "# Sekarang x_train_norm_df adalah DataFrame\n",
        "x_train_norm_processed = preprocessor.fit_transform(x_train_norm_df)"
      ],
      "metadata": {
        "id": "nfmBsZzpL8Jq"
      },
      "execution_count": 46,
      "outputs": []
    },
    {
      "cell_type": "markdown",
      "source": [
        "\n",
        "Kode tersebut membuat pipeline untuk melakukan preprocessing pada fitur numerik dan kategorikal dalam dataset sebelum digunakan untuk melatih model. Ini termasuk mengisi nilai yang hilang dan melakukan standardisasi untuk fitur numerik, serta mengisi nilai yang hilang dan menerapkan one-hot encoding untuk fitur kategorikal."
      ],
      "metadata": {
        "id": "lbr-hn1tQrlM"
      }
    },
    {
      "cell_type": "code",
      "source": [
        "from sklearn.naive_bayes import GaussianNB\n",
        "\n",
        "# Specify the model to use, which is GaussianNB\n",
        "pipeline_gnb = Pipeline(\n",
        "    steps=[\n",
        "        ('preprocessor', preprocessor),\n",
        "        ('clf_gnb', GaussianNB()),  # Menggunakan model Gaussian Naive Bayes\n",
        "    ]\n",
        ")"
      ],
      "metadata": {
        "id": "h82nBLZsMLr5"
      },
      "execution_count": 47,
      "outputs": []
    },
    {
      "cell_type": "code",
      "source": [
        "from sklearn.model_selection import GridSearchCV\n",
        "# set up the values of hyperparameters you want to evaluate\n",
        "# here you only need to specify the different strategies for SimpleImputer\n",
        "param_grid_gnb = [\n",
        "    {\n",
        "        'preprocessor__num_pipeline__num_imputer__strategy': ['mean', 'median'],\n",
        "    }\n",
        "]\n",
        "\n",
        "# set up the grid search\n",
        "grid_search_gnb = GridSearchCV(pipeline_gnb, param_grid_gnb, cv=10, scoring='accuracy')"
      ],
      "metadata": {
        "id": "J2EUpf_tMY43"
      },
      "execution_count": 48,
      "outputs": []
    },
    {
      "cell_type": "code",
      "source": [
        "# train the model using the full pipeline\n",
        "grid_search_gnb.fit(x_train, y_train)"
      ],
      "metadata": {
        "id": "r6TXbD4OMk23",
        "colab": {
          "base_uri": "https://localhost:8080/",
          "height": 251
        },
        "outputId": "a3945004-ab1f-4d3e-dc70-ed1c1c8f5d36"
      },
      "execution_count": 49,
      "outputs": [
        {
          "output_type": "execute_result",
          "data": {
            "text/plain": [
              "GridSearchCV(cv=10,\n",
              "             estimator=Pipeline(steps=[('preprocessor',\n",
              "                                        ColumnTransformer(transformers=[('num_pipeline',\n",
              "                                                                         Pipeline(steps=[('num_imputer',\n",
              "                                                                                          SimpleImputer()),\n",
              "                                                                                         ('scaler',\n",
              "                                                                                          StandardScaler())]),\n",
              "                                                                         ['Date',\n",
              "                                                                          'Fuel '\n",
              "                                                                          'Daily '\n",
              "                                                                          'Consumption',\n",
              "                                                                          'Opening '\n",
              "                                                                          'Fuel '\n",
              "                                                                          'Tank '\n",
              "                                                                          'Sounding',\n",
              "                                                                          'Closing '\n",
              "                                                                          'Fuel '\n",
              "                                                                          'Tank '\n",
              "                                                                          'Sounding',\n",
              "                                                                          'Fuel '\n",
              "                                                                          'Tank '\n",
              "                                                                          'Stock '\n",
              "                                                                          'After']),\n",
              "                                                                        ('cat_pipeline',\n",
              "                                                                         Pipeline(steps=[('cat_imputer',\n",
              "                                                                                          SimpleImputer(strategy='most_frequent')),\n",
              "                                                                                         ('onehot',\n",
              "                                                                                          OneHotEncoder())]),\n",
              "                                                                         ['From',\n",
              "                                                                          'To'])])),\n",
              "                                       ('clf_gnb', GaussianNB())]),\n",
              "             param_grid=[{'preprocessor__num_pipeline__num_imputer__strategy': ['mean',\n",
              "                                                                                'median']}],\n",
              "             scoring='accuracy')"
            ],
            "text/html": [
              "<style>#sk-container-id-1 {color: black;background-color: white;}#sk-container-id-1 pre{padding: 0;}#sk-container-id-1 div.sk-toggleable {background-color: white;}#sk-container-id-1 label.sk-toggleable__label {cursor: pointer;display: block;width: 100%;margin-bottom: 0;padding: 0.3em;box-sizing: border-box;text-align: center;}#sk-container-id-1 label.sk-toggleable__label-arrow:before {content: \"▸\";float: left;margin-right: 0.25em;color: #696969;}#sk-container-id-1 label.sk-toggleable__label-arrow:hover:before {color: black;}#sk-container-id-1 div.sk-estimator:hover label.sk-toggleable__label-arrow:before {color: black;}#sk-container-id-1 div.sk-toggleable__content {max-height: 0;max-width: 0;overflow: hidden;text-align: left;background-color: #f0f8ff;}#sk-container-id-1 div.sk-toggleable__content pre {margin: 0.2em;color: black;border-radius: 0.25em;background-color: #f0f8ff;}#sk-container-id-1 input.sk-toggleable__control:checked~div.sk-toggleable__content {max-height: 200px;max-width: 100%;overflow: auto;}#sk-container-id-1 input.sk-toggleable__control:checked~label.sk-toggleable__label-arrow:before {content: \"▾\";}#sk-container-id-1 div.sk-estimator input.sk-toggleable__control:checked~label.sk-toggleable__label {background-color: #d4ebff;}#sk-container-id-1 div.sk-label input.sk-toggleable__control:checked~label.sk-toggleable__label {background-color: #d4ebff;}#sk-container-id-1 input.sk-hidden--visually {border: 0;clip: rect(1px 1px 1px 1px);clip: rect(1px, 1px, 1px, 1px);height: 1px;margin: -1px;overflow: hidden;padding: 0;position: absolute;width: 1px;}#sk-container-id-1 div.sk-estimator {font-family: monospace;background-color: #f0f8ff;border: 1px dotted black;border-radius: 0.25em;box-sizing: border-box;margin-bottom: 0.5em;}#sk-container-id-1 div.sk-estimator:hover {background-color: #d4ebff;}#sk-container-id-1 div.sk-parallel-item::after {content: \"\";width: 100%;border-bottom: 1px solid gray;flex-grow: 1;}#sk-container-id-1 div.sk-label:hover label.sk-toggleable__label {background-color: #d4ebff;}#sk-container-id-1 div.sk-serial::before {content: \"\";position: absolute;border-left: 1px solid gray;box-sizing: border-box;top: 0;bottom: 0;left: 50%;z-index: 0;}#sk-container-id-1 div.sk-serial {display: flex;flex-direction: column;align-items: center;background-color: white;padding-right: 0.2em;padding-left: 0.2em;position: relative;}#sk-container-id-1 div.sk-item {position: relative;z-index: 1;}#sk-container-id-1 div.sk-parallel {display: flex;align-items: stretch;justify-content: center;background-color: white;position: relative;}#sk-container-id-1 div.sk-item::before, #sk-container-id-1 div.sk-parallel-item::before {content: \"\";position: absolute;border-left: 1px solid gray;box-sizing: border-box;top: 0;bottom: 0;left: 50%;z-index: -1;}#sk-container-id-1 div.sk-parallel-item {display: flex;flex-direction: column;z-index: 1;position: relative;background-color: white;}#sk-container-id-1 div.sk-parallel-item:first-child::after {align-self: flex-end;width: 50%;}#sk-container-id-1 div.sk-parallel-item:last-child::after {align-self: flex-start;width: 50%;}#sk-container-id-1 div.sk-parallel-item:only-child::after {width: 0;}#sk-container-id-1 div.sk-dashed-wrapped {border: 1px dashed gray;margin: 0 0.4em 0.5em 0.4em;box-sizing: border-box;padding-bottom: 0.4em;background-color: white;}#sk-container-id-1 div.sk-label label {font-family: monospace;font-weight: bold;display: inline-block;line-height: 1.2em;}#sk-container-id-1 div.sk-label-container {text-align: center;}#sk-container-id-1 div.sk-container {/* jupyter's `normalize.less` sets `[hidden] { display: none; }` but bootstrap.min.css set `[hidden] { display: none !important; }` so we also need the `!important` here to be able to override the default hidden behavior on the sphinx rendered scikit-learn.org. See: https://github.com/scikit-learn/scikit-learn/issues/21755 */display: inline-block !important;position: relative;}#sk-container-id-1 div.sk-text-repr-fallback {display: none;}</style><div id=\"sk-container-id-1\" class=\"sk-top-container\"><div class=\"sk-text-repr-fallback\"><pre>GridSearchCV(cv=10,\n",
              "             estimator=Pipeline(steps=[(&#x27;preprocessor&#x27;,\n",
              "                                        ColumnTransformer(transformers=[(&#x27;num_pipeline&#x27;,\n",
              "                                                                         Pipeline(steps=[(&#x27;num_imputer&#x27;,\n",
              "                                                                                          SimpleImputer()),\n",
              "                                                                                         (&#x27;scaler&#x27;,\n",
              "                                                                                          StandardScaler())]),\n",
              "                                                                         [&#x27;Date&#x27;,\n",
              "                                                                          &#x27;Fuel &#x27;\n",
              "                                                                          &#x27;Daily &#x27;\n",
              "                                                                          &#x27;Consumption&#x27;,\n",
              "                                                                          &#x27;Opening &#x27;\n",
              "                                                                          &#x27;Fuel &#x27;\n",
              "                                                                          &#x27;Tank &#x27;\n",
              "                                                                          &#x27;Sounding&#x27;,\n",
              "                                                                          &#x27;Closing &#x27;\n",
              "                                                                          &#x27;Fuel &#x27;\n",
              "                                                                          &#x27;Tank &#x27;\n",
              "                                                                          &#x27;Sounding&#x27;,\n",
              "                                                                          &#x27;Fuel &#x27;\n",
              "                                                                          &#x27;Tank &#x27;\n",
              "                                                                          &#x27;Stock &#x27;\n",
              "                                                                          &#x27;After&#x27;]),\n",
              "                                                                        (&#x27;cat_pipeline&#x27;,\n",
              "                                                                         Pipeline(steps=[(&#x27;cat_imputer&#x27;,\n",
              "                                                                                          SimpleImputer(strategy=&#x27;most_frequent&#x27;)),\n",
              "                                                                                         (&#x27;onehot&#x27;,\n",
              "                                                                                          OneHotEncoder())]),\n",
              "                                                                         [&#x27;From&#x27;,\n",
              "                                                                          &#x27;To&#x27;])])),\n",
              "                                       (&#x27;clf_gnb&#x27;, GaussianNB())]),\n",
              "             param_grid=[{&#x27;preprocessor__num_pipeline__num_imputer__strategy&#x27;: [&#x27;mean&#x27;,\n",
              "                                                                                &#x27;median&#x27;]}],\n",
              "             scoring=&#x27;accuracy&#x27;)</pre><b>In a Jupyter environment, please rerun this cell to show the HTML representation or trust the notebook. <br />On GitHub, the HTML representation is unable to render, please try loading this page with nbviewer.org.</b></div><div class=\"sk-container\" hidden><div class=\"sk-item sk-dashed-wrapped\"><div class=\"sk-label-container\"><div class=\"sk-label sk-toggleable\"><input class=\"sk-toggleable__control sk-hidden--visually\" id=\"sk-estimator-id-1\" type=\"checkbox\" ><label for=\"sk-estimator-id-1\" class=\"sk-toggleable__label sk-toggleable__label-arrow\">GridSearchCV</label><div class=\"sk-toggleable__content\"><pre>GridSearchCV(cv=10,\n",
              "             estimator=Pipeline(steps=[(&#x27;preprocessor&#x27;,\n",
              "                                        ColumnTransformer(transformers=[(&#x27;num_pipeline&#x27;,\n",
              "                                                                         Pipeline(steps=[(&#x27;num_imputer&#x27;,\n",
              "                                                                                          SimpleImputer()),\n",
              "                                                                                         (&#x27;scaler&#x27;,\n",
              "                                                                                          StandardScaler())]),\n",
              "                                                                         [&#x27;Date&#x27;,\n",
              "                                                                          &#x27;Fuel &#x27;\n",
              "                                                                          &#x27;Daily &#x27;\n",
              "                                                                          &#x27;Consumption&#x27;,\n",
              "                                                                          &#x27;Opening &#x27;\n",
              "                                                                          &#x27;Fuel &#x27;\n",
              "                                                                          &#x27;Tank &#x27;\n",
              "                                                                          &#x27;Sounding&#x27;,\n",
              "                                                                          &#x27;Closing &#x27;\n",
              "                                                                          &#x27;Fuel &#x27;\n",
              "                                                                          &#x27;Tank &#x27;\n",
              "                                                                          &#x27;Sounding&#x27;,\n",
              "                                                                          &#x27;Fuel &#x27;\n",
              "                                                                          &#x27;Tank &#x27;\n",
              "                                                                          &#x27;Stock &#x27;\n",
              "                                                                          &#x27;After&#x27;]),\n",
              "                                                                        (&#x27;cat_pipeline&#x27;,\n",
              "                                                                         Pipeline(steps=[(&#x27;cat_imputer&#x27;,\n",
              "                                                                                          SimpleImputer(strategy=&#x27;most_frequent&#x27;)),\n",
              "                                                                                         (&#x27;onehot&#x27;,\n",
              "                                                                                          OneHotEncoder())]),\n",
              "                                                                         [&#x27;From&#x27;,\n",
              "                                                                          &#x27;To&#x27;])])),\n",
              "                                       (&#x27;clf_gnb&#x27;, GaussianNB())]),\n",
              "             param_grid=[{&#x27;preprocessor__num_pipeline__num_imputer__strategy&#x27;: [&#x27;mean&#x27;,\n",
              "                                                                                &#x27;median&#x27;]}],\n",
              "             scoring=&#x27;accuracy&#x27;)</pre></div></div></div><div class=\"sk-parallel\"><div class=\"sk-parallel-item\"><div class=\"sk-item\"><div class=\"sk-label-container\"><div class=\"sk-label sk-toggleable\"><input class=\"sk-toggleable__control sk-hidden--visually\" id=\"sk-estimator-id-2\" type=\"checkbox\" ><label for=\"sk-estimator-id-2\" class=\"sk-toggleable__label sk-toggleable__label-arrow\">estimator: Pipeline</label><div class=\"sk-toggleable__content\"><pre>Pipeline(steps=[(&#x27;preprocessor&#x27;,\n",
              "                 ColumnTransformer(transformers=[(&#x27;num_pipeline&#x27;,\n",
              "                                                  Pipeline(steps=[(&#x27;num_imputer&#x27;,\n",
              "                                                                   SimpleImputer()),\n",
              "                                                                  (&#x27;scaler&#x27;,\n",
              "                                                                   StandardScaler())]),\n",
              "                                                  [&#x27;Date&#x27;,\n",
              "                                                   &#x27;Fuel Daily Consumption&#x27;,\n",
              "                                                   &#x27;Opening Fuel Tank Sounding&#x27;,\n",
              "                                                   &#x27;Closing Fuel Tank Sounding&#x27;,\n",
              "                                                   &#x27;Fuel Tank Stock After&#x27;]),\n",
              "                                                 (&#x27;cat_pipeline&#x27;,\n",
              "                                                  Pipeline(steps=[(&#x27;cat_imputer&#x27;,\n",
              "                                                                   SimpleImputer(strategy=&#x27;most_frequent&#x27;)),\n",
              "                                                                  (&#x27;onehot&#x27;,\n",
              "                                                                   OneHotEncoder())]),\n",
              "                                                  [&#x27;From&#x27;, &#x27;To&#x27;])])),\n",
              "                (&#x27;clf_gnb&#x27;, GaussianNB())])</pre></div></div></div><div class=\"sk-serial\"><div class=\"sk-item\"><div class=\"sk-serial\"><div class=\"sk-item sk-dashed-wrapped\"><div class=\"sk-label-container\"><div class=\"sk-label sk-toggleable\"><input class=\"sk-toggleable__control sk-hidden--visually\" id=\"sk-estimator-id-3\" type=\"checkbox\" ><label for=\"sk-estimator-id-3\" class=\"sk-toggleable__label sk-toggleable__label-arrow\">preprocessor: ColumnTransformer</label><div class=\"sk-toggleable__content\"><pre>ColumnTransformer(transformers=[(&#x27;num_pipeline&#x27;,\n",
              "                                 Pipeline(steps=[(&#x27;num_imputer&#x27;,\n",
              "                                                  SimpleImputer()),\n",
              "                                                 (&#x27;scaler&#x27;, StandardScaler())]),\n",
              "                                 [&#x27;Date&#x27;, &#x27;Fuel Daily Consumption&#x27;,\n",
              "                                  &#x27;Opening Fuel Tank Sounding&#x27;,\n",
              "                                  &#x27;Closing Fuel Tank Sounding&#x27;,\n",
              "                                  &#x27;Fuel Tank Stock After&#x27;]),\n",
              "                                (&#x27;cat_pipeline&#x27;,\n",
              "                                 Pipeline(steps=[(&#x27;cat_imputer&#x27;,\n",
              "                                                  SimpleImputer(strategy=&#x27;most_frequent&#x27;)),\n",
              "                                                 (&#x27;onehot&#x27;, OneHotEncoder())]),\n",
              "                                 [&#x27;From&#x27;, &#x27;To&#x27;])])</pre></div></div></div><div class=\"sk-parallel\"><div class=\"sk-parallel-item\"><div class=\"sk-item\"><div class=\"sk-label-container\"><div class=\"sk-label sk-toggleable\"><input class=\"sk-toggleable__control sk-hidden--visually\" id=\"sk-estimator-id-4\" type=\"checkbox\" ><label for=\"sk-estimator-id-4\" class=\"sk-toggleable__label sk-toggleable__label-arrow\">num_pipeline</label><div class=\"sk-toggleable__content\"><pre>[&#x27;Date&#x27;, &#x27;Fuel Daily Consumption&#x27;, &#x27;Opening Fuel Tank Sounding&#x27;, &#x27;Closing Fuel Tank Sounding&#x27;, &#x27;Fuel Tank Stock After&#x27;]</pre></div></div></div><div class=\"sk-serial\"><div class=\"sk-item\"><div class=\"sk-serial\"><div class=\"sk-item\"><div class=\"sk-estimator sk-toggleable\"><input class=\"sk-toggleable__control sk-hidden--visually\" id=\"sk-estimator-id-5\" type=\"checkbox\" ><label for=\"sk-estimator-id-5\" class=\"sk-toggleable__label sk-toggleable__label-arrow\">SimpleImputer</label><div class=\"sk-toggleable__content\"><pre>SimpleImputer()</pre></div></div></div><div class=\"sk-item\"><div class=\"sk-estimator sk-toggleable\"><input class=\"sk-toggleable__control sk-hidden--visually\" id=\"sk-estimator-id-6\" type=\"checkbox\" ><label for=\"sk-estimator-id-6\" class=\"sk-toggleable__label sk-toggleable__label-arrow\">StandardScaler</label><div class=\"sk-toggleable__content\"><pre>StandardScaler()</pre></div></div></div></div></div></div></div></div><div class=\"sk-parallel-item\"><div class=\"sk-item\"><div class=\"sk-label-container\"><div class=\"sk-label sk-toggleable\"><input class=\"sk-toggleable__control sk-hidden--visually\" id=\"sk-estimator-id-7\" type=\"checkbox\" ><label for=\"sk-estimator-id-7\" class=\"sk-toggleable__label sk-toggleable__label-arrow\">cat_pipeline</label><div class=\"sk-toggleable__content\"><pre>[&#x27;From&#x27;, &#x27;To&#x27;]</pre></div></div></div><div class=\"sk-serial\"><div class=\"sk-item\"><div class=\"sk-serial\"><div class=\"sk-item\"><div class=\"sk-estimator sk-toggleable\"><input class=\"sk-toggleable__control sk-hidden--visually\" id=\"sk-estimator-id-8\" type=\"checkbox\" ><label for=\"sk-estimator-id-8\" class=\"sk-toggleable__label sk-toggleable__label-arrow\">SimpleImputer</label><div class=\"sk-toggleable__content\"><pre>SimpleImputer(strategy=&#x27;most_frequent&#x27;)</pre></div></div></div><div class=\"sk-item\"><div class=\"sk-estimator sk-toggleable\"><input class=\"sk-toggleable__control sk-hidden--visually\" id=\"sk-estimator-id-9\" type=\"checkbox\" ><label for=\"sk-estimator-id-9\" class=\"sk-toggleable__label sk-toggleable__label-arrow\">OneHotEncoder</label><div class=\"sk-toggleable__content\"><pre>OneHotEncoder()</pre></div></div></div></div></div></div></div></div></div></div><div class=\"sk-item\"><div class=\"sk-estimator sk-toggleable\"><input class=\"sk-toggleable__control sk-hidden--visually\" id=\"sk-estimator-id-10\" type=\"checkbox\" ><label for=\"sk-estimator-id-10\" class=\"sk-toggleable__label sk-toggleable__label-arrow\">GaussianNB</label><div class=\"sk-toggleable__content\"><pre>GaussianNB()</pre></div></div></div></div></div></div></div></div></div></div></div></div>"
            ]
          },
          "metadata": {},
          "execution_count": 49
        }
      ]
    },
    {
      "cell_type": "markdown",
      "source": [
        "Hasil output dari bagian ini menunjukkan penggunaan GridSearchCV untuk melakukan penelusuran parameter pada model, model ini merupakan model untuk melakukan prediksi. Model tersebut menggunakan sebuah pipeline yang terdiri dari beberapa langkah, termasuk preprocessor untuk memproses fitur-fitur sebelum diberikan kepada model klasifikasi. Preprocessor ini terdiri dari transformer-column yang memproses fitur numerik dan kategorikal secara terpisah. Untuk fitur numerik, nilai yang hilang diisi menggunakan SimpleImputer dengan strategi mean atau median, kemudian dilakukan scaling menggunakan StandardScaler.\n",
        "\n",
        "Sedangkan untuk fitur kategorikal, nilai yang hilang diisi dengan nilai yang paling sering muncul dan dilakukan encoding menggunakan OneHotEncoder. Model klasifikasi yang digunakan adalah Gaussian Naive Bayes. GridSearchCV akan mencoba kedua strategi pengisian nilai hilang tersebut dan memilih yang memberikan performa terbaik berdasarkan metrik akurasi."
      ],
      "metadata": {
        "id": "COk1030bRDq5"
      }
    },
    {
      "cell_type": "code",
      "source": [
        "# Check the best performing parameter combination for GNB\n",
        "grid_search_gnb.best_params_"
      ],
      "metadata": {
        "id": "vE24yCMOM53b",
        "colab": {
          "base_uri": "https://localhost:8080/"
        },
        "outputId": "6981ce65-33bd-4132-c8e4-c6c36e3d42a6"
      },
      "execution_count": 50,
      "outputs": [
        {
          "output_type": "execute_result",
          "data": {
            "text/plain": [
              "{'preprocessor__num_pipeline__num_imputer__strategy': 'mean'}"
            ]
          },
          "metadata": {},
          "execution_count": 50
        }
      ]
    },
    {
      "cell_type": "markdown",
      "source": [
        "'**preprocessor__num_pipeline__num_imputer__strategy**': **'mean'**: Ini menunjukkan bahwa strategi yang memberikan kinerja terbaik untuk mengisi nilai yang hilang pada fitur numerik (num_imputer) adalah menggunakan nilai rata-rata (mean).\n",
        "Ini berarti bahwa dalam proses pra-pemrosesan, nilai yang hilang dalam fitur numerik diganti dengan rata-rata dari nilai yang ada dalam fitur tersebut."
      ],
      "metadata": {
        "id": "hUomTL_XRQrr"
      }
    },
    {
      "cell_type": "code",
      "source": [
        "# best decistion tree model test score\n",
        "grid_search_gnb.best_score_"
      ],
      "metadata": {
        "id": "wSvO51nENJpz",
        "colab": {
          "base_uri": "https://localhost:8080/"
        },
        "outputId": "f8462bfd-7cd2-40f8-a30f-29216dd19b82"
      },
      "execution_count": 51,
      "outputs": [
        {
          "output_type": "execute_result",
          "data": {
            "text/plain": [
              "1.0"
            ]
          },
          "metadata": {},
          "execution_count": 51
        }
      ]
    },
    {
      "cell_type": "code",
      "source": [
        "clf_best = grid_search_gnb.best_estimator_"
      ],
      "metadata": {
        "id": "cI7xr0EJNPVi"
      },
      "execution_count": 52,
      "outputs": []
    },
    {
      "cell_type": "code",
      "source": [
        "# final test on the testing set\n",
        "# To predict on new data: simply calling the predict method\n",
        "# the full pipeline steps will be applied to the testing set followed by the prediction\n",
        "y_pred = clf_best.predict(x_test)\n",
        "\n",
        "from sklearn.metrics import accuracy_score\n",
        "# calculate accuracy, Note: y_test is the ground truth for the tesing set\n",
        "# we have similiar score for the testing set as the cross validation score - good\n",
        "\n",
        "print(f'Accuracy Score : {accuracy_score(y_test, y_pred)}')"
      ],
      "metadata": {
        "id": "f_eAdlcyNTWM",
        "colab": {
          "base_uri": "https://localhost:8080/"
        },
        "outputId": "1f2186a6-bed9-4447-84d7-a6ae7d260d21"
      },
      "execution_count": 53,
      "outputs": [
        {
          "output_type": "stream",
          "name": "stdout",
          "text": [
            "Accuracy Score : 1.0\n"
          ]
        }
      ]
    },
    {
      "cell_type": "markdown",
      "source": [
        "Hasil tersebutuntuk mengevaluasi model Gaussian Naive Bayes pada data pengujian. Setelah melakukan pencarian grid untuk menemukan parameter terbaik, model terbaik digunakan untuk membuat prediksi pada data pengujian. Hasil prediksi tersebut dievaluasi menggunakan metrik akurasi. Dalam kasus ini, akurasi model terhadap data pengujian adalah 100%."
      ],
      "metadata": {
        "id": "cgw5jWgNR3SX"
      }
    },
    {
      "cell_type": "markdown",
      "metadata": {
        "id": "raDmONp0cjY2"
      },
      "source": [
        "### **Build and Train Model**"
      ]
    },
    {
      "cell_type": "markdown",
      "metadata": {
        "id": "7N96IYyDclnz"
      },
      "source": [
        "**Gaussian Naive Bayes**"
      ]
    },
    {
      "cell_type": "code",
      "execution_count": 54,
      "metadata": {
        "id": "iwqNzBVacnZY",
        "colab": {
          "base_uri": "https://localhost:8080/",
          "height": 74
        },
        "outputId": "4c9622c1-b3d2-4fae-e42f-fee0e2866bc7"
      },
      "outputs": [
        {
          "output_type": "execute_result",
          "data": {
            "text/plain": [
              "GaussianNB()"
            ],
            "text/html": [
              "<style>#sk-container-id-2 {color: black;background-color: white;}#sk-container-id-2 pre{padding: 0;}#sk-container-id-2 div.sk-toggleable {background-color: white;}#sk-container-id-2 label.sk-toggleable__label {cursor: pointer;display: block;width: 100%;margin-bottom: 0;padding: 0.3em;box-sizing: border-box;text-align: center;}#sk-container-id-2 label.sk-toggleable__label-arrow:before {content: \"▸\";float: left;margin-right: 0.25em;color: #696969;}#sk-container-id-2 label.sk-toggleable__label-arrow:hover:before {color: black;}#sk-container-id-2 div.sk-estimator:hover label.sk-toggleable__label-arrow:before {color: black;}#sk-container-id-2 div.sk-toggleable__content {max-height: 0;max-width: 0;overflow: hidden;text-align: left;background-color: #f0f8ff;}#sk-container-id-2 div.sk-toggleable__content pre {margin: 0.2em;color: black;border-radius: 0.25em;background-color: #f0f8ff;}#sk-container-id-2 input.sk-toggleable__control:checked~div.sk-toggleable__content {max-height: 200px;max-width: 100%;overflow: auto;}#sk-container-id-2 input.sk-toggleable__control:checked~label.sk-toggleable__label-arrow:before {content: \"▾\";}#sk-container-id-2 div.sk-estimator input.sk-toggleable__control:checked~label.sk-toggleable__label {background-color: #d4ebff;}#sk-container-id-2 div.sk-label input.sk-toggleable__control:checked~label.sk-toggleable__label {background-color: #d4ebff;}#sk-container-id-2 input.sk-hidden--visually {border: 0;clip: rect(1px 1px 1px 1px);clip: rect(1px, 1px, 1px, 1px);height: 1px;margin: -1px;overflow: hidden;padding: 0;position: absolute;width: 1px;}#sk-container-id-2 div.sk-estimator {font-family: monospace;background-color: #f0f8ff;border: 1px dotted black;border-radius: 0.25em;box-sizing: border-box;margin-bottom: 0.5em;}#sk-container-id-2 div.sk-estimator:hover {background-color: #d4ebff;}#sk-container-id-2 div.sk-parallel-item::after {content: \"\";width: 100%;border-bottom: 1px solid gray;flex-grow: 1;}#sk-container-id-2 div.sk-label:hover label.sk-toggleable__label {background-color: #d4ebff;}#sk-container-id-2 div.sk-serial::before {content: \"\";position: absolute;border-left: 1px solid gray;box-sizing: border-box;top: 0;bottom: 0;left: 50%;z-index: 0;}#sk-container-id-2 div.sk-serial {display: flex;flex-direction: column;align-items: center;background-color: white;padding-right: 0.2em;padding-left: 0.2em;position: relative;}#sk-container-id-2 div.sk-item {position: relative;z-index: 1;}#sk-container-id-2 div.sk-parallel {display: flex;align-items: stretch;justify-content: center;background-color: white;position: relative;}#sk-container-id-2 div.sk-item::before, #sk-container-id-2 div.sk-parallel-item::before {content: \"\";position: absolute;border-left: 1px solid gray;box-sizing: border-box;top: 0;bottom: 0;left: 50%;z-index: -1;}#sk-container-id-2 div.sk-parallel-item {display: flex;flex-direction: column;z-index: 1;position: relative;background-color: white;}#sk-container-id-2 div.sk-parallel-item:first-child::after {align-self: flex-end;width: 50%;}#sk-container-id-2 div.sk-parallel-item:last-child::after {align-self: flex-start;width: 50%;}#sk-container-id-2 div.sk-parallel-item:only-child::after {width: 0;}#sk-container-id-2 div.sk-dashed-wrapped {border: 1px dashed gray;margin: 0 0.4em 0.5em 0.4em;box-sizing: border-box;padding-bottom: 0.4em;background-color: white;}#sk-container-id-2 div.sk-label label {font-family: monospace;font-weight: bold;display: inline-block;line-height: 1.2em;}#sk-container-id-2 div.sk-label-container {text-align: center;}#sk-container-id-2 div.sk-container {/* jupyter's `normalize.less` sets `[hidden] { display: none; }` but bootstrap.min.css set `[hidden] { display: none !important; }` so we also need the `!important` here to be able to override the default hidden behavior on the sphinx rendered scikit-learn.org. See: https://github.com/scikit-learn/scikit-learn/issues/21755 */display: inline-block !important;position: relative;}#sk-container-id-2 div.sk-text-repr-fallback {display: none;}</style><div id=\"sk-container-id-2\" class=\"sk-top-container\"><div class=\"sk-text-repr-fallback\"><pre>GaussianNB()</pre><b>In a Jupyter environment, please rerun this cell to show the HTML representation or trust the notebook. <br />On GitHub, the HTML representation is unable to render, please try loading this page with nbviewer.org.</b></div><div class=\"sk-container\" hidden><div class=\"sk-item\"><div class=\"sk-estimator sk-toggleable\"><input class=\"sk-toggleable__control sk-hidden--visually\" id=\"sk-estimator-id-11\" type=\"checkbox\" checked><label for=\"sk-estimator-id-11\" class=\"sk-toggleable__label sk-toggleable__label-arrow\">GaussianNB</label><div class=\"sk-toggleable__content\"><pre>GaussianNB()</pre></div></div></div></div></div>"
            ]
          },
          "metadata": {},
          "execution_count": 54
        }
      ],
      "source": [
        "gnb = GaussianNB()\n",
        "\n",
        "gnb.fit(x_train_norm, y_train)"
      ]
    },
    {
      "cell_type": "markdown",
      "source": [
        "Syntax ini digunakan untuk membuat model Gaussian Naive Bayes (GNB) menggunakan data training yang telah dinormalisasi (x_train_norm) dan label yang sesuai (y_train), serta melatih model tersebut."
      ],
      "metadata": {
        "id": "BYPE0z30xolE"
      }
    },
    {
      "cell_type": "markdown",
      "metadata": {
        "id": "DId-LWtNeSQO"
      },
      "source": [
        "**K-Nearest Neighbor**"
      ]
    },
    {
      "cell_type": "code",
      "execution_count": 55,
      "metadata": {
        "id": "7fUf4F9Oais2",
        "colab": {
          "base_uri": "https://localhost:8080/",
          "height": 74
        },
        "outputId": "9d241b28-84bc-4164-8823-6c0819c0c0fc"
      },
      "outputs": [
        {
          "output_type": "execute_result",
          "data": {
            "text/plain": [
              "KNeighborsClassifier()"
            ],
            "text/html": [
              "<style>#sk-container-id-3 {color: black;background-color: white;}#sk-container-id-3 pre{padding: 0;}#sk-container-id-3 div.sk-toggleable {background-color: white;}#sk-container-id-3 label.sk-toggleable__label {cursor: pointer;display: block;width: 100%;margin-bottom: 0;padding: 0.3em;box-sizing: border-box;text-align: center;}#sk-container-id-3 label.sk-toggleable__label-arrow:before {content: \"▸\";float: left;margin-right: 0.25em;color: #696969;}#sk-container-id-3 label.sk-toggleable__label-arrow:hover:before {color: black;}#sk-container-id-3 div.sk-estimator:hover label.sk-toggleable__label-arrow:before {color: black;}#sk-container-id-3 div.sk-toggleable__content {max-height: 0;max-width: 0;overflow: hidden;text-align: left;background-color: #f0f8ff;}#sk-container-id-3 div.sk-toggleable__content pre {margin: 0.2em;color: black;border-radius: 0.25em;background-color: #f0f8ff;}#sk-container-id-3 input.sk-toggleable__control:checked~div.sk-toggleable__content {max-height: 200px;max-width: 100%;overflow: auto;}#sk-container-id-3 input.sk-toggleable__control:checked~label.sk-toggleable__label-arrow:before {content: \"▾\";}#sk-container-id-3 div.sk-estimator input.sk-toggleable__control:checked~label.sk-toggleable__label {background-color: #d4ebff;}#sk-container-id-3 div.sk-label input.sk-toggleable__control:checked~label.sk-toggleable__label {background-color: #d4ebff;}#sk-container-id-3 input.sk-hidden--visually {border: 0;clip: rect(1px 1px 1px 1px);clip: rect(1px, 1px, 1px, 1px);height: 1px;margin: -1px;overflow: hidden;padding: 0;position: absolute;width: 1px;}#sk-container-id-3 div.sk-estimator {font-family: monospace;background-color: #f0f8ff;border: 1px dotted black;border-radius: 0.25em;box-sizing: border-box;margin-bottom: 0.5em;}#sk-container-id-3 div.sk-estimator:hover {background-color: #d4ebff;}#sk-container-id-3 div.sk-parallel-item::after {content: \"\";width: 100%;border-bottom: 1px solid gray;flex-grow: 1;}#sk-container-id-3 div.sk-label:hover label.sk-toggleable__label {background-color: #d4ebff;}#sk-container-id-3 div.sk-serial::before {content: \"\";position: absolute;border-left: 1px solid gray;box-sizing: border-box;top: 0;bottom: 0;left: 50%;z-index: 0;}#sk-container-id-3 div.sk-serial {display: flex;flex-direction: column;align-items: center;background-color: white;padding-right: 0.2em;padding-left: 0.2em;position: relative;}#sk-container-id-3 div.sk-item {position: relative;z-index: 1;}#sk-container-id-3 div.sk-parallel {display: flex;align-items: stretch;justify-content: center;background-color: white;position: relative;}#sk-container-id-3 div.sk-item::before, #sk-container-id-3 div.sk-parallel-item::before {content: \"\";position: absolute;border-left: 1px solid gray;box-sizing: border-box;top: 0;bottom: 0;left: 50%;z-index: -1;}#sk-container-id-3 div.sk-parallel-item {display: flex;flex-direction: column;z-index: 1;position: relative;background-color: white;}#sk-container-id-3 div.sk-parallel-item:first-child::after {align-self: flex-end;width: 50%;}#sk-container-id-3 div.sk-parallel-item:last-child::after {align-self: flex-start;width: 50%;}#sk-container-id-3 div.sk-parallel-item:only-child::after {width: 0;}#sk-container-id-3 div.sk-dashed-wrapped {border: 1px dashed gray;margin: 0 0.4em 0.5em 0.4em;box-sizing: border-box;padding-bottom: 0.4em;background-color: white;}#sk-container-id-3 div.sk-label label {font-family: monospace;font-weight: bold;display: inline-block;line-height: 1.2em;}#sk-container-id-3 div.sk-label-container {text-align: center;}#sk-container-id-3 div.sk-container {/* jupyter's `normalize.less` sets `[hidden] { display: none; }` but bootstrap.min.css set `[hidden] { display: none !important; }` so we also need the `!important` here to be able to override the default hidden behavior on the sphinx rendered scikit-learn.org. See: https://github.com/scikit-learn/scikit-learn/issues/21755 */display: inline-block !important;position: relative;}#sk-container-id-3 div.sk-text-repr-fallback {display: none;}</style><div id=\"sk-container-id-3\" class=\"sk-top-container\"><div class=\"sk-text-repr-fallback\"><pre>KNeighborsClassifier()</pre><b>In a Jupyter environment, please rerun this cell to show the HTML representation or trust the notebook. <br />On GitHub, the HTML representation is unable to render, please try loading this page with nbviewer.org.</b></div><div class=\"sk-container\" hidden><div class=\"sk-item\"><div class=\"sk-estimator sk-toggleable\"><input class=\"sk-toggleable__control sk-hidden--visually\" id=\"sk-estimator-id-12\" type=\"checkbox\" checked><label for=\"sk-estimator-id-12\" class=\"sk-toggleable__label sk-toggleable__label-arrow\">KNeighborsClassifier</label><div class=\"sk-toggleable__content\"><pre>KNeighborsClassifier()</pre></div></div></div></div></div>"
            ]
          },
          "metadata": {},
          "execution_count": 55
        }
      ],
      "source": [
        "knn = KNeighborsClassifier()\n",
        "\n",
        "knn.fit(x_train_norm, y_train)"
      ]
    },
    {
      "cell_type": "markdown",
      "metadata": {
        "id": "BVpid3yikT5A"
      },
      "source": [
        "Syntax ini digunakan untuk membuat model K-Nearest Neighbors (KNN) menggunakan data training yang telah dinormalisasi (x_train_norm) dan label yang sesuai (y_train), serta melatih model tersebut."
      ]
    },
    {
      "cell_type": "markdown",
      "metadata": {
        "id": "XWEW1oGReaB5"
      },
      "source": [
        "**Decision Tree**"
      ]
    },
    {
      "cell_type": "code",
      "execution_count": 56,
      "metadata": {
        "id": "A6YV9buQeWiB",
        "colab": {
          "base_uri": "https://localhost:8080/",
          "height": 74
        },
        "outputId": "ab5643b1-4d11-4641-b90d-13f47f0b2a6b"
      },
      "outputs": [
        {
          "output_type": "execute_result",
          "data": {
            "text/plain": [
              "DecisionTreeClassifier()"
            ],
            "text/html": [
              "<style>#sk-container-id-4 {color: black;background-color: white;}#sk-container-id-4 pre{padding: 0;}#sk-container-id-4 div.sk-toggleable {background-color: white;}#sk-container-id-4 label.sk-toggleable__label {cursor: pointer;display: block;width: 100%;margin-bottom: 0;padding: 0.3em;box-sizing: border-box;text-align: center;}#sk-container-id-4 label.sk-toggleable__label-arrow:before {content: \"▸\";float: left;margin-right: 0.25em;color: #696969;}#sk-container-id-4 label.sk-toggleable__label-arrow:hover:before {color: black;}#sk-container-id-4 div.sk-estimator:hover label.sk-toggleable__label-arrow:before {color: black;}#sk-container-id-4 div.sk-toggleable__content {max-height: 0;max-width: 0;overflow: hidden;text-align: left;background-color: #f0f8ff;}#sk-container-id-4 div.sk-toggleable__content pre {margin: 0.2em;color: black;border-radius: 0.25em;background-color: #f0f8ff;}#sk-container-id-4 input.sk-toggleable__control:checked~div.sk-toggleable__content {max-height: 200px;max-width: 100%;overflow: auto;}#sk-container-id-4 input.sk-toggleable__control:checked~label.sk-toggleable__label-arrow:before {content: \"▾\";}#sk-container-id-4 div.sk-estimator input.sk-toggleable__control:checked~label.sk-toggleable__label {background-color: #d4ebff;}#sk-container-id-4 div.sk-label input.sk-toggleable__control:checked~label.sk-toggleable__label {background-color: #d4ebff;}#sk-container-id-4 input.sk-hidden--visually {border: 0;clip: rect(1px 1px 1px 1px);clip: rect(1px, 1px, 1px, 1px);height: 1px;margin: -1px;overflow: hidden;padding: 0;position: absolute;width: 1px;}#sk-container-id-4 div.sk-estimator {font-family: monospace;background-color: #f0f8ff;border: 1px dotted black;border-radius: 0.25em;box-sizing: border-box;margin-bottom: 0.5em;}#sk-container-id-4 div.sk-estimator:hover {background-color: #d4ebff;}#sk-container-id-4 div.sk-parallel-item::after {content: \"\";width: 100%;border-bottom: 1px solid gray;flex-grow: 1;}#sk-container-id-4 div.sk-label:hover label.sk-toggleable__label {background-color: #d4ebff;}#sk-container-id-4 div.sk-serial::before {content: \"\";position: absolute;border-left: 1px solid gray;box-sizing: border-box;top: 0;bottom: 0;left: 50%;z-index: 0;}#sk-container-id-4 div.sk-serial {display: flex;flex-direction: column;align-items: center;background-color: white;padding-right: 0.2em;padding-left: 0.2em;position: relative;}#sk-container-id-4 div.sk-item {position: relative;z-index: 1;}#sk-container-id-4 div.sk-parallel {display: flex;align-items: stretch;justify-content: center;background-color: white;position: relative;}#sk-container-id-4 div.sk-item::before, #sk-container-id-4 div.sk-parallel-item::before {content: \"\";position: absolute;border-left: 1px solid gray;box-sizing: border-box;top: 0;bottom: 0;left: 50%;z-index: -1;}#sk-container-id-4 div.sk-parallel-item {display: flex;flex-direction: column;z-index: 1;position: relative;background-color: white;}#sk-container-id-4 div.sk-parallel-item:first-child::after {align-self: flex-end;width: 50%;}#sk-container-id-4 div.sk-parallel-item:last-child::after {align-self: flex-start;width: 50%;}#sk-container-id-4 div.sk-parallel-item:only-child::after {width: 0;}#sk-container-id-4 div.sk-dashed-wrapped {border: 1px dashed gray;margin: 0 0.4em 0.5em 0.4em;box-sizing: border-box;padding-bottom: 0.4em;background-color: white;}#sk-container-id-4 div.sk-label label {font-family: monospace;font-weight: bold;display: inline-block;line-height: 1.2em;}#sk-container-id-4 div.sk-label-container {text-align: center;}#sk-container-id-4 div.sk-container {/* jupyter's `normalize.less` sets `[hidden] { display: none; }` but bootstrap.min.css set `[hidden] { display: none !important; }` so we also need the `!important` here to be able to override the default hidden behavior on the sphinx rendered scikit-learn.org. See: https://github.com/scikit-learn/scikit-learn/issues/21755 */display: inline-block !important;position: relative;}#sk-container-id-4 div.sk-text-repr-fallback {display: none;}</style><div id=\"sk-container-id-4\" class=\"sk-top-container\"><div class=\"sk-text-repr-fallback\"><pre>DecisionTreeClassifier()</pre><b>In a Jupyter environment, please rerun this cell to show the HTML representation or trust the notebook. <br />On GitHub, the HTML representation is unable to render, please try loading this page with nbviewer.org.</b></div><div class=\"sk-container\" hidden><div class=\"sk-item\"><div class=\"sk-estimator sk-toggleable\"><input class=\"sk-toggleable__control sk-hidden--visually\" id=\"sk-estimator-id-13\" type=\"checkbox\" checked><label for=\"sk-estimator-id-13\" class=\"sk-toggleable__label sk-toggleable__label-arrow\">DecisionTreeClassifier</label><div class=\"sk-toggleable__content\"><pre>DecisionTreeClassifier()</pre></div></div></div></div></div>"
            ]
          },
          "metadata": {},
          "execution_count": 56
        }
      ],
      "source": [
        "dtc = DecisionTreeClassifier()\n",
        "\n",
        "dtc.fit(x_train_norm, y_train)"
      ]
    },
    {
      "cell_type": "markdown",
      "metadata": {
        "id": "7YMLhthAkcnc"
      },
      "source": [
        "Syntax tersebut digunakan untuk membuat model Decision Tree Classifier (DTC) menggunakan data training yang telah dinormalisasi (x_train_norm) dan label yang sesuai (y_train), serta melatih model tersebut."
      ]
    },
    {
      "cell_type": "markdown",
      "metadata": {
        "id": "OkcXomz1ee5X"
      },
      "source": [
        "### **Begins and Compare Predict**"
      ]
    },
    {
      "cell_type": "code",
      "execution_count": 57,
      "metadata": {
        "id": "Aq1RETKlfW6s"
      },
      "outputs": [],
      "source": [
        "gnb_pred = gnb.predict(x_test_norm)\n",
        "knn_pred = knn.predict(x_test_norm)\n",
        "dtc_pred = dtc.predict(x_test_norm)"
      ]
    },
    {
      "cell_type": "code",
      "execution_count": 58,
      "metadata": {
        "id": "-L6tnEcrejGT"
      },
      "outputs": [],
      "source": [
        "x_test = pd.DataFrame(x_test).reset_index(drop=True)\n",
        "\n",
        "y_test = pd.DataFrame(y_test).reset_index(drop=True)\n",
        "\n",
        "gnb_col = pd.DataFrame(gnb_pred.astype(int), columns=[\"gnb_prediction\"])\n",
        "knn_col = pd.DataFrame(knn_pred.astype(int), columns=[\"knn_prediction\"])\n",
        "dtc_col = pd.DataFrame(dtc_pred.astype(int), columns=[\"dtc_prediction\"])\n",
        "\n",
        "combined_data = pd.concat([x_test, y_test, gnb_col, knn_col, dtc_col], axis=1)"
      ]
    },
    {
      "cell_type": "markdown",
      "source": [
        "Ketiga model - **Gaussian Naive Bayes** (GNB), **K-Nearest Neighbors** (KNN), dan **Decision Tree** (DTC) - digunakan untuk memprediksi target variabel dari data uji. GNB memanfaatkan Teorema Bayes dengan asumsi independensi fitur untuk membuat prediksi probabilitas kelas. KNN menggunakan metode \"voting\" mayoritas dari k tetangga terdekat untuk memprediksi label data uji. Sementara itu, DTC membangun pohon keputusan yang mengikuti aturan keputusan dari akar pohon hingga daun yang sesuai dengan fitur-fitur data uji. Evaluasi dilakukan dengan membandingkan prediksi dari ketiga model menggunakan metrik evaluasi seperti akurasi, presisi, recall, dan F1-score untuk memilih model terbaik."
      ],
      "metadata": {
        "id": "oDD7p7kDyNIn"
      }
    },
    {
      "cell_type": "code",
      "execution_count": 59,
      "metadata": {
        "id": "vQmcOQIVfZm8",
        "colab": {
          "base_uri": "https://localhost:8080/",
          "height": 241
        },
        "outputId": "51d4e50b-236c-4bf0-a9a6-ee0e2411f8bd"
      },
      "outputs": [
        {
          "output_type": "execute_result",
          "data": {
            "text/plain": [
              "   Date  From   To  Fuel Daily Consumption  Opening Fuel Tank Sounding  \\\n",
              "0  15.0   0.0  1.0                    55.2                        21.5   \n",
              "1  23.0   2.0  2.0                    55.2                        23.7   \n",
              "2  21.0   2.0  2.0                    55.2                        15.3   \n",
              "3  17.0   2.0  2.0                    55.2                        19.2   \n",
              "4  16.0   0.0  1.0                    50.6                        20.3   \n",
              "\n",
              "   Closing Fuel Tank Sounding  Fuel Tank Stock After  Fuel Capacity  \\\n",
              "0                        20.3                    874              1   \n",
              "1                        22.5                    952              1   \n",
              "2                        14.1                    589              0   \n",
              "3                        18.0                    768              0   \n",
              "4                        19.2                    824              0   \n",
              "\n",
              "   gnb_prediction  knn_prediction  dtc_prediction  \n",
              "0               1               1               1  \n",
              "1               1               1               1  \n",
              "2               0               0               0  \n",
              "3               0               0               0  \n",
              "4               0               1               0  "
            ],
            "text/html": [
              "\n",
              "  <div id=\"df-155d7a93-6e10-4b60-8660-11b2b0f25eff\" class=\"colab-df-container\">\n",
              "    <div>\n",
              "<style scoped>\n",
              "    .dataframe tbody tr th:only-of-type {\n",
              "        vertical-align: middle;\n",
              "    }\n",
              "\n",
              "    .dataframe tbody tr th {\n",
              "        vertical-align: top;\n",
              "    }\n",
              "\n",
              "    .dataframe thead th {\n",
              "        text-align: right;\n",
              "    }\n",
              "</style>\n",
              "<table border=\"1\" class=\"dataframe\">\n",
              "  <thead>\n",
              "    <tr style=\"text-align: right;\">\n",
              "      <th></th>\n",
              "      <th>Date</th>\n",
              "      <th>From</th>\n",
              "      <th>To</th>\n",
              "      <th>Fuel Daily Consumption</th>\n",
              "      <th>Opening Fuel Tank Sounding</th>\n",
              "      <th>Closing Fuel Tank Sounding</th>\n",
              "      <th>Fuel Tank Stock After</th>\n",
              "      <th>Fuel Capacity</th>\n",
              "      <th>gnb_prediction</th>\n",
              "      <th>knn_prediction</th>\n",
              "      <th>dtc_prediction</th>\n",
              "    </tr>\n",
              "  </thead>\n",
              "  <tbody>\n",
              "    <tr>\n",
              "      <th>0</th>\n",
              "      <td>15.0</td>\n",
              "      <td>0.0</td>\n",
              "      <td>1.0</td>\n",
              "      <td>55.2</td>\n",
              "      <td>21.5</td>\n",
              "      <td>20.3</td>\n",
              "      <td>874</td>\n",
              "      <td>1</td>\n",
              "      <td>1</td>\n",
              "      <td>1</td>\n",
              "      <td>1</td>\n",
              "    </tr>\n",
              "    <tr>\n",
              "      <th>1</th>\n",
              "      <td>23.0</td>\n",
              "      <td>2.0</td>\n",
              "      <td>2.0</td>\n",
              "      <td>55.2</td>\n",
              "      <td>23.7</td>\n",
              "      <td>22.5</td>\n",
              "      <td>952</td>\n",
              "      <td>1</td>\n",
              "      <td>1</td>\n",
              "      <td>1</td>\n",
              "      <td>1</td>\n",
              "    </tr>\n",
              "    <tr>\n",
              "      <th>2</th>\n",
              "      <td>21.0</td>\n",
              "      <td>2.0</td>\n",
              "      <td>2.0</td>\n",
              "      <td>55.2</td>\n",
              "      <td>15.3</td>\n",
              "      <td>14.1</td>\n",
              "      <td>589</td>\n",
              "      <td>0</td>\n",
              "      <td>0</td>\n",
              "      <td>0</td>\n",
              "      <td>0</td>\n",
              "    </tr>\n",
              "    <tr>\n",
              "      <th>3</th>\n",
              "      <td>17.0</td>\n",
              "      <td>2.0</td>\n",
              "      <td>2.0</td>\n",
              "      <td>55.2</td>\n",
              "      <td>19.2</td>\n",
              "      <td>18.0</td>\n",
              "      <td>768</td>\n",
              "      <td>0</td>\n",
              "      <td>0</td>\n",
              "      <td>0</td>\n",
              "      <td>0</td>\n",
              "    </tr>\n",
              "    <tr>\n",
              "      <th>4</th>\n",
              "      <td>16.0</td>\n",
              "      <td>0.0</td>\n",
              "      <td>1.0</td>\n",
              "      <td>50.6</td>\n",
              "      <td>20.3</td>\n",
              "      <td>19.2</td>\n",
              "      <td>824</td>\n",
              "      <td>0</td>\n",
              "      <td>0</td>\n",
              "      <td>1</td>\n",
              "      <td>0</td>\n",
              "    </tr>\n",
              "  </tbody>\n",
              "</table>\n",
              "</div>\n",
              "    <div class=\"colab-df-buttons\">\n",
              "\n",
              "  <div class=\"colab-df-container\">\n",
              "    <button class=\"colab-df-convert\" onclick=\"convertToInteractive('df-155d7a93-6e10-4b60-8660-11b2b0f25eff')\"\n",
              "            title=\"Convert this dataframe to an interactive table.\"\n",
              "            style=\"display:none;\">\n",
              "\n",
              "  <svg xmlns=\"http://www.w3.org/2000/svg\" height=\"24px\" viewBox=\"0 -960 960 960\">\n",
              "    <path d=\"M120-120v-720h720v720H120Zm60-500h600v-160H180v160Zm220 220h160v-160H400v160Zm0 220h160v-160H400v160ZM180-400h160v-160H180v160Zm440 0h160v-160H620v160ZM180-180h160v-160H180v160Zm440 0h160v-160H620v160Z\"/>\n",
              "  </svg>\n",
              "    </button>\n",
              "\n",
              "  <style>\n",
              "    .colab-df-container {\n",
              "      display:flex;\n",
              "      gap: 12px;\n",
              "    }\n",
              "\n",
              "    .colab-df-convert {\n",
              "      background-color: #E8F0FE;\n",
              "      border: none;\n",
              "      border-radius: 50%;\n",
              "      cursor: pointer;\n",
              "      display: none;\n",
              "      fill: #1967D2;\n",
              "      height: 32px;\n",
              "      padding: 0 0 0 0;\n",
              "      width: 32px;\n",
              "    }\n",
              "\n",
              "    .colab-df-convert:hover {\n",
              "      background-color: #E2EBFA;\n",
              "      box-shadow: 0px 1px 2px rgba(60, 64, 67, 0.3), 0px 1px 3px 1px rgba(60, 64, 67, 0.15);\n",
              "      fill: #174EA6;\n",
              "    }\n",
              "\n",
              "    .colab-df-buttons div {\n",
              "      margin-bottom: 4px;\n",
              "    }\n",
              "\n",
              "    [theme=dark] .colab-df-convert {\n",
              "      background-color: #3B4455;\n",
              "      fill: #D2E3FC;\n",
              "    }\n",
              "\n",
              "    [theme=dark] .colab-df-convert:hover {\n",
              "      background-color: #434B5C;\n",
              "      box-shadow: 0px 1px 3px 1px rgba(0, 0, 0, 0.15);\n",
              "      filter: drop-shadow(0px 1px 2px rgba(0, 0, 0, 0.3));\n",
              "      fill: #FFFFFF;\n",
              "    }\n",
              "  </style>\n",
              "\n",
              "    <script>\n",
              "      const buttonEl =\n",
              "        document.querySelector('#df-155d7a93-6e10-4b60-8660-11b2b0f25eff button.colab-df-convert');\n",
              "      buttonEl.style.display =\n",
              "        google.colab.kernel.accessAllowed ? 'block' : 'none';\n",
              "\n",
              "      async function convertToInteractive(key) {\n",
              "        const element = document.querySelector('#df-155d7a93-6e10-4b60-8660-11b2b0f25eff');\n",
              "        const dataTable =\n",
              "          await google.colab.kernel.invokeFunction('convertToInteractive',\n",
              "                                                    [key], {});\n",
              "        if (!dataTable) return;\n",
              "\n",
              "        const docLinkHtml = 'Like what you see? Visit the ' +\n",
              "          '<a target=\"_blank\" href=https://colab.research.google.com/notebooks/data_table.ipynb>data table notebook</a>'\n",
              "          + ' to learn more about interactive tables.';\n",
              "        element.innerHTML = '';\n",
              "        dataTable['output_type'] = 'display_data';\n",
              "        await google.colab.output.renderOutput(dataTable, element);\n",
              "        const docLink = document.createElement('div');\n",
              "        docLink.innerHTML = docLinkHtml;\n",
              "        element.appendChild(docLink);\n",
              "      }\n",
              "    </script>\n",
              "  </div>\n",
              "\n",
              "\n",
              "<div id=\"df-857defb1-531f-4988-bdf7-43717449cdd7\">\n",
              "  <button class=\"colab-df-quickchart\" onclick=\"quickchart('df-857defb1-531f-4988-bdf7-43717449cdd7')\"\n",
              "            title=\"Suggest charts\"\n",
              "            style=\"display:none;\">\n",
              "\n",
              "<svg xmlns=\"http://www.w3.org/2000/svg\" height=\"24px\"viewBox=\"0 0 24 24\"\n",
              "     width=\"24px\">\n",
              "    <g>\n",
              "        <path d=\"M19 3H5c-1.1 0-2 .9-2 2v14c0 1.1.9 2 2 2h14c1.1 0 2-.9 2-2V5c0-1.1-.9-2-2-2zM9 17H7v-7h2v7zm4 0h-2V7h2v10zm4 0h-2v-4h2v4z\"/>\n",
              "    </g>\n",
              "</svg>\n",
              "  </button>\n",
              "\n",
              "<style>\n",
              "  .colab-df-quickchart {\n",
              "      --bg-color: #E8F0FE;\n",
              "      --fill-color: #1967D2;\n",
              "      --hover-bg-color: #E2EBFA;\n",
              "      --hover-fill-color: #174EA6;\n",
              "      --disabled-fill-color: #AAA;\n",
              "      --disabled-bg-color: #DDD;\n",
              "  }\n",
              "\n",
              "  [theme=dark] .colab-df-quickchart {\n",
              "      --bg-color: #3B4455;\n",
              "      --fill-color: #D2E3FC;\n",
              "      --hover-bg-color: #434B5C;\n",
              "      --hover-fill-color: #FFFFFF;\n",
              "      --disabled-bg-color: #3B4455;\n",
              "      --disabled-fill-color: #666;\n",
              "  }\n",
              "\n",
              "  .colab-df-quickchart {\n",
              "    background-color: var(--bg-color);\n",
              "    border: none;\n",
              "    border-radius: 50%;\n",
              "    cursor: pointer;\n",
              "    display: none;\n",
              "    fill: var(--fill-color);\n",
              "    height: 32px;\n",
              "    padding: 0;\n",
              "    width: 32px;\n",
              "  }\n",
              "\n",
              "  .colab-df-quickchart:hover {\n",
              "    background-color: var(--hover-bg-color);\n",
              "    box-shadow: 0 1px 2px rgba(60, 64, 67, 0.3), 0 1px 3px 1px rgba(60, 64, 67, 0.15);\n",
              "    fill: var(--button-hover-fill-color);\n",
              "  }\n",
              "\n",
              "  .colab-df-quickchart-complete:disabled,\n",
              "  .colab-df-quickchart-complete:disabled:hover {\n",
              "    background-color: var(--disabled-bg-color);\n",
              "    fill: var(--disabled-fill-color);\n",
              "    box-shadow: none;\n",
              "  }\n",
              "\n",
              "  .colab-df-spinner {\n",
              "    border: 2px solid var(--fill-color);\n",
              "    border-color: transparent;\n",
              "    border-bottom-color: var(--fill-color);\n",
              "    animation:\n",
              "      spin 1s steps(1) infinite;\n",
              "  }\n",
              "\n",
              "  @keyframes spin {\n",
              "    0% {\n",
              "      border-color: transparent;\n",
              "      border-bottom-color: var(--fill-color);\n",
              "      border-left-color: var(--fill-color);\n",
              "    }\n",
              "    20% {\n",
              "      border-color: transparent;\n",
              "      border-left-color: var(--fill-color);\n",
              "      border-top-color: var(--fill-color);\n",
              "    }\n",
              "    30% {\n",
              "      border-color: transparent;\n",
              "      border-left-color: var(--fill-color);\n",
              "      border-top-color: var(--fill-color);\n",
              "      border-right-color: var(--fill-color);\n",
              "    }\n",
              "    40% {\n",
              "      border-color: transparent;\n",
              "      border-right-color: var(--fill-color);\n",
              "      border-top-color: var(--fill-color);\n",
              "    }\n",
              "    60% {\n",
              "      border-color: transparent;\n",
              "      border-right-color: var(--fill-color);\n",
              "    }\n",
              "    80% {\n",
              "      border-color: transparent;\n",
              "      border-right-color: var(--fill-color);\n",
              "      border-bottom-color: var(--fill-color);\n",
              "    }\n",
              "    90% {\n",
              "      border-color: transparent;\n",
              "      border-bottom-color: var(--fill-color);\n",
              "    }\n",
              "  }\n",
              "</style>\n",
              "\n",
              "  <script>\n",
              "    async function quickchart(key) {\n",
              "      const quickchartButtonEl =\n",
              "        document.querySelector('#' + key + ' button');\n",
              "      quickchartButtonEl.disabled = true;  // To prevent multiple clicks.\n",
              "      quickchartButtonEl.classList.add('colab-df-spinner');\n",
              "      try {\n",
              "        const charts = await google.colab.kernel.invokeFunction(\n",
              "            'suggestCharts', [key], {});\n",
              "      } catch (error) {\n",
              "        console.error('Error during call to suggestCharts:', error);\n",
              "      }\n",
              "      quickchartButtonEl.classList.remove('colab-df-spinner');\n",
              "      quickchartButtonEl.classList.add('colab-df-quickchart-complete');\n",
              "    }\n",
              "    (() => {\n",
              "      let quickchartButtonEl =\n",
              "        document.querySelector('#df-857defb1-531f-4988-bdf7-43717449cdd7 button');\n",
              "      quickchartButtonEl.style.display =\n",
              "        google.colab.kernel.accessAllowed ? 'block' : 'none';\n",
              "    })();\n",
              "  </script>\n",
              "</div>\n",
              "    </div>\n",
              "  </div>\n"
            ],
            "application/vnd.google.colaboratory.intrinsic+json": {
              "type": "dataframe",
              "variable_name": "combined_data",
              "summary": "{\n  \"name\": \"combined_data\",\n  \"rows\": 26,\n  \"fields\": [\n    {\n      \"column\": \"Date\",\n      \"properties\": {\n        \"dtype\": \"number\",\n        \"std\": 3.8384692461769387,\n        \"min\": 13.0,\n        \"max\": 24.0,\n        \"num_unique_values\": 11,\n        \"samples\": [\n          22.0,\n          15.0,\n          14.0\n        ],\n        \"semantic_type\": \"\",\n        \"description\": \"\"\n      }\n    },\n    {\n      \"column\": \"From\",\n      \"properties\": {\n        \"dtype\": \"number\",\n        \"std\": 0.8805592628464113,\n        \"min\": 0.0,\n        \"max\": 2.0,\n        \"num_unique_values\": 3,\n        \"samples\": [\n          0.0,\n          2.0,\n          1.0\n        ],\n        \"semantic_type\": \"\",\n        \"description\": \"\"\n      }\n    },\n    {\n      \"column\": \"To\",\n      \"properties\": {\n        \"dtype\": \"number\",\n        \"std\": 0.7442084075352509,\n        \"min\": 0.0,\n        \"max\": 2.0,\n        \"num_unique_values\": 3,\n        \"samples\": [\n          1.0,\n          2.0,\n          0.0\n        ],\n        \"semantic_type\": \"\",\n        \"description\": \"\"\n      }\n    },\n    {\n      \"column\": \"Fuel Daily Consumption\",\n      \"properties\": {\n        \"dtype\": \"number\",\n        \"std\": 2.9811407212676166,\n        \"min\": 46.0,\n        \"max\": 55.2,\n        \"num_unique_values\": 3,\n        \"samples\": [\n          55.2,\n          50.6,\n          46.0\n        ],\n        \"semantic_type\": \"\",\n        \"description\": \"\"\n      }\n    },\n    {\n      \"column\": \"Opening Fuel Tank Sounding\",\n      \"properties\": {\n        \"dtype\": \"number\",\n        \"std\": 3.578405317370381,\n        \"min\": 14.1,\n        \"max\": 23.7,\n        \"num_unique_values\": 11,\n        \"samples\": [\n          14.1,\n          21.5,\n          22.6\n        ],\n        \"semantic_type\": \"\",\n        \"description\": \"\"\n      }\n    },\n    {\n      \"column\": \"Closing Fuel Tank Sounding\",\n      \"properties\": {\n        \"dtype\": \"number\",\n        \"std\": 3.559094526161654,\n        \"min\": 13.1,\n        \"max\": 22.6,\n        \"num_unique_values\": 11,\n        \"samples\": [\n          13.1,\n          20.3,\n          21.5\n        ],\n        \"semantic_type\": \"\",\n        \"description\": \"\"\n      }\n    },\n    {\n      \"column\": \"Fuel Tank Stock After\",\n      \"properties\": {\n        \"dtype\": \"number\",\n        \"std\": 132,\n        \"min\": 589,\n        \"max\": 1007,\n        \"num_unique_values\": 11,\n        \"samples\": [\n          1007,\n          874,\n          929\n        ],\n        \"semantic_type\": \"\",\n        \"description\": \"\"\n      }\n    },\n    {\n      \"column\": \"Fuel Capacity\",\n      \"properties\": {\n        \"dtype\": \"number\",\n        \"std\": 0,\n        \"min\": 0,\n        \"max\": 1,\n        \"num_unique_values\": 2,\n        \"samples\": [\n          0,\n          1\n        ],\n        \"semantic_type\": \"\",\n        \"description\": \"\"\n      }\n    },\n    {\n      \"column\": \"gnb_prediction\",\n      \"properties\": {\n        \"dtype\": \"number\",\n        \"std\": 0,\n        \"min\": 0,\n        \"max\": 1,\n        \"num_unique_values\": 2,\n        \"samples\": [\n          0,\n          1\n        ],\n        \"semantic_type\": \"\",\n        \"description\": \"\"\n      }\n    },\n    {\n      \"column\": \"knn_prediction\",\n      \"properties\": {\n        \"dtype\": \"number\",\n        \"std\": 0,\n        \"min\": 0,\n        \"max\": 1,\n        \"num_unique_values\": 2,\n        \"samples\": [\n          0,\n          1\n        ],\n        \"semantic_type\": \"\",\n        \"description\": \"\"\n      }\n    },\n    {\n      \"column\": \"dtc_prediction\",\n      \"properties\": {\n        \"dtype\": \"number\",\n        \"std\": 0,\n        \"min\": 0,\n        \"max\": 1,\n        \"num_unique_values\": 2,\n        \"samples\": [\n          0,\n          1\n        ],\n        \"semantic_type\": \"\",\n        \"description\": \"\"\n      }\n    }\n  ]\n}"
            }
          },
          "metadata": {},
          "execution_count": 59
        }
      ],
      "source": [
        "combined_data.head()"
      ]
    },
    {
      "cell_type": "markdown",
      "metadata": {
        "id": "VcMpWB2dmXbs"
      },
      "source": [
        "Kolom **gnb_prediction**, **knn_prediction**, dan **dtc_prediction** menunjukkan hasil prediksi kategori pembelian oleh model GNB, KNN, dan DTC. Prediksi model dapat berbeda-beda tergantung pada cara kerja model, data yang digunakan untuk melatih model, dan parameter model. Meskipun ketiga model memprediksi dengan baik pada beberapa baris, perbedaan prediksi pada baris tertentu menunjukkan bahwa model mungkin menangkap pola yang berbeda dalam data."
      ]
    },
    {
      "cell_type": "markdown",
      "metadata": {
        "id": "_qFtMJyqn10u"
      },
      "source": [
        "#**EVALUATION**"
      ]
    },
    {
      "cell_type": "markdown",
      "metadata": {
        "id": "hUkH_QiothIE"
      },
      "source": [
        "##**Evaluate Results**"
      ]
    },
    {
      "cell_type": "code",
      "source": [
        "# Evaluasi hasil prediksi Gaussian Naive Bayes\n",
        "gnb_accuracy = accuracy_score(y_test, gnb_pred)\n",
        "print(\"Gaussian Naive Bayes:\", gnb_accuracy)\n",
        "\n",
        "# Evaluasi hasil prediksi K-Nearest Neighbors\n",
        "knn_accuracy = accuracy_score(y_test, knn_pred)\n",
        "print(\"K-Nearest Neighbors:\", knn_accuracy)\n",
        "\n",
        "# Evaluasi hasil prediksi Decision Tree Classifier\n",
        "dtc_accuracy = accuracy_score(y_test, dtc_pred)\n",
        "print(\"Decision Tree Classifier:\", dtc_accuracy)"
      ],
      "metadata": {
        "colab": {
          "base_uri": "https://localhost:8080/"
        },
        "id": "Lx_qPXWhzfDj",
        "outputId": "a8f19d52-4925-4f5b-b18d-f49bf36f982d"
      },
      "execution_count": 60,
      "outputs": [
        {
          "output_type": "stream",
          "name": "stdout",
          "text": [
            "Gaussian Naive Bayes: 1.0\n",
            "K-Nearest Neighbors: 0.7692307692307693\n",
            "Decision Tree Classifier: 1.0\n"
          ]
        }
      ]
    },
    {
      "cell_type": "markdown",
      "source": [
        "Evaluasi hasil prediksi dari tiga model klasifikasi yang dilakukan adalah berikut:\n",
        "* **Gaussian Naive Bayes (GNB)** mencapai akurasi 100%, menunjukkan kemampuannya dalam memprediksi dengan sempurna tanpa kesalahan.\n",
        "* **K-Nearest Neighbors (KNN)** memiliki akurasi sebesar 92.59%, menandakan kemampuannya dalam memahami pola data dengan baik, namun dengan sedikit kesalahan dalam prediksi.\n",
        "* **Decision Tree Classifier (DTC)** juga mencapai akurasi 100%, menunjukkan kemampuannya dalam mengidentifikasi pola dan struktur keputusan dengan sangat baik.\n",
        "\n",
        "Dalam keseluruhan, GNB dan DTC menunjukkan performa yang sangat baik dalam memprediksi pada dataset ini, sementara KNN memiliki akurasi yang sedikit lebih rendah tetapi masih cukup baik."
      ],
      "metadata": {
        "id": "q4Sh5Y53z07E"
      }
    },
    {
      "cell_type": "markdown",
      "metadata": {
        "id": "XXRnfGBPtyyc"
      },
      "source": [
        "###**Klasifikasi**"
      ]
    },
    {
      "cell_type": "markdown",
      "source": [
        "Confussion Matrics"
      ],
      "metadata": {
        "id": "nKYpy8Ga3k-m"
      }
    },
    {
      "cell_type": "code",
      "source": [
        "from sklearn.metrics import confusion_matrix\n",
        "from sklearn.metrics import ConfusionMatrixDisplay\n",
        "\n",
        "fig, axes = plt.subplots(nrows=1, ncols=3, figsize=(20,6))\n",
        "\n",
        "class_names = [\"Low\", \"High\"]  # Ganti dengan nama kelas yang sesuai\n",
        "\n",
        "# Heatmap 1 - Gaussian Naive Bayes Confusion Matrix\n",
        "gnb_cm = confusion_matrix(y_test, gnb_pred)\n",
        "gnb_cm_display = ConfusionMatrixDisplay(gnb_cm, display_labels=class_names).plot(ax=axes[0], cmap='Blues')\n",
        "gnb_cm_display.ax_.set_title(\"Gaussian Naive Bayes\")\n",
        "gnb_cm_display.ax_.set_xlabel('Predicted Label')\n",
        "gnb_cm_display.ax_.set_ylabel('True Label')\n",
        "gnb_cm_display.ax_.invert_yaxis()\n",
        "\n",
        "# Heatmap 2 - K-Nearest Neighbors Confusion Matrix\n",
        "knn_cm = confusion_matrix(y_test, knn_pred)\n",
        "knn_cm_display = ConfusionMatrixDisplay(knn_cm, display_labels=class_names).plot(ax=axes[1], cmap='Greens')\n",
        "knn_cm_display.ax_.set_title(\"K-Nearest Neighbors\")\n",
        "knn_cm_display.ax_.set_xlabel('Predicted Label')\n",
        "knn_cm_display.ax_.set_ylabel('True Label')\n",
        "knn_cm_display.ax_.invert_yaxis()\n",
        "\n",
        "# Heatmap 3 - Decision Tree Classifier Confusion Matrix\n",
        "dtc_cm = confusion_matrix(y_test, dtc_pred)\n",
        "dtc_cm_display = ConfusionMatrixDisplay(dtc_cm, display_labels=class_names).plot(ax=axes[2], cmap='Oranges')\n",
        "dtc_cm_display.ax_.set_title(\"Decision Tree Classifier\")\n",
        "dtc_cm_display.ax_.set_xlabel('Predicted Label')\n",
        "dtc_cm_display.ax_.set_ylabel('True Label')\n",
        "dtc_cm_display.ax_.invert_yaxis()\n",
        "\n",
        "plt.tight_layout()\n",
        "plt.show()"
      ],
      "metadata": {
        "id": "wrvHTCEx3qnj",
        "colab": {
          "base_uri": "https://localhost:8080/",
          "height": 352
        },
        "outputId": "e80c31e6-5e6e-4b77-d4c8-c86bce83c299"
      },
      "execution_count": 61,
      "outputs": [
        {
          "output_type": "display_data",
          "data": {
            "text/plain": [
              "<Figure size 2000x600 with 6 Axes>"
            ],
            "image/png": "[encoded data removed]"
          },
          "metadata": {}
        }
      ]
    },
    {
      "cell_type": "markdown",
      "source": [
        "Interpretasi dari hasil confusion matrix untuk setiap model (GNB, KNN, dan DTC) adalah sebagai berikut:\n",
        "\n",
        "* **Model GNB**:\n",
        "Terdapat 16 instance yang seharusnya diklasifikasikan sebagai kelas positif, tetapi model GNB salah mengklasifikasikannya sebagai kelas negatif (false positive).\n",
        "Sebanyak 11 instance berhasil diklasifikasikan dengan benar sebagai kelas negatif (true negative).\n",
        "* **Interpretasi**:\n",
        "Model GNB cenderung cenderung mengklasifikasikan instance sebagai kelas negatif lebih baik daripada sebagai kelas positif. Hal ini ditunjukkan oleh jumlah false positive yang lebih tinggi daripada true negative.\n",
        "\n",
        "\n",
        "* **Model KNN:**\n",
        "Terdapat 14 instance yang seharusnya diklasifikasikan sebagai kelas positif, namun model KNN salah mengklasifikasikannya sebagai kelas negatif (false positive).\n",
        "Sebanyak 11 instance berhasil diklasifikasikan dengan benar sebagai kelas negatif (true negative).\n",
        "Terdapat 2 instance yang seharusnya diklasifikasikan sebagai kelas negatif, tetapi model KNN salah mengklasifikasikannya sebagai kelas positif (false negative).\n",
        "* **Interpretasi**:\n",
        "Model KNN memiliki kinerja yang hampir serupa dengan model GNB dalam mengklasifikasikan instance sebagai kelas negatif, namun memiliki beberapa kesalahan dalam mengklasifikasikan instance sebagai kelas positif (false positive) dan kelas negatif (false negative).\n",
        "\n",
        "\n",
        "* **Model DTC**:\n",
        "Terdapat 16 instance yang seharusnya diklasifikasikan sebagai kelas positif, tetapi model DTC salah mengklasifikasikannya sebagai kelas negatif (false positive).\n",
        "Sebanyak 11 instance berhasil diklasifikasikan dengan benar sebagai kelas negatif (true negative).\n",
        "* **Interpretasi**:\n",
        "Seperti model GNB, model DTC cenderung mengklasifikasikan instance sebagai kelas negatif lebih baik daripada sebagai kelas positif, dengan jumlah false positive yang lebih tinggi daripada true negative.\n",
        "Kesimpulannya, interpretasi dari hasil confusion matrix menunjukkan bahwa semua model (GNB, KNN, dan DTC) memiliki performa yang baik dalam mengklasifikasikan instance sebagai kelas negatif, tetapi memiliki kesalahan yang lebih tinggi dalam mengklasifikasikan instance sebagai kelas positif. Dalam konteks ini, penting untuk mengevaluasi dan memperbaiki kinerja model, terutama dalam mengidentifikasi dan mengurangi jumlah false positive dan false negative."
      ],
      "metadata": {
        "id": "ilRSIq2g55gm"
      }
    },
    {
      "cell_type": "markdown",
      "metadata": {
        "id": "MwxW5bPMuhgk"
      },
      "source": [
        "Gaussian Naive Bayes"
      ]
    },
    {
      "cell_type": "code",
      "source": [
        "from sklearn.metrics import confusion_matrix, accuracy_score, precision_score, recall_score, f1_score\n",
        "\n",
        "# Menghasilkan confusion matrix\n",
        "gnb_cm = confusion_matrix(y_test, gnb_pred)\n",
        "\n",
        "# Menampilkan confusion matrix\n",
        "print(\"Confusion Matrix:\")\n",
        "print(gnb_cm)\n",
        "\n",
        "# Menghitung metrik evaluasi\n",
        "accuracy = accuracy_score(y_test, gnb_pred)\n",
        "precision = precision_score(y_test, gnb_pred, average='weighted')  # Atau ganti 'weighted' dengan metode evaluasi yang sesuai\n",
        "recall = recall_score(y_test, gnb_pred, average='weighted')  # Atau ganti 'weighted' dengan metode evaluasi yang sesuai\n",
        "f1 = f1_score(y_test, gnb_pred, average='weighted')  # Atau ganti 'weighted' dengan metode evaluasi yang sesuai\n",
        "\n",
        "# Menampilkan metrik evaluasi\n",
        "print(\"Accuracy gnb:\", accuracy)\n",
        "print(\"Precision gnb:\", precision)\n",
        "print(\"Recall gnb:\", recall)\n",
        "print(\"F1 Score gnb:\", f1)"
      ],
      "metadata": {
        "id": "KdugtnzN4_mI",
        "colab": {
          "base_uri": "https://localhost:8080/"
        },
        "outputId": "125455f0-d8a8-40ba-e338-4b1bba8c4b40"
      },
      "execution_count": 62,
      "outputs": [
        {
          "output_type": "stream",
          "name": "stdout",
          "text": [
            "Confusion Matrix:\n",
            "[[14  0]\n",
            " [ 0 12]]\n",
            "Accuracy gnb: 1.0\n",
            "Precision gnb: 1.0\n",
            "Recall gnb: 1.0\n",
            "F1 Score gnb: 1.0\n"
          ]
        }
      ]
    },
    {
      "cell_type": "markdown",
      "source": [
        "Hasil tersebut memberikan evaluasi kinerja model **Gaussian Naive Bayes (GNB)** menggunakan beberapa metrik evaluasi standar seperti akurasi, presisi, recall, dan F1-score.\n",
        "\n",
        "Confusion matrix menunjukkan bahwa model mengklasifikasikan 16 instance sebagai kelas negatif dengan benar (true negative) dan 11 instance sebagai kelas positif dengan benar (true positive). Nilai akurasi sebesar 1.0 menunjukkan bahwa model mengklasifikasikan semua instance dengan benar. Presisi sebesar 1.0 menunjukkan bahwa dari semua instance yang diprediksi sebagai kelas positif, semuanya benar-benar kelas positif. Recall sebesar 1.0 menunjukkan bahwa model mampu mengidentifikasi semua instance yang sebenarnya adalah kelas positif. F1-score sebesar 1.0 menunjukkan keseimbangan yang sempurna antara presisi dan recall, menunjukkan kinerja yang sangat baik dari model GNB."
      ],
      "metadata": {
        "id": "XlvQrJYn1vg6"
      }
    },
    {
      "cell_type": "code",
      "source": [
        "from sklearn.metrics import roc_auc_score, roc_curve\n",
        "\n",
        "models = [knn, gnb, dtc]  # Pastikan model-model ini sudah didefinisikan dan dilatih sebelumnya\n",
        "model_names = ['K-Nearest Neighbor', 'Gaussian Naive Bayes', 'Decision Tree Classifier']\n",
        "\n",
        "fig, axes = plt.subplots(1, 3, figsize=(18, 6))\n",
        "\n",
        "for model, name, ax in zip(models, model_names, axes):\n",
        "    # Binerisasi label\n",
        "    y_binary = (y_test == np.unique(y_test)[1]).astype(int)  # Mengambil kelas positif dari label\n",
        "\n",
        "    # Mengambil probabilitas kelas positif dari model\n",
        "    if isinstance(model, GaussianNB):\n",
        "        y_score = model.predict_proba(x_test_norm)[:, 1]\n",
        "    else:\n",
        "        y_score = model.predict_proba(x_test_norm)[:, 1]  # Ambil probabilitas kelas positif saja\n",
        "\n",
        "    # Menghitung kurva ROC\n",
        "    fpr, tpr, _ = roc_curve(y_binary, y_score)\n",
        "\n",
        "    # Menghitung area di bawah kurva ROC\n",
        "    roc_auc = roc_auc_score(y_binary, y_score)\n",
        "\n",
        "    # Plot ROC Curve\n",
        "    ax.plot(fpr, tpr, label=f'{name} (ROC-AUC = {roc_auc:.2f})')\n",
        "    ax.plot([0, 1], [0, 1], color='navy', linestyle='--')\n",
        "    ax.set_xlim([0.0, 1.0])\n",
        "    ax.set_ylim([0.0, 1.05])\n",
        "    ax.set_xlabel('False Positive Rate')\n",
        "    ax.set_ylabel('True Positive Rate')\n",
        "    ax.set_title(f'ROC Curve - {name}')\n",
        "    ax.legend(loc='lower right')\n",
        "\n",
        "plt.tight_layout()\n",
        "plt.show()"
      ],
      "metadata": {
        "id": "RdhSK6Hf6h4G",
        "colab": {
          "base_uri": "https://localhost:8080/",
          "height": 384
        },
        "outputId": "c4a1c0f0-db28-41f7-9589-09c07a9c65a3"
      },
      "execution_count": 63,
      "outputs": [
        {
          "output_type": "display_data",
          "data": {
            "text/plain": [
              "<Figure size 1800x600 with 3 Axes>"
            ],
            "image/png": "[encoded data removed]"
          },
          "metadata": {}
        }
      ]
    },
    {
      "cell_type": "markdown",
      "source": [
        "Kurva ROC dapat membantu kita memilih model terbaik untuk kebutuhan kita. Model dengan AUC yang lebih tinggi dan kurva yang lebih dekat ke sudut kiri atas adalah pilihan yang lebih baik."
      ],
      "metadata": {
        "id": "Pq2yVJpp6pLK"
      }
    },
    {
      "cell_type": "code",
      "execution_count": 64,
      "metadata": {
        "id": "b8W-mh5ql8Bn",
        "colab": {
          "base_uri": "https://localhost:8080/"
        },
        "outputId": "710d28b4-445d-47d7-f44c-e360d1bcc051"
      },
      "outputs": [
        {
          "output_type": "stream",
          "name": "stdout",
          "text": [
            "Gaussian Naive Bayes:\n",
            "Accuracy: 1.0\n",
            "Precision: 1.0\n",
            "Recall: 1.0\n",
            "F1-score: 1.0\n",
            "\n",
            "K Nearest Neighbor:\n",
            "Accuracy: 0.7692307692307693\n",
            "Precision: 0.7738095238095238\n",
            "Recall: 0.7738095238095238\n",
            "F1-score: 0.7692307692307692\n",
            "\n",
            "Decision Tree Classifier:\n",
            "Accuracy: 1.0\n",
            "Precision: 1.0\n",
            "Recall: 1.0\n",
            "F1-score: 1.0\n",
            "\n"
          ]
        }
      ],
      "source": [
        "from sklearn.metrics import accuracy_score, precision_score, recall_score, f1_score\n",
        "\n",
        "# Gaussian Naive Bayes\n",
        "gnb_accuracy = accuracy_score(y_test, gnb_pred)\n",
        "gnb_precision = precision_score(y_test, gnb_pred, average='macro')\n",
        "gnb_recall = recall_score(y_test, gnb_pred, average='macro')\n",
        "gnb_f1 = f1_score(y_test, gnb_pred, average='macro')\n",
        "\n",
        "print(\"Gaussian Naive Bayes:\")\n",
        "print(\"Accuracy:\", gnb_accuracy)\n",
        "print(\"Precision:\", gnb_precision)\n",
        "print(\"Recall:\", gnb_recall)\n",
        "print(\"F1-score:\", gnb_f1)\n",
        "print()\n",
        "\n",
        "# K Nearest Neighbor\n",
        "knn_accuracy = accuracy_score(y_test, knn_pred)\n",
        "knn_precision = precision_score(y_test, knn_pred, average='macro')\n",
        "knn_recall = recall_score(y_test, knn_pred, average='macro')\n",
        "knn_f1 = f1_score(y_test, knn_pred, average='macro')\n",
        "\n",
        "print(\"K Nearest Neighbor:\")\n",
        "print(\"Accuracy:\", knn_accuracy)\n",
        "print(\"Precision:\", knn_precision)\n",
        "print(\"Recall:\", knn_recall)\n",
        "print(\"F1-score:\", knn_f1)\n",
        "print()\n",
        "\n",
        "# Decision Tree Classifier\n",
        "dtc_accuracy = accuracy_score(y_test, dtc_pred)\n",
        "dtc_precision = precision_score(y_test, dtc_pred, average='macro')\n",
        "dtc_recall = recall_score(y_test, dtc_pred, average='macro')\n",
        "dtc_f1 = f1_score(y_test, dtc_pred, average='macro')\n",
        "\n",
        "print(\"Decision Tree Classifier:\")\n",
        "print(\"Accuracy:\", dtc_accuracy)\n",
        "print(\"Precision:\", dtc_precision)\n",
        "print(\"Recall:\", dtc_recall)\n",
        "print(\"F1-score:\", dtc_f1)\n",
        "print()\n"
      ]
    },
    {
      "cell_type": "markdown",
      "source": [
        "**Untuk Gaussian Naive Bayes (GNB) dan Decision Tree Classifier (DTC), evaluasi model menunjukkan hasil yang sangat baik:**\n",
        "\n",
        "1. Gaussian Naive Bayes (GNB):\n",
        "\n",
        "* **Akurasi (Accuracy)**: Nilai akurasi sebesar 1.0 menunjukkan bahwa GNB memprediksi dengan sempurna seluruh data pada set pengujian. Ini menggambarkan kemampuan GNB dalam memodelkan data dengan sangat baik.\n",
        "* **Presisi (Precision)**: Nilai presisi sebesar 1.0 menunjukkan bahwa 100% dari data yang diprediksi oleh GNB sebagai \"Mahal\" memang benar-benar mahal. Ini menunjukkan tingkat kepercayaan yang sangat tinggi dalam prediksi kategori \"Mahal\" oleh GNB.\n",
        "* **Recall**: Nilai recall sebesar 1.0 menunjukkan bahwa 100% dari data yang sebenarnya mahal berhasil diidentifikasi dengan benar oleh GNB sebagai \"Mahal\". Ini menunjukkan kemampuan GNB untuk mengidentifikasi seluruh data \"Mahal\" dengan sangat baik.\n",
        "* **F1-Score**: Nilai F1-Score sebesar 1.0 mencerminkan keseimbangan yang sempurna antara presisi dan recall. Ini menandakan bahwa GNB tidak hanya memprediksi dengan sempurna, tetapi juga memiliki keseimbangan yang optimal antara mengidentifikasi data yang benar dan menghindari prediksi yang salah.\n",
        "* **ROC AUC**: Dalam konteks ini, ROC AUC tidak diperlukan karena GNB mampu memprediksi dengan sempurna tanpa adanya perbedaan dalam kemampuan membedakan antara kategori \"Murah\" dan \"Mahal\".\n",
        "\n",
        "2. Decision Tree Classifier (DTC):\n",
        "\n",
        "* **Akurasi (Accuracy)**: Nilai akurasi sebesar 1.0 menunjukkan bahwa DTC memprediksi dengan sempurna seluruh data pada set pengujian. Ini menggambarkan kemampuan DTC dalam memodelkan data dengan sangat baik.\n",
        "* **Presisi (Precision)**: Nilai presisi sebesar 1.0 menunjukkan bahwa 100% dari data yang diprediksi oleh DTC sebagai \"Mahal\" memang benar-benar mahal. Ini menunjukkan tingkat kepercayaan yang sangat tinggi dalam prediksi kategori \"Mahal\" oleh DTC.\n",
        "* **Recall**: Nilai recall sebesar 1.0 menunjukkan bahwa 100% dari data yang sebenarnya mahal berhasil diidentifikasi dengan benar oleh DTC sebagai \"Mahal\". Ini menunjukkan kemampuan DTC untuk mengidentifikasi seluruh data \"Mahal\" dengan sangat baik.\n",
        "* **F1-Score**: Nilai F1-Score sebesar 1.0 mencerminkan keseimbangan yang sempurna antara presisi dan recall. Ini menandakan bahwa DTC tidak hanya memprediksi dengan sempurna, tetapi juga memiliki keseimbangan yang optimal antara mengidentifikasi data yang benar dan menghindari prediksi yang salah.\n",
        "* **ROC AUC**: Dalam konteks ini, ROC AUC tidak diperlukan karena DTC mampu memprediksi dengan sempurna tanpa adanya perbedaan dalam kemampuan membedakan antara kategori \"Murah\" dan \"Mahal\".\n",
        "Hasil yang sangat tinggi dari kedua model menunjukkan bahwa keduanya sangat baik dalam memodelkan data dan memberikan prediksi yang akurat. Namun, pemilihan model tergantung pada kebutuhan dan karakteristik data yang dimiliki."
      ],
      "metadata": {
        "id": "rfrgApq1yyBq"
      }
    },
    {
      "cell_type": "markdown",
      "metadata": {
        "id": "8CK18ufBtlsk"
      },
      "source": [
        "##**Review Process**"
      ]
    },
    {
      "cell_type": "markdown",
      "metadata": {
        "id": "tRj753DF4vcP"
      },
      "source": [
        "###**Cross Validation**"
      ]
    },
    {
      "cell_type": "code",
      "execution_count": 65,
      "metadata": {
        "id": "UQV2BOh446Ip",
        "colab": {
          "base_uri": "https://localhost:8080/",
          "height": 564
        },
        "outputId": "88a8a594-67fb-4241-de49-2da8f851420a"
      },
      "outputs": [
        {
          "output_type": "display_data",
          "data": {
            "text/plain": [
              "<Figure size 1000x600 with 1 Axes>"
            ],
            "image/png": "[encoded data removed]"
          },
          "metadata": {}
        }
      ],
      "source": [
        "import matplotlib.pyplot as plt\n",
        "import seaborn as sns\n",
        "from sklearn.model_selection import cross_val_score\n",
        "\n",
        "# Inisialisasi model\n",
        "models = [gnb, knn, dtc]\n",
        "model_names = ['Gaussian Naive Bayes', 'K-Nearest Neighbors', 'Decision Tree Classifier']\n",
        "\n",
        "# Lakukan validasi silang untuk setiap model\n",
        "cv_scores = []\n",
        "for model in models:\n",
        "    scores = cross_val_score(model, x_train_norm, y_train, cv=5)\n",
        "    cv_scores.append(scores)\n",
        "\n",
        "# Buat dataframe dari hasil validasi silang\n",
        "df_cv_scores = pd.DataFrame(cv_scores, index=model_names).T\n",
        "\n",
        "# Tampilkan visualisasi hasil validasi silang dengan lineplot\n",
        "plt.figure(figsize=(10, 6))\n",
        "sns.lineplot(data=df_cv_scores, markers=True)\n",
        "plt.title('Cross-Validation Scores for Different Models')\n",
        "plt.xlabel('Fold')\n",
        "plt.ylabel('Accuracy')\n",
        "plt.grid(True)\n",
        "plt.legend(title='Model', loc='lower right')\n",
        "plt.xticks(ticks=range(5), labels=['Fold 1', 'Fold 2', 'Fold 3', 'Fold 4', 'Fold 5'])\n",
        "plt.show()"
      ]
    },
    {
      "cell_type": "markdown",
      "metadata": {
        "id": "jd6lKtN51ipX"
      },
      "source": [
        "Gambar tersebut menunjukkan hasil validasi silang (cross-validation) pada tiga model klasifikasi.\n",
        "\n",
        "* **Sumbu X**: Menunjukkan lipatan (fold) yang digunakan dalam validasi silang.\n",
        "\n",
        "* **Sumbu Y**: Menunjukkan skor akurasi untuk setiap model pada setiap fold.\n",
        "\n",
        "* **Garis**: Menunjukkan skor akurasi rata-rata untuk setiap model.\n",
        "\n",
        "**Kesimpulan:**\n",
        "\n",
        "Dari visualisasi tersebut, terlihat bahwa performa Decision Tree Classifier (DTC) stabil dan cenderung lebih tinggi dibandingkan dengan Gaussian Naive Bayes (GNB) dan K-Nearest Neighbors (KNN). Hal ini diperkuat oleh garis yang menunjukkan skor akurasi rata-rata yang lebih tinggi untuk DTC. Namun, terlihat bahwa terdapat fluktuasi pada skor akurasi KNN, menunjukkan variasi performa yang lebih besar dibandingkan dengan DTC dan GNB."
      ]
    },
    {
      "cell_type": "markdown",
      "metadata": {
        "id": "t7yOtszk10a7"
      },
      "source": [
        "Berikut penjelasan detail performa setiap model:\n",
        "\n",
        "1. **Decision Tree Classifier** (DTC):\n",
        "Memiliki skor akurasi rata-rata tertinggi dengan GNB di antara semua model.\n",
        "Memiliki performa yang konsisten di semua lipatan.\n",
        "\n",
        "2. **Gaussian Naive Bayes** (GNB):\n",
        "Memiliki skor akurasi rata-rata tertinggi dengan DTC di antara semua model.\n",
        "Memiliki performa yang konsisten di semua lipatan.\n",
        "\n",
        "3. **K-Nearest Neighbors** (KNN):\n",
        "Memiliki skor akurasi rata-rata yang berada paling rendah antara DTC dan GNB."
      ]
    },
    {
      "cell_type": "markdown",
      "metadata": {
        "id": "5iSEuKmu40Gy"
      },
      "source": [
        "###**Feature Selection**"
      ]
    },
    {
      "cell_type": "code",
      "execution_count": 66,
      "metadata": {
        "id": "zrDhkgOw6DNy",
        "colab": {
          "base_uri": "https://localhost:8080/",
          "height": 564
        },
        "outputId": "97e3c800-ee8e-4e00-d3f1-0b1c05fa913e"
      },
      "outputs": [
        {
          "output_type": "display_data",
          "data": {
            "text/plain": [
              "<Figure size 1000x600 with 1 Axes>"
            ],
            "image/png": "[encoded data removed]"
          },
          "metadata": {}
        }
      ],
      "source": [
        "from sklearn.feature_selection import SelectKBest, chi2\n",
        "\n",
        "x_train_norm_df = pd.DataFrame(x_train_norm, columns=num_features + cat_features)\n",
        "\n",
        "selector = SelectKBest(score_func=chi2, k='all')\n",
        "\n",
        "selector.fit(x_train_norm_df, y_train)\n",
        "\n",
        "feature_ranks = selector.scores_\n",
        "\n",
        "feature_names = x_train_norm_df.columns\n",
        "\n",
        "feature_ranks_df = pd.DataFrame({'Feature': feature_names, 'Rank': feature_ranks})\n",
        "\n",
        "feature_ranks_df = feature_ranks_df.sort_values(by='Rank', ascending=False)\n",
        "\n",
        "plt.figure(figsize=(10, 6))\n",
        "plt.barh(feature_ranks_df['Feature'], feature_ranks_df['Rank'], color='pink')\n",
        "plt.xlabel('Rank')\n",
        "plt.ylabel('Feature')\n",
        "plt.title('Feature Ranking')\n",
        "plt.gca().invert_yaxis()\n",
        "plt.show()"
      ]
    },
    {
      "cell_type": "markdown",
      "metadata": {
        "id": "XTOinfDW3DYd"
      },
      "source": [
        "Berdasarkan analisis dari grafik tersebut, urutan fitur-fitur penting dalam prediksi adalah sebagai berikut:\n",
        "\n",
        "* **From**: Fitur ini ditempatkan pada peringkat teratas karena informasi tentang asal pengiriman (From) merupakan salah satu faktor kunci dalam menentukan tingkat konsumsi bahan bakar. Pemilihan awal berangkat kapal yang berbeda dapat memengaruhi jumlah bahan bakar yang dikonsumsi, sehingga fitur ini menjadi penting dalam proses prediksi.\n",
        "* **Fuel Tank Stock After**: Fitur ini menduduki peringkat kedua karena nilai Fuel Tank Stock After mencerminkan jumlah bahan bakar yang tersisa setelah perjalanan tertentu. Informasi ini sangat relevan dalam mengevaluasi konsumsi bahan bakar karena dapat mengindikasikan tingkat efisiensi penggunaan bahan bakar dalam seluruh perjalanan.\n",
        "* **To**: Meskipun ditempatkan di urutan ketiga, fitur \"To\" masih dianggap penting dalam prediksi. Informasi tentang tempat sampai kapal (To) dapat memberikan konteks tambahan tentang rute perjalanan dan kondisi lingkungan yang dapat memengaruhi konsumsi bahan bakar.\n",
        "* **Date**: Fitur ini mendapatkan peringkat terakhir dalam daftar, karena tanggal pengiriman (Date) cenderung kurang berpengaruh secara langsung terhadap konsumsi bahan bakar. Meskipun mungkin ada pola musiman atau tren jangka panjang yang memengaruhi konsumsi bahan bakar, faktor-faktor lain seperti jarak perjalanan dan kondisi jalan biasanya memiliki pengaruh yang lebih signifikan."
      ]
    },
    {
      "cell_type": "code",
      "source": [
        "x_train_norm_df = pd.DataFrame(x_train_norm, columns=num_features + cat_features)\n",
        "\n",
        "feature_imp = pd.Series(dtc.feature_importances_, index=x_train_norm_df.columns).sort_values(ascending=False)\n",
        "\n",
        "plt.figure(figsize=(10, 6))\n",
        "sns.barplot(x=feature_imp, y=feature_imp.index)\n",
        "plt.xlabel('Feature Importance Score')\n",
        "plt.ylabel('Features')\n",
        "plt.title(\"Visualizing Important Features\")\n",
        "plt.show()"
      ],
      "metadata": {
        "id": "F-HbYcU266kY",
        "colab": {
          "base_uri": "https://localhost:8080/",
          "height": 564
        },
        "outputId": "6a43342b-4fce-4ed4-8100-31e810a0ab77"
      },
      "execution_count": 67,
      "outputs": [
        {
          "output_type": "display_data",
          "data": {
            "text/plain": [
              "<Figure size 1000x600 with 1 Axes>"
            ],
            "image/png": "[encoded data removed]"
          },
          "metadata": {}
        }
      ]
    },
    {
      "cell_type": "markdown",
      "source": [
        "Setelah nilai penting fitur diambil, hasilnya diurutkan secara menurun. Plot tersebut menampilkan pentingnya setiap fitur dalam menentukan hasil prediksi oleh model. Dalam kasus ini, hasil plot menunjukkan bahwa fitur \"**Fuel Tank Stock After**\" memiliki tingkat penting yang signifikan dibandingkan dengan fitur lainnya, menunjukkan bahwa fitur tersebut memiliki kontribusi yang besar dalam proses pengambilan keputusan oleh GNB."
      ],
      "metadata": {
        "id": "sQ5cDB3O69-X"
      }
    },
    {
      "cell_type": "markdown",
      "source": [
        "Meskipun \"**Fuel Tank Stock After**\" intuitifnya mungkin merupakan fitur yang paling penting dalam konteks prediksi konsumsi bahan bakar, hasil peringkat fitur mungkin menunjukkan bahwa \"**From**\" memiliki dampak yang lebih besar dalam model. Alasan dari kepentingan fitur \"**From**\" dapat dikaitkan dengan fakta bahwa kolom target yang diprediksi adalah \"**Fuel Capacity**\", yang menunjukkan bahwa pengetahuan tentang tempat kapal awal berlabuh (dilambangkan dengan fitur \"**From**\") dapat menjadi faktor krusial dalam memperkirakan kapasitas bahan bakar yang dibutuhkan."
      ],
      "metadata": {
        "id": "R_635TO06SN0"
      }
    },
    {
      "cell_type": "markdown",
      "metadata": {
        "id": "jlPOLNE443dR"
      },
      "source": [
        "###**Tuning Hyperparameter**"
      ]
    },
    {
      "cell_type": "markdown",
      "source": [
        "**Gaussian Naive Bayes**"
      ],
      "metadata": {
        "id": "YOFjOdRL7I8c"
      }
    },
    {
      "cell_type": "code",
      "execution_count": 68,
      "metadata": {
        "id": "QEtlCRU-6Rq5",
        "colab": {
          "base_uri": "https://localhost:8080/"
        },
        "outputId": "3fcc9f03-fb74-48ac-a748-91df215573f7"
      },
      "outputs": [
        {
          "output_type": "stream",
          "name": "stdout",
          "text": [
            "Parameter terbaik: {'var_smoothing': 0.0533669923120631}\n",
            "Akurasi sebelum tuning: 1.0\n",
            "Akurasi setelah tuning: 1.0\n"
          ]
        }
      ],
      "source": [
        "from sklearn.model_selection import GridSearchCV\n",
        "from sklearn.naive_bayes import GaussianNB\n",
        "\n",
        "param_grid = {\n",
        "    'var_smoothing': np.logspace(0,-9, num=100)\n",
        "}\n",
        "\n",
        "grid_search = GridSearchCV(estimator=gnb, param_grid=param_grid, cv=5)\n",
        "\n",
        "grid_search.fit(x_train_norm, y_train)\n",
        "\n",
        "print(\"Parameter terbaik:\", grid_search.best_params_)\n",
        "\n",
        "y_pred_tuned = grid_search.best_estimator_.predict(x_test_norm)\n",
        "\n",
        "acc_before_tuning = gnb.score(x_test_norm, y_test)\n",
        "print(\"Akurasi sebelum tuning:\", acc_before_tuning)\n",
        "\n",
        "acc_after_tuning = grid_search.best_estimator_.score(x_test_norm, y_test)\n",
        "print(\"Akurasi setelah tuning:\", acc_after_tuning)"
      ]
    },
    {
      "cell_type": "markdown",
      "metadata": {
        "id": "k9Khu8h_3s5a"
      },
      "source": [
        "**Parameter Terbaik: {'var_smoothing': 0.1}**\n",
        "\n",
        "\n",
        "Hasil tuning parameter menunjukkan bahwa parameter terbaik yang ditemukan adalah 'var_smoothing' dengan nilai 0.1. Meskipun parameter telah disesuaikan, akurasi model sebelum tuning dan setelah tuning tetap konsisten pada nilai 1.0. Hal ini menunjukkan bahwa model Gaussian Naive Bayes telah mencapai tingkat akurasi maksimum yang mungkin dengan parameter yang dipilih.\n",
        "\n",
        "Penjelasan tersebut menyajikan hasil dari tuning parameter menggunakan Grid Search CV pada model Gaussian Naive Bayes (GNB). Parameter terbaik yang ditemukan adalah var_smoothing dengan nilai sekitar 0.0657933224657568. Var_smoothing adalah parameter smoothing yang digunakan dalam GNB untuk mengatasi nilai probabilitas nol saat mengestimasi distribusi Gaussian.\n",
        "\n",
        "**Akurasi Sebelum Tuning: 1.0**\n",
        "\n",
        "Akurasi model GNB sebelum proses tuning parameter adalah 100%.\n",
        "\n",
        "**Akurasi Setelah Tuning: 1.0**\n",
        "\n",
        "Akurasi model GNB setelah proses tuning parameter adalah 100%.\n",
        "\n",
        "**Kesimpulan**:\n",
        "\n",
        "Tuning parameter dengan Grid Search CV tidak mengubah akurasi model GNB, yang tetap pada 100%. Hal ini menunjukkan bahwa nilai default dari parameter var_smoothing yang digunakan dalam model GNB sudah optimal, dan tuning tidak diperlukan untuk meningkatkan performa model."
      ]
    },
    {
      "cell_type": "code",
      "execution_count": 69,
      "metadata": {
        "id": "dfZUV5OE7BBY"
      },
      "outputs": [],
      "source": [
        "gnb = GaussianNB(var_smoothing=0.1)"
      ]
    },
    {
      "cell_type": "markdown",
      "metadata": {
        "id": "kgeDIHcx4TC0"
      },
      "source": [
        "### **Determine Next Step**"
      ]
    },
    {
      "cell_type": "markdown",
      "metadata": {
        "id": "gJ7pcJG-4wne"
      },
      "source": [
        "\n",
        "Dengan menggunakan model Gaussian Naive Bayes (GNB), langkah-langkah selanjutnya yang dapat diambil adalah sebagai berikut:\n",
        "\n",
        "1. **Fine Tuning Model**:\n",
        "\n",
        "* **Evaluasi Performa Model GNB**: Lakukan evaluasi lebih lanjut terhadap kinerja model Gaussian Naive Bayes setelah proses tuning parameter. Gunakan metrik seperti precision, recall, dan F1-score untuk evaluasi yang lebih komprehensif. Pertimbangkan kurva ROC dan AUC untuk melihat kemampuan model dalam membedakan kelas.\n",
        "\n",
        "* **Eksplorasi Parameter Lainnya**: Cobalah mengubah parameter lain seperti priors dan var_smoothing untuk melihat pengaruhnya terhadap performa model. Gunakan teknik seperti cross-validation untuk menghindari overfitting.\n",
        "Penyesuaian Metode Preprocessing Data: Coba metode preprocessing data lain seperti scaling dan normalization untuk melihat pengaruhnya terhadap performa model. Pertimbangkan teknik seperti feature engineering untuk meningkatkan kualitas data.\n",
        "* **Membandingkan dengan Model Lain**: Bandingkan performa GNB dengan model klasifikasi lain seperti Random Forest, Support Vector Machine, dan K-Nearest Neighbors. Pilih model yang paling sesuai dengan kebutuhan analisis dataset.\n",
        "\n",
        "2. **Menganalisis Fitur Optimal**:\n",
        "\n",
        "* **Analisis Fitur Fuel Daily Consumption**: Lakukan analisis lebih lanjut terhadap fitur Fuel Daily Consumption untuk memahami pengaruhnya terhadap kolom target. Visualisasikan hubungan antara Fuel Daily Consumption dan kolom target menggunakan scatter plot atau box plot. Hitung korelasi antara Fuel Daily Consumption dan kolom target untuk melihat kekuatan hubungannya.\n",
        "* **Analisis Fitur Lainnya**: Lakukan analisis terhadap fitur lainnya untuk melihat kontribusinya dalam dataset. Gunakan teknik seperti feature selection untuk memilih fitur yang paling relevan dan penting. Visualisasikan distribusi data untuk setiap fitur untuk memahami karakteristiknya.\n",
        "\n",
        "3. **Evaluasi dan Peningkatan Lanjutan**:\n",
        "\n",
        "* **Melakukan Evaluasi Lebih Lanjut**: Lakukan evaluasi model GNB secara berkala untuk memantau kinerjanya. Gunakan data baru untuk menguji performa model dan memastikan generalisabilitasnya. Pertimbangkan teknik seperti ensemble learning untuk meningkatkan performa model.\n",
        "\n",
        "* **Memperbarui atau Meningkatkan Model**: Jika ada perubahan kebutuhan analisis dataset, perbarui atau tingkatkan model yang Anda pilih. Lakukan tuning parameter dan eksplorasi model lain untuk menemukan model yang paling sesuai dengan kebutuhan baru.\n",
        "\n",
        "4. **Menganalisis dan Memahami Performa Model**:\n",
        "\n",
        "* **Memvalidasi Hasil**: Pastikan hasil evaluasi model GNB valid dan tidak terjadi overfitting. Gunakan teknik seperti cross-validation dan holdout validation untuk memastikan validitas hasil.\n",
        "\n",
        "* **Memahami Kinerja Model**: Pahami bagaimana model GNB bekerja dan bagaimana ia membuat prediksi. Gunakan teknik seperti interpretasi probabilitas posterior untuk memahami kontribusi setiap fitur dalam prediksi model.\n",
        "\n",
        "\n",
        "**Kesimpulan**: Langkah-langkah selanjutnya akan sangat bervariasi tergantung pada tujuan analisis dataset kami. Untuk mengevaluasi dan meningkatkan model secara berkala, serta menjalankan analisis tambahan untuk mendapatkan wawasan yang lebih dalam dari data kami.\n",
        "\n",
        "\n",
        "\n",
        "\n",
        "\n",
        "\n"
      ]
    },
    {
      "cell_type": "code",
      "execution_count": 70,
      "metadata": {
        "id": "1630L2KkPdGl",
        "colab": {
          "base_uri": "https://localhost:8080/",
          "height": 74
        },
        "outputId": "2ac0f8be-0a5d-4939-fac6-1a18d04e0423"
      },
      "outputs": [
        {
          "output_type": "execute_result",
          "data": {
            "text/plain": [
              "GaussianNB(var_smoothing=0.1)"
            ],
            "text/html": [
              "<style>#sk-container-id-5 {color: black;background-color: white;}#sk-container-id-5 pre{padding: 0;}#sk-container-id-5 div.sk-toggleable {background-color: white;}#sk-container-id-5 label.sk-toggleable__label {cursor: pointer;display: block;width: 100%;margin-bottom: 0;padding: 0.3em;box-sizing: border-box;text-align: center;}#sk-container-id-5 label.sk-toggleable__label-arrow:before {content: \"▸\";float: left;margin-right: 0.25em;color: #696969;}#sk-container-id-5 label.sk-toggleable__label-arrow:hover:before {color: black;}#sk-container-id-5 div.sk-estimator:hover label.sk-toggleable__label-arrow:before {color: black;}#sk-container-id-5 div.sk-toggleable__content {max-height: 0;max-width: 0;overflow: hidden;text-align: left;background-color: #f0f8ff;}#sk-container-id-5 div.sk-toggleable__content pre {margin: 0.2em;color: black;border-radius: 0.25em;background-color: #f0f8ff;}#sk-container-id-5 input.sk-toggleable__control:checked~div.sk-toggleable__content {max-height: 200px;max-width: 100%;overflow: auto;}#sk-container-id-5 input.sk-toggleable__control:checked~label.sk-toggleable__label-arrow:before {content: \"▾\";}#sk-container-id-5 div.sk-estimator input.sk-toggleable__control:checked~label.sk-toggleable__label {background-color: #d4ebff;}#sk-container-id-5 div.sk-label input.sk-toggleable__control:checked~label.sk-toggleable__label {background-color: #d4ebff;}#sk-container-id-5 input.sk-hidden--visually {border: 0;clip: rect(1px 1px 1px 1px);clip: rect(1px, 1px, 1px, 1px);height: 1px;margin: -1px;overflow: hidden;padding: 0;position: absolute;width: 1px;}#sk-container-id-5 div.sk-estimator {font-family: monospace;background-color: #f0f8ff;border: 1px dotted black;border-radius: 0.25em;box-sizing: border-box;margin-bottom: 0.5em;}#sk-container-id-5 div.sk-estimator:hover {background-color: #d4ebff;}#sk-container-id-5 div.sk-parallel-item::after {content: \"\";width: 100%;border-bottom: 1px solid gray;flex-grow: 1;}#sk-container-id-5 div.sk-label:hover label.sk-toggleable__label {background-color: #d4ebff;}#sk-container-id-5 div.sk-serial::before {content: \"\";position: absolute;border-left: 1px solid gray;box-sizing: border-box;top: 0;bottom: 0;left: 50%;z-index: 0;}#sk-container-id-5 div.sk-serial {display: flex;flex-direction: column;align-items: center;background-color: white;padding-right: 0.2em;padding-left: 0.2em;position: relative;}#sk-container-id-5 div.sk-item {position: relative;z-index: 1;}#sk-container-id-5 div.sk-parallel {display: flex;align-items: stretch;justify-content: center;background-color: white;position: relative;}#sk-container-id-5 div.sk-item::before, #sk-container-id-5 div.sk-parallel-item::before {content: \"\";position: absolute;border-left: 1px solid gray;box-sizing: border-box;top: 0;bottom: 0;left: 50%;z-index: -1;}#sk-container-id-5 div.sk-parallel-item {display: flex;flex-direction: column;z-index: 1;position: relative;background-color: white;}#sk-container-id-5 div.sk-parallel-item:first-child::after {align-self: flex-end;width: 50%;}#sk-container-id-5 div.sk-parallel-item:last-child::after {align-self: flex-start;width: 50%;}#sk-container-id-5 div.sk-parallel-item:only-child::after {width: 0;}#sk-container-id-5 div.sk-dashed-wrapped {border: 1px dashed gray;margin: 0 0.4em 0.5em 0.4em;box-sizing: border-box;padding-bottom: 0.4em;background-color: white;}#sk-container-id-5 div.sk-label label {font-family: monospace;font-weight: bold;display: inline-block;line-height: 1.2em;}#sk-container-id-5 div.sk-label-container {text-align: center;}#sk-container-id-5 div.sk-container {/* jupyter's `normalize.less` sets `[hidden] { display: none; }` but bootstrap.min.css set `[hidden] { display: none !important; }` so we also need the `!important` here to be able to override the default hidden behavior on the sphinx rendered scikit-learn.org. See: https://github.com/scikit-learn/scikit-learn/issues/21755 */display: inline-block !important;position: relative;}#sk-container-id-5 div.sk-text-repr-fallback {display: none;}</style><div id=\"sk-container-id-5\" class=\"sk-top-container\"><div class=\"sk-text-repr-fallback\"><pre>GaussianNB(var_smoothing=0.1)</pre><b>In a Jupyter environment, please rerun this cell to show the HTML representation or trust the notebook. <br />On GitHub, the HTML representation is unable to render, please try loading this page with nbviewer.org.</b></div><div class=\"sk-container\" hidden><div class=\"sk-item\"><div class=\"sk-estimator sk-toggleable\"><input class=\"sk-toggleable__control sk-hidden--visually\" id=\"sk-estimator-id-14\" type=\"checkbox\" checked><label for=\"sk-estimator-id-14\" class=\"sk-toggleable__label sk-toggleable__label-arrow\">GaussianNB</label><div class=\"sk-toggleable__content\"><pre>GaussianNB(var_smoothing=0.1)</pre></div></div></div></div></div>"
            ]
          },
          "metadata": {},
          "execution_count": 70
        }
      ],
      "source": [
        "from sklearn.naive_bayes import GaussianNB\n",
        "\n",
        "# Definisikan model GaussianNB dengan parameter tuning\n",
        "gnb_tuned = GaussianNB(var_smoothing=0.1)\n",
        "\n",
        "# Latih model dengan data latih yang sudah dinormalisasi\n",
        "gnb_tuned.fit(x_train_norm, y_train)"
      ]
    },
    {
      "cell_type": "markdown",
      "metadata": {
        "id": "oc4RWPgZPhnD"
      },
      "source": [
        "Pada tahapan ini kita akan membuat ulang model dari algoritma GNB atau Gussian Naive Bayes dengan menginisialisasi Gaussian Naive Bayes dan menggunakan parameter terbaik yang kita dapatkan saat melakukan tuning."
      ]
    },
    {
      "cell_type": "code",
      "execution_count": 71,
      "metadata": {
        "id": "kjEcPJ0AQQRw"
      },
      "outputs": [],
      "source": [
        "# Inverse transform the scaled values to get back the original values\n",
        "X_test_numeric_inverse = pd.DataFrame(scaler.inverse_transform(x_test_norm), columns=x.columns)\n",
        "\n",
        "# Menggunakan y_test sebagai DataFrame\n",
        "y_test_df = pd.DataFrame(y_test, columns=['Fuel Capacity']).reset_index(drop=True)\n",
        "\n",
        "# Membuat DataFrame untuk prediksi GNB\n",
        "gnb_col_new = pd.DataFrame(gnb_pred.astype(int), columns=[\"gnb_prediction_new\"])\n",
        "\n",
        "# Menggabungkan data uji, prediksi asli, dan prediksi baru dari GNB\n",
        "combined_data = pd.concat([X_test_numeric_inverse, y_test_df, gnb_col, gnb_col_new], axis=1)\n"
      ]
    },
    {
      "cell_type": "code",
      "execution_count": 72,
      "metadata": {
        "id": "5v4eCS-gQbjn",
        "colab": {
          "base_uri": "https://localhost:8080/",
          "height": 223
        },
        "outputId": "ca4570db-b8db-4b3d-83e5-c80e3cbe50ca"
      },
      "outputs": [
        {
          "output_type": "execute_result",
          "data": {
            "text/plain": [
              "   Date  From   To  Fuel Daily Consumption  Opening Fuel Tank Sounding  \\\n",
              "0  15.0   0.0  1.0                    55.2                        21.5   \n",
              "1  23.0   2.0  2.0                    55.2                        23.7   \n",
              "2  21.0   2.0  2.0                    55.2                        15.3   \n",
              "3  17.0   2.0  2.0                    55.2                        19.2   \n",
              "4  16.0   0.0  1.0                    50.6                        20.3   \n",
              "\n",
              "   Closing Fuel Tank Sounding  Fuel Tank Stock After  Fuel Capacity  \\\n",
              "0                        20.3                  874.0              1   \n",
              "1                        22.5                  952.0              1   \n",
              "2                        14.1                  589.0              0   \n",
              "3                        18.0                  768.0              0   \n",
              "4                        19.2                  824.0              0   \n",
              "\n",
              "   gnb_prediction  gnb_prediction_new  \n",
              "0               1                   1  \n",
              "1               1                   1  \n",
              "2               0                   0  \n",
              "3               0                   0  \n",
              "4               0                   0  "
            ],
            "text/html": [
              "\n",
              "  <div id=\"df-abb92490-6338-4804-8f99-8d8a85343400\" class=\"colab-df-container\">\n",
              "    <div>\n",
              "<style scoped>\n",
              "    .dataframe tbody tr th:only-of-type {\n",
              "        vertical-align: middle;\n",
              "    }\n",
              "\n",
              "    .dataframe tbody tr th {\n",
              "        vertical-align: top;\n",
              "    }\n",
              "\n",
              "    .dataframe thead th {\n",
              "        text-align: right;\n",
              "    }\n",
              "</style>\n",
              "<table border=\"1\" class=\"dataframe\">\n",
              "  <thead>\n",
              "    <tr style=\"text-align: right;\">\n",
              "      <th></th>\n",
              "      <th>Date</th>\n",
              "      <th>From</th>\n",
              "      <th>To</th>\n",
              "      <th>Fuel Daily Consumption</th>\n",
              "      <th>Opening Fuel Tank Sounding</th>\n",
              "      <th>Closing Fuel Tank Sounding</th>\n",
              "      <th>Fuel Tank Stock After</th>\n",
              "      <th>Fuel Capacity</th>\n",
              "      <th>gnb_prediction</th>\n",
              "      <th>gnb_prediction_new</th>\n",
              "    </tr>\n",
              "  </thead>\n",
              "  <tbody>\n",
              "    <tr>\n",
              "      <th>0</th>\n",
              "      <td>15.0</td>\n",
              "      <td>0.0</td>\n",
              "      <td>1.0</td>\n",
              "      <td>55.2</td>\n",
              "      <td>21.5</td>\n",
              "      <td>20.3</td>\n",
              "      <td>874.0</td>\n",
              "      <td>1</td>\n",
              "      <td>1</td>\n",
              "      <td>1</td>\n",
              "    </tr>\n",
              "    <tr>\n",
              "      <th>1</th>\n",
              "      <td>23.0</td>\n",
              "      <td>2.0</td>\n",
              "      <td>2.0</td>\n",
              "      <td>55.2</td>\n",
              "      <td>23.7</td>\n",
              "      <td>22.5</td>\n",
              "      <td>952.0</td>\n",
              "      <td>1</td>\n",
              "      <td>1</td>\n",
              "      <td>1</td>\n",
              "    </tr>\n",
              "    <tr>\n",
              "      <th>2</th>\n",
              "      <td>21.0</td>\n",
              "      <td>2.0</td>\n",
              "      <td>2.0</td>\n",
              "      <td>55.2</td>\n",
              "      <td>15.3</td>\n",
              "      <td>14.1</td>\n",
              "      <td>589.0</td>\n",
              "      <td>0</td>\n",
              "      <td>0</td>\n",
              "      <td>0</td>\n",
              "    </tr>\n",
              "    <tr>\n",
              "      <th>3</th>\n",
              "      <td>17.0</td>\n",
              "      <td>2.0</td>\n",
              "      <td>2.0</td>\n",
              "      <td>55.2</td>\n",
              "      <td>19.2</td>\n",
              "      <td>18.0</td>\n",
              "      <td>768.0</td>\n",
              "      <td>0</td>\n",
              "      <td>0</td>\n",
              "      <td>0</td>\n",
              "    </tr>\n",
              "    <tr>\n",
              "      <th>4</th>\n",
              "      <td>16.0</td>\n",
              "      <td>0.0</td>\n",
              "      <td>1.0</td>\n",
              "      <td>50.6</td>\n",
              "      <td>20.3</td>\n",
              "      <td>19.2</td>\n",
              "      <td>824.0</td>\n",
              "      <td>0</td>\n",
              "      <td>0</td>\n",
              "      <td>0</td>\n",
              "    </tr>\n",
              "  </tbody>\n",
              "</table>\n",
              "</div>\n",
              "    <div class=\"colab-df-buttons\">\n",
              "\n",
              "  <div class=\"colab-df-container\">\n",
              "    <button class=\"colab-df-convert\" onclick=\"convertToInteractive('df-abb92490-6338-4804-8f99-8d8a85343400')\"\n",
              "            title=\"Convert this dataframe to an interactive table.\"\n",
              "            style=\"display:none;\">\n",
              "\n",
              "  <svg xmlns=\"http://www.w3.org/2000/svg\" height=\"24px\" viewBox=\"0 -960 960 960\">\n",
              "    <path d=\"M120-120v-720h720v720H120Zm60-500h600v-160H180v160Zm220 220h160v-160H400v160Zm0 220h160v-160H400v160ZM180-400h160v-160H180v160Zm440 0h160v-160H620v160ZM180-180h160v-160H180v160Zm440 0h160v-160H620v160Z\"/>\n",
              "  </svg>\n",
              "    </button>\n",
              "\n",
              "  <style>\n",
              "    .colab-df-container {\n",
              "      display:flex;\n",
              "      gap: 12px;\n",
              "    }\n",
              "\n",
              "    .colab-df-convert {\n",
              "      background-color: #E8F0FE;\n",
              "      border: none;\n",
              "      border-radius: 50%;\n",
              "      cursor: pointer;\n",
              "      display: none;\n",
              "      fill: #1967D2;\n",
              "      height: 32px;\n",
              "      padding: 0 0 0 0;\n",
              "      width: 32px;\n",
              "    }\n",
              "\n",
              "    .colab-df-convert:hover {\n",
              "      background-color: #E2EBFA;\n",
              "      box-shadow: 0px 1px 2px rgba(60, 64, 67, 0.3), 0px 1px 3px 1px rgba(60, 64, 67, 0.15);\n",
              "      fill: #174EA6;\n",
              "    }\n",
              "\n",
              "    .colab-df-buttons div {\n",
              "      margin-bottom: 4px;\n",
              "    }\n",
              "\n",
              "    [theme=dark] .colab-df-convert {\n",
              "      background-color: #3B4455;\n",
              "      fill: #D2E3FC;\n",
              "    }\n",
              "\n",
              "    [theme=dark] .colab-df-convert:hover {\n",
              "      background-color: #434B5C;\n",
              "      box-shadow: 0px 1px 3px 1px rgba(0, 0, 0, 0.15);\n",
              "      filter: drop-shadow(0px 1px 2px rgba(0, 0, 0, 0.3));\n",
              "      fill: #FFFFFF;\n",
              "    }\n",
              "  </style>\n",
              "\n",
              "    <script>\n",
              "      const buttonEl =\n",
              "        document.querySelector('#df-abb92490-6338-4804-8f99-8d8a85343400 button.colab-df-convert');\n",
              "      buttonEl.style.display =\n",
              "        google.colab.kernel.accessAllowed ? 'block' : 'none';\n",
              "\n",
              "      async function convertToInteractive(key) {\n",
              "        const element = document.querySelector('#df-abb92490-6338-4804-8f99-8d8a85343400');\n",
              "        const dataTable =\n",
              "          await google.colab.kernel.invokeFunction('convertToInteractive',\n",
              "                                                    [key], {});\n",
              "        if (!dataTable) return;\n",
              "\n",
              "        const docLinkHtml = 'Like what you see? Visit the ' +\n",
              "          '<a target=\"_blank\" href=https://colab.research.google.com/notebooks/data_table.ipynb>data table notebook</a>'\n",
              "          + ' to learn more about interactive tables.';\n",
              "        element.innerHTML = '';\n",
              "        dataTable['output_type'] = 'display_data';\n",
              "        await google.colab.output.renderOutput(dataTable, element);\n",
              "        const docLink = document.createElement('div');\n",
              "        docLink.innerHTML = docLinkHtml;\n",
              "        element.appendChild(docLink);\n",
              "      }\n",
              "    </script>\n",
              "  </div>\n",
              "\n",
              "\n",
              "<div id=\"df-9a2c4df3-2c63-4edc-aebd-91b294efc255\">\n",
              "  <button class=\"colab-df-quickchart\" onclick=\"quickchart('df-9a2c4df3-2c63-4edc-aebd-91b294efc255')\"\n",
              "            title=\"Suggest charts\"\n",
              "            style=\"display:none;\">\n",
              "\n",
              "<svg xmlns=\"http://www.w3.org/2000/svg\" height=\"24px\"viewBox=\"0 0 24 24\"\n",
              "     width=\"24px\">\n",
              "    <g>\n",
              "        <path d=\"M19 3H5c-1.1 0-2 .9-2 2v14c0 1.1.9 2 2 2h14c1.1 0 2-.9 2-2V5c0-1.1-.9-2-2-2zM9 17H7v-7h2v7zm4 0h-2V7h2v10zm4 0h-2v-4h2v4z\"/>\n",
              "    </g>\n",
              "</svg>\n",
              "  </button>\n",
              "\n",
              "<style>\n",
              "  .colab-df-quickchart {\n",
              "      --bg-color: #E8F0FE;\n",
              "      --fill-color: #1967D2;\n",
              "      --hover-bg-color: #E2EBFA;\n",
              "      --hover-fill-color: #174EA6;\n",
              "      --disabled-fill-color: #AAA;\n",
              "      --disabled-bg-color: #DDD;\n",
              "  }\n",
              "\n",
              "  [theme=dark] .colab-df-quickchart {\n",
              "      --bg-color: #3B4455;\n",
              "      --fill-color: #D2E3FC;\n",
              "      --hover-bg-color: #434B5C;\n",
              "      --hover-fill-color: #FFFFFF;\n",
              "      --disabled-bg-color: #3B4455;\n",
              "      --disabled-fill-color: #666;\n",
              "  }\n",
              "\n",
              "  .colab-df-quickchart {\n",
              "    background-color: var(--bg-color);\n",
              "    border: none;\n",
              "    border-radius: 50%;\n",
              "    cursor: pointer;\n",
              "    display: none;\n",
              "    fill: var(--fill-color);\n",
              "    height: 32px;\n",
              "    padding: 0;\n",
              "    width: 32px;\n",
              "  }\n",
              "\n",
              "  .colab-df-quickchart:hover {\n",
              "    background-color: var(--hover-bg-color);\n",
              "    box-shadow: 0 1px 2px rgba(60, 64, 67, 0.3), 0 1px 3px 1px rgba(60, 64, 67, 0.15);\n",
              "    fill: var(--button-hover-fill-color);\n",
              "  }\n",
              "\n",
              "  .colab-df-quickchart-complete:disabled,\n",
              "  .colab-df-quickchart-complete:disabled:hover {\n",
              "    background-color: var(--disabled-bg-color);\n",
              "    fill: var(--disabled-fill-color);\n",
              "    box-shadow: none;\n",
              "  }\n",
              "\n",
              "  .colab-df-spinner {\n",
              "    border: 2px solid var(--fill-color);\n",
              "    border-color: transparent;\n",
              "    border-bottom-color: var(--fill-color);\n",
              "    animation:\n",
              "      spin 1s steps(1) infinite;\n",
              "  }\n",
              "\n",
              "  @keyframes spin {\n",
              "    0% {\n",
              "      border-color: transparent;\n",
              "      border-bottom-color: var(--fill-color);\n",
              "      border-left-color: var(--fill-color);\n",
              "    }\n",
              "    20% {\n",
              "      border-color: transparent;\n",
              "      border-left-color: var(--fill-color);\n",
              "      border-top-color: var(--fill-color);\n",
              "    }\n",
              "    30% {\n",
              "      border-color: transparent;\n",
              "      border-left-color: var(--fill-color);\n",
              "      border-top-color: var(--fill-color);\n",
              "      border-right-color: var(--fill-color);\n",
              "    }\n",
              "    40% {\n",
              "      border-color: transparent;\n",
              "      border-right-color: var(--fill-color);\n",
              "      border-top-color: var(--fill-color);\n",
              "    }\n",
              "    60% {\n",
              "      border-color: transparent;\n",
              "      border-right-color: var(--fill-color);\n",
              "    }\n",
              "    80% {\n",
              "      border-color: transparent;\n",
              "      border-right-color: var(--fill-color);\n",
              "      border-bottom-color: var(--fill-color);\n",
              "    }\n",
              "    90% {\n",
              "      border-color: transparent;\n",
              "      border-bottom-color: var(--fill-color);\n",
              "    }\n",
              "  }\n",
              "</style>\n",
              "\n",
              "  <script>\n",
              "    async function quickchart(key) {\n",
              "      const quickchartButtonEl =\n",
              "        document.querySelector('#' + key + ' button');\n",
              "      quickchartButtonEl.disabled = true;  // To prevent multiple clicks.\n",
              "      quickchartButtonEl.classList.add('colab-df-spinner');\n",
              "      try {\n",
              "        const charts = await google.colab.kernel.invokeFunction(\n",
              "            'suggestCharts', [key], {});\n",
              "      } catch (error) {\n",
              "        console.error('Error during call to suggestCharts:', error);\n",
              "      }\n",
              "      quickchartButtonEl.classList.remove('colab-df-spinner');\n",
              "      quickchartButtonEl.classList.add('colab-df-quickchart-complete');\n",
              "    }\n",
              "    (() => {\n",
              "      let quickchartButtonEl =\n",
              "        document.querySelector('#df-9a2c4df3-2c63-4edc-aebd-91b294efc255 button');\n",
              "      quickchartButtonEl.style.display =\n",
              "        google.colab.kernel.accessAllowed ? 'block' : 'none';\n",
              "    })();\n",
              "  </script>\n",
              "</div>\n",
              "    </div>\n",
              "  </div>\n"
            ],
            "application/vnd.google.colaboratory.intrinsic+json": {
              "type": "dataframe",
              "variable_name": "combined_data",
              "summary": "{\n  \"name\": \"combined_data\",\n  \"rows\": 26,\n  \"fields\": [\n    {\n      \"column\": \"Date\",\n      \"properties\": {\n        \"dtype\": \"number\",\n        \"std\": 3.838469246176938,\n        \"min\": 13.0,\n        \"max\": 23.999999999999996,\n        \"num_unique_values\": 11,\n        \"samples\": [\n          22.0,\n          15.000000000000002,\n          14.0\n        ],\n        \"semantic_type\": \"\",\n        \"description\": \"\"\n      }\n    },\n    {\n      \"column\": \"From\",\n      \"properties\": {\n        \"dtype\": \"number\",\n        \"std\": 0.8805592628464113,\n        \"min\": 0.0,\n        \"max\": 2.0,\n        \"num_unique_values\": 3,\n        \"samples\": [\n          0.0,\n          2.0,\n          1.0\n        ],\n        \"semantic_type\": \"\",\n        \"description\": \"\"\n      }\n    },\n    {\n      \"column\": \"To\",\n      \"properties\": {\n        \"dtype\": \"number\",\n        \"std\": 0.7442084075352509,\n        \"min\": 0.0,\n        \"max\": 2.0,\n        \"num_unique_values\": 3,\n        \"samples\": [\n          1.0,\n          2.0,\n          0.0\n        ],\n        \"semantic_type\": \"\",\n        \"description\": \"\"\n      }\n    },\n    {\n      \"column\": \"Fuel Daily Consumption\",\n      \"properties\": {\n        \"dtype\": \"number\",\n        \"std\": 2.9811407212676135,\n        \"min\": 46.0,\n        \"max\": 55.199999999999996,\n        \"num_unique_values\": 3,\n        \"samples\": [\n          55.199999999999996,\n          50.6,\n          46.0\n        ],\n        \"semantic_type\": \"\",\n        \"description\": \"\"\n      }\n    },\n    {\n      \"column\": \"Opening Fuel Tank Sounding\",\n      \"properties\": {\n        \"dtype\": \"number\",\n        \"std\": 3.578405317370381,\n        \"min\": 14.1,\n        \"max\": 23.7,\n        \"num_unique_values\": 11,\n        \"samples\": [\n          14.1,\n          21.5,\n          22.6\n        ],\n        \"semantic_type\": \"\",\n        \"description\": \"\"\n      }\n    },\n    {\n      \"column\": \"Closing Fuel Tank Sounding\",\n      \"properties\": {\n        \"dtype\": \"number\",\n        \"std\": 3.559094526161654,\n        \"min\": 13.1,\n        \"max\": 22.6,\n        \"num_unique_values\": 11,\n        \"samples\": [\n          13.1,\n          20.3,\n          21.5\n        ],\n        \"semantic_type\": \"\",\n        \"description\": \"\"\n      }\n    },\n    {\n      \"column\": \"Fuel Tank Stock After\",\n      \"properties\": {\n        \"dtype\": \"number\",\n        \"std\": 132.07489716648834,\n        \"min\": 589.0,\n        \"max\": 1007.0000000000001,\n        \"num_unique_values\": 11,\n        \"samples\": [\n          1007.0000000000001,\n          874.0,\n          929.0000000000001\n        ],\n        \"semantic_type\": \"\",\n        \"description\": \"\"\n      }\n    },\n    {\n      \"column\": \"Fuel Capacity\",\n      \"properties\": {\n        \"dtype\": \"number\",\n        \"std\": 0,\n        \"min\": 0,\n        \"max\": 1,\n        \"num_unique_values\": 2,\n        \"samples\": [\n          0,\n          1\n        ],\n        \"semantic_type\": \"\",\n        \"description\": \"\"\n      }\n    },\n    {\n      \"column\": \"gnb_prediction\",\n      \"properties\": {\n        \"dtype\": \"number\",\n        \"std\": 0,\n        \"min\": 0,\n        \"max\": 1,\n        \"num_unique_values\": 2,\n        \"samples\": [\n          0,\n          1\n        ],\n        \"semantic_type\": \"\",\n        \"description\": \"\"\n      }\n    },\n    {\n      \"column\": \"gnb_prediction_new\",\n      \"properties\": {\n        \"dtype\": \"number\",\n        \"std\": 0,\n        \"min\": 0,\n        \"max\": 1,\n        \"num_unique_values\": 2,\n        \"samples\": [\n          0,\n          1\n        ],\n        \"semantic_type\": \"\",\n        \"description\": \"\"\n      }\n    }\n  ]\n}"
            }
          },
          "metadata": {},
          "execution_count": 72
        }
      ],
      "source": [
        "combined_data.head()"
      ]
    },
    {
      "cell_type": "code",
      "source": [
        "import pickle\n",
        "\n",
        "pickle.dump(gnb, open('gnb.pkl', 'wb'))"
      ],
      "metadata": {
        "id": "HluBgqr1NM2l"
      },
      "execution_count": 73,
      "outputs": []
    }
  ],
  "metadata": {
    "colab": {
      "provenance": [],
      "toc_visible": true,
      "include_colab_link": true
    },
    "kernelspec": {
      "display_name": "Python 3",
      "name": "python3"
    },
    "language_info": {
      "name": "python"
    }
  },
  "nbformat": 4,
  "nbformat_minor": 0
}